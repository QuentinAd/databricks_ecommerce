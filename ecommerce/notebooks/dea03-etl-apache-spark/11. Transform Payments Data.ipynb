{
 "cells": [
  {
   "cell_type": "code",
   "execution_count": 0,
   "metadata": {
    "application/vnd.databricks.v1+cell": {
     "cellMetadata": {
      "byteLimit": 2048000,
      "rowLimit": 10000
     },
     "inputWidgets": {},
     "nuid": "28d919a9-d1c4-4cb2-98dd-dd91c5815ce3",
     "showTitle": false,
     "tableResultSettingsMap": {},
     "title": ""
    }
   },
   "outputs": [
    {
     "output_type": "display_data",
     "data": {
      "text/html": [
       "<style scoped>\n",
       "  .table-result-container {\n",
       "    max-height: 300px;\n",
       "    overflow: auto;\n",
       "  }\n",
       "  table, th, td {\n",
       "    border: 1px solid black;\n",
       "    border-collapse: collapse;\n",
       "  }\n",
       "  th, td {\n",
       "    padding: 5px;\n",
       "  }\n",
       "  th {\n",
       "    text-align: left;\n",
       "  }\n",
       "</style><div class='table-result-container'><table class='table-result'><thead style='background-color: white'><tr><th>payment_id</th><th>order_id</th><th>payment_timestamp</th><th>payment_status</th><th>payment_method</th></tr></thead><tbody><tr><td>35</td><td>13</td><td>2024-12-17T05:25:34.000Z</td><td>2</td><td>PayPal</td></tr><tr><td>36</td><td>16</td><td>2024-12-09T10:45:56.000Z</td><td>4</td><td>Bank Transfer</td></tr><tr><td>37</td><td>17</td><td>2024-12-02T13:50:20.000Z</td><td>1</td><td>Bank Transfer</td></tr><tr><td>38</td><td>24</td><td>2024-12-22T08:30:55.000Z</td><td>1</td><td>PayPal</td></tr><tr><td>39</td><td>27</td><td>2024-12-03T11:45:30.000Z</td><td>2</td><td>Credit Card</td></tr><tr><td>40</td><td>28</td><td>2024-12-27T05:40:10.000Z</td><td>4</td><td>Credit Card</td></tr><tr><td>41</td><td>32</td><td>2024-12-29T09:20:40.000Z</td><td>1</td><td>PayPal</td></tr><tr><td>42</td><td>37</td><td>2024-12-23T12:10:05.000Z</td><td>2</td><td>Credit Card</td></tr><tr><td>43</td><td>38</td><td>2024-12-26T20:15:15.000Z</td><td>1</td><td>Credit Card</td></tr><tr><td>44</td><td>44</td><td>2024-12-21T14:25:45.000Z</td><td>1</td><td>Credit Card</td></tr><tr><td>45</td><td>49</td><td>2024-12-08T16:40:35.000Z</td><td>4</td><td>PayPal</td></tr><tr><td>46</td><td>54</td><td>2024-12-21T13:10:25.000Z</td><td>2</td><td>Credit Card</td></tr><tr><td>47</td><td>58</td><td>2024-12-10T11:50:20.000Z</td><td>1</td><td>PayPal</td></tr><tr><td>48</td><td>60</td><td>2024-12-14T18:30:15.000Z</td><td>1</td><td>Bank Transfer</td></tr><tr><td>49</td><td>61</td><td>2024-12-08T14:45:50.000Z</td><td>2</td><td>Bank Transfer</td></tr><tr><td>50</td><td>65</td><td>2024-12-10T12:35:05.000Z</td><td>4</td><td>Bank Transfer</td></tr><tr><td>51</td><td>67</td><td>2024-12-20T09:40:25.000Z</td><td>1</td><td>PayPal</td></tr><tr><td>52</td><td>69</td><td>2024-12-31T10:15:50.000Z</td><td>1</td><td>Bank Transfer</td></tr><tr><td>53</td><td>70</td><td>2024-12-05T13:50:35.000Z</td><td>2</td><td>PayPal</td></tr><tr><td>54</td><td>71</td><td>2024-12-28T11:05:40.000Z</td><td>1</td><td>Bank Transfer</td></tr><tr><td>55</td><td>74</td><td>2024-12-23T14:25:25.000Z</td><td>1</td><td>PayPal</td></tr><tr><td>56</td><td>80</td><td>2024-12-12T08:30:55.000Z</td><td>4</td><td>Bank Transfer</td></tr><tr><td>57</td><td>81</td><td>2024-12-28T16:45:30.000Z</td><td>1</td><td>PayPal</td></tr><tr><td>58</td><td>82</td><td>2024-12-29T18:50:10.000Z</td><td>2</td><td>PayPal</td></tr><tr><td>59</td><td>91</td><td>2024-12-18T19:20:40.000Z</td><td>4</td><td>Bank Transfer</td></tr><tr><td>60</td><td>93</td><td>2024-12-23T11:10:05.000Z</td><td>1</td><td>PayPal</td></tr><tr><td>61</td><td>95</td><td>2024-12-29T13:15:15.000Z</td><td>2</td><td>Bank Transfer</td></tr><tr><td>62</td><td>96</td><td>2024-12-03T15:25:45.000Z</td><td>1</td><td>PayPal</td></tr><tr><td>63</td><td>97</td><td>2024-12-08T12:10:35.000Z</td><td>4</td><td>Bank Transfer</td></tr><tr><td>65</td><td>2</td><td>2025-01-19T05:05:13.000Z</td><td>2</td><td>PayPal</td></tr><tr><td>66</td><td>3</td><td>2025-01-08T23:45:00.000Z</td><td>4</td><td>Bank Transfer</td></tr><tr><td>67</td><td>4</td><td>2025-01-05T10:49:26.000Z</td><td>1</td><td>Bank Transfer</td></tr><tr><td>68</td><td>8</td><td>2025-01-02T16:11:15.000Z</td><td>2</td><td>PayPal</td></tr><tr><td>69</td><td>14</td><td>2025-01-01T22:22:26.000Z</td><td>4</td><td>PayPal</td></tr><tr><td>70</td><td>18</td><td>2025-01-22T23:12:08.000Z</td><td>1</td><td>Credit Card</td></tr><tr><td>71</td><td>22</td><td>2025-01-01T18:49:19.000Z</td><td>1</td><td>PayPal</td></tr><tr><td>72</td><td>26</td><td>2025-01-05T22:01:25.000Z</td><td>2</td><td>Bank Transfer</td></tr><tr><td>73</td><td>29</td><td>2025-01-18T05:05:04.000Z</td><td>4</td><td>Bank Transfer</td></tr><tr><td>74</td><td>34</td><td>2025-01-12T11:30:15.000Z</td><td>1</td><td>Credit Card</td></tr><tr><td>75</td><td>36</td><td>2025-01-16T23:15:43.000Z</td><td>2</td><td>PayPal</td></tr><tr><td>76</td><td>40</td><td>2025-01-08T13:22:51.000Z</td><td>4</td><td>Bank Transfer</td></tr><tr><td>77</td><td>45</td><td>2025-01-03T15:10:25.000Z</td><td>1</td><td>PayPal</td></tr><tr><td>78</td><td>47</td><td>2025-01-11T20:20:20.000Z</td><td>1</td><td>Bank Transfer</td></tr><tr><td>79</td><td>50</td><td>2025-01-17T12:30:00.000Z</td><td>2</td><td>Bank Transfer</td></tr><tr><td>80</td><td>53</td><td>2025-01-15T07:40:19.000Z</td><td>4</td><td>Credit Card</td></tr><tr><td>81</td><td>58</td><td>2025-01-04T18:49:33.000Z</td><td>1</td><td>PayPal</td></tr><tr><td>82</td><td>60</td><td>2025-01-20T14:10:25.000Z</td><td>2</td><td>Bank Transfer</td></tr><tr><td>83</td><td>65</td><td>2025-01-06T20:30:10.000Z</td><td>4</td><td>PayPal</td></tr><tr><td>84</td><td>67</td><td>2025-01-14T16:00:00.000Z</td><td>1</td><td>Bank Transfer</td></tr><tr><td>85</td><td>71</td><td>2025-01-07T19:15:15.000Z</td><td>2</td><td>Credit Card</td></tr><tr><td>86</td><td>75</td><td>2025-01-21T12:50:30.000Z</td><td>1</td><td>PayPal</td></tr><tr><td>87</td><td>80</td><td>2025-01-19T09:40:40.000Z</td><td>4</td><td>PayPal</td></tr><tr><td>88</td><td>82</td><td>2025-01-10T08:20:00.000Z</td><td>1</td><td>Credit Card</td></tr><tr><td>89</td><td>85</td><td>2025-01-16T15:50:45.000Z</td><td>2</td><td>Bank Transfer</td></tr><tr><td>90</td><td>90</td><td>2025-01-22T21:00:15.000Z</td><td>1</td><td>Bank Transfer</td></tr><tr><td>91</td><td>92</td><td>2025-01-03T16:20:25.000Z</td><td>4</td><td>PayPal</td></tr><tr><td>15</td><td>7</td><td>2024-11-19T19:18:48.000Z</td><td>2</td><td>Credit Card</td></tr><tr><td>16</td><td>9</td><td>2024-11-27T13:15:29.000Z</td><td>4</td><td>Bank Transfer</td></tr><tr><td>17</td><td>20</td><td>2024-11-18T02:38:21.000Z</td><td>1</td><td>PayPal</td></tr><tr><td>18</td><td>21</td><td>2024-11-21T11:25:35.000Z</td><td>1</td><td>Bank Transfer</td></tr><tr><td>19</td><td>23</td><td>2024-11-22T16:04:05.000Z</td><td>1</td><td>PayPal</td></tr><tr><td>20</td><td>25</td><td>2024-11-05T11:45:31.000Z</td><td>2</td><td>PayPal</td></tr><tr><td>21</td><td>30</td><td>2024-11-12T03:20:29.000Z</td><td>1</td><td>Bank Transfer</td></tr><tr><td>22</td><td>35</td><td>2024-11-20T19:09:04.000Z</td><td>4</td><td>Bank Transfer</td></tr><tr><td>23</td><td>36</td><td>2024-11-02T10:39:46.000Z</td><td>1</td><td>PayPal</td></tr><tr><td>24</td><td>38</td><td>2024-11-15T15:12:23.000Z</td><td>1</td><td>Credit Card</td></tr><tr><td>25</td><td>42</td><td>2024-11-26T09:40:55.000Z</td><td>2</td><td>PayPal</td></tr><tr><td>26</td><td>47</td><td>2024-11-28T12:18:39.000Z</td><td>4</td><td>Bank Transfer</td></tr><tr><td>27</td><td>52</td><td>2024-11-17T07:45:14.000Z</td><td>1</td><td>PayPal</td></tr><tr><td>28</td><td>56</td><td>2024-11-23T14:03:20.000Z</td><td>1</td><td>Credit Card</td></tr><tr><td>29</td><td>59</td><td>2024-11-19T18:22:33.000Z</td><td>2</td><td>PayPal</td></tr><tr><td>30</td><td>63</td><td>2024-11-20T20:40:09.000Z</td><td>1</td><td>Bank Transfer</td></tr><tr><td>31</td><td>67</td><td>2024-11-13T16:50:26.000Z</td><td>4</td><td>Credit Card</td></tr><tr><td>32</td><td>71</td><td>2024-11-18T11:09:18.000Z</td><td>1</td><td>PayPal</td></tr><tr><td>33</td><td>74</td><td>2024-11-12T08:05:46.000Z</td><td>2</td><td>Bank Transfer</td></tr><tr><td>2</td><td>10</td><td>2024-10-09T22:09:27.000Z</td><td>2</td><td>Credit Card</td></tr><tr><td>3</td><td>11</td><td>2024-10-15T17:34:19.000Z</td><td>4</td><td>Bank Transfer</td></tr><tr><td>4</td><td>15</td><td>2024-10-22T01:47:25.000Z</td><td>1</td><td>Bank Transfer</td></tr><tr><td>5</td><td>19</td><td>2024-10-15T12:40:26.000Z</td><td>2</td><td>PayPal</td></tr><tr><td>6</td><td>39</td><td>2024-10-31T21:39:19.000Z</td><td>4</td><td>PayPal</td></tr><tr><td>7</td><td>55</td><td>2024-10-27T05:49:16.000Z</td><td>1</td><td>Bank Transfer</td></tr><tr><td>8</td><td>59</td><td>2024-10-25T02:51:05.000Z</td><td>2</td><td>PayPal</td></tr><tr><td>9</td><td>72</td><td>2024-10-08T10:23:28.000Z</td><td>3</td><td>PayPal</td></tr><tr><td>10</td><td>77</td><td>2024-10-17T13:09:33.000Z</td><td>1</td><td>Credit Card</td></tr><tr><td>11</td><td>84</td><td>2024-10-27T03:37:42.000Z</td><td>1</td><td>PayPal</td></tr><tr><td>12</td><td>85</td><td>2024-10-25T20:06:42.000Z</td><td>4</td><td>Bank Transfer</td></tr><tr><td>13</td><td>86</td><td>2024-10-21T13:30:47.000Z</td><td>1</td><td>PayPal</td></tr></tbody></table></div>"
      ]
     },
     "metadata": {
      "application/vnd.databricks.v1+output": {
       "addedWidgets": {},
       "aggData": [],
       "aggError": "",
       "aggOverflow": false,
       "aggSchema": [],
       "aggSeriesLimitReached": false,
       "aggType": "",
       "arguments": {},
       "columnCustomDisplayInfos": {},
       "data": [
        [
         35,
         13,
         "2024-12-17T05:25:34.000Z",
         2,
         "PayPal"
        ],
        [
         36,
         16,
         "2024-12-09T10:45:56.000Z",
         4,
         "Bank Transfer"
        ],
        [
         37,
         17,
         "2024-12-02T13:50:20.000Z",
         1,
         "Bank Transfer"
        ],
        [
         38,
         24,
         "2024-12-22T08:30:55.000Z",
         1,
         "PayPal"
        ],
        [
         39,
         27,
         "2024-12-03T11:45:30.000Z",
         2,
         "Credit Card"
        ],
        [
         40,
         28,
         "2024-12-27T05:40:10.000Z",
         4,
         "Credit Card"
        ],
        [
         41,
         32,
         "2024-12-29T09:20:40.000Z",
         1,
         "PayPal"
        ],
        [
         42,
         37,
         "2024-12-23T12:10:05.000Z",
         2,
         "Credit Card"
        ],
        [
         43,
         38,
         "2024-12-26T20:15:15.000Z",
         1,
         "Credit Card"
        ],
        [
         44,
         44,
         "2024-12-21T14:25:45.000Z",
         1,
         "Credit Card"
        ],
        [
         45,
         49,
         "2024-12-08T16:40:35.000Z",
         4,
         "PayPal"
        ],
        [
         46,
         54,
         "2024-12-21T13:10:25.000Z",
         2,
         "Credit Card"
        ],
        [
         47,
         58,
         "2024-12-10T11:50:20.000Z",
         1,
         "PayPal"
        ],
        [
         48,
         60,
         "2024-12-14T18:30:15.000Z",
         1,
         "Bank Transfer"
        ],
        [
         49,
         61,
         "2024-12-08T14:45:50.000Z",
         2,
         "Bank Transfer"
        ],
        [
         50,
         65,
         "2024-12-10T12:35:05.000Z",
         4,
         "Bank Transfer"
        ],
        [
         51,
         67,
         "2024-12-20T09:40:25.000Z",
         1,
         "PayPal"
        ],
        [
         52,
         69,
         "2024-12-31T10:15:50.000Z",
         1,
         "Bank Transfer"
        ],
        [
         53,
         70,
         "2024-12-05T13:50:35.000Z",
         2,
         "PayPal"
        ],
        [
         54,
         71,
         "2024-12-28T11:05:40.000Z",
         1,
         "Bank Transfer"
        ],
        [
         55,
         74,
         "2024-12-23T14:25:25.000Z",
         1,
         "PayPal"
        ],
        [
         56,
         80,
         "2024-12-12T08:30:55.000Z",
         4,
         "Bank Transfer"
        ],
        [
         57,
         81,
         "2024-12-28T16:45:30.000Z",
         1,
         "PayPal"
        ],
        [
         58,
         82,
         "2024-12-29T18:50:10.000Z",
         2,
         "PayPal"
        ],
        [
         59,
         91,
         "2024-12-18T19:20:40.000Z",
         4,
         "Bank Transfer"
        ],
        [
         60,
         93,
         "2024-12-23T11:10:05.000Z",
         1,
         "PayPal"
        ],
        [
         61,
         95,
         "2024-12-29T13:15:15.000Z",
         2,
         "Bank Transfer"
        ],
        [
         62,
         96,
         "2024-12-03T15:25:45.000Z",
         1,
         "PayPal"
        ],
        [
         63,
         97,
         "2024-12-08T12:10:35.000Z",
         4,
         "Bank Transfer"
        ],
        [
         65,
         2,
         "2025-01-19T05:05:13.000Z",
         2,
         "PayPal"
        ],
        [
         66,
         3,
         "2025-01-08T23:45:00.000Z",
         4,
         "Bank Transfer"
        ],
        [
         67,
         4,
         "2025-01-05T10:49:26.000Z",
         1,
         "Bank Transfer"
        ],
        [
         68,
         8,
         "2025-01-02T16:11:15.000Z",
         2,
         "PayPal"
        ],
        [
         69,
         14,
         "2025-01-01T22:22:26.000Z",
         4,
         "PayPal"
        ],
        [
         70,
         18,
         "2025-01-22T23:12:08.000Z",
         1,
         "Credit Card"
        ],
        [
         71,
         22,
         "2025-01-01T18:49:19.000Z",
         1,
         "PayPal"
        ],
        [
         72,
         26,
         "2025-01-05T22:01:25.000Z",
         2,
         "Bank Transfer"
        ],
        [
         73,
         29,
         "2025-01-18T05:05:04.000Z",
         4,
         "Bank Transfer"
        ],
        [
         74,
         34,
         "2025-01-12T11:30:15.000Z",
         1,
         "Credit Card"
        ],
        [
         75,
         36,
         "2025-01-16T23:15:43.000Z",
         2,
         "PayPal"
        ],
        [
         76,
         40,
         "2025-01-08T13:22:51.000Z",
         4,
         "Bank Transfer"
        ],
        [
         77,
         45,
         "2025-01-03T15:10:25.000Z",
         1,
         "PayPal"
        ],
        [
         78,
         47,
         "2025-01-11T20:20:20.000Z",
         1,
         "Bank Transfer"
        ],
        [
         79,
         50,
         "2025-01-17T12:30:00.000Z",
         2,
         "Bank Transfer"
        ],
        [
         80,
         53,
         "2025-01-15T07:40:19.000Z",
         4,
         "Credit Card"
        ],
        [
         81,
         58,
         "2025-01-04T18:49:33.000Z",
         1,
         "PayPal"
        ],
        [
         82,
         60,
         "2025-01-20T14:10:25.000Z",
         2,
         "Bank Transfer"
        ],
        [
         83,
         65,
         "2025-01-06T20:30:10.000Z",
         4,
         "PayPal"
        ],
        [
         84,
         67,
         "2025-01-14T16:00:00.000Z",
         1,
         "Bank Transfer"
        ],
        [
         85,
         71,
         "2025-01-07T19:15:15.000Z",
         2,
         "Credit Card"
        ],
        [
         86,
         75,
         "2025-01-21T12:50:30.000Z",
         1,
         "PayPal"
        ],
        [
         87,
         80,
         "2025-01-19T09:40:40.000Z",
         4,
         "PayPal"
        ],
        [
         88,
         82,
         "2025-01-10T08:20:00.000Z",
         1,
         "Credit Card"
        ],
        [
         89,
         85,
         "2025-01-16T15:50:45.000Z",
         2,
         "Bank Transfer"
        ],
        [
         90,
         90,
         "2025-01-22T21:00:15.000Z",
         1,
         "Bank Transfer"
        ],
        [
         91,
         92,
         "2025-01-03T16:20:25.000Z",
         4,
         "PayPal"
        ],
        [
         15,
         7,
         "2024-11-19T19:18:48.000Z",
         2,
         "Credit Card"
        ],
        [
         16,
         9,
         "2024-11-27T13:15:29.000Z",
         4,
         "Bank Transfer"
        ],
        [
         17,
         20,
         "2024-11-18T02:38:21.000Z",
         1,
         "PayPal"
        ],
        [
         18,
         21,
         "2024-11-21T11:25:35.000Z",
         1,
         "Bank Transfer"
        ],
        [
         19,
         23,
         "2024-11-22T16:04:05.000Z",
         1,
         "PayPal"
        ],
        [
         20,
         25,
         "2024-11-05T11:45:31.000Z",
         2,
         "PayPal"
        ],
        [
         21,
         30,
         "2024-11-12T03:20:29.000Z",
         1,
         "Bank Transfer"
        ],
        [
         22,
         35,
         "2024-11-20T19:09:04.000Z",
         4,
         "Bank Transfer"
        ],
        [
         23,
         36,
         "2024-11-02T10:39:46.000Z",
         1,
         "PayPal"
        ],
        [
         24,
         38,
         "2024-11-15T15:12:23.000Z",
         1,
         "Credit Card"
        ],
        [
         25,
         42,
         "2024-11-26T09:40:55.000Z",
         2,
         "PayPal"
        ],
        [
         26,
         47,
         "2024-11-28T12:18:39.000Z",
         4,
         "Bank Transfer"
        ],
        [
         27,
         52,
         "2024-11-17T07:45:14.000Z",
         1,
         "PayPal"
        ],
        [
         28,
         56,
         "2024-11-23T14:03:20.000Z",
         1,
         "Credit Card"
        ],
        [
         29,
         59,
         "2024-11-19T18:22:33.000Z",
         2,
         "PayPal"
        ],
        [
         30,
         63,
         "2024-11-20T20:40:09.000Z",
         1,
         "Bank Transfer"
        ],
        [
         31,
         67,
         "2024-11-13T16:50:26.000Z",
         4,
         "Credit Card"
        ],
        [
         32,
         71,
         "2024-11-18T11:09:18.000Z",
         1,
         "PayPal"
        ],
        [
         33,
         74,
         "2024-11-12T08:05:46.000Z",
         2,
         "Bank Transfer"
        ],
        [
         2,
         10,
         "2024-10-09T22:09:27.000Z",
         2,
         "Credit Card"
        ],
        [
         3,
         11,
         "2024-10-15T17:34:19.000Z",
         4,
         "Bank Transfer"
        ],
        [
         4,
         15,
         "2024-10-22T01:47:25.000Z",
         1,
         "Bank Transfer"
        ],
        [
         5,
         19,
         "2024-10-15T12:40:26.000Z",
         2,
         "PayPal"
        ],
        [
         6,
         39,
         "2024-10-31T21:39:19.000Z",
         4,
         "PayPal"
        ],
        [
         7,
         55,
         "2024-10-27T05:49:16.000Z",
         1,
         "Bank Transfer"
        ],
        [
         8,
         59,
         "2024-10-25T02:51:05.000Z",
         2,
         "PayPal"
        ],
        [
         9,
         72,
         "2024-10-08T10:23:28.000Z",
         3,
         "PayPal"
        ],
        [
         10,
         77,
         "2024-10-17T13:09:33.000Z",
         1,
         "Credit Card"
        ],
        [
         11,
         84,
         "2024-10-27T03:37:42.000Z",
         1,
         "PayPal"
        ],
        [
         12,
         85,
         "2024-10-25T20:06:42.000Z",
         4,
         "Bank Transfer"
        ],
        [
         13,
         86,
         "2024-10-21T13:30:47.000Z",
         1,
         "PayPal"
        ]
       ],
       "datasetInfos": [
        {
         "name": "_sqldf",
         "schema": {
          "fields": [
           {
            "metadata": {},
            "name": "payment_id",
            "nullable": true,
            "type": "integer"
           },
           {
            "metadata": {},
            "name": "order_id",
            "nullable": true,
            "type": "integer"
           },
           {
            "metadata": {},
            "name": "payment_timestamp",
            "nullable": true,
            "type": "timestamp"
           },
           {
            "metadata": {},
            "name": "payment_status",
            "nullable": true,
            "type": "integer"
           },
           {
            "metadata": {},
            "name": "payment_method",
            "nullable": true,
            "type": "string"
           }
          ],
          "type": "struct"
         },
         "tableIdentifier": null,
         "typeStr": "pyspark.sql.connect.dataframe.DataFrame"
        }
       ],
       "dbfsResultPath": null,
       "isJsonSchema": true,
       "metadata": {
        "createTempViewForImplicitDf": true,
        "dataframeName": "_sqldf",
        "executionCount": 3
       },
       "overflow": false,
       "plotOptions": {
        "customPlotOptions": {},
        "displayType": "table",
        "pivotAggregation": null,
        "pivotColumns": null,
        "xColumns": null,
        "yColumns": null
       },
       "removedWidgets": [],
       "schema": [
        {
         "metadata": "{}",
         "name": "payment_id",
         "type": "\"integer\""
        },
        {
         "metadata": "{}",
         "name": "order_id",
         "type": "\"integer\""
        },
        {
         "metadata": "{}",
         "name": "payment_timestamp",
         "type": "\"timestamp\""
        },
        {
         "metadata": "{}",
         "name": "payment_status",
         "type": "\"integer\""
        },
        {
         "metadata": "{}",
         "name": "payment_method",
         "type": "\"string\""
        }
       ],
       "type": "table"
      }
     },
     "output_type": "display_data"
    }
   ],
   "source": [
    "SELECT payment_id,\n",
    "       order_id,\n",
    "       payment_timestamp,\n",
    "       payment_status,\n",
    "       payment_method\n",
    "  FROM gizmobox.bronze.payments;"
   ]
  },
  {
   "cell_type": "code",
   "execution_count": 0,
   "metadata": {
    "application/vnd.databricks.v1+cell": {
     "cellMetadata": {
      "byteLimit": 2048000,
      "rowLimit": 10000
     },
     "inputWidgets": {},
     "nuid": "fc4eee92-5b62-4d15-b775-2f6a33f4dc52",
     "showTitle": false,
     "tableResultSettingsMap": {},
     "title": ""
    }
   },
   "outputs": [
    {
     "output_type": "display_data",
     "data": {
      "text/html": [
       "<style scoped>\n",
       "  .table-result-container {\n",
       "    max-height: 300px;\n",
       "    overflow: auto;\n",
       "  }\n",
       "  table, th, td {\n",
       "    border: 1px solid black;\n",
       "    border-collapse: collapse;\n",
       "  }\n",
       "  th, td {\n",
       "    padding: 5px;\n",
       "  }\n",
       "  th {\n",
       "    text-align: left;\n",
       "  }\n",
       "</style><div class='table-result-container'><table class='table-result'><thead style='background-color: white'><tr><th>payment_id</th><th>order_id</th><th>payment_date</th><th>payment_time</th><th>payment_status</th><th>payment_method</th></tr></thead><tbody><tr><td>35</td><td>13</td><td>2024-12-17</td><td>05:25:34</td><td>2</td><td>PayPal</td></tr><tr><td>36</td><td>16</td><td>2024-12-09</td><td>10:45:56</td><td>4</td><td>Bank Transfer</td></tr><tr><td>37</td><td>17</td><td>2024-12-02</td><td>13:50:20</td><td>1</td><td>Bank Transfer</td></tr><tr><td>38</td><td>24</td><td>2024-12-22</td><td>08:30:55</td><td>1</td><td>PayPal</td></tr><tr><td>39</td><td>27</td><td>2024-12-03</td><td>11:45:30</td><td>2</td><td>Credit Card</td></tr><tr><td>40</td><td>28</td><td>2024-12-27</td><td>05:40:10</td><td>4</td><td>Credit Card</td></tr><tr><td>41</td><td>32</td><td>2024-12-29</td><td>09:20:40</td><td>1</td><td>PayPal</td></tr><tr><td>42</td><td>37</td><td>2024-12-23</td><td>12:10:05</td><td>2</td><td>Credit Card</td></tr><tr><td>43</td><td>38</td><td>2024-12-26</td><td>20:15:15</td><td>1</td><td>Credit Card</td></tr><tr><td>44</td><td>44</td><td>2024-12-21</td><td>14:25:45</td><td>1</td><td>Credit Card</td></tr><tr><td>45</td><td>49</td><td>2024-12-08</td><td>16:40:35</td><td>4</td><td>PayPal</td></tr><tr><td>46</td><td>54</td><td>2024-12-21</td><td>13:10:25</td><td>2</td><td>Credit Card</td></tr><tr><td>47</td><td>58</td><td>2024-12-10</td><td>11:50:20</td><td>1</td><td>PayPal</td></tr><tr><td>48</td><td>60</td><td>2024-12-14</td><td>18:30:15</td><td>1</td><td>Bank Transfer</td></tr><tr><td>49</td><td>61</td><td>2024-12-08</td><td>14:45:50</td><td>2</td><td>Bank Transfer</td></tr><tr><td>50</td><td>65</td><td>2024-12-10</td><td>12:35:05</td><td>4</td><td>Bank Transfer</td></tr><tr><td>51</td><td>67</td><td>2024-12-20</td><td>09:40:25</td><td>1</td><td>PayPal</td></tr><tr><td>52</td><td>69</td><td>2024-12-31</td><td>10:15:50</td><td>1</td><td>Bank Transfer</td></tr><tr><td>53</td><td>70</td><td>2024-12-05</td><td>13:50:35</td><td>2</td><td>PayPal</td></tr><tr><td>54</td><td>71</td><td>2024-12-28</td><td>11:05:40</td><td>1</td><td>Bank Transfer</td></tr><tr><td>55</td><td>74</td><td>2024-12-23</td><td>14:25:25</td><td>1</td><td>PayPal</td></tr><tr><td>56</td><td>80</td><td>2024-12-12</td><td>08:30:55</td><td>4</td><td>Bank Transfer</td></tr><tr><td>57</td><td>81</td><td>2024-12-28</td><td>16:45:30</td><td>1</td><td>PayPal</td></tr><tr><td>58</td><td>82</td><td>2024-12-29</td><td>18:50:10</td><td>2</td><td>PayPal</td></tr><tr><td>59</td><td>91</td><td>2024-12-18</td><td>19:20:40</td><td>4</td><td>Bank Transfer</td></tr><tr><td>60</td><td>93</td><td>2024-12-23</td><td>11:10:05</td><td>1</td><td>PayPal</td></tr><tr><td>61</td><td>95</td><td>2024-12-29</td><td>13:15:15</td><td>2</td><td>Bank Transfer</td></tr><tr><td>62</td><td>96</td><td>2024-12-03</td><td>15:25:45</td><td>1</td><td>PayPal</td></tr><tr><td>63</td><td>97</td><td>2024-12-08</td><td>12:10:35</td><td>4</td><td>Bank Transfer</td></tr><tr><td>65</td><td>2</td><td>2025-01-19</td><td>05:05:13</td><td>2</td><td>PayPal</td></tr><tr><td>66</td><td>3</td><td>2025-01-08</td><td>23:45:00</td><td>4</td><td>Bank Transfer</td></tr><tr><td>67</td><td>4</td><td>2025-01-05</td><td>10:49:26</td><td>1</td><td>Bank Transfer</td></tr><tr><td>68</td><td>8</td><td>2025-01-02</td><td>16:11:15</td><td>2</td><td>PayPal</td></tr><tr><td>69</td><td>14</td><td>2025-01-01</td><td>22:22:26</td><td>4</td><td>PayPal</td></tr><tr><td>70</td><td>18</td><td>2025-01-22</td><td>23:12:08</td><td>1</td><td>Credit Card</td></tr><tr><td>71</td><td>22</td><td>2025-01-01</td><td>18:49:19</td><td>1</td><td>PayPal</td></tr><tr><td>72</td><td>26</td><td>2025-01-05</td><td>22:01:25</td><td>2</td><td>Bank Transfer</td></tr><tr><td>73</td><td>29</td><td>2025-01-18</td><td>05:05:04</td><td>4</td><td>Bank Transfer</td></tr><tr><td>74</td><td>34</td><td>2025-01-12</td><td>11:30:15</td><td>1</td><td>Credit Card</td></tr><tr><td>75</td><td>36</td><td>2025-01-16</td><td>23:15:43</td><td>2</td><td>PayPal</td></tr><tr><td>76</td><td>40</td><td>2025-01-08</td><td>13:22:51</td><td>4</td><td>Bank Transfer</td></tr><tr><td>77</td><td>45</td><td>2025-01-03</td><td>15:10:25</td><td>1</td><td>PayPal</td></tr><tr><td>78</td><td>47</td><td>2025-01-11</td><td>20:20:20</td><td>1</td><td>Bank Transfer</td></tr><tr><td>79</td><td>50</td><td>2025-01-17</td><td>12:30:00</td><td>2</td><td>Bank Transfer</td></tr><tr><td>80</td><td>53</td><td>2025-01-15</td><td>07:40:19</td><td>4</td><td>Credit Card</td></tr><tr><td>81</td><td>58</td><td>2025-01-04</td><td>18:49:33</td><td>1</td><td>PayPal</td></tr><tr><td>82</td><td>60</td><td>2025-01-20</td><td>14:10:25</td><td>2</td><td>Bank Transfer</td></tr><tr><td>83</td><td>65</td><td>2025-01-06</td><td>20:30:10</td><td>4</td><td>PayPal</td></tr><tr><td>84</td><td>67</td><td>2025-01-14</td><td>16:00:00</td><td>1</td><td>Bank Transfer</td></tr><tr><td>85</td><td>71</td><td>2025-01-07</td><td>19:15:15</td><td>2</td><td>Credit Card</td></tr><tr><td>86</td><td>75</td><td>2025-01-21</td><td>12:50:30</td><td>1</td><td>PayPal</td></tr><tr><td>87</td><td>80</td><td>2025-01-19</td><td>09:40:40</td><td>4</td><td>PayPal</td></tr><tr><td>88</td><td>82</td><td>2025-01-10</td><td>08:20:00</td><td>1</td><td>Credit Card</td></tr><tr><td>89</td><td>85</td><td>2025-01-16</td><td>15:50:45</td><td>2</td><td>Bank Transfer</td></tr><tr><td>90</td><td>90</td><td>2025-01-22</td><td>21:00:15</td><td>1</td><td>Bank Transfer</td></tr><tr><td>91</td><td>92</td><td>2025-01-03</td><td>16:20:25</td><td>4</td><td>PayPal</td></tr><tr><td>15</td><td>7</td><td>2024-11-19</td><td>19:18:48</td><td>2</td><td>Credit Card</td></tr><tr><td>16</td><td>9</td><td>2024-11-27</td><td>13:15:29</td><td>4</td><td>Bank Transfer</td></tr><tr><td>17</td><td>20</td><td>2024-11-18</td><td>02:38:21</td><td>1</td><td>PayPal</td></tr><tr><td>18</td><td>21</td><td>2024-11-21</td><td>11:25:35</td><td>1</td><td>Bank Transfer</td></tr><tr><td>19</td><td>23</td><td>2024-11-22</td><td>16:04:05</td><td>1</td><td>PayPal</td></tr><tr><td>20</td><td>25</td><td>2024-11-05</td><td>11:45:31</td><td>2</td><td>PayPal</td></tr><tr><td>21</td><td>30</td><td>2024-11-12</td><td>03:20:29</td><td>1</td><td>Bank Transfer</td></tr><tr><td>22</td><td>35</td><td>2024-11-20</td><td>19:09:04</td><td>4</td><td>Bank Transfer</td></tr><tr><td>23</td><td>36</td><td>2024-11-02</td><td>10:39:46</td><td>1</td><td>PayPal</td></tr><tr><td>24</td><td>38</td><td>2024-11-15</td><td>15:12:23</td><td>1</td><td>Credit Card</td></tr><tr><td>25</td><td>42</td><td>2024-11-26</td><td>09:40:55</td><td>2</td><td>PayPal</td></tr><tr><td>26</td><td>47</td><td>2024-11-28</td><td>12:18:39</td><td>4</td><td>Bank Transfer</td></tr><tr><td>27</td><td>52</td><td>2024-11-17</td><td>07:45:14</td><td>1</td><td>PayPal</td></tr><tr><td>28</td><td>56</td><td>2024-11-23</td><td>14:03:20</td><td>1</td><td>Credit Card</td></tr><tr><td>29</td><td>59</td><td>2024-11-19</td><td>18:22:33</td><td>2</td><td>PayPal</td></tr><tr><td>30</td><td>63</td><td>2024-11-20</td><td>20:40:09</td><td>1</td><td>Bank Transfer</td></tr><tr><td>31</td><td>67</td><td>2024-11-13</td><td>16:50:26</td><td>4</td><td>Credit Card</td></tr><tr><td>32</td><td>71</td><td>2024-11-18</td><td>11:09:18</td><td>1</td><td>PayPal</td></tr><tr><td>33</td><td>74</td><td>2024-11-12</td><td>08:05:46</td><td>2</td><td>Bank Transfer</td></tr><tr><td>2</td><td>10</td><td>2024-10-09</td><td>22:09:27</td><td>2</td><td>Credit Card</td></tr><tr><td>3</td><td>11</td><td>2024-10-15</td><td>17:34:19</td><td>4</td><td>Bank Transfer</td></tr><tr><td>4</td><td>15</td><td>2024-10-22</td><td>01:47:25</td><td>1</td><td>Bank Transfer</td></tr><tr><td>5</td><td>19</td><td>2024-10-15</td><td>12:40:26</td><td>2</td><td>PayPal</td></tr><tr><td>6</td><td>39</td><td>2024-10-31</td><td>21:39:19</td><td>4</td><td>PayPal</td></tr><tr><td>7</td><td>55</td><td>2024-10-27</td><td>05:49:16</td><td>1</td><td>Bank Transfer</td></tr><tr><td>8</td><td>59</td><td>2024-10-25</td><td>02:51:05</td><td>2</td><td>PayPal</td></tr><tr><td>9</td><td>72</td><td>2024-10-08</td><td>10:23:28</td><td>3</td><td>PayPal</td></tr><tr><td>10</td><td>77</td><td>2024-10-17</td><td>13:09:33</td><td>1</td><td>Credit Card</td></tr><tr><td>11</td><td>84</td><td>2024-10-27</td><td>03:37:42</td><td>1</td><td>PayPal</td></tr><tr><td>12</td><td>85</td><td>2024-10-25</td><td>20:06:42</td><td>4</td><td>Bank Transfer</td></tr><tr><td>13</td><td>86</td><td>2024-10-21</td><td>13:30:47</td><td>1</td><td>PayPal</td></tr></tbody></table></div>"
      ]
     },
     "metadata": {
      "application/vnd.databricks.v1+output": {
       "addedWidgets": {},
       "aggData": [],
       "aggError": "",
       "aggOverflow": false,
       "aggSchema": [],
       "aggSeriesLimitReached": false,
       "aggType": "",
       "arguments": {},
       "columnCustomDisplayInfos": {},
       "data": [
        [
         35,
         13,
         "2024-12-17",
         "05:25:34",
         2,
         "PayPal"
        ],
        [
         36,
         16,
         "2024-12-09",
         "10:45:56",
         4,
         "Bank Transfer"
        ],
        [
         37,
         17,
         "2024-12-02",
         "13:50:20",
         1,
         "Bank Transfer"
        ],
        [
         38,
         24,
         "2024-12-22",
         "08:30:55",
         1,
         "PayPal"
        ],
        [
         39,
         27,
         "2024-12-03",
         "11:45:30",
         2,
         "Credit Card"
        ],
        [
         40,
         28,
         "2024-12-27",
         "05:40:10",
         4,
         "Credit Card"
        ],
        [
         41,
         32,
         "2024-12-29",
         "09:20:40",
         1,
         "PayPal"
        ],
        [
         42,
         37,
         "2024-12-23",
         "12:10:05",
         2,
         "Credit Card"
        ],
        [
         43,
         38,
         "2024-12-26",
         "20:15:15",
         1,
         "Credit Card"
        ],
        [
         44,
         44,
         "2024-12-21",
         "14:25:45",
         1,
         "Credit Card"
        ],
        [
         45,
         49,
         "2024-12-08",
         "16:40:35",
         4,
         "PayPal"
        ],
        [
         46,
         54,
         "2024-12-21",
         "13:10:25",
         2,
         "Credit Card"
        ],
        [
         47,
         58,
         "2024-12-10",
         "11:50:20",
         1,
         "PayPal"
        ],
        [
         48,
         60,
         "2024-12-14",
         "18:30:15",
         1,
         "Bank Transfer"
        ],
        [
         49,
         61,
         "2024-12-08",
         "14:45:50",
         2,
         "Bank Transfer"
        ],
        [
         50,
         65,
         "2024-12-10",
         "12:35:05",
         4,
         "Bank Transfer"
        ],
        [
         51,
         67,
         "2024-12-20",
         "09:40:25",
         1,
         "PayPal"
        ],
        [
         52,
         69,
         "2024-12-31",
         "10:15:50",
         1,
         "Bank Transfer"
        ],
        [
         53,
         70,
         "2024-12-05",
         "13:50:35",
         2,
         "PayPal"
        ],
        [
         54,
         71,
         "2024-12-28",
         "11:05:40",
         1,
         "Bank Transfer"
        ],
        [
         55,
         74,
         "2024-12-23",
         "14:25:25",
         1,
         "PayPal"
        ],
        [
         56,
         80,
         "2024-12-12",
         "08:30:55",
         4,
         "Bank Transfer"
        ],
        [
         57,
         81,
         "2024-12-28",
         "16:45:30",
         1,
         "PayPal"
        ],
        [
         58,
         82,
         "2024-12-29",
         "18:50:10",
         2,
         "PayPal"
        ],
        [
         59,
         91,
         "2024-12-18",
         "19:20:40",
         4,
         "Bank Transfer"
        ],
        [
         60,
         93,
         "2024-12-23",
         "11:10:05",
         1,
         "PayPal"
        ],
        [
         61,
         95,
         "2024-12-29",
         "13:15:15",
         2,
         "Bank Transfer"
        ],
        [
         62,
         96,
         "2024-12-03",
         "15:25:45",
         1,
         "PayPal"
        ],
        [
         63,
         97,
         "2024-12-08",
         "12:10:35",
         4,
         "Bank Transfer"
        ],
        [
         65,
         2,
         "2025-01-19",
         "05:05:13",
         2,
         "PayPal"
        ],
        [
         66,
         3,
         "2025-01-08",
         "23:45:00",
         4,
         "Bank Transfer"
        ],
        [
         67,
         4,
         "2025-01-05",
         "10:49:26",
         1,
         "Bank Transfer"
        ],
        [
         68,
         8,
         "2025-01-02",
         "16:11:15",
         2,
         "PayPal"
        ],
        [
         69,
         14,
         "2025-01-01",
         "22:22:26",
         4,
         "PayPal"
        ],
        [
         70,
         18,
         "2025-01-22",
         "23:12:08",
         1,
         "Credit Card"
        ],
        [
         71,
         22,
         "2025-01-01",
         "18:49:19",
         1,
         "PayPal"
        ],
        [
         72,
         26,
         "2025-01-05",
         "22:01:25",
         2,
         "Bank Transfer"
        ],
        [
         73,
         29,
         "2025-01-18",
         "05:05:04",
         4,
         "Bank Transfer"
        ],
        [
         74,
         34,
         "2025-01-12",
         "11:30:15",
         1,
         "Credit Card"
        ],
        [
         75,
         36,
         "2025-01-16",
         "23:15:43",
         2,
         "PayPal"
        ],
        [
         76,
         40,
         "2025-01-08",
         "13:22:51",
         4,
         "Bank Transfer"
        ],
        [
         77,
         45,
         "2025-01-03",
         "15:10:25",
         1,
         "PayPal"
        ],
        [
         78,
         47,
         "2025-01-11",
         "20:20:20",
         1,
         "Bank Transfer"
        ],
        [
         79,
         50,
         "2025-01-17",
         "12:30:00",
         2,
         "Bank Transfer"
        ],
        [
         80,
         53,
         "2025-01-15",
         "07:40:19",
         4,
         "Credit Card"
        ],
        [
         81,
         58,
         "2025-01-04",
         "18:49:33",
         1,
         "PayPal"
        ],
        [
         82,
         60,
         "2025-01-20",
         "14:10:25",
         2,
         "Bank Transfer"
        ],
        [
         83,
         65,
         "2025-01-06",
         "20:30:10",
         4,
         "PayPal"
        ],
        [
         84,
         67,
         "2025-01-14",
         "16:00:00",
         1,
         "Bank Transfer"
        ],
        [
         85,
         71,
         "2025-01-07",
         "19:15:15",
         2,
         "Credit Card"
        ],
        [
         86,
         75,
         "2025-01-21",
         "12:50:30",
         1,
         "PayPal"
        ],
        [
         87,
         80,
         "2025-01-19",
         "09:40:40",
         4,
         "PayPal"
        ],
        [
         88,
         82,
         "2025-01-10",
         "08:20:00",
         1,
         "Credit Card"
        ],
        [
         89,
         85,
         "2025-01-16",
         "15:50:45",
         2,
         "Bank Transfer"
        ],
        [
         90,
         90,
         "2025-01-22",
         "21:00:15",
         1,
         "Bank Transfer"
        ],
        [
         91,
         92,
         "2025-01-03",
         "16:20:25",
         4,
         "PayPal"
        ],
        [
         15,
         7,
         "2024-11-19",
         "19:18:48",
         2,
         "Credit Card"
        ],
        [
         16,
         9,
         "2024-11-27",
         "13:15:29",
         4,
         "Bank Transfer"
        ],
        [
         17,
         20,
         "2024-11-18",
         "02:38:21",
         1,
         "PayPal"
        ],
        [
         18,
         21,
         "2024-11-21",
         "11:25:35",
         1,
         "Bank Transfer"
        ],
        [
         19,
         23,
         "2024-11-22",
         "16:04:05",
         1,
         "PayPal"
        ],
        [
         20,
         25,
         "2024-11-05",
         "11:45:31",
         2,
         "PayPal"
        ],
        [
         21,
         30,
         "2024-11-12",
         "03:20:29",
         1,
         "Bank Transfer"
        ],
        [
         22,
         35,
         "2024-11-20",
         "19:09:04",
         4,
         "Bank Transfer"
        ],
        [
         23,
         36,
         "2024-11-02",
         "10:39:46",
         1,
         "PayPal"
        ],
        [
         24,
         38,
         "2024-11-15",
         "15:12:23",
         1,
         "Credit Card"
        ],
        [
         25,
         42,
         "2024-11-26",
         "09:40:55",
         2,
         "PayPal"
        ],
        [
         26,
         47,
         "2024-11-28",
         "12:18:39",
         4,
         "Bank Transfer"
        ],
        [
         27,
         52,
         "2024-11-17",
         "07:45:14",
         1,
         "PayPal"
        ],
        [
         28,
         56,
         "2024-11-23",
         "14:03:20",
         1,
         "Credit Card"
        ],
        [
         29,
         59,
         "2024-11-19",
         "18:22:33",
         2,
         "PayPal"
        ],
        [
         30,
         63,
         "2024-11-20",
         "20:40:09",
         1,
         "Bank Transfer"
        ],
        [
         31,
         67,
         "2024-11-13",
         "16:50:26",
         4,
         "Credit Card"
        ],
        [
         32,
         71,
         "2024-11-18",
         "11:09:18",
         1,
         "PayPal"
        ],
        [
         33,
         74,
         "2024-11-12",
         "08:05:46",
         2,
         "Bank Transfer"
        ],
        [
         2,
         10,
         "2024-10-09",
         "22:09:27",
         2,
         "Credit Card"
        ],
        [
         3,
         11,
         "2024-10-15",
         "17:34:19",
         4,
         "Bank Transfer"
        ],
        [
         4,
         15,
         "2024-10-22",
         "01:47:25",
         1,
         "Bank Transfer"
        ],
        [
         5,
         19,
         "2024-10-15",
         "12:40:26",
         2,
         "PayPal"
        ],
        [
         6,
         39,
         "2024-10-31",
         "21:39:19",
         4,
         "PayPal"
        ],
        [
         7,
         55,
         "2024-10-27",
         "05:49:16",
         1,
         "Bank Transfer"
        ],
        [
         8,
         59,
         "2024-10-25",
         "02:51:05",
         2,
         "PayPal"
        ],
        [
         9,
         72,
         "2024-10-08",
         "10:23:28",
         3,
         "PayPal"
        ],
        [
         10,
         77,
         "2024-10-17",
         "13:09:33",
         1,
         "Credit Card"
        ],
        [
         11,
         84,
         "2024-10-27",
         "03:37:42",
         1,
         "PayPal"
        ],
        [
         12,
         85,
         "2024-10-25",
         "20:06:42",
         4,
         "Bank Transfer"
        ],
        [
         13,
         86,
         "2024-10-21",
         "13:30:47",
         1,
         "PayPal"
        ]
       ],
       "datasetInfos": [
        {
         "name": "_sqldf",
         "schema": {
          "fields": [
           {
            "metadata": {},
            "name": "payment_id",
            "nullable": true,
            "type": "integer"
           },
           {
            "metadata": {},
            "name": "order_id",
            "nullable": true,
            "type": "integer"
           },
           {
            "metadata": {},
            "name": "payment_date",
            "nullable": true,
            "type": "string"
           },
           {
            "metadata": {},
            "name": "payment_time",
            "nullable": true,
            "type": "string"
           },
           {
            "metadata": {},
            "name": "payment_status",
            "nullable": true,
            "type": "integer"
           },
           {
            "metadata": {},
            "name": "payment_method",
            "nullable": true,
            "type": "string"
           }
          ],
          "type": "struct"
         },
         "tableIdentifier": null,
         "typeStr": "pyspark.sql.connect.dataframe.DataFrame"
        }
       ],
       "dbfsResultPath": null,
       "isJsonSchema": true,
       "metadata": {
        "createTempViewForImplicitDf": true,
        "dataframeName": "_sqldf",
        "executionCount": 11
       },
       "overflow": false,
       "plotOptions": {
        "customPlotOptions": {},
        "displayType": "table",
        "pivotAggregation": null,
        "pivotColumns": null,
        "xColumns": null,
        "yColumns": null
       },
       "removedWidgets": [],
       "schema": [
        {
         "metadata": "{}",
         "name": "payment_id",
         "type": "\"integer\""
        },
        {
         "metadata": "{}",
         "name": "order_id",
         "type": "\"integer\""
        },
        {
         "metadata": "{}",
         "name": "payment_date",
         "type": "\"string\""
        },
        {
         "metadata": "{}",
         "name": "payment_time",
         "type": "\"string\""
        },
        {
         "metadata": "{}",
         "name": "payment_status",
         "type": "\"integer\""
        },
        {
         "metadata": "{}",
         "name": "payment_method",
         "type": "\"string\""
        }
       ],
       "type": "table"
      }
     },
     "output_type": "display_data"
    }
   ],
   "source": [
    "SELECT payment_id,\n",
    "       order_id,\n",
    "       date_format(payment_timestamp, 'yyyy-MM-dd') AS payment_date,\n",
    "       date_format(payment_timestamp, 'HH:mm:ss') AS payment_time,\n",
    "       payment_status,\n",
    "       payment_method\n",
    "  FROM gizmobox.bronze.payments;"
   ]
  },
  {
   "cell_type": "code",
   "execution_count": 0,
   "metadata": {
    "application/vnd.databricks.v1+cell": {
     "cellMetadata": {
      "byteLimit": 2048000,
      "rowLimit": 10000
     },
     "inputWidgets": {},
     "nuid": "70873994-9a30-433c-ba60-bfcdf4e55661",
     "showTitle": false,
     "tableResultSettingsMap": {},
     "title": ""
    }
   },
   "outputs": [
    {
     "output_type": "display_data",
     "data": {
      "text/html": [
       "<style scoped>\n",
       "  .table-result-container {\n",
       "    max-height: 300px;\n",
       "    overflow: auto;\n",
       "  }\n",
       "  table, th, td {\n",
       "    border: 1px solid black;\n",
       "    border-collapse: collapse;\n",
       "  }\n",
       "  th, td {\n",
       "    padding: 5px;\n",
       "  }\n",
       "  th {\n",
       "    text-align: left;\n",
       "  }\n",
       "</style><div class='table-result-container'><table class='table-result'><thead style='background-color: white'><tr><th>payment_id</th><th>order_id</th><th>payment_date</th><th>payment_time</th><th>payment_status</th><th>payment_method</th></tr></thead><tbody><tr><td>35</td><td>13</td><td>2024-12-17</td><td>05:25:34</td><td>pending</td><td>PayPal</td></tr><tr><td>36</td><td>16</td><td>2024-12-09</td><td>10:45:56</td><td>failed</td><td>Bank Transfer</td></tr><tr><td>37</td><td>17</td><td>2024-12-02</td><td>13:50:20</td><td>success</td><td>Bank Transfer</td></tr><tr><td>38</td><td>24</td><td>2024-12-22</td><td>08:30:55</td><td>success</td><td>PayPal</td></tr><tr><td>39</td><td>27</td><td>2024-12-03</td><td>11:45:30</td><td>pending</td><td>Credit Card</td></tr><tr><td>40</td><td>28</td><td>2024-12-27</td><td>05:40:10</td><td>failed</td><td>Credit Card</td></tr><tr><td>41</td><td>32</td><td>2024-12-29</td><td>09:20:40</td><td>success</td><td>PayPal</td></tr><tr><td>42</td><td>37</td><td>2024-12-23</td><td>12:10:05</td><td>pending</td><td>Credit Card</td></tr><tr><td>43</td><td>38</td><td>2024-12-26</td><td>20:15:15</td><td>success</td><td>Credit Card</td></tr><tr><td>44</td><td>44</td><td>2024-12-21</td><td>14:25:45</td><td>success</td><td>Credit Card</td></tr><tr><td>45</td><td>49</td><td>2024-12-08</td><td>16:40:35</td><td>failed</td><td>PayPal</td></tr><tr><td>46</td><td>54</td><td>2024-12-21</td><td>13:10:25</td><td>pending</td><td>Credit Card</td></tr><tr><td>47</td><td>58</td><td>2024-12-10</td><td>11:50:20</td><td>success</td><td>PayPal</td></tr><tr><td>48</td><td>60</td><td>2024-12-14</td><td>18:30:15</td><td>success</td><td>Bank Transfer</td></tr><tr><td>49</td><td>61</td><td>2024-12-08</td><td>14:45:50</td><td>pending</td><td>Bank Transfer</td></tr><tr><td>50</td><td>65</td><td>2024-12-10</td><td>12:35:05</td><td>failed</td><td>Bank Transfer</td></tr><tr><td>51</td><td>67</td><td>2024-12-20</td><td>09:40:25</td><td>success</td><td>PayPal</td></tr><tr><td>52</td><td>69</td><td>2024-12-31</td><td>10:15:50</td><td>success</td><td>Bank Transfer</td></tr><tr><td>53</td><td>70</td><td>2024-12-05</td><td>13:50:35</td><td>pending</td><td>PayPal</td></tr><tr><td>54</td><td>71</td><td>2024-12-28</td><td>11:05:40</td><td>success</td><td>Bank Transfer</td></tr><tr><td>55</td><td>74</td><td>2024-12-23</td><td>14:25:25</td><td>success</td><td>PayPal</td></tr><tr><td>56</td><td>80</td><td>2024-12-12</td><td>08:30:55</td><td>failed</td><td>Bank Transfer</td></tr><tr><td>57</td><td>81</td><td>2024-12-28</td><td>16:45:30</td><td>success</td><td>PayPal</td></tr><tr><td>58</td><td>82</td><td>2024-12-29</td><td>18:50:10</td><td>pending</td><td>PayPal</td></tr><tr><td>59</td><td>91</td><td>2024-12-18</td><td>19:20:40</td><td>failed</td><td>Bank Transfer</td></tr><tr><td>60</td><td>93</td><td>2024-12-23</td><td>11:10:05</td><td>success</td><td>PayPal</td></tr><tr><td>61</td><td>95</td><td>2024-12-29</td><td>13:15:15</td><td>pending</td><td>Bank Transfer</td></tr><tr><td>62</td><td>96</td><td>2024-12-03</td><td>15:25:45</td><td>success</td><td>PayPal</td></tr><tr><td>63</td><td>97</td><td>2024-12-08</td><td>12:10:35</td><td>failed</td><td>Bank Transfer</td></tr><tr><td>65</td><td>2</td><td>2025-01-19</td><td>05:05:13</td><td>pending</td><td>PayPal</td></tr><tr><td>66</td><td>3</td><td>2025-01-08</td><td>23:45:00</td><td>failed</td><td>Bank Transfer</td></tr><tr><td>67</td><td>4</td><td>2025-01-05</td><td>10:49:26</td><td>success</td><td>Bank Transfer</td></tr><tr><td>68</td><td>8</td><td>2025-01-02</td><td>16:11:15</td><td>pending</td><td>PayPal</td></tr><tr><td>69</td><td>14</td><td>2025-01-01</td><td>22:22:26</td><td>failed</td><td>PayPal</td></tr><tr><td>70</td><td>18</td><td>2025-01-22</td><td>23:12:08</td><td>success</td><td>Credit Card</td></tr><tr><td>71</td><td>22</td><td>2025-01-01</td><td>18:49:19</td><td>success</td><td>PayPal</td></tr><tr><td>72</td><td>26</td><td>2025-01-05</td><td>22:01:25</td><td>pending</td><td>Bank Transfer</td></tr><tr><td>73</td><td>29</td><td>2025-01-18</td><td>05:05:04</td><td>failed</td><td>Bank Transfer</td></tr><tr><td>74</td><td>34</td><td>2025-01-12</td><td>11:30:15</td><td>success</td><td>Credit Card</td></tr><tr><td>75</td><td>36</td><td>2025-01-16</td><td>23:15:43</td><td>pending</td><td>PayPal</td></tr><tr><td>76</td><td>40</td><td>2025-01-08</td><td>13:22:51</td><td>failed</td><td>Bank Transfer</td></tr><tr><td>77</td><td>45</td><td>2025-01-03</td><td>15:10:25</td><td>success</td><td>PayPal</td></tr><tr><td>78</td><td>47</td><td>2025-01-11</td><td>20:20:20</td><td>success</td><td>Bank Transfer</td></tr><tr><td>79</td><td>50</td><td>2025-01-17</td><td>12:30:00</td><td>pending</td><td>Bank Transfer</td></tr><tr><td>80</td><td>53</td><td>2025-01-15</td><td>07:40:19</td><td>failed</td><td>Credit Card</td></tr><tr><td>81</td><td>58</td><td>2025-01-04</td><td>18:49:33</td><td>success</td><td>PayPal</td></tr><tr><td>82</td><td>60</td><td>2025-01-20</td><td>14:10:25</td><td>pending</td><td>Bank Transfer</td></tr><tr><td>83</td><td>65</td><td>2025-01-06</td><td>20:30:10</td><td>failed</td><td>PayPal</td></tr><tr><td>84</td><td>67</td><td>2025-01-14</td><td>16:00:00</td><td>success</td><td>Bank Transfer</td></tr><tr><td>85</td><td>71</td><td>2025-01-07</td><td>19:15:15</td><td>pending</td><td>Credit Card</td></tr><tr><td>86</td><td>75</td><td>2025-01-21</td><td>12:50:30</td><td>success</td><td>PayPal</td></tr><tr><td>87</td><td>80</td><td>2025-01-19</td><td>09:40:40</td><td>failed</td><td>PayPal</td></tr><tr><td>88</td><td>82</td><td>2025-01-10</td><td>08:20:00</td><td>success</td><td>Credit Card</td></tr><tr><td>89</td><td>85</td><td>2025-01-16</td><td>15:50:45</td><td>pending</td><td>Bank Transfer</td></tr><tr><td>90</td><td>90</td><td>2025-01-22</td><td>21:00:15</td><td>success</td><td>Bank Transfer</td></tr><tr><td>91</td><td>92</td><td>2025-01-03</td><td>16:20:25</td><td>failed</td><td>PayPal</td></tr><tr><td>15</td><td>7</td><td>2024-11-19</td><td>19:18:48</td><td>pending</td><td>Credit Card</td></tr><tr><td>16</td><td>9</td><td>2024-11-27</td><td>13:15:29</td><td>failed</td><td>Bank Transfer</td></tr><tr><td>17</td><td>20</td><td>2024-11-18</td><td>02:38:21</td><td>success</td><td>PayPal</td></tr><tr><td>18</td><td>21</td><td>2024-11-21</td><td>11:25:35</td><td>success</td><td>Bank Transfer</td></tr><tr><td>19</td><td>23</td><td>2024-11-22</td><td>16:04:05</td><td>success</td><td>PayPal</td></tr><tr><td>20</td><td>25</td><td>2024-11-05</td><td>11:45:31</td><td>pending</td><td>PayPal</td></tr><tr><td>21</td><td>30</td><td>2024-11-12</td><td>03:20:29</td><td>success</td><td>Bank Transfer</td></tr><tr><td>22</td><td>35</td><td>2024-11-20</td><td>19:09:04</td><td>failed</td><td>Bank Transfer</td></tr><tr><td>23</td><td>36</td><td>2024-11-02</td><td>10:39:46</td><td>success</td><td>PayPal</td></tr><tr><td>24</td><td>38</td><td>2024-11-15</td><td>15:12:23</td><td>success</td><td>Credit Card</td></tr><tr><td>25</td><td>42</td><td>2024-11-26</td><td>09:40:55</td><td>pending</td><td>PayPal</td></tr><tr><td>26</td><td>47</td><td>2024-11-28</td><td>12:18:39</td><td>failed</td><td>Bank Transfer</td></tr><tr><td>27</td><td>52</td><td>2024-11-17</td><td>07:45:14</td><td>success</td><td>PayPal</td></tr><tr><td>28</td><td>56</td><td>2024-11-23</td><td>14:03:20</td><td>success</td><td>Credit Card</td></tr><tr><td>29</td><td>59</td><td>2024-11-19</td><td>18:22:33</td><td>pending</td><td>PayPal</td></tr><tr><td>30</td><td>63</td><td>2024-11-20</td><td>20:40:09</td><td>success</td><td>Bank Transfer</td></tr><tr><td>31</td><td>67</td><td>2024-11-13</td><td>16:50:26</td><td>failed</td><td>Credit Card</td></tr><tr><td>32</td><td>71</td><td>2024-11-18</td><td>11:09:18</td><td>success</td><td>PayPal</td></tr><tr><td>33</td><td>74</td><td>2024-11-12</td><td>08:05:46</td><td>pending</td><td>Bank Transfer</td></tr><tr><td>2</td><td>10</td><td>2024-10-09</td><td>22:09:27</td><td>pending</td><td>Credit Card</td></tr><tr><td>3</td><td>11</td><td>2024-10-15</td><td>17:34:19</td><td>failed</td><td>Bank Transfer</td></tr><tr><td>4</td><td>15</td><td>2024-10-22</td><td>01:47:25</td><td>success</td><td>Bank Transfer</td></tr><tr><td>5</td><td>19</td><td>2024-10-15</td><td>12:40:26</td><td>pending</td><td>PayPal</td></tr><tr><td>6</td><td>39</td><td>2024-10-31</td><td>21:39:19</td><td>failed</td><td>PayPal</td></tr><tr><td>7</td><td>55</td><td>2024-10-27</td><td>05:49:16</td><td>success</td><td>Bank Transfer</td></tr><tr><td>8</td><td>59</td><td>2024-10-25</td><td>02:51:05</td><td>pending</td><td>PayPal</td></tr><tr><td>9</td><td>72</td><td>2024-10-08</td><td>10:23:28</td><td>cancelled</td><td>PayPal</td></tr><tr><td>10</td><td>77</td><td>2024-10-17</td><td>13:09:33</td><td>success</td><td>Credit Card</td></tr><tr><td>11</td><td>84</td><td>2024-10-27</td><td>03:37:42</td><td>success</td><td>PayPal</td></tr><tr><td>12</td><td>85</td><td>2024-10-25</td><td>20:06:42</td><td>failed</td><td>Bank Transfer</td></tr><tr><td>13</td><td>86</td><td>2024-10-21</td><td>13:30:47</td><td>success</td><td>PayPal</td></tr></tbody></table></div>"
      ]
     },
     "metadata": {
      "application/vnd.databricks.v1+output": {
       "addedWidgets": {},
       "aggData": [],
       "aggError": "",
       "aggOverflow": false,
       "aggSchema": [],
       "aggSeriesLimitReached": false,
       "aggType": "",
       "arguments": {},
       "columnCustomDisplayInfos": {},
       "data": [
        [
         35,
         13,
         "2024-12-17",
         "05:25:34",
         "pending",
         "PayPal"
        ],
        [
         36,
         16,
         "2024-12-09",
         "10:45:56",
         "failed",
         "Bank Transfer"
        ],
        [
         37,
         17,
         "2024-12-02",
         "13:50:20",
         "success",
         "Bank Transfer"
        ],
        [
         38,
         24,
         "2024-12-22",
         "08:30:55",
         "success",
         "PayPal"
        ],
        [
         39,
         27,
         "2024-12-03",
         "11:45:30",
         "pending",
         "Credit Card"
        ],
        [
         40,
         28,
         "2024-12-27",
         "05:40:10",
         "failed",
         "Credit Card"
        ],
        [
         41,
         32,
         "2024-12-29",
         "09:20:40",
         "success",
         "PayPal"
        ],
        [
         42,
         37,
         "2024-12-23",
         "12:10:05",
         "pending",
         "Credit Card"
        ],
        [
         43,
         38,
         "2024-12-26",
         "20:15:15",
         "success",
         "Credit Card"
        ],
        [
         44,
         44,
         "2024-12-21",
         "14:25:45",
         "success",
         "Credit Card"
        ],
        [
         45,
         49,
         "2024-12-08",
         "16:40:35",
         "failed",
         "PayPal"
        ],
        [
         46,
         54,
         "2024-12-21",
         "13:10:25",
         "pending",
         "Credit Card"
        ],
        [
         47,
         58,
         "2024-12-10",
         "11:50:20",
         "success",
         "PayPal"
        ],
        [
         48,
         60,
         "2024-12-14",
         "18:30:15",
         "success",
         "Bank Transfer"
        ],
        [
         49,
         61,
         "2024-12-08",
         "14:45:50",
         "pending",
         "Bank Transfer"
        ],
        [
         50,
         65,
         "2024-12-10",
         "12:35:05",
         "failed",
         "Bank Transfer"
        ],
        [
         51,
         67,
         "2024-12-20",
         "09:40:25",
         "success",
         "PayPal"
        ],
        [
         52,
         69,
         "2024-12-31",
         "10:15:50",
         "success",
         "Bank Transfer"
        ],
        [
         53,
         70,
         "2024-12-05",
         "13:50:35",
         "pending",
         "PayPal"
        ],
        [
         54,
         71,
         "2024-12-28",
         "11:05:40",
         "success",
         "Bank Transfer"
        ],
        [
         55,
         74,
         "2024-12-23",
         "14:25:25",
         "success",
         "PayPal"
        ],
        [
         56,
         80,
         "2024-12-12",
         "08:30:55",
         "failed",
         "Bank Transfer"
        ],
        [
         57,
         81,
         "2024-12-28",
         "16:45:30",
         "success",
         "PayPal"
        ],
        [
         58,
         82,
         "2024-12-29",
         "18:50:10",
         "pending",
         "PayPal"
        ],
        [
         59,
         91,
         "2024-12-18",
         "19:20:40",
         "failed",
         "Bank Transfer"
        ],
        [
         60,
         93,
         "2024-12-23",
         "11:10:05",
         "success",
         "PayPal"
        ],
        [
         61,
         95,
         "2024-12-29",
         "13:15:15",
         "pending",
         "Bank Transfer"
        ],
        [
         62,
         96,
         "2024-12-03",
         "15:25:45",
         "success",
         "PayPal"
        ],
        [
         63,
         97,
         "2024-12-08",
         "12:10:35",
         "failed",
         "Bank Transfer"
        ],
        [
         65,
         2,
         "2025-01-19",
         "05:05:13",
         "pending",
         "PayPal"
        ],
        [
         66,
         3,
         "2025-01-08",
         "23:45:00",
         "failed",
         "Bank Transfer"
        ],
        [
         67,
         4,
         "2025-01-05",
         "10:49:26",
         "success",
         "Bank Transfer"
        ],
        [
         68,
         8,
         "2025-01-02",
         "16:11:15",
         "pending",
         "PayPal"
        ],
        [
         69,
         14,
         "2025-01-01",
         "22:22:26",
         "failed",
         "PayPal"
        ],
        [
         70,
         18,
         "2025-01-22",
         "23:12:08",
         "success",
         "Credit Card"
        ],
        [
         71,
         22,
         "2025-01-01",
         "18:49:19",
         "success",
         "PayPal"
        ],
        [
         72,
         26,
         "2025-01-05",
         "22:01:25",
         "pending",
         "Bank Transfer"
        ],
        [
         73,
         29,
         "2025-01-18",
         "05:05:04",
         "failed",
         "Bank Transfer"
        ],
        [
         74,
         34,
         "2025-01-12",
         "11:30:15",
         "success",
         "Credit Card"
        ],
        [
         75,
         36,
         "2025-01-16",
         "23:15:43",
         "pending",
         "PayPal"
        ],
        [
         76,
         40,
         "2025-01-08",
         "13:22:51",
         "failed",
         "Bank Transfer"
        ],
        [
         77,
         45,
         "2025-01-03",
         "15:10:25",
         "success",
         "PayPal"
        ],
        [
         78,
         47,
         "2025-01-11",
         "20:20:20",
         "success",
         "Bank Transfer"
        ],
        [
         79,
         50,
         "2025-01-17",
         "12:30:00",
         "pending",
         "Bank Transfer"
        ],
        [
         80,
         53,
         "2025-01-15",
         "07:40:19",
         "failed",
         "Credit Card"
        ],
        [
         81,
         58,
         "2025-01-04",
         "18:49:33",
         "success",
         "PayPal"
        ],
        [
         82,
         60,
         "2025-01-20",
         "14:10:25",
         "pending",
         "Bank Transfer"
        ],
        [
         83,
         65,
         "2025-01-06",
         "20:30:10",
         "failed",
         "PayPal"
        ],
        [
         84,
         67,
         "2025-01-14",
         "16:00:00",
         "success",
         "Bank Transfer"
        ],
        [
         85,
         71,
         "2025-01-07",
         "19:15:15",
         "pending",
         "Credit Card"
        ],
        [
         86,
         75,
         "2025-01-21",
         "12:50:30",
         "success",
         "PayPal"
        ],
        [
         87,
         80,
         "2025-01-19",
         "09:40:40",
         "failed",
         "PayPal"
        ],
        [
         88,
         82,
         "2025-01-10",
         "08:20:00",
         "success",
         "Credit Card"
        ],
        [
         89,
         85,
         "2025-01-16",
         "15:50:45",
         "pending",
         "Bank Transfer"
        ],
        [
         90,
         90,
         "2025-01-22",
         "21:00:15",
         "success",
         "Bank Transfer"
        ],
        [
         91,
         92,
         "2025-01-03",
         "16:20:25",
         "failed",
         "PayPal"
        ],
        [
         15,
         7,
         "2024-11-19",
         "19:18:48",
         "pending",
         "Credit Card"
        ],
        [
         16,
         9,
         "2024-11-27",
         "13:15:29",
         "failed",
         "Bank Transfer"
        ],
        [
         17,
         20,
         "2024-11-18",
         "02:38:21",
         "success",
         "PayPal"
        ],
        [
         18,
         21,
         "2024-11-21",
         "11:25:35",
         "success",
         "Bank Transfer"
        ],
        [
         19,
         23,
         "2024-11-22",
         "16:04:05",
         "success",
         "PayPal"
        ],
        [
         20,
         25,
         "2024-11-05",
         "11:45:31",
         "pending",
         "PayPal"
        ],
        [
         21,
         30,
         "2024-11-12",
         "03:20:29",
         "success",
         "Bank Transfer"
        ],
        [
         22,
         35,
         "2024-11-20",
         "19:09:04",
         "failed",
         "Bank Transfer"
        ],
        [
         23,
         36,
         "2024-11-02",
         "10:39:46",
         "success",
         "PayPal"
        ],
        [
         24,
         38,
         "2024-11-15",
         "15:12:23",
         "success",
         "Credit Card"
        ],
        [
         25,
         42,
         "2024-11-26",
         "09:40:55",
         "pending",
         "PayPal"
        ],
        [
         26,
         47,
         "2024-11-28",
         "12:18:39",
         "failed",
         "Bank Transfer"
        ],
        [
         27,
         52,
         "2024-11-17",
         "07:45:14",
         "success",
         "PayPal"
        ],
        [
         28,
         56,
         "2024-11-23",
         "14:03:20",
         "success",
         "Credit Card"
        ],
        [
         29,
         59,
         "2024-11-19",
         "18:22:33",
         "pending",
         "PayPal"
        ],
        [
         30,
         63,
         "2024-11-20",
         "20:40:09",
         "success",
         "Bank Transfer"
        ],
        [
         31,
         67,
         "2024-11-13",
         "16:50:26",
         "failed",
         "Credit Card"
        ],
        [
         32,
         71,
         "2024-11-18",
         "11:09:18",
         "success",
         "PayPal"
        ],
        [
         33,
         74,
         "2024-11-12",
         "08:05:46",
         "pending",
         "Bank Transfer"
        ],
        [
         2,
         10,
         "2024-10-09",
         "22:09:27",
         "pending",
         "Credit Card"
        ],
        [
         3,
         11,
         "2024-10-15",
         "17:34:19",
         "failed",
         "Bank Transfer"
        ],
        [
         4,
         15,
         "2024-10-22",
         "01:47:25",
         "success",
         "Bank Transfer"
        ],
        [
         5,
         19,
         "2024-10-15",
         "12:40:26",
         "pending",
         "PayPal"
        ],
        [
         6,
         39,
         "2024-10-31",
         "21:39:19",
         "failed",
         "PayPal"
        ],
        [
         7,
         55,
         "2024-10-27",
         "05:49:16",
         "success",
         "Bank Transfer"
        ],
        [
         8,
         59,
         "2024-10-25",
         "02:51:05",
         "pending",
         "PayPal"
        ],
        [
         9,
         72,
         "2024-10-08",
         "10:23:28",
         "cancelled",
         "PayPal"
        ],
        [
         10,
         77,
         "2024-10-17",
         "13:09:33",
         "success",
         "Credit Card"
        ],
        [
         11,
         84,
         "2024-10-27",
         "03:37:42",
         "success",
         "PayPal"
        ],
        [
         12,
         85,
         "2024-10-25",
         "20:06:42",
         "failed",
         "Bank Transfer"
        ],
        [
         13,
         86,
         "2024-10-21",
         "13:30:47",
         "success",
         "PayPal"
        ]
       ],
       "datasetInfos": [
        {
         "name": "_sqldf",
         "schema": {
          "fields": [
           {
            "metadata": {},
            "name": "payment_id",
            "nullable": true,
            "type": "integer"
           },
           {
            "metadata": {},
            "name": "order_id",
            "nullable": true,
            "type": "integer"
           },
           {
            "metadata": {},
            "name": "payment_date",
            "nullable": true,
            "type": "string"
           },
           {
            "metadata": {},
            "name": "payment_time",
            "nullable": true,
            "type": "string"
           },
           {
            "metadata": {},
            "name": "payment_status",
            "nullable": true,
            "type": "string"
           },
           {
            "metadata": {},
            "name": "payment_method",
            "nullable": true,
            "type": "string"
           }
          ],
          "type": "struct"
         },
         "tableIdentifier": null,
         "typeStr": "pyspark.sql.connect.dataframe.DataFrame"
        }
       ],
       "dbfsResultPath": null,
       "isJsonSchema": true,
       "metadata": {
        "createTempViewForImplicitDf": true,
        "dataframeName": "_sqldf",
        "executionCount": 10
       },
       "overflow": false,
       "plotOptions": {
        "customPlotOptions": {},
        "displayType": "table",
        "pivotAggregation": null,
        "pivotColumns": null,
        "xColumns": null,
        "yColumns": null
       },
       "removedWidgets": [],
       "schema": [
        {
         "metadata": "{}",
         "name": "payment_id",
         "type": "\"integer\""
        },
        {
         "metadata": "{}",
         "name": "order_id",
         "type": "\"integer\""
        },
        {
         "metadata": "{}",
         "name": "payment_date",
         "type": "\"string\""
        },
        {
         "metadata": "{}",
         "name": "payment_time",
         "type": "\"string\""
        },
        {
         "metadata": "{}",
         "name": "payment_status",
         "type": "\"string\""
        },
        {
         "metadata": "{}",
         "name": "payment_method",
         "type": "\"string\""
        }
       ],
       "type": "table"
      }
     },
     "output_type": "display_data"
    }
   ],
   "source": [
    "SELECT payment_id,\n",
    "       order_id,\n",
    "       date_format(payment_timestamp, 'yyyy-MM-dd') AS payment_date,\n",
    "       date_format(payment_timestamp, 'HH:mm:ss') AS payment_time,\n",
    "       CASE payment_status\n",
    "         WHEN 1 THEN 'success'\n",
    "         WHEN 2 THEN 'pending'\n",
    "         WHEN 3 THEN 'cancelled'\n",
    "         WHEN 4 THEN 'failed'\n",
    "       END AS payment_status,\n",
    "       payment_method\n",
    "  FROM gizmobox.bronze.payments;"
   ]
  },
  {
   "cell_type": "code",
   "execution_count": 0,
   "metadata": {
    "application/vnd.databricks.v1+cell": {
     "cellMetadata": {
      "byteLimit": 2048000,
      "rowLimit": 10000
     },
     "inputWidgets": {},
     "nuid": "3b4bacec-90dd-4426-a1c4-d1ab2d321059",
     "showTitle": false,
     "tableResultSettingsMap": {},
     "title": ""
    }
   },
   "outputs": [
    {
     "output_type": "display_data",
     "data": {
      "text/html": [
       "<style scoped>\n",
       "  .table-result-container {\n",
       "    max-height: 300px;\n",
       "    overflow: auto;\n",
       "  }\n",
       "  table, th, td {\n",
       "    border: 1px solid black;\n",
       "    border-collapse: collapse;\n",
       "  }\n",
       "  th, td {\n",
       "    padding: 5px;\n",
       "  }\n",
       "  th {\n",
       "    text-align: left;\n",
       "  }\n",
       "</style><div class='table-result-container'><table class='table-result'><thead style='background-color: white'><tr><th>num_affected_rows</th><th>num_inserted_rows</th></tr></thead><tbody></tbody></table></div>"
      ]
     },
     "metadata": {
      "application/vnd.databricks.v1+output": {
       "addedWidgets": {},
       "aggData": [],
       "aggError": "",
       "aggOverflow": false,
       "aggSchema": [],
       "aggSeriesLimitReached": false,
       "aggType": "",
       "arguments": {},
       "columnCustomDisplayInfos": {},
       "data": [],
       "datasetInfos": [
        {
         "name": "_sqldf",
         "schema": {
          "fields": [
           {
            "metadata": {},
            "name": "num_affected_rows",
            "nullable": true,
            "type": "long"
           },
           {
            "metadata": {},
            "name": "num_inserted_rows",
            "nullable": true,
            "type": "long"
           }
          ],
          "type": "struct"
         },
         "tableIdentifier": null,
         "typeStr": "pyspark.sql.connect.dataframe.DataFrame"
        }
       ],
       "dbfsResultPath": null,
       "isJsonSchema": true,
       "metadata": {
        "createTempViewForImplicitDf": true,
        "dataframeName": "_sqldf",
        "executionCount": 13
       },
       "overflow": false,
       "plotOptions": {
        "customPlotOptions": {},
        "displayType": "table",
        "pivotAggregation": null,
        "pivotColumns": null,
        "xColumns": null,
        "yColumns": null
       },
       "removedWidgets": [],
       "schema": [
        {
         "metadata": "{}",
         "name": "num_affected_rows",
         "type": "\"long\""
        },
        {
         "metadata": "{}",
         "name": "num_inserted_rows",
         "type": "\"long\""
        }
       ],
       "type": "table"
      }
     },
     "output_type": "display_data"
    }
   ],
   "source": [
    "CREATE TABLE gizmobox.silver.payments\n",
    "AS\n",
    "SELECT payment_id,\n",
    "       order_id,\n",
    "       date_format(payment_timestamp, 'yyyy-MM-dd') AS payment_date,\n",
    "       date_format(payment_timestamp, 'HH:mm:ss') AS payment_time,\n",
    "       CASE payment_status\n",
    "         WHEN 1 THEN 'success'\n",
    "         WHEN 2 THEN 'pending'\n",
    "         WHEN 3 THEN 'cancelled'\n",
    "         WHEN 4 THEN 'failed'\n",
    "       END AS payment_status,\n",
    "       payment_method\n",
    "  FROM gizmobox.bronze.payments;"
   ]
  },
  {
   "cell_type": "code",
   "execution_count": 0,
   "metadata": {
    "application/vnd.databricks.v1+cell": {
     "cellMetadata": {
      "byteLimit": 2048000,
      "rowLimit": 10000
     },
     "inputWidgets": {},
     "nuid": "9e9d6a3f-364b-4e47-815e-432a71dd5d03",
     "showTitle": false,
     "tableResultSettingsMap": {},
     "title": ""
    }
   },
   "outputs": [
    {
     "output_type": "display_data",
     "data": {
      "text/html": [
       "<style scoped>\n",
       "  .table-result-container {\n",
       "    max-height: 300px;\n",
       "    overflow: auto;\n",
       "  }\n",
       "  table, th, td {\n",
       "    border: 1px solid black;\n",
       "    border-collapse: collapse;\n",
       "  }\n",
       "  th, td {\n",
       "    padding: 5px;\n",
       "  }\n",
       "  th {\n",
       "    text-align: left;\n",
       "  }\n",
       "</style><div class='table-result-container'><table class='table-result'><thead style='background-color: white'><tr><th>payment_id</th><th>order_id</th><th>payment_date</th><th>payment_time</th><th>payment_status</th><th>payment_method</th></tr></thead><tbody><tr><td>2</td><td>10</td><td>2024-10-09</td><td>22:09:27</td><td>pending</td><td>Credit Card</td></tr><tr><td>3</td><td>11</td><td>2024-10-15</td><td>17:34:19</td><td>failed</td><td>Bank Transfer</td></tr><tr><td>4</td><td>15</td><td>2024-10-22</td><td>01:47:25</td><td>success</td><td>Bank Transfer</td></tr><tr><td>5</td><td>19</td><td>2024-10-15</td><td>12:40:26</td><td>pending</td><td>PayPal</td></tr><tr><td>6</td><td>39</td><td>2024-10-31</td><td>21:39:19</td><td>failed</td><td>PayPal</td></tr><tr><td>7</td><td>55</td><td>2024-10-27</td><td>05:49:16</td><td>success</td><td>Bank Transfer</td></tr><tr><td>8</td><td>59</td><td>2024-10-25</td><td>02:51:05</td><td>pending</td><td>PayPal</td></tr><tr><td>9</td><td>72</td><td>2024-10-08</td><td>10:23:28</td><td>cancelled</td><td>PayPal</td></tr><tr><td>10</td><td>77</td><td>2024-10-17</td><td>13:09:33</td><td>success</td><td>Credit Card</td></tr><tr><td>11</td><td>84</td><td>2024-10-27</td><td>03:37:42</td><td>success</td><td>PayPal</td></tr><tr><td>12</td><td>85</td><td>2024-10-25</td><td>20:06:42</td><td>failed</td><td>Bank Transfer</td></tr><tr><td>13</td><td>86</td><td>2024-10-21</td><td>13:30:47</td><td>success</td><td>PayPal</td></tr><tr><td>15</td><td>7</td><td>2024-11-19</td><td>19:18:48</td><td>pending</td><td>Credit Card</td></tr><tr><td>16</td><td>9</td><td>2024-11-27</td><td>13:15:29</td><td>failed</td><td>Bank Transfer</td></tr><tr><td>17</td><td>20</td><td>2024-11-18</td><td>02:38:21</td><td>success</td><td>PayPal</td></tr><tr><td>18</td><td>21</td><td>2024-11-21</td><td>11:25:35</td><td>success</td><td>Bank Transfer</td></tr><tr><td>19</td><td>23</td><td>2024-11-22</td><td>16:04:05</td><td>success</td><td>PayPal</td></tr><tr><td>20</td><td>25</td><td>2024-11-05</td><td>11:45:31</td><td>pending</td><td>PayPal</td></tr><tr><td>21</td><td>30</td><td>2024-11-12</td><td>03:20:29</td><td>success</td><td>Bank Transfer</td></tr><tr><td>22</td><td>35</td><td>2024-11-20</td><td>19:09:04</td><td>failed</td><td>Bank Transfer</td></tr><tr><td>23</td><td>36</td><td>2024-11-02</td><td>10:39:46</td><td>success</td><td>PayPal</td></tr><tr><td>24</td><td>38</td><td>2024-11-15</td><td>15:12:23</td><td>success</td><td>Credit Card</td></tr><tr><td>25</td><td>42</td><td>2024-11-26</td><td>09:40:55</td><td>pending</td><td>PayPal</td></tr><tr><td>26</td><td>47</td><td>2024-11-28</td><td>12:18:39</td><td>failed</td><td>Bank Transfer</td></tr><tr><td>27</td><td>52</td><td>2024-11-17</td><td>07:45:14</td><td>success</td><td>PayPal</td></tr><tr><td>28</td><td>56</td><td>2024-11-23</td><td>14:03:20</td><td>success</td><td>Credit Card</td></tr><tr><td>29</td><td>59</td><td>2024-11-19</td><td>18:22:33</td><td>pending</td><td>PayPal</td></tr><tr><td>30</td><td>63</td><td>2024-11-20</td><td>20:40:09</td><td>success</td><td>Bank Transfer</td></tr><tr><td>31</td><td>67</td><td>2024-11-13</td><td>16:50:26</td><td>failed</td><td>Credit Card</td></tr><tr><td>32</td><td>71</td><td>2024-11-18</td><td>11:09:18</td><td>success</td><td>PayPal</td></tr><tr><td>33</td><td>74</td><td>2024-11-12</td><td>08:05:46</td><td>pending</td><td>Bank Transfer</td></tr><tr><td>35</td><td>13</td><td>2024-12-17</td><td>05:25:34</td><td>pending</td><td>PayPal</td></tr><tr><td>36</td><td>16</td><td>2024-12-09</td><td>10:45:56</td><td>failed</td><td>Bank Transfer</td></tr><tr><td>37</td><td>17</td><td>2024-12-02</td><td>13:50:20</td><td>success</td><td>Bank Transfer</td></tr><tr><td>38</td><td>24</td><td>2024-12-22</td><td>08:30:55</td><td>success</td><td>PayPal</td></tr><tr><td>39</td><td>27</td><td>2024-12-03</td><td>11:45:30</td><td>pending</td><td>Credit Card</td></tr><tr><td>40</td><td>28</td><td>2024-12-27</td><td>05:40:10</td><td>failed</td><td>Credit Card</td></tr><tr><td>41</td><td>32</td><td>2024-12-29</td><td>09:20:40</td><td>success</td><td>PayPal</td></tr><tr><td>42</td><td>37</td><td>2024-12-23</td><td>12:10:05</td><td>pending</td><td>Credit Card</td></tr><tr><td>43</td><td>38</td><td>2024-12-26</td><td>20:15:15</td><td>success</td><td>Credit Card</td></tr><tr><td>44</td><td>44</td><td>2024-12-21</td><td>14:25:45</td><td>success</td><td>Credit Card</td></tr><tr><td>45</td><td>49</td><td>2024-12-08</td><td>16:40:35</td><td>failed</td><td>PayPal</td></tr><tr><td>46</td><td>54</td><td>2024-12-21</td><td>13:10:25</td><td>pending</td><td>Credit Card</td></tr><tr><td>47</td><td>58</td><td>2024-12-10</td><td>11:50:20</td><td>success</td><td>PayPal</td></tr><tr><td>48</td><td>60</td><td>2024-12-14</td><td>18:30:15</td><td>success</td><td>Bank Transfer</td></tr><tr><td>49</td><td>61</td><td>2024-12-08</td><td>14:45:50</td><td>pending</td><td>Bank Transfer</td></tr><tr><td>50</td><td>65</td><td>2024-12-10</td><td>12:35:05</td><td>failed</td><td>Bank Transfer</td></tr><tr><td>51</td><td>67</td><td>2024-12-20</td><td>09:40:25</td><td>success</td><td>PayPal</td></tr><tr><td>52</td><td>69</td><td>2024-12-31</td><td>10:15:50</td><td>success</td><td>Bank Transfer</td></tr><tr><td>53</td><td>70</td><td>2024-12-05</td><td>13:50:35</td><td>pending</td><td>PayPal</td></tr><tr><td>54</td><td>71</td><td>2024-12-28</td><td>11:05:40</td><td>success</td><td>Bank Transfer</td></tr><tr><td>55</td><td>74</td><td>2024-12-23</td><td>14:25:25</td><td>success</td><td>PayPal</td></tr><tr><td>56</td><td>80</td><td>2024-12-12</td><td>08:30:55</td><td>failed</td><td>Bank Transfer</td></tr><tr><td>57</td><td>81</td><td>2024-12-28</td><td>16:45:30</td><td>success</td><td>PayPal</td></tr><tr><td>58</td><td>82</td><td>2024-12-29</td><td>18:50:10</td><td>pending</td><td>PayPal</td></tr><tr><td>59</td><td>91</td><td>2024-12-18</td><td>19:20:40</td><td>failed</td><td>Bank Transfer</td></tr><tr><td>60</td><td>93</td><td>2024-12-23</td><td>11:10:05</td><td>success</td><td>PayPal</td></tr><tr><td>61</td><td>95</td><td>2024-12-29</td><td>13:15:15</td><td>pending</td><td>Bank Transfer</td></tr><tr><td>62</td><td>96</td><td>2024-12-03</td><td>15:25:45</td><td>success</td><td>PayPal</td></tr><tr><td>63</td><td>97</td><td>2024-12-08</td><td>12:10:35</td><td>failed</td><td>Bank Transfer</td></tr><tr><td>65</td><td>2</td><td>2025-01-19</td><td>05:05:13</td><td>pending</td><td>PayPal</td></tr><tr><td>66</td><td>3</td><td>2025-01-08</td><td>23:45:00</td><td>failed</td><td>Bank Transfer</td></tr><tr><td>67</td><td>4</td><td>2025-01-05</td><td>10:49:26</td><td>success</td><td>Bank Transfer</td></tr><tr><td>68</td><td>8</td><td>2025-01-02</td><td>16:11:15</td><td>pending</td><td>PayPal</td></tr><tr><td>69</td><td>14</td><td>2025-01-01</td><td>22:22:26</td><td>failed</td><td>PayPal</td></tr><tr><td>70</td><td>18</td><td>2025-01-22</td><td>23:12:08</td><td>success</td><td>Credit Card</td></tr><tr><td>71</td><td>22</td><td>2025-01-01</td><td>18:49:19</td><td>success</td><td>PayPal</td></tr><tr><td>72</td><td>26</td><td>2025-01-05</td><td>22:01:25</td><td>pending</td><td>Bank Transfer</td></tr><tr><td>73</td><td>29</td><td>2025-01-18</td><td>05:05:04</td><td>failed</td><td>Bank Transfer</td></tr><tr><td>74</td><td>34</td><td>2025-01-12</td><td>11:30:15</td><td>success</td><td>Credit Card</td></tr><tr><td>75</td><td>36</td><td>2025-01-16</td><td>23:15:43</td><td>pending</td><td>PayPal</td></tr><tr><td>76</td><td>40</td><td>2025-01-08</td><td>13:22:51</td><td>failed</td><td>Bank Transfer</td></tr><tr><td>77</td><td>45</td><td>2025-01-03</td><td>15:10:25</td><td>success</td><td>PayPal</td></tr><tr><td>78</td><td>47</td><td>2025-01-11</td><td>20:20:20</td><td>success</td><td>Bank Transfer</td></tr><tr><td>79</td><td>50</td><td>2025-01-17</td><td>12:30:00</td><td>pending</td><td>Bank Transfer</td></tr><tr><td>80</td><td>53</td><td>2025-01-15</td><td>07:40:19</td><td>failed</td><td>Credit Card</td></tr><tr><td>81</td><td>58</td><td>2025-01-04</td><td>18:49:33</td><td>success</td><td>PayPal</td></tr><tr><td>82</td><td>60</td><td>2025-01-20</td><td>14:10:25</td><td>pending</td><td>Bank Transfer</td></tr><tr><td>83</td><td>65</td><td>2025-01-06</td><td>20:30:10</td><td>failed</td><td>PayPal</td></tr><tr><td>84</td><td>67</td><td>2025-01-14</td><td>16:00:00</td><td>success</td><td>Bank Transfer</td></tr><tr><td>85</td><td>71</td><td>2025-01-07</td><td>19:15:15</td><td>pending</td><td>Credit Card</td></tr><tr><td>86</td><td>75</td><td>2025-01-21</td><td>12:50:30</td><td>success</td><td>PayPal</td></tr><tr><td>87</td><td>80</td><td>2025-01-19</td><td>09:40:40</td><td>failed</td><td>PayPal</td></tr><tr><td>88</td><td>82</td><td>2025-01-10</td><td>08:20:00</td><td>success</td><td>Credit Card</td></tr><tr><td>89</td><td>85</td><td>2025-01-16</td><td>15:50:45</td><td>pending</td><td>Bank Transfer</td></tr><tr><td>90</td><td>90</td><td>2025-01-22</td><td>21:00:15</td><td>success</td><td>Bank Transfer</td></tr><tr><td>91</td><td>92</td><td>2025-01-03</td><td>16:20:25</td><td>failed</td><td>PayPal</td></tr></tbody></table></div>"
      ]
     },
     "metadata": {
      "application/vnd.databricks.v1+output": {
       "addedWidgets": {},
       "aggData": [],
       "aggError": "",
       "aggOverflow": false,
       "aggSchema": [],
       "aggSeriesLimitReached": false,
       "aggType": "",
       "arguments": {},
       "columnCustomDisplayInfos": {},
       "data": [
        [
         2,
         10,
         "2024-10-09",
         "22:09:27",
         "pending",
         "Credit Card"
        ],
        [
         3,
         11,
         "2024-10-15",
         "17:34:19",
         "failed",
         "Bank Transfer"
        ],
        [
         4,
         15,
         "2024-10-22",
         "01:47:25",
         "success",
         "Bank Transfer"
        ],
        [
         5,
         19,
         "2024-10-15",
         "12:40:26",
         "pending",
         "PayPal"
        ],
        [
         6,
         39,
         "2024-10-31",
         "21:39:19",
         "failed",
         "PayPal"
        ],
        [
         7,
         55,
         "2024-10-27",
         "05:49:16",
         "success",
         "Bank Transfer"
        ],
        [
         8,
         59,
         "2024-10-25",
         "02:51:05",
         "pending",
         "PayPal"
        ],
        [
         9,
         72,
         "2024-10-08",
         "10:23:28",
         "cancelled",
         "PayPal"
        ],
        [
         10,
         77,
         "2024-10-17",
         "13:09:33",
         "success",
         "Credit Card"
        ],
        [
         11,
         84,
         "2024-10-27",
         "03:37:42",
         "success",
         "PayPal"
        ],
        [
         12,
         85,
         "2024-10-25",
         "20:06:42",
         "failed",
         "Bank Transfer"
        ],
        [
         13,
         86,
         "2024-10-21",
         "13:30:47",
         "success",
         "PayPal"
        ],
        [
         15,
         7,
         "2024-11-19",
         "19:18:48",
         "pending",
         "Credit Card"
        ],
        [
         16,
         9,
         "2024-11-27",
         "13:15:29",
         "failed",
         "Bank Transfer"
        ],
        [
         17,
         20,
         "2024-11-18",
         "02:38:21",
         "success",
         "PayPal"
        ],
        [
         18,
         21,
         "2024-11-21",
         "11:25:35",
         "success",
         "Bank Transfer"
        ],
        [
         19,
         23,
         "2024-11-22",
         "16:04:05",
         "success",
         "PayPal"
        ],
        [
         20,
         25,
         "2024-11-05",
         "11:45:31",
         "pending",
         "PayPal"
        ],
        [
         21,
         30,
         "2024-11-12",
         "03:20:29",
         "success",
         "Bank Transfer"
        ],
        [
         22,
         35,
         "2024-11-20",
         "19:09:04",
         "failed",
         "Bank Transfer"
        ],
        [
         23,
         36,
         "2024-11-02",
         "10:39:46",
         "success",
         "PayPal"
        ],
        [
         24,
         38,
         "2024-11-15",
         "15:12:23",
         "success",
         "Credit Card"
        ],
        [
         25,
         42,
         "2024-11-26",
         "09:40:55",
         "pending",
         "PayPal"
        ],
        [
         26,
         47,
         "2024-11-28",
         "12:18:39",
         "failed",
         "Bank Transfer"
        ],
        [
         27,
         52,
         "2024-11-17",
         "07:45:14",
         "success",
         "PayPal"
        ],
        [
         28,
         56,
         "2024-11-23",
         "14:03:20",
         "success",
         "Credit Card"
        ],
        [
         29,
         59,
         "2024-11-19",
         "18:22:33",
         "pending",
         "PayPal"
        ],
        [
         30,
         63,
         "2024-11-20",
         "20:40:09",
         "success",
         "Bank Transfer"
        ],
        [
         31,
         67,
         "2024-11-13",
         "16:50:26",
         "failed",
         "Credit Card"
        ],
        [
         32,
         71,
         "2024-11-18",
         "11:09:18",
         "success",
         "PayPal"
        ],
        [
         33,
         74,
         "2024-11-12",
         "08:05:46",
         "pending",
         "Bank Transfer"
        ],
        [
         35,
         13,
         "2024-12-17",
         "05:25:34",
         "pending",
         "PayPal"
        ],
        [
         36,
         16,
         "2024-12-09",
         "10:45:56",
         "failed",
         "Bank Transfer"
        ],
        [
         37,
         17,
         "2024-12-02",
         "13:50:20",
         "success",
         "Bank Transfer"
        ],
        [
         38,
         24,
         "2024-12-22",
         "08:30:55",
         "success",
         "PayPal"
        ],
        [
         39,
         27,
         "2024-12-03",
         "11:45:30",
         "pending",
         "Credit Card"
        ],
        [
         40,
         28,
         "2024-12-27",
         "05:40:10",
         "failed",
         "Credit Card"
        ],
        [
         41,
         32,
         "2024-12-29",
         "09:20:40",
         "success",
         "PayPal"
        ],
        [
         42,
         37,
         "2024-12-23",
         "12:10:05",
         "pending",
         "Credit Card"
        ],
        [
         43,
         38,
         "2024-12-26",
         "20:15:15",
         "success",
         "Credit Card"
        ],
        [
         44,
         44,
         "2024-12-21",
         "14:25:45",
         "success",
         "Credit Card"
        ],
        [
         45,
         49,
         "2024-12-08",
         "16:40:35",
         "failed",
         "PayPal"
        ],
        [
         46,
         54,
         "2024-12-21",
         "13:10:25",
         "pending",
         "Credit Card"
        ],
        [
         47,
         58,
         "2024-12-10",
         "11:50:20",
         "success",
         "PayPal"
        ],
        [
         48,
         60,
         "2024-12-14",
         "18:30:15",
         "success",
         "Bank Transfer"
        ],
        [
         49,
         61,
         "2024-12-08",
         "14:45:50",
         "pending",
         "Bank Transfer"
        ],
        [
         50,
         65,
         "2024-12-10",
         "12:35:05",
         "failed",
         "Bank Transfer"
        ],
        [
         51,
         67,
         "2024-12-20",
         "09:40:25",
         "success",
         "PayPal"
        ],
        [
         52,
         69,
         "2024-12-31",
         "10:15:50",
         "success",
         "Bank Transfer"
        ],
        [
         53,
         70,
         "2024-12-05",
         "13:50:35",
         "pending",
         "PayPal"
        ],
        [
         54,
         71,
         "2024-12-28",
         "11:05:40",
         "success",
         "Bank Transfer"
        ],
        [
         55,
         74,
         "2024-12-23",
         "14:25:25",
         "success",
         "PayPal"
        ],
        [
         56,
         80,
         "2024-12-12",
         "08:30:55",
         "failed",
         "Bank Transfer"
        ],
        [
         57,
         81,
         "2024-12-28",
         "16:45:30",
         "success",
         "PayPal"
        ],
        [
         58,
         82,
         "2024-12-29",
         "18:50:10",
         "pending",
         "PayPal"
        ],
        [
         59,
         91,
         "2024-12-18",
         "19:20:40",
         "failed",
         "Bank Transfer"
        ],
        [
         60,
         93,
         "2024-12-23",
         "11:10:05",
         "success",
         "PayPal"
        ],
        [
         61,
         95,
         "2024-12-29",
         "13:15:15",
         "pending",
         "Bank Transfer"
        ],
        [
         62,
         96,
         "2024-12-03",
         "15:25:45",
         "success",
         "PayPal"
        ],
        [
         63,
         97,
         "2024-12-08",
         "12:10:35",
         "failed",
         "Bank Transfer"
        ],
        [
         65,
         2,
         "2025-01-19",
         "05:05:13",
         "pending",
         "PayPal"
        ],
        [
         66,
         3,
         "2025-01-08",
         "23:45:00",
         "failed",
         "Bank Transfer"
        ],
        [
         67,
         4,
         "2025-01-05",
         "10:49:26",
         "success",
         "Bank Transfer"
        ],
        [
         68,
         8,
         "2025-01-02",
         "16:11:15",
         "pending",
         "PayPal"
        ],
        [
         69,
         14,
         "2025-01-01",
         "22:22:26",
         "failed",
         "PayPal"
        ],
        [
         70,
         18,
         "2025-01-22",
         "23:12:08",
         "success",
         "Credit Card"
        ],
        [
         71,
         22,
         "2025-01-01",
         "18:49:19",
         "success",
         "PayPal"
        ],
        [
         72,
         26,
         "2025-01-05",
         "22:01:25",
         "pending",
         "Bank Transfer"
        ],
        [
         73,
         29,
         "2025-01-18",
         "05:05:04",
         "failed",
         "Bank Transfer"
        ],
        [
         74,
         34,
         "2025-01-12",
         "11:30:15",
         "success",
         "Credit Card"
        ],
        [
         75,
         36,
         "2025-01-16",
         "23:15:43",
         "pending",
         "PayPal"
        ],
        [
         76,
         40,
         "2025-01-08",
         "13:22:51",
         "failed",
         "Bank Transfer"
        ],
        [
         77,
         45,
         "2025-01-03",
         "15:10:25",
         "success",
         "PayPal"
        ],
        [
         78,
         47,
         "2025-01-11",
         "20:20:20",
         "success",
         "Bank Transfer"
        ],
        [
         79,
         50,
         "2025-01-17",
         "12:30:00",
         "pending",
         "Bank Transfer"
        ],
        [
         80,
         53,
         "2025-01-15",
         "07:40:19",
         "failed",
         "Credit Card"
        ],
        [
         81,
         58,
         "2025-01-04",
         "18:49:33",
         "success",
         "PayPal"
        ],
        [
         82,
         60,
         "2025-01-20",
         "14:10:25",
         "pending",
         "Bank Transfer"
        ],
        [
         83,
         65,
         "2025-01-06",
         "20:30:10",
         "failed",
         "PayPal"
        ],
        [
         84,
         67,
         "2025-01-14",
         "16:00:00",
         "success",
         "Bank Transfer"
        ],
        [
         85,
         71,
         "2025-01-07",
         "19:15:15",
         "pending",
         "Credit Card"
        ],
        [
         86,
         75,
         "2025-01-21",
         "12:50:30",
         "success",
         "PayPal"
        ],
        [
         87,
         80,
         "2025-01-19",
         "09:40:40",
         "failed",
         "PayPal"
        ],
        [
         88,
         82,
         "2025-01-10",
         "08:20:00",
         "success",
         "Credit Card"
        ],
        [
         89,
         85,
         "2025-01-16",
         "15:50:45",
         "pending",
         "Bank Transfer"
        ],
        [
         90,
         90,
         "2025-01-22",
         "21:00:15",
         "success",
         "Bank Transfer"
        ],
        [
         91,
         92,
         "2025-01-03",
         "16:20:25",
         "failed",
         "PayPal"
        ]
       ],
       "datasetInfos": [
        {
         "name": "_sqldf",
         "schema": {
          "fields": [
           {
            "metadata": {},
            "name": "payment_id",
            "nullable": true,
            "type": "integer"
           },
           {
            "metadata": {},
            "name": "order_id",
            "nullable": true,
            "type": "integer"
           },
           {
            "metadata": {},
            "name": "payment_date",
            "nullable": true,
            "type": "string"
           },
           {
            "metadata": {},
            "name": "payment_time",
            "nullable": true,
            "type": "string"
           },
           {
            "metadata": {},
            "name": "payment_status",
            "nullable": true,
            "type": "string"
           },
           {
            "metadata": {},
            "name": "payment_method",
            "nullable": true,
            "type": "string"
           }
          ],
          "type": "struct"
         },
         "tableIdentifier": null,
         "typeStr": "pyspark.sql.connect.dataframe.DataFrame"
        }
       ],
       "dbfsResultPath": null,
       "isJsonSchema": true,
       "metadata": {
        "createTempViewForImplicitDf": true,
        "dataframeName": "_sqldf",
        "executionCount": 14
       },
       "overflow": false,
       "plotOptions": {
        "customPlotOptions": {},
        "displayType": "table",
        "pivotAggregation": null,
        "pivotColumns": null,
        "xColumns": null,
        "yColumns": null
       },
       "removedWidgets": [],
       "schema": [
        {
         "metadata": "{}",
         "name": "payment_id",
         "type": "\"integer\""
        },
        {
         "metadata": "{}",
         "name": "order_id",
         "type": "\"integer\""
        },
        {
         "metadata": "{}",
         "name": "payment_date",
         "type": "\"string\""
        },
        {
         "metadata": "{}",
         "name": "payment_time",
         "type": "\"string\""
        },
        {
         "metadata": "{}",
         "name": "payment_status",
         "type": "\"string\""
        },
        {
         "metadata": "{}",
         "name": "payment_method",
         "type": "\"string\""
        }
       ],
       "type": "table"
      }
     },
     "output_type": "display_data"
    }
   ],
   "source": [
    "SELECT * FROM gizmobox.silver.payments;"
   ]
  }
 ],
 "metadata": {
  "application/vnd.databricks.v1+notebook": {
   "computePreferences": null,
   "dashboards": [],
   "environmentMetadata": {
    "base_environment": "",
    "environment_version": "3"
   },
   "inputWidgetPreferences": null,
   "language": "sql",
   "notebookMetadata": {
    "pythonIndentUnit": 4
   },
   "notebookName": "11. Transform Payments Data",
   "widgets": {}
  },
  "language_info": {
   "name": "sql"
  }
 },
 "nbformat": 4,
 "nbformat_minor": 0
}