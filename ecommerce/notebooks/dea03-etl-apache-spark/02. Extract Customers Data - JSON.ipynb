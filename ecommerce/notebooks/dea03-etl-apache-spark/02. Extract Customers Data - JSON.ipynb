{
 "cells": [
  {
   "cell_type": "markdown",
   "metadata": {
    "application/vnd.databricks.v1+cell": {
     "cellMetadata": {},
     "inputWidgets": {},
     "nuid": "3942950e-cebb-4874-9cf5-d7f274244c55",
     "showTitle": false,
     "tableResultSettingsMap": {},
     "title": ""
    }
   },
   "source": [
    "## Extract Data From the Customers JSON File\n",
    "1. Query Single File\n",
    "1. Query List of Files using wildcard Characters\n",
    "1. Query all the files in a Folder\n",
    "1. Select File Metadata\n",
    "1. Register Files in Unity Catalog using Views\n",
    "1. Create Temporary View\n",
    "1. Create Global Temporary View"
   ]
  },
  {
   "cell_type": "code",
   "execution_count": 25,
   "metadata": {
    "application/vnd.databricks.v1+cell": {
     "cellMetadata": {
      "byteLimit": 2048000,
      "rowLimit": 10000
     },
     "inputWidgets": {},
     "nuid": "1143f172-82d4-48c9-bd70-de39ac2eab85",
     "showTitle": false,
     "tableResultSettingsMap": {},
     "title": ""
    },
    "vscode": {
     "languageId": "sql"
    }
   },
   "outputs": [
    {
     "data": {
      "text/plain": [
       "[FileInfo(path='/Volumes/gizmobox/landing/operational_data/customers/customers_2024_10.json', name='customers_2024_10.json', size=4389, modificationTime=1756668668000),\n",
       " FileInfo(path='/Volumes/gizmobox/landing/operational_data/customers/customers_2024_11.json', name='customers_2024_11.json', size=3327, modificationTime=1756668668000),\n",
       " FileInfo(path='/Volumes/gizmobox/landing/operational_data/customers/customers_2024_12.json', name='customers_2024_12.json', size=3081, modificationTime=1756668667000),\n",
       " FileInfo(path='/Volumes/gizmobox/landing/operational_data/customers/customers_2025_01.json', name='customers_2025_01.json', size=2868, modificationTime=1756668667000)]"
      ]
     },
     "execution_count": 25,
     "metadata": {},
     "output_type": "execute_result"
    }
   ],
   "source": [
    "%fs ls /Volumes/gizmobox/landing/operational_data/customers/"
   ]
  },
  {
   "cell_type": "code",
   "execution_count": 27,
   "metadata": {
    "application/vnd.databricks.v1+cell": {
     "cellMetadata": {
      "byteLimit": 2048000,
      "implicitDf": true,
      "rowLimit": 10000
     },
     "inputWidgets": {},
     "nuid": "5a054c17-f053-4040-b304-d81ed82efd57",
     "showTitle": false,
     "tableResultSettingsMap": {},
     "title": ""
    },
    "vscode": {
     "languageId": "sql"
    }
   },
   "outputs": [
    {
     "ename": "SyntaxError",
     "evalue": "invalid syntax (3864661626.py, line 1)",
     "output_type": "error",
     "traceback": [
      "  \u001b[36mCell\u001b[39m\u001b[36m \u001b[39m\u001b[32mIn[27]\u001b[39m\u001b[32m, line 1\u001b[39m\n\u001b[31m    \u001b[39m\u001b[31mSELECT * FROM json.`/Volumes/gizmobox/landing/operational_data/customers/`\u001b[39m\n                  ^\n\u001b[31mSyntaxError\u001b[39m\u001b[31m:\u001b[39m invalid syntax\n"
     ]
    }
   ],
   "source": [
    "SELECT * FROM json.`/Volumes/gizmobox/landing/operational_data/customers/`"
   ]
  },
  {
   "cell_type": "code",
   "execution_count": 7,
   "metadata": {
    "application/vnd.databricks.v1+cell": {
     "cellMetadata": {
      "byteLimit": 2048000,
      "rowLimit": 10000
     },
     "inputWidgets": {},
     "nuid": "4fa9b006-fa90-48b5-afd0-f16c81add214",
     "showTitle": false,
     "tableResultSettingsMap": {},
     "title": ""
    },
    "vscode": {
     "languageId": "sql"
    }
   },
   "outputs": [
    {
     "ename": "SyntaxError",
     "evalue": "invalid syntax (2878873785.py, line 1)",
     "output_type": "error",
     "traceback": [
      "  \u001b[36mCell\u001b[39m\u001b[36m \u001b[39m\u001b[32mIn[7]\u001b[39m\u001b[32m, line 1\u001b[39m\n\u001b[31m    \u001b[39m\u001b[31mSELECT _metadata,\u001b[39m\n           ^\n\u001b[31mSyntaxError\u001b[39m\u001b[31m:\u001b[39m invalid syntax\n"
     ]
    }
   ],
   "source": [
    "SELECT _metadata,\n",
    "       * \n",
    "FROM json.`/Volumes/gizmobox/landing/operational_data/customers`"
   ]
  },
  {
   "cell_type": "code",
   "execution_count": 10,
   "metadata": {
    "application/vnd.databricks.v1+cell": {
     "cellMetadata": {
      "byteLimit": 2048000,
      "rowLimit": 10000
     },
     "inputWidgets": {},
     "nuid": "a147c05d-21f4-45f3-a68b-fc89f9920714",
     "showTitle": false,
     "tableResultSettingsMap": {
      "0": {
       "dataGridStateBlob": "{\"version\":1,\"tableState\":{\"columnPinning\":{\"left\":[\"#row_number#\"],\"right\":[]},\"columnSizing\":{},\"columnVisibility\":{}},\"settings\":{\"columns\":{}},\"syncTimestamp\":1756698471191}",
       "filterBlob": null,
       "queryPlanFiltersBlob": null,
       "tableResultIndex": 0
      }
     },
     "title": ""
    },
    "vscode": {
     "languageId": "sql"
    }
   },
   "outputs": [
    {
     "ename": "SyntaxError",
     "evalue": "invalid syntax (1478527793.py, line 1)",
     "output_type": "error",
     "traceback": [
      "  \u001b[36mCell\u001b[39m\u001b[36m \u001b[39m\u001b[32mIn[10]\u001b[39m\u001b[32m, line 1\u001b[39m\n\u001b[31m    \u001b[39m\u001b[31mSELECT _metadata.file_path AS file_path,\u001b[39m\n           ^\n\u001b[31mSyntaxError\u001b[39m\u001b[31m:\u001b[39m invalid syntax\n"
     ]
    }
   ],
   "source": [
    "SELECT _metadata.file_path AS file_path,\n",
    "       * \n",
    "FROM json.`/Volumes/gizmobox/landing/operational_data/customers`"
   ]
  },
  {
   "cell_type": "code",
   "execution_count": 13,
   "metadata": {
    "application/vnd.databricks.v1+cell": {
     "cellMetadata": {
      "byteLimit": 2048000,
      "rowLimit": 10000
     },
     "inputWidgets": {},
     "nuid": "555e91c4-7978-412f-a446-36e9539a2fab",
     "showTitle": false,
     "tableResultSettingsMap": {},
     "title": ""
    },
    "vscode": {
     "languageId": "sql"
    }
   },
   "outputs": [
    {
     "ename": "SyntaxError",
     "evalue": "invalid syntax (1379931341.py, line 1)",
     "output_type": "error",
     "traceback": [
      "  \u001b[36mCell\u001b[39m\u001b[36m \u001b[39m\u001b[32mIn[13]\u001b[39m\u001b[32m, line 1\u001b[39m\n\u001b[31m    \u001b[39m\u001b[31mUSE CATALOG gizmobox;\u001b[39m\n        ^\n\u001b[31mSyntaxError\u001b[39m\u001b[31m:\u001b[39m invalid syntax\n"
     ]
    }
   ],
   "source": [
    "USE CATALOG gizmobox;\n",
    "USE SCHEMA bronze;\n",
    "\n",
    "CREATE OR REPLACE VIEW v_customers\n",
    "AS\n",
    "SELECT *,\n",
    "       _metadata.file_path AS file_path \n",
    "FROM json.`/Volumes/gizmobox/landing/operational_data/customers`"
   ]
  },
  {
   "cell_type": "code",
   "execution_count": 16,
   "metadata": {
    "application/vnd.databricks.v1+cell": {
     "cellMetadata": {
      "byteLimit": 2048000,
      "rowLimit": 10000
     },
     "inputWidgets": {},
     "nuid": "1f9c0c01-d751-47b4-a083-c6d6babbaba7",
     "showTitle": false,
     "tableResultSettingsMap": {},
     "title": ""
    },
    "vscode": {
     "languageId": "sql"
    }
   },
   "outputs": [
    {
     "ename": "SyntaxError",
     "evalue": "invalid syntax (469813472.py, line 1)",
     "output_type": "error",
     "traceback": [
      "  \u001b[36mCell\u001b[39m\u001b[36m \u001b[39m\u001b[32mIn[16]\u001b[39m\u001b[32m, line 1\u001b[39m\n\u001b[31m    \u001b[39m\u001b[31mCREATE OR REPLACE VIEW gizmobox.bronze.v_customers\u001b[39m\n           ^\n\u001b[31mSyntaxError\u001b[39m\u001b[31m:\u001b[39m invalid syntax\n"
     ]
    }
   ],
   "source": [
    "CREATE OR REPLACE VIEW gizmobox.bronze.v_customers\n",
    "AS\n",
    "SELECT *,\n",
    "       _metadata.file_path AS file_path \n",
    "FROM json.`/Volumes/gizmobox/landing/operational_data/customers`"
   ]
  },
  {
   "cell_type": "code",
   "execution_count": 22,
   "metadata": {
    "application/vnd.databricks.v1+cell": {
     "cellMetadata": {
      "byteLimit": 2048000,
      "rowLimit": 10000
     },
     "inputWidgets": {},
     "nuid": "9c7353f5-8fce-42b3-b089-185ede0103cc",
     "showTitle": false,
     "tableResultSettingsMap": {},
     "title": ""
    },
    "vscode": {
     "languageId": "sql"
    }
   },
   "outputs": [
    {
     "ename": "SyntaxError",
     "evalue": "invalid syntax (353236546.py, line 1)",
     "output_type": "error",
     "traceback": [
      "  \u001b[36mCell\u001b[39m\u001b[36m \u001b[39m\u001b[32mIn[22]\u001b[39m\u001b[32m, line 1\u001b[39m\n\u001b[31m    \u001b[39m\u001b[31mSELECT * FROM gizmobox.bronze.v_customers;\u001b[39m\n                  ^\n\u001b[31mSyntaxError\u001b[39m\u001b[31m:\u001b[39m invalid syntax\n"
     ]
    }
   ],
   "source": [
    "SELECT * FROM gizmobox.bronze.v_customers;"
   ]
  },
  {
   "cell_type": "code",
   "execution_count": 24,
   "metadata": {
    "application/vnd.databricks.v1+cell": {
     "cellMetadata": {
      "byteLimit": 2048000,
      "rowLimit": 10000
     },
     "inputWidgets": {},
     "nuid": "660310a2-5dfb-47d8-a900-4a868b29d1bb",
     "showTitle": false,
     "tableResultSettingsMap": {},
     "title": ""
    },
    "vscode": {
     "languageId": "sql"
    }
   },
   "outputs": [
    {
     "ename": "IndentationError",
     "evalue": "unindent does not match any outer indentation level (<tokenize>, line 5)",
     "output_type": "error",
     "traceback": [
      "  \u001b[36mFile \u001b[39m\u001b[32m<tokenize>:5\u001b[39m\n\u001b[31m    \u001b[39m\u001b[31mFROM json.`/Volumes/gizmobox/landing/operational_data/customers`\u001b[39m\n    ^\n\u001b[31mIndentationError\u001b[39m\u001b[31m:\u001b[39m unindent does not match any outer indentation level\n"
     ]
    }
   ],
   "source": [
    "CREATE OR REPLACE TEMPORARY VIEW tv_customers\n",
    "AS\n",
    "SELECT *,\n",
    "       _metadata.file_path AS file_path \n",
    "  FROM json.`/Volumes/gizmobox/landing/operational_data/customers`"
   ]
  },
  {
   "cell_type": "code",
   "execution_count": 0,
   "metadata": {
    "application/vnd.databricks.v1+cell": {
     "cellMetadata": {
      "byteLimit": 2048000,
      "rowLimit": 10000
     },
     "inputWidgets": {},
     "nuid": "d31ab6fb-12f3-4ec5-acc0-370ee7198762",
     "showTitle": false,
     "tableResultSettingsMap": {},
     "title": ""
    },
    "vscode": {
     "languageId": "sql"
    }
   },
   "outputs": [
    {
     "data": {
      "text/html": [
       "<style scoped>\n",
       "  .table-result-container {\n",
       "    max-height: 300px;\n",
       "    overflow: auto;\n",
       "  }\n",
       "  table, th, td {\n",
       "    border: 1px solid black;\n",
       "    border-collapse: collapse;\n",
       "  }\n",
       "  th, td {\n",
       "    padding: 5px;\n",
       "  }\n",
       "  th {\n",
       "    text-align: left;\n",
       "  }\n",
       "</style><div class='table-result-container'><table class='table-result'><thead style='background-color: white'><tr><th>created_timestamp</th><th>customer_id</th><th>customer_name</th><th>date_of_birth</th><th>email</th><th>member_since</th><th>telephone</th><th>file_path</th></tr></thead><tbody><tr><td>2024-10-17 16:12:27</td><td>9179</td><td>Richard Cox</td><td>1996-10-25</td><td>devon84@mail.com</td><td>2024-09-26</td><td>+1 6680703335</td><td>dbfs:/Volumes/gizmobox/landing/operational_data/customers/customers_2024_10.json</td></tr><tr><td>2024-10-01 00:50:29</td><td>4858</td><td>Carla Morton</td><td>2004-06-21</td><td>joseph88@mail.com</td><td>2024-09-15</td><td>+1 8616454195</td><td>dbfs:/Volumes/gizmobox/landing/operational_data/customers/customers_2024_10.json</td></tr><tr><td>2024-10-23 22:03:08</td><td>7207</td><td>Billy Scott</td><td>1997-03-17</td><td>christopher30@mail.com</td><td>2024-09-23</td><td>+1 5544387564</td><td>dbfs:/Volumes/gizmobox/landing/operational_data/customers/customers_2024_10.json</td></tr><tr><td>2024-10-12 06:02:27</td><td>8539</td><td>Lori Mason</td><td>2002-11-01</td><td>stephanie7@mail.com</td><td>2024-09-12</td><td>+1 0498301620</td><td>dbfs:/Volumes/gizmobox/landing/operational_data/customers/customers_2024_10.json</td></tr><tr><td>2024-10-24 13:03:13</td><td>9706</td><td>Jennifer Haas</td><td>2001-04-03</td><td>benjamin55@mail.com</td><td>2024-10-05</td><td>+1 4725460000</td><td>dbfs:/Volumes/gizmobox/landing/operational_data/customers/customers_2024_10.json</td></tr><tr><td>2024-10-08 22:49:25</td><td>9263</td><td>Joseph Keller</td><td>2003-02-11</td><td>null</td><td>2024-10-04</td><td>+1 3817867756</td><td>dbfs:/Volumes/gizmobox/landing/operational_data/customers/customers_2024_10.json</td></tr><tr><td>2024-10-06 19:55:52</td><td>5028</td><td>Jessica Harris</td><td>2004-04-19</td><td>null</td><td>2024-09-10</td><td>+1 8604009935</td><td>dbfs:/Volumes/gizmobox/landing/operational_data/customers/customers_2024_10.json</td></tr><tr><td>2024-10-18 23:24:52</td><td>9018</td><td>William Carter</td><td>2003-09-05</td><td>james70@gmail.com</td><td>2024-10-08</td><td>+1 1448753611</td><td>dbfs:/Volumes/gizmobox/landing/operational_data/customers/customers_2024_10.json</td></tr><tr><td>2024-10-21 13:20:26</td><td>8580</td><td>Shannon Austin</td><td>2002-03-22</td><td>john30@gmail.com</td><td>2024-10-07</td><td>+1 4594705629</td><td>dbfs:/Volumes/gizmobox/landing/operational_data/customers/customers_2024_10.json</td></tr><tr><td>2024-10-02 14:53:40</td><td>3409</td><td>Andrew Phillips</td><td>2003-04-17</td><td>peter73@yahoo.com</td><td>2024-09-30</td><td>+1 4079273853</td><td>dbfs:/Volumes/gizmobox/landing/operational_data/customers/customers_2024_10.json</td></tr><tr><td>2024-10-26 15:14:33</td><td>2344</td><td>Martin Thomas DDS</td><td>2002-05-01</td><td>billy42@outlook.com</td><td>2024-10-13</td><td>+1 0201457151</td><td>dbfs:/Volumes/gizmobox/landing/operational_data/customers/customers_2024_10.json</td></tr><tr><td>2024-10-15 02:48:29</td><td>5011</td><td>Rachel Thomas</td><td>2003-02-17</td><td>lauren59@yahoo.com</td><td>2024-09-24</td><td>+1 5437271621</td><td>dbfs:/Volumes/gizmobox/landing/operational_data/customers/customers_2024_10.json</td></tr><tr><td>2024-10-28 00:57:09</td><td>9247</td><td>Dr. Daniel Hall</td><td>2004-03-21</td><td>tamara30@gmail.com</td><td>2024-10-03</td><td>+1 7544137170</td><td>dbfs:/Volumes/gizmobox/landing/operational_data/customers/customers_2024_10.json</td></tr><tr><td>2024-10-22 05:52:57</td><td>6627</td><td>Candice Rosales</td><td>2004-04-03</td><td>amber79@example.org</td><td>2024-10-15</td><td>+1 4788451559</td><td>dbfs:/Volumes/gizmobox/landing/operational_data/customers/customers_2024_10.json</td></tr><tr><td>2024-10-06 19:55:52</td><td>5028</td><td>Jessica Harris</td><td>2004-04-19</td><td>null</td><td>2024-09-10</td><td>+1 8604009935</td><td>dbfs:/Volumes/gizmobox/landing/operational_data/customers/customers_2024_10.json</td></tr><tr><td>2024-10-08 03:30:53</td><td>5816</td><td>Amy Morales</td><td>1999-12-11</td><td>daniel12@hotmail.com</td><td>2024-09-17</td><td>+46 4407385044</td><td>dbfs:/Volumes/gizmobox/landing/operational_data/customers/customers_2024_10.json</td></tr><tr><td>2024-10-15 01:27:54</td><td>9247</td><td>Dr. Daniel Hall</td><td>2004-03-21</td><td>sheena11@alexander.com</td><td>2024-09-15</td><td>+46 7281991017</td><td>dbfs:/Volumes/gizmobox/landing/operational_data/customers/customers_2024_10.json</td></tr><tr><td>2024-10-09 18:54:00</td><td>3889</td><td>Jennifer Jackson</td><td>1995-10-30</td><td>null</td><td>2024-09-16</td><td>+68 2276996612</td><td>dbfs:/Volumes/gizmobox/landing/operational_data/customers/customers_2024_10.json</td></tr><tr><td>2024-10-10 16:53:44</td><td>9084</td><td>Olivia Lyons</td><td>1997-06-17</td><td>johnsonmichael@yahoo.com</td><td>2024-09-26</td><td>null</td><td>dbfs:/Volumes/gizmobox/landing/operational_data/customers/customers_2024_10.json</td></tr><tr><td>2024-10-19 11:53:44</td><td>null</td><td>John Smith</td><td>1998-01-19</td><td>john.smith@outlook.com</td><td>2024-07-16</td><td>+1 8762342456</td><td>dbfs:/Volumes/gizmobox/landing/operational_data/customers/customers_2024_10.json</td></tr><tr><td>2024-11-14 20:41:18</td><td>3892</td><td>Jason Bridges</td><td>2004-01-01</td><td>nicole29@gmail.com</td><td>2024-10-29</td><td>+1 8220011928</td><td>dbfs:/Volumes/gizmobox/landing/operational_data/customers/customers_2024_11.json</td></tr><tr><td>2024-11-16 01:47:25</td><td>1987</td><td>Amanda Alvarez</td><td>1995-10-11</td><td>eric40@outlook.com</td><td>2024-10-27</td><td>+1 9673066300</td><td>dbfs:/Volumes/gizmobox/landing/operational_data/customers/customers_2024_11.json</td></tr><tr><td>2024-11-19 14:03:09</td><td>5816</td><td>Amy Morales</td><td>1999-12-11</td><td>katelyn82@example.org</td><td>2024-11-04</td><td>+1 4140982719</td><td>dbfs:/Volumes/gizmobox/landing/operational_data/customers/customers_2024_11.json</td></tr><tr><td>2024-11-09 14:52:31</td><td>5204</td><td>Jennifer Nichols DDS</td><td>1997-02-17</td><td>joseph8@example.org</td><td>2024-11-04</td><td>+1 0383356328</td><td>dbfs:/Volumes/gizmobox/landing/operational_data/customers/customers_2024_11.json</td></tr><tr><td>2024-11-23 18:16:18</td><td>4468</td><td>Mrs. Roberta Salas PhD</td><td>1997-05-10</td><td>null</td><td>2024-10-25</td><td>+1 4679955118</td><td>dbfs:/Volumes/gizmobox/landing/operational_data/customers/customers_2024_11.json</td></tr><tr><td>2024-11-14 16:41:14</td><td>4761</td><td>Timothy Smith</td><td>1996-11-07</td><td>joshua40@yahoo.com</td><td>2024-11-03</td><td>+1 9450920858</td><td>dbfs:/Volumes/gizmobox/landing/operational_data/customers/customers_2024_11.json</td></tr><tr><td>2024-11-07 22:20:00</td><td>2703</td><td>Anthony Miller</td><td>1997-11-02</td><td>null</td><td>2024-11-05</td><td>+1 1586310752</td><td>dbfs:/Volumes/gizmobox/landing/operational_data/customers/customers_2024_11.json</td></tr><tr><td>2024-11-12 12:57:38</td><td>4914</td><td>Samantha Johnson</td><td>1997-03-26</td><td>theresa14@mail.com</td><td>2024-10-13</td><td>+1 4095003738</td><td>dbfs:/Volumes/gizmobox/landing/operational_data/customers/customers_2024_11.json</td></tr><tr><td>2024-11-08 02:26:42</td><td>7295</td><td>Lauren Reed</td><td>2001-08-11</td><td>jeanette48@example.org</td><td>2024-10-10</td><td>+1 0104088765</td><td>dbfs:/Volumes/gizmobox/landing/operational_data/customers/customers_2024_11.json</td></tr><tr><td>2024-11-09 20:24:30</td><td>7803</td><td>Katherine Lee</td><td>2000-03-09</td><td>jennifer85@mail.com</td><td>2024-10-27</td><td>+1 3119886866</td><td>dbfs:/Volumes/gizmobox/landing/operational_data/customers/customers_2024_11.json</td></tr><tr><td>2024-11-24 11:14:03</td><td>3712</td><td>Robin Chavez</td><td>1997-03-16</td><td>lisa15@gmail.com</td><td>2024-11-24</td><td>+1 2654756919</td><td>dbfs:/Volumes/gizmobox/landing/operational_data/customers/customers_2024_11.json</td></tr><tr><td>2024-11-23 11:14:03</td><td>null</td><td>Andrew Taylor</td><td>1996-01-11</td><td>andrew.taylor@gmail.com</td><td>2024-11-21</td><td>+1 1235447333</td><td>dbfs:/Volumes/gizmobox/landing/operational_data/customers/customers_2024_11.json</td></tr><tr><td>2024-11-03 17:22:56</td><td>2054</td><td>Alan Price</td><td>1998-08-25</td><td>connor40@yahoo.com</td><td>2024-10-14</td><td>+1 3745642936</td><td>dbfs:/Volumes/gizmobox/landing/operational_data/customers/customers_2024_11.json</td></tr><tr><td>2024-11-09 07:14:17</td><td>7123</td><td>Edgar Stevens</td><td>2003-02-15</td><td>kevin68@example.org</td><td>2024-10-27</td><td>+1 0793189847</td><td>dbfs:/Volumes/gizmobox/landing/operational_data/customers/customers_2024_11.json</td></tr><tr><td>2024-11-27 12:56:20</td><td>4996</td><td>Brandon Reed</td><td>1997-05-11</td><td>handerson@barker.info</td><td>2024-11-06</td><td>+43 2750540511</td><td>dbfs:/Volumes/gizmobox/landing/operational_data/customers/customers_2024_11.json</td></tr><tr><td>2024-12-25 11:06:35</td><td>6973</td><td>Tracy Cole</td><td>1998-07-24</td><td>tony46@mail.com</td><td>2024-12-16</td><td>+1 5515836612</td><td>dbfs:/Volumes/gizmobox/landing/operational_data/customers/customers_2024_12.json</td></tr><tr><td>2024-12-26 09:29:16</td><td>3532</td><td>Holly Wilkinson</td><td>2003-03-06</td><td>lindsey61@yahoo.com</td><td>2024-12-22</td><td>null</td><td>dbfs:/Volumes/gizmobox/landing/operational_data/customers/customers_2024_12.json</td></tr><tr><td>2024-12-16 16:54:10</td><td>1211</td><td>Jeremy Ball</td><td>2002-03-26</td><td>megan86@yahoo.com</td><td>2024-12-01</td><td>+1 5793543882</td><td>dbfs:/Volumes/gizmobox/landing/operational_data/customers/customers_2024_12.json</td></tr><tr><td>2024-12-07 18:09:58</td><td>7829</td><td>Daniel Black</td><td>1998-04-13</td><td>sandra54@example.org</td><td>2024-11-16</td><td>+1 0933795082</td><td>dbfs:/Volumes/gizmobox/landing/operational_data/customers/customers_2024_12.json</td></tr><tr><td>2024-12-24 14:46:04</td><td>6384</td><td>Jennifer Carrillo</td><td>1994-12-18</td><td>james34@yahoo.com</td><td>2024-12-22</td><td>+1 5592179843</td><td>dbfs:/Volumes/gizmobox/landing/operational_data/customers/customers_2024_12.json</td></tr><tr><td>2024-12-21 07:08:28</td><td>2639</td><td>Jessica Deleon</td><td>1995-06-04</td><td>jeremiah96@gmail.com</td><td>2024-11-22</td><td>+1 1304435999</td><td>dbfs:/Volumes/gizmobox/landing/operational_data/customers/customers_2024_12.json</td></tr><tr><td>2024-12-20 12:32:29</td><td>3084</td><td>Tyler Simmons</td><td>2003-02-20</td><td>brian94@mail.com</td><td>2024-12-02</td><td>null</td><td>dbfs:/Volumes/gizmobox/landing/operational_data/customers/customers_2024_12.json</td></tr><tr><td>2024-12-22 23:00:48</td><td>7997</td><td>Patricia Abbott</td><td>1997-07-31</td><td>angela97@mail.com</td><td>2024-11-28</td><td>+1 4053366448</td><td>dbfs:/Volumes/gizmobox/landing/operational_data/customers/customers_2024_12.json</td></tr><tr><td>2024-12-05 08:58:52</td><td>9687</td><td>Micheal Perez MD</td><td>2002-07-18</td><td>christopher65@example.org</td><td>2024-11-22</td><td>+1 3079718622</td><td>dbfs:/Volumes/gizmobox/landing/operational_data/customers/customers_2024_12.json</td></tr><tr><td>2024-12-17 15:05:15</td><td>2141</td><td>Zachary Lopez</td><td>2002-09-20</td><td>glenn87@example.org</td><td>2024-12-14</td><td>+1 7431190983</td><td>dbfs:/Volumes/gizmobox/landing/operational_data/customers/customers_2024_12.json</td></tr><tr><td>2024-12-04 13:16:03</td><td>5592</td><td>Richard Neal</td><td>1995-11-05</td><td>eric52@gmail.com</td><td>2024-11-15</td><td>+1 4425187397</td><td>dbfs:/Volumes/gizmobox/landing/operational_data/customers/customers_2024_12.json</td></tr><tr><td>2024-12-13 14:23:27</td><td>6406</td><td>Christopher Ritter</td><td>2004-07-12</td><td>null</td><td>2024-11-24</td><td>+1 1752511241</td><td>dbfs:/Volumes/gizmobox/landing/operational_data/customers/customers_2024_12.json</td></tr><tr><td>2024-12-16 16:54:10</td><td>1211</td><td>Jeremy Ball</td><td>2002-03-26</td><td>megan86@yahoo.com</td><td>2024-12-01</td><td>+1 5793543882</td><td>dbfs:/Volumes/gizmobox/landing/operational_data/customers/customers_2024_12.json</td></tr><tr><td>2024-12-22 23:00:48</td><td>7997</td><td>Patricia Abbott</td><td>1997-07-31</td><td>angela97@mail.com</td><td>2024-11-28</td><td>+1 4053366448</td><td>dbfs:/Volumes/gizmobox/landing/operational_data/customers/customers_2024_12.json</td></tr><tr><td>2025-01-05 17:29:34</td><td>7007</td><td>Joe Castaneda</td><td>1999-04-27</td><td>michael34@mail.com</td><td>2024-12-31</td><td>+1 1767970338</td><td>dbfs:/Volumes/gizmobox/landing/operational_data/customers/customers_2025_01.json</td></tr><tr><td>2025-01-17 15:59:39</td><td>5953</td><td>Kevin Harris</td><td>2003-01-23</td><td>timothy99@mail.com</td><td>2024-12-31</td><td>+1 6517763640</td><td>dbfs:/Volumes/gizmobox/landing/operational_data/customers/customers_2025_01.json</td></tr><tr><td>2025-01-12 20:13:31</td><td>4996</td><td>Brandon Reed</td><td>1997-05-11</td><td>stacey71@yahoo.com</td><td>2024-12-13</td><td>null</td><td>dbfs:/Volumes/gizmobox/landing/operational_data/customers/customers_2025_01.json</td></tr><tr><td>2025-01-14 13:30:57</td><td>9605</td><td>Tiffany Rocha</td><td>2003-04-25</td><td>michael82@yahoo.com</td><td>2024-12-22</td><td>+1 6232811506</td><td>dbfs:/Volumes/gizmobox/landing/operational_data/customers/customers_2025_01.json</td></tr><tr><td>2025-01-16 21:17:22</td><td>8845</td><td>Joseph Robbins</td><td>1997-04-04</td><td>derek53@yahoo.com</td><td>2025-01-12</td><td>+1 9513893820</td><td>dbfs:/Volumes/gizmobox/landing/operational_data/customers/customers_2025_01.json</td></tr><tr><td>2025-01-26 09:46:03</td><td>4973</td><td>Daniel Thompson</td><td>1999-07-17</td><td>connor32@example.org</td><td>2024-12-27</td><td>+1 5823046206</td><td>dbfs:/Volumes/gizmobox/landing/operational_data/customers/customers_2025_01.json</td></tr><tr><td>2025-01-25 13:28:31</td><td>3889</td><td>Jennifer Jackson</td><td>1995-10-30</td><td>catherine77@example.org</td><td>2025-01-07</td><td>+1 5932456755</td><td>dbfs:/Volumes/gizmobox/landing/operational_data/customers/customers_2025_01.json</td></tr><tr><td>2025-01-14 18:31:28</td><td>6167</td><td>Leslie Smith</td><td>2001-10-28</td><td>angela16@mail.com</td><td>2024-12-16</td><td>+1 2978446880</td><td>dbfs:/Volumes/gizmobox/landing/operational_data/customers/customers_2025_01.json</td></tr><tr><td>2025-01-17 07:50:48</td><td>3295</td><td>Drew Hanson</td><td>1996-11-21</td><td>cathy31@gmail.com</td><td>2025-01-01</td><td>+1 6521792889</td><td>dbfs:/Volumes/gizmobox/landing/operational_data/customers/customers_2025_01.json</td></tr><tr><td>2025-01-03 03:28:34</td><td>9084</td><td>Olivia Lyons</td><td>1997-06-17</td><td>patty47@outlook.com</td><td>2024-12-16</td><td>+1 2909899135</td><td>dbfs:/Volumes/gizmobox/landing/operational_data/customers/customers_2025_01.json</td></tr><tr><td>2025-01-23 02:07:26</td><td>9150</td><td>Alison Davis</td><td>2004-01-17</td><td>jacob31@yahoo.com</td><td>2024-12-26</td><td>+1 7119851149</td><td>dbfs:/Volumes/gizmobox/landing/operational_data/customers/customers_2025_01.json</td></tr><tr><td>2025-01-14 13:30:57</td><td>9605</td><td>Tiffany Rocha</td><td>2003-04-25</td><td>michael82@yahoo.com</td><td>2024-12-22</td><td>+1 6232811506</td><td>dbfs:/Volumes/gizmobox/landing/operational_data/customers/customers_2025_01.json</td></tr><tr><td>2025-01-12 20:13:31</td><td>4996</td><td>Brandon Reed</td><td>1997-05-11</td><td>stacey71@yahoo.com</td><td>2024-12-13</td><td>null</td><td>dbfs:/Volumes/gizmobox/landing/operational_data/customers/customers_2025_01.json</td></tr></tbody></table></div>"
      ]
     },
     "metadata": {
      "application/vnd.databricks.v1+output": {
       "addedWidgets": {},
       "aggData": [],
       "aggError": "",
       "aggOverflow": false,
       "aggSchema": [],
       "aggSeriesLimitReached": false,
       "aggType": "",
       "arguments": {},
       "columnCustomDisplayInfos": {},
       "data": [
        [
         "2024-10-17 16:12:27",
         9179,
         "Richard Cox",
         "1996-10-25",
         "devon84@mail.com",
         "2024-09-26",
         "+1 6680703335",
         "dbfs:/Volumes/gizmobox/landing/operational_data/customers/customers_2024_10.json"
        ],
        [
         "2024-10-01 00:50:29",
         4858,
         "Carla Morton",
         "2004-06-21",
         "joseph88@mail.com",
         "2024-09-15",
         "+1 8616454195",
         "dbfs:/Volumes/gizmobox/landing/operational_data/customers/customers_2024_10.json"
        ],
        [
         "2024-10-23 22:03:08",
         7207,
         "Billy Scott",
         "1997-03-17",
         "christopher30@mail.com",
         "2024-09-23",
         "+1 5544387564",
         "dbfs:/Volumes/gizmobox/landing/operational_data/customers/customers_2024_10.json"
        ],
        [
         "2024-10-12 06:02:27",
         8539,
         "Lori Mason",
         "2002-11-01",
         "stephanie7@mail.com",
         "2024-09-12",
         "+1 0498301620",
         "dbfs:/Volumes/gizmobox/landing/operational_data/customers/customers_2024_10.json"
        ],
        [
         "2024-10-24 13:03:13",
         9706,
         "Jennifer Haas",
         "2001-04-03",
         "benjamin55@mail.com",
         "2024-10-05",
         "+1 4725460000",
         "dbfs:/Volumes/gizmobox/landing/operational_data/customers/customers_2024_10.json"
        ],
        [
         "2024-10-08 22:49:25",
         9263,
         "Joseph Keller",
         "2003-02-11",
         null,
         "2024-10-04",
         "+1 3817867756",
         "dbfs:/Volumes/gizmobox/landing/operational_data/customers/customers_2024_10.json"
        ],
        [
         "2024-10-06 19:55:52",
         5028,
         "Jessica Harris",
         "2004-04-19",
         null,
         "2024-09-10",
         "+1 8604009935",
         "dbfs:/Volumes/gizmobox/landing/operational_data/customers/customers_2024_10.json"
        ],
        [
         "2024-10-18 23:24:52",
         9018,
         "William Carter",
         "2003-09-05",
         "james70@gmail.com",
         "2024-10-08",
         "+1 1448753611",
         "dbfs:/Volumes/gizmobox/landing/operational_data/customers/customers_2024_10.json"
        ],
        [
         "2024-10-21 13:20:26",
         8580,
         "Shannon Austin",
         "2002-03-22",
         "john30@gmail.com",
         "2024-10-07",
         "+1 4594705629",
         "dbfs:/Volumes/gizmobox/landing/operational_data/customers/customers_2024_10.json"
        ],
        [
         "2024-10-02 14:53:40",
         3409,
         "Andrew Phillips",
         "2003-04-17",
         "peter73@yahoo.com",
         "2024-09-30",
         "+1 4079273853",
         "dbfs:/Volumes/gizmobox/landing/operational_data/customers/customers_2024_10.json"
        ],
        [
         "2024-10-26 15:14:33",
         2344,
         "Martin Thomas DDS",
         "2002-05-01",
         "billy42@outlook.com",
         "2024-10-13",
         "+1 0201457151",
         "dbfs:/Volumes/gizmobox/landing/operational_data/customers/customers_2024_10.json"
        ],
        [
         "2024-10-15 02:48:29",
         5011,
         "Rachel Thomas",
         "2003-02-17",
         "lauren59@yahoo.com",
         "2024-09-24",
         "+1 5437271621",
         "dbfs:/Volumes/gizmobox/landing/operational_data/customers/customers_2024_10.json"
        ],
        [
         "2024-10-28 00:57:09",
         9247,
         "Dr. Daniel Hall",
         "2004-03-21",
         "tamara30@gmail.com",
         "2024-10-03",
         "+1 7544137170",
         "dbfs:/Volumes/gizmobox/landing/operational_data/customers/customers_2024_10.json"
        ],
        [
         "2024-10-22 05:52:57",
         6627,
         "Candice Rosales",
         "2004-04-03",
         "amber79@example.org",
         "2024-10-15",
         "+1 4788451559",
         "dbfs:/Volumes/gizmobox/landing/operational_data/customers/customers_2024_10.json"
        ],
        [
         "2024-10-06 19:55:52",
         5028,
         "Jessica Harris",
         "2004-04-19",
         null,
         "2024-09-10",
         "+1 8604009935",
         "dbfs:/Volumes/gizmobox/landing/operational_data/customers/customers_2024_10.json"
        ],
        [
         "2024-10-08 03:30:53",
         5816,
         "Amy Morales",
         "1999-12-11",
         "daniel12@hotmail.com",
         "2024-09-17",
         "+46 4407385044",
         "dbfs:/Volumes/gizmobox/landing/operational_data/customers/customers_2024_10.json"
        ],
        [
         "2024-10-15 01:27:54",
         9247,
         "Dr. Daniel Hall",
         "2004-03-21",
         "sheena11@alexander.com",
         "2024-09-15",
         "+46 7281991017",
         "dbfs:/Volumes/gizmobox/landing/operational_data/customers/customers_2024_10.json"
        ],
        [
         "2024-10-09 18:54:00",
         3889,
         "Jennifer Jackson",
         "1995-10-30",
         null,
         "2024-09-16",
         "+68 2276996612",
         "dbfs:/Volumes/gizmobox/landing/operational_data/customers/customers_2024_10.json"
        ],
        [
         "2024-10-10 16:53:44",
         9084,
         "Olivia Lyons",
         "1997-06-17",
         "johnsonmichael@yahoo.com",
         "2024-09-26",
         null,
         "dbfs:/Volumes/gizmobox/landing/operational_data/customers/customers_2024_10.json"
        ],
        [
         "2024-10-19 11:53:44",
         null,
         "John Smith",
         "1998-01-19",
         "john.smith@outlook.com",
         "2024-07-16",
         "+1 8762342456",
         "dbfs:/Volumes/gizmobox/landing/operational_data/customers/customers_2024_10.json"
        ],
        [
         "2024-11-14 20:41:18",
         3892,
         "Jason Bridges",
         "2004-01-01",
         "nicole29@gmail.com",
         "2024-10-29",
         "+1 8220011928",
         "dbfs:/Volumes/gizmobox/landing/operational_data/customers/customers_2024_11.json"
        ],
        [
         "2024-11-16 01:47:25",
         1987,
         "Amanda Alvarez",
         "1995-10-11",
         "eric40@outlook.com",
         "2024-10-27",
         "+1 9673066300",
         "dbfs:/Volumes/gizmobox/landing/operational_data/customers/customers_2024_11.json"
        ],
        [
         "2024-11-19 14:03:09",
         5816,
         "Amy Morales",
         "1999-12-11",
         "katelyn82@example.org",
         "2024-11-04",
         "+1 4140982719",
         "dbfs:/Volumes/gizmobox/landing/operational_data/customers/customers_2024_11.json"
        ],
        [
         "2024-11-09 14:52:31",
         5204,
         "Jennifer Nichols DDS",
         "1997-02-17",
         "joseph8@example.org",
         "2024-11-04",
         "+1 0383356328",
         "dbfs:/Volumes/gizmobox/landing/operational_data/customers/customers_2024_11.json"
        ],
        [
         "2024-11-23 18:16:18",
         4468,
         "Mrs. Roberta Salas PhD",
         "1997-05-10",
         null,
         "2024-10-25",
         "+1 4679955118",
         "dbfs:/Volumes/gizmobox/landing/operational_data/customers/customers_2024_11.json"
        ],
        [
         "2024-11-14 16:41:14",
         4761,
         "Timothy Smith",
         "1996-11-07",
         "joshua40@yahoo.com",
         "2024-11-03",
         "+1 9450920858",
         "dbfs:/Volumes/gizmobox/landing/operational_data/customers/customers_2024_11.json"
        ],
        [
         "2024-11-07 22:20:00",
         2703,
         "Anthony Miller",
         "1997-11-02",
         null,
         "2024-11-05",
         "+1 1586310752",
         "dbfs:/Volumes/gizmobox/landing/operational_data/customers/customers_2024_11.json"
        ],
        [
         "2024-11-12 12:57:38",
         4914,
         "Samantha Johnson",
         "1997-03-26",
         "theresa14@mail.com",
         "2024-10-13",
         "+1 4095003738",
         "dbfs:/Volumes/gizmobox/landing/operational_data/customers/customers_2024_11.json"
        ],
        [
         "2024-11-08 02:26:42",
         7295,
         "Lauren Reed",
         "2001-08-11",
         "jeanette48@example.org",
         "2024-10-10",
         "+1 0104088765",
         "dbfs:/Volumes/gizmobox/landing/operational_data/customers/customers_2024_11.json"
        ],
        [
         "2024-11-09 20:24:30",
         7803,
         "Katherine Lee",
         "2000-03-09",
         "jennifer85@mail.com",
         "2024-10-27",
         "+1 3119886866",
         "dbfs:/Volumes/gizmobox/landing/operational_data/customers/customers_2024_11.json"
        ],
        [
         "2024-11-24 11:14:03",
         3712,
         "Robin Chavez",
         "1997-03-16",
         "lisa15@gmail.com",
         "2024-11-24",
         "+1 2654756919",
         "dbfs:/Volumes/gizmobox/landing/operational_data/customers/customers_2024_11.json"
        ],
        [
         "2024-11-23 11:14:03",
         null,
         "Andrew Taylor",
         "1996-01-11",
         "andrew.taylor@gmail.com",
         "2024-11-21",
         "+1 1235447333",
         "dbfs:/Volumes/gizmobox/landing/operational_data/customers/customers_2024_11.json"
        ],
        [
         "2024-11-03 17:22:56",
         2054,
         "Alan Price",
         "1998-08-25",
         "connor40@yahoo.com",
         "2024-10-14",
         "+1 3745642936",
         "dbfs:/Volumes/gizmobox/landing/operational_data/customers/customers_2024_11.json"
        ],
        [
         "2024-11-09 07:14:17",
         7123,
         "Edgar Stevens",
         "2003-02-15",
         "kevin68@example.org",
         "2024-10-27",
         "+1 0793189847",
         "dbfs:/Volumes/gizmobox/landing/operational_data/customers/customers_2024_11.json"
        ],
        [
         "2024-11-27 12:56:20",
         4996,
         "Brandon Reed",
         "1997-05-11",
         "handerson@barker.info",
         "2024-11-06",
         "+43 2750540511",
         "dbfs:/Volumes/gizmobox/landing/operational_data/customers/customers_2024_11.json"
        ],
        [
         "2024-12-25 11:06:35",
         6973,
         "Tracy Cole",
         "1998-07-24",
         "tony46@mail.com",
         "2024-12-16",
         "+1 5515836612",
         "dbfs:/Volumes/gizmobox/landing/operational_data/customers/customers_2024_12.json"
        ],
        [
         "2024-12-26 09:29:16",
         3532,
         "Holly Wilkinson",
         "2003-03-06",
         "lindsey61@yahoo.com",
         "2024-12-22",
         null,
         "dbfs:/Volumes/gizmobox/landing/operational_data/customers/customers_2024_12.json"
        ],
        [
         "2024-12-16 16:54:10",
         1211,
         "Jeremy Ball",
         "2002-03-26",
         "megan86@yahoo.com",
         "2024-12-01",
         "+1 5793543882",
         "dbfs:/Volumes/gizmobox/landing/operational_data/customers/customers_2024_12.json"
        ],
        [
         "2024-12-07 18:09:58",
         7829,
         "Daniel Black",
         "1998-04-13",
         "sandra54@example.org",
         "2024-11-16",
         "+1 0933795082",
         "dbfs:/Volumes/gizmobox/landing/operational_data/customers/customers_2024_12.json"
        ],
        [
         "2024-12-24 14:46:04",
         6384,
         "Jennifer Carrillo",
         "1994-12-18",
         "james34@yahoo.com",
         "2024-12-22",
         "+1 5592179843",
         "dbfs:/Volumes/gizmobox/landing/operational_data/customers/customers_2024_12.json"
        ],
        [
         "2024-12-21 07:08:28",
         2639,
         "Jessica Deleon",
         "1995-06-04",
         "jeremiah96@gmail.com",
         "2024-11-22",
         "+1 1304435999",
         "dbfs:/Volumes/gizmobox/landing/operational_data/customers/customers_2024_12.json"
        ],
        [
         "2024-12-20 12:32:29",
         3084,
         "Tyler Simmons",
         "2003-02-20",
         "brian94@mail.com",
         "2024-12-02",
         null,
         "dbfs:/Volumes/gizmobox/landing/operational_data/customers/customers_2024_12.json"
        ],
        [
         "2024-12-22 23:00:48",
         7997,
         "Patricia Abbott",
         "1997-07-31",
         "angela97@mail.com",
         "2024-11-28",
         "+1 4053366448",
         "dbfs:/Volumes/gizmobox/landing/operational_data/customers/customers_2024_12.json"
        ],
        [
         "2024-12-05 08:58:52",
         9687,
         "Micheal Perez MD",
         "2002-07-18",
         "christopher65@example.org",
         "2024-11-22",
         "+1 3079718622",
         "dbfs:/Volumes/gizmobox/landing/operational_data/customers/customers_2024_12.json"
        ],
        [
         "2024-12-17 15:05:15",
         2141,
         "Zachary Lopez",
         "2002-09-20",
         "glenn87@example.org",
         "2024-12-14",
         "+1 7431190983",
         "dbfs:/Volumes/gizmobox/landing/operational_data/customers/customers_2024_12.json"
        ],
        [
         "2024-12-04 13:16:03",
         5592,
         "Richard Neal",
         "1995-11-05",
         "eric52@gmail.com",
         "2024-11-15",
         "+1 4425187397",
         "dbfs:/Volumes/gizmobox/landing/operational_data/customers/customers_2024_12.json"
        ],
        [
         "2024-12-13 14:23:27",
         6406,
         "Christopher Ritter",
         "2004-07-12",
         null,
         "2024-11-24",
         "+1 1752511241",
         "dbfs:/Volumes/gizmobox/landing/operational_data/customers/customers_2024_12.json"
        ],
        [
         "2024-12-16 16:54:10",
         1211,
         "Jeremy Ball",
         "2002-03-26",
         "megan86@yahoo.com",
         "2024-12-01",
         "+1 5793543882",
         "dbfs:/Volumes/gizmobox/landing/operational_data/customers/customers_2024_12.json"
        ],
        [
         "2024-12-22 23:00:48",
         7997,
         "Patricia Abbott",
         "1997-07-31",
         "angela97@mail.com",
         "2024-11-28",
         "+1 4053366448",
         "dbfs:/Volumes/gizmobox/landing/operational_data/customers/customers_2024_12.json"
        ],
        [
         "2025-01-05 17:29:34",
         7007,
         "Joe Castaneda",
         "1999-04-27",
         "michael34@mail.com",
         "2024-12-31",
         "+1 1767970338",
         "dbfs:/Volumes/gizmobox/landing/operational_data/customers/customers_2025_01.json"
        ],
        [
         "2025-01-17 15:59:39",
         5953,
         "Kevin Harris",
         "2003-01-23",
         "timothy99@mail.com",
         "2024-12-31",
         "+1 6517763640",
         "dbfs:/Volumes/gizmobox/landing/operational_data/customers/customers_2025_01.json"
        ],
        [
         "2025-01-12 20:13:31",
         4996,
         "Brandon Reed",
         "1997-05-11",
         "stacey71@yahoo.com",
         "2024-12-13",
         null,
         "dbfs:/Volumes/gizmobox/landing/operational_data/customers/customers_2025_01.json"
        ],
        [
         "2025-01-14 13:30:57",
         9605,
         "Tiffany Rocha",
         "2003-04-25",
         "michael82@yahoo.com",
         "2024-12-22",
         "+1 6232811506",
         "dbfs:/Volumes/gizmobox/landing/operational_data/customers/customers_2025_01.json"
        ],
        [
         "2025-01-16 21:17:22",
         8845,
         "Joseph Robbins",
         "1997-04-04",
         "derek53@yahoo.com",
         "2025-01-12",
         "+1 9513893820",
         "dbfs:/Volumes/gizmobox/landing/operational_data/customers/customers_2025_01.json"
        ],
        [
         "2025-01-26 09:46:03",
         4973,
         "Daniel Thompson",
         "1999-07-17",
         "connor32@example.org",
         "2024-12-27",
         "+1 5823046206",
         "dbfs:/Volumes/gizmobox/landing/operational_data/customers/customers_2025_01.json"
        ],
        [
         "2025-01-25 13:28:31",
         3889,
         "Jennifer Jackson",
         "1995-10-30",
         "catherine77@example.org",
         "2025-01-07",
         "+1 5932456755",
         "dbfs:/Volumes/gizmobox/landing/operational_data/customers/customers_2025_01.json"
        ],
        [
         "2025-01-14 18:31:28",
         6167,
         "Leslie Smith",
         "2001-10-28",
         "angela16@mail.com",
         "2024-12-16",
         "+1 2978446880",
         "dbfs:/Volumes/gizmobox/landing/operational_data/customers/customers_2025_01.json"
        ],
        [
         "2025-01-17 07:50:48",
         3295,
         "Drew Hanson",
         "1996-11-21",
         "cathy31@gmail.com",
         "2025-01-01",
         "+1 6521792889",
         "dbfs:/Volumes/gizmobox/landing/operational_data/customers/customers_2025_01.json"
        ],
        [
         "2025-01-03 03:28:34",
         9084,
         "Olivia Lyons",
         "1997-06-17",
         "patty47@outlook.com",
         "2024-12-16",
         "+1 2909899135",
         "dbfs:/Volumes/gizmobox/landing/operational_data/customers/customers_2025_01.json"
        ],
        [
         "2025-01-23 02:07:26",
         9150,
         "Alison Davis",
         "2004-01-17",
         "jacob31@yahoo.com",
         "2024-12-26",
         "+1 7119851149",
         "dbfs:/Volumes/gizmobox/landing/operational_data/customers/customers_2025_01.json"
        ],
        [
         "2025-01-14 13:30:57",
         9605,
         "Tiffany Rocha",
         "2003-04-25",
         "michael82@yahoo.com",
         "2024-12-22",
         "+1 6232811506",
         "dbfs:/Volumes/gizmobox/landing/operational_data/customers/customers_2025_01.json"
        ],
        [
         "2025-01-12 20:13:31",
         4996,
         "Brandon Reed",
         "1997-05-11",
         "stacey71@yahoo.com",
         "2024-12-13",
         null,
         "dbfs:/Volumes/gizmobox/landing/operational_data/customers/customers_2025_01.json"
        ]
       ],
       "datasetInfos": [
        {
         "name": "_sqldf",
         "schema": {
          "fields": [
           {
            "metadata": {},
            "name": "created_timestamp",
            "nullable": true,
            "type": "string"
           },
           {
            "metadata": {},
            "name": "customer_id",
            "nullable": true,
            "type": "long"
           },
           {
            "metadata": {},
            "name": "customer_name",
            "nullable": true,
            "type": "string"
           },
           {
            "metadata": {},
            "name": "date_of_birth",
            "nullable": true,
            "type": "string"
           },
           {
            "metadata": {},
            "name": "email",
            "nullable": true,
            "type": "string"
           },
           {
            "metadata": {},
            "name": "member_since",
            "nullable": true,
            "type": "string"
           },
           {
            "metadata": {},
            "name": "telephone",
            "nullable": true,
            "type": "string"
           },
           {
            "metadata": {},
            "name": "file_path",
            "nullable": false,
            "type": "string"
           }
          ],
          "type": "struct"
         },
         "tableIdentifier": null,
         "typeStr": "pyspark.sql.connect.dataframe.DataFrame"
        }
       ],
       "dbfsResultPath": null,
       "isJsonSchema": true,
       "metadata": {
        "createTempViewForImplicitDf": true,
        "dataframeName": "_sqldf",
        "executionCount": 16
       },
       "overflow": false,
       "plotOptions": {
        "customPlotOptions": {},
        "displayType": "table",
        "pivotAggregation": null,
        "pivotColumns": null,
        "xColumns": null,
        "yColumns": null
       },
       "removedWidgets": [],
       "schema": [
        {
         "metadata": "{}",
         "name": "created_timestamp",
         "type": "\"string\""
        },
        {
         "metadata": "{}",
         "name": "customer_id",
         "type": "\"long\""
        },
        {
         "metadata": "{}",
         "name": "customer_name",
         "type": "\"string\""
        },
        {
         "metadata": "{}",
         "name": "date_of_birth",
         "type": "\"string\""
        },
        {
         "metadata": "{}",
         "name": "email",
         "type": "\"string\""
        },
        {
         "metadata": "{}",
         "name": "member_since",
         "type": "\"string\""
        },
        {
         "metadata": "{}",
         "name": "telephone",
         "type": "\"string\""
        },
        {
         "metadata": "{}",
         "name": "file_path",
         "type": "\"string\""
        }
       ],
       "type": "table"
      }
     },
     "output_type": "display_data"
    }
   ],
   "source": [
    "SELECT * FROM tv_customers;"
   ]
  },
  {
   "cell_type": "code",
   "execution_count": 0,
   "metadata": {
    "application/vnd.databricks.v1+cell": {
     "cellMetadata": {
      "byteLimit": 2048000,
      "rowLimit": 10000
     },
     "inputWidgets": {},
     "nuid": "2279993c-a957-48f6-9b98-b18c2a2aa963",
     "showTitle": false,
     "tableResultSettingsMap": {},
     "title": ""
    },
    "vscode": {
     "languageId": "sql"
    }
   },
   "outputs": [],
   "source": [
    "-- [NOT_SUPPORTED_WITH_SERVERLESS] GLOBAL TEMPORARY VIEW is not supported on serverless compute. SQLSTATE: 0A000\n",
    "\n",
    "-- CREATE OR REPLACE GLOBAL TEMPORARY VIEW gtv_customers\n",
    "-- AS\n",
    "-- SELECT *,\n",
    "--        _metadata.file_path AS file_path \n",
    "--   FROM json.`/Volumes/gizmobox/landing/operational_data/customers`"
   ]
  },
  {
   "cell_type": "code",
   "execution_count": 0,
   "metadata": {
    "application/vnd.databricks.v1+cell": {
     "cellMetadata": {
      "byteLimit": 2048000,
      "rowLimit": 10000
     },
     "inputWidgets": {},
     "nuid": "ba5ca3bb-f12a-4321-84d2-12b9c654e5fb",
     "showTitle": false,
     "tableResultSettingsMap": {},
     "title": ""
    },
    "vscode": {
     "languageId": "sql"
    }
   },
   "outputs": [],
   "source": [
    "-- [NOT_SUPPORTED_WITH_SERVERLESS] GLOBAL TEMPORARY VIEW is not supported on serverless compute. SQLSTATE: 0A000\n",
    "\n",
    "-- SELECT * FROM global_temp.gtv_customers;"
   ]
  }
 ],
 "metadata": {
  "application/vnd.databricks.v1+notebook": {
   "computePreferences": {
    "hardware": {
     "accelerator": null,
     "gpuPoolId": null,
     "memory": null
    }
   },
   "dashboards": [],
   "environmentMetadata": {
    "base_environment": "",
    "environment_version": "3"
   },
   "inputWidgetPreferences": null,
   "language": "sql",
   "notebookMetadata": {
    "mostRecentlyExecutedCommandWithImplicitDF": {
     "commandId": 6808117702240167,
     "dataframes": [
      "_sqldf"
     ]
    },
    "pythonIndentUnit": 4
   },
   "notebookName": "02. Extract Customers Data - JSON",
   "widgets": {}
  },
  "kernelspec": {
   "display_name": ".venv",
   "language": "python",
   "name": "python3"
  },
  "language_info": {
   "codemirror_mode": {
    "name": "ipython",
    "version": 3
   },
   "file_extension": ".py",
   "mimetype": "text/x-python",
   "name": "python",
   "nbconvert_exporter": "python",
   "pygments_lexer": "ipython3",
   "version": "3.11.9"
  }
 },
 "nbformat": 4,
 "nbformat_minor": 0
}
