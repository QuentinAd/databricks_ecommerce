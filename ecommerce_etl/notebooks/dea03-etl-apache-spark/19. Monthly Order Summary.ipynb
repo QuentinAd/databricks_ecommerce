{
 "cells": [
  {
   "cell_type": "markdown",
   "metadata": {
    "application/vnd.databricks.v1+cell": {
     "cellMetadata": {},
     "inputWidgets": {},
     "nuid": "4549032e-aa56-4191-a927-b701c43bbe5d",
     "showTitle": false,
     "tableResultSettingsMap": {},
     "title": ""
    }
   },
   "source": [
    "## Monthly Order Summary\n",
    "For each of the customer, produce the following summary per month\n",
    "1. total orders\n",
    "1. total items bought\n",
    "1. total amount spent"
   ]
  },
  {
   "cell_type": "code",
   "execution_count": 0,
   "metadata": {
    "application/vnd.databricks.v1+cell": {
     "cellMetadata": {
      "byteLimit": 2048000,
      "rowLimit": 10000
     },
     "inputWidgets": {},
     "nuid": "891e45d5-de56-49a7-9a6c-caf2582d88b5",
     "showTitle": false,
     "tableResultSettingsMap": {},
     "title": ""
    }
   },
   "outputs": [
    {
     "output_type": "display_data",
     "data": {
      "text/html": [
       "<style scoped>\n",
       "  .table-result-container {\n",
       "    max-height: 300px;\n",
       "    overflow: auto;\n",
       "  }\n",
       "  table, th, td {\n",
       "    border: 1px solid black;\n",
       "    border-collapse: collapse;\n",
       "  }\n",
       "  th, td {\n",
       "    padding: 5px;\n",
       "  }\n",
       "  th {\n",
       "    text-align: left;\n",
       "  }\n",
       "</style><div class='table-result-container'><table class='table-result'><thead style='background-color: white'><tr><th>order_id</th><th>order_status</th><th>payment_method</th><th>total_amount</th><th>transaction_timestamp</th><th>customer_id</th><th>item_id</th><th>name</th><th>price</th><th>quantity</th><th>category</th><th>brand</th><th>color</th></tr></thead><tbody><tr><td>6</td><td>Pending</td><td>Credit Card</td><td>799</td><td>2024-10-28 04:47:27</td><td>1987</td><td>10</td><td>Drone</td><td>799</td><td>1</td><td>Electronics</td><td>GoPro</td><td>Black</td></tr><tr><td>10</td><td>Pending</td><td>Credit Card</td><td>399</td><td>2024-10-07 22:09:27</td><td>5816</td><td>5</td><td>Tablet</td><td>399</td><td>1</td><td>Electronics</td><td>GoPro</td><td>White</td></tr><tr><td>11</td><td>Pending</td><td>Bank Transfer</td><td>897</td><td>2024-10-13 17:34:19</td><td>5816</td><td>4</td><td>Smartwatch</td><td>299</td><td>3</td><td>Electronics</td><td>Canon</td><td>White</td></tr><tr><td>15</td><td>Completed</td><td>Bank Transfer</td><td>1199</td><td>2024-10-20 01:47:25</td><td>7207</td><td>9</td><td>Smart TV</td><td>1199</td><td>1</td><td>Electronics</td><td>GoPro</td><td>White</td></tr><tr><td>19</td><td>Shipped</td><td>PayPal</td><td>499</td><td>2024-10-13 12:40:26</td><td>8539</td><td>8</td><td>Gaming Console</td><td>499</td><td>1</td><td>Electronics</td><td>Dell</td><td>Silver</td></tr><tr><td>39</td><td>Shipped</td><td>PayPal</td><td>387</td><td>2024-10-29 21:39:19</td><td>9263</td><td>7</td><td>External Hard Drive</td><td>129</td><td>3</td><td>Electronics</td><td>Sony</td><td>Black</td></tr><tr><td>55</td><td>Shipped</td><td>Bank Transfer</td><td>699</td><td>2024-10-25 05:49:16</td><td>9018</td><td>1</td><td>Smartphone</td><td>699</td><td>1</td><td>Electronics</td><td>HP</td><td>Black</td></tr><tr><td>59</td><td>Pending</td><td>PayPal</td><td>499</td><td>2024-10-23 02:51:05</td><td>3409</td><td>8</td><td>Gaming Console</td><td>499</td><td>1</td><td>Electronics</td><td>Dell</td><td>Black</td></tr><tr><td>72</td><td>Cancelled</td><td>PayPal</td><td>328</td><td>2024-10-06 10:23:28</td><td>3889</td><td>3</td><td>Wireless Headphones</td><td>199</td><td>1</td><td>Electronics</td><td>Microsoft</td><td>Gray</td></tr><tr><td>72</td><td>Cancelled</td><td>PayPal</td><td>328</td><td>2024-10-06 10:23:28</td><td>3889</td><td>7</td><td>External Hard Drive</td><td>129</td><td>1</td><td>Electronics</td><td>Samsung</td><td>Silver</td></tr></tbody></table></div>"
      ]
     },
     "metadata": {
      "application/vnd.databricks.v1+output": {
       "addedWidgets": {},
       "aggData": [],
       "aggError": "",
       "aggOverflow": false,
       "aggSchema": [],
       "aggSeriesLimitReached": false,
       "aggType": "",
       "arguments": {},
       "columnCustomDisplayInfos": {},
       "data": [
        [
         6,
         "Pending",
         "Credit Card",
         799,
         "2024-10-28 04:47:27",
         1987,
         10,
         "Drone",
         799,
         1,
         "Electronics",
         "GoPro",
         "Black"
        ],
        [
         10,
         "Pending",
         "Credit Card",
         399,
         "2024-10-07 22:09:27",
         5816,
         5,
         "Tablet",
         399,
         1,
         "Electronics",
         "GoPro",
         "White"
        ],
        [
         11,
         "Pending",
         "Bank Transfer",
         897,
         "2024-10-13 17:34:19",
         5816,
         4,
         "Smartwatch",
         299,
         3,
         "Electronics",
         "Canon",
         "White"
        ],
        [
         15,
         "Completed",
         "Bank Transfer",
         1199,
         "2024-10-20 01:47:25",
         7207,
         9,
         "Smart TV",
         1199,
         1,
         "Electronics",
         "GoPro",
         "White"
        ],
        [
         19,
         "Shipped",
         "PayPal",
         499,
         "2024-10-13 12:40:26",
         8539,
         8,
         "Gaming Console",
         499,
         1,
         "Electronics",
         "Dell",
         "Silver"
        ],
        [
         39,
         "Shipped",
         "PayPal",
         387,
         "2024-10-29 21:39:19",
         9263,
         7,
         "External Hard Drive",
         129,
         3,
         "Electronics",
         "Sony",
         "Black"
        ],
        [
         55,
         "Shipped",
         "Bank Transfer",
         699,
         "2024-10-25 05:49:16",
         9018,
         1,
         "Smartphone",
         699,
         1,
         "Electronics",
         "HP",
         "Black"
        ],
        [
         59,
         "Pending",
         "PayPal",
         499,
         "2024-10-23 02:51:05",
         3409,
         8,
         "Gaming Console",
         499,
         1,
         "Electronics",
         "Dell",
         "Black"
        ],
        [
         72,
         "Cancelled",
         "PayPal",
         328,
         "2024-10-06 10:23:28",
         3889,
         3,
         "Wireless Headphones",
         199,
         1,
         "Electronics",
         "Microsoft",
         "Gray"
        ],
        [
         72,
         "Cancelled",
         "PayPal",
         328,
         "2024-10-06 10:23:28",
         3889,
         7,
         "External Hard Drive",
         129,
         1,
         "Electronics",
         "Samsung",
         "Silver"
        ]
       ],
       "datasetInfos": [
        {
         "name": "_sqldf",
         "schema": {
          "fields": [
           {
            "metadata": {},
            "name": "order_id",
            "nullable": true,
            "type": "long"
           },
           {
            "metadata": {},
            "name": "order_status",
            "nullable": true,
            "type": "string"
           },
           {
            "metadata": {},
            "name": "payment_method",
            "nullable": true,
            "type": "string"
           },
           {
            "metadata": {},
            "name": "total_amount",
            "nullable": true,
            "type": "long"
           },
           {
            "metadata": {},
            "name": "transaction_timestamp",
            "nullable": true,
            "type": "string"
           },
           {
            "metadata": {},
            "name": "customer_id",
            "nullable": true,
            "type": "long"
           },
           {
            "metadata": {},
            "name": "item_id",
            "nullable": true,
            "type": "long"
           },
           {
            "metadata": {},
            "name": "name",
            "nullable": true,
            "type": "string"
           },
           {
            "metadata": {},
            "name": "price",
            "nullable": true,
            "type": "long"
           },
           {
            "metadata": {},
            "name": "quantity",
            "nullable": true,
            "type": "long"
           },
           {
            "metadata": {},
            "name": "category",
            "nullable": true,
            "type": "string"
           },
           {
            "metadata": {},
            "name": "brand",
            "nullable": true,
            "type": "string"
           },
           {
            "metadata": {},
            "name": "color",
            "nullable": true,
            "type": "string"
           }
          ],
          "type": "struct"
         },
         "tableIdentifier": null,
         "typeStr": "pyspark.sql.connect.dataframe.DataFrame"
        }
       ],
       "dbfsResultPath": null,
       "isJsonSchema": true,
       "metadata": {
        "createTempViewForImplicitDf": true,
        "dataframeName": "_sqldf",
        "executionCount": 2
       },
       "overflow": false,
       "plotOptions": {
        "customPlotOptions": {},
        "displayType": "table",
        "pivotAggregation": null,
        "pivotColumns": null,
        "xColumns": null,
        "yColumns": null
       },
       "removedWidgets": [],
       "schema": [
        {
         "metadata": "{}",
         "name": "order_id",
         "type": "\"long\""
        },
        {
         "metadata": "{}",
         "name": "order_status",
         "type": "\"string\""
        },
        {
         "metadata": "{}",
         "name": "payment_method",
         "type": "\"string\""
        },
        {
         "metadata": "{}",
         "name": "total_amount",
         "type": "\"long\""
        },
        {
         "metadata": "{}",
         "name": "transaction_timestamp",
         "type": "\"string\""
        },
        {
         "metadata": "{}",
         "name": "customer_id",
         "type": "\"long\""
        },
        {
         "metadata": "{}",
         "name": "item_id",
         "type": "\"long\""
        },
        {
         "metadata": "{}",
         "name": "name",
         "type": "\"string\""
        },
        {
         "metadata": "{}",
         "name": "price",
         "type": "\"long\""
        },
        {
         "metadata": "{}",
         "name": "quantity",
         "type": "\"long\""
        },
        {
         "metadata": "{}",
         "name": "category",
         "type": "\"string\""
        },
        {
         "metadata": "{}",
         "name": "brand",
         "type": "\"string\""
        },
        {
         "metadata": "{}",
         "name": "color",
         "type": "\"string\""
        }
       ],
       "type": "table"
      }
     },
     "output_type": "display_data"
    }
   ],
   "source": [
    "SELECT * FROM gizmobox.silver.orders LIMIT 10;"
   ]
  },
  {
   "cell_type": "code",
   "execution_count": 0,
   "metadata": {
    "application/vnd.databricks.v1+cell": {
     "cellMetadata": {
      "byteLimit": 2048000,
      "rowLimit": 10000
     },
     "inputWidgets": {},
     "nuid": "4a2e8d59-f8d2-4654-a64a-603c6bc831ad",
     "showTitle": false,
     "tableResultSettingsMap": {},
     "title": ""
    }
   },
   "outputs": [
    {
     "output_type": "display_data",
     "data": {
      "text/html": [
       "<style scoped>\n",
       "  .table-result-container {\n",
       "    max-height: 300px;\n",
       "    overflow: auto;\n",
       "  }\n",
       "  table, th, td {\n",
       "    border: 1px solid black;\n",
       "    border-collapse: collapse;\n",
       "  }\n",
       "  th, td {\n",
       "    padding: 5px;\n",
       "  }\n",
       "  th {\n",
       "    text-align: left;\n",
       "  }\n",
       "</style><div class='table-result-container'><table class='table-result'><thead style='background-color: white'><tr><th>customer_id</th><th>transaction_month</th><th>total_orders</th><th>total_items_bought</th><th>total_amount</th></tr></thead><tbody><tr><td>1211</td><td>2024-12</td><td>1</td><td>1</td><td>1199</td></tr><tr><td>1987</td><td>2024-10</td><td>1</td><td>1</td><td>799</td></tr><tr><td>1987</td><td>2024-11</td><td>1</td><td>5</td><td>645</td></tr><tr><td>2054</td><td>2024-12</td><td>1</td><td>2</td><td>398</td></tr><tr><td>2141</td><td>2025-01</td><td>1</td><td>1</td><td>129</td></tr><tr><td>2344</td><td>2024-10</td><td>1</td><td>2</td><td>998</td></tr><tr><td>2344</td><td>2024-12</td><td>1</td><td>3</td><td>387</td></tr><tr><td>2344</td><td>2025-01</td><td>1</td><td>5</td><td>785</td></tr><tr><td>2639</td><td>2024-11</td><td>1</td><td>6</td><td>984</td></tr><tr><td>2703</td><td>2024-12</td><td>2</td><td>7</td><td>1033</td></tr><tr><td>3084</td><td>2024-12</td><td>2</td><td>4</td><td>1296</td></tr><tr><td>3084</td><td>2025-01</td><td>1</td><td>2</td><td>598</td></tr><tr><td>3295</td><td>2025-01</td><td>1</td><td>1</td><td>399</td></tr><tr><td>3409</td><td>2024-10</td><td>1</td><td>1</td><td>499</td></tr><tr><td>3409</td><td>2024-12</td><td>1</td><td>1</td><td>199</td></tr><tr><td>3532</td><td>2025-01</td><td>3</td><td>9</td><td>2581</td></tr><tr><td>3712</td><td>2025-01</td><td>1</td><td>4</td><td>746</td></tr><tr><td>3889</td><td>2024-10</td><td>1</td><td>2</td><td>328</td></tr><tr><td>3892</td><td>2024-11</td><td>1</td><td>2</td><td>998</td></tr><tr><td>4468</td><td>2025-01</td><td>1</td><td>1</td><td>799</td></tr><tr><td>4761</td><td>2024-11</td><td>1</td><td>3</td><td>997</td></tr><tr><td>4761</td><td>2025-01</td><td>1</td><td>1</td><td>199</td></tr><tr><td>4858</td><td>2024-12</td><td>1</td><td>1</td><td>999</td></tr><tr><td>4914</td><td>2024-11</td><td>2</td><td>2</td><td>398</td></tr><tr><td>4973</td><td>2024-12</td><td>1</td><td>1</td><td>699</td></tr><tr><td>4973</td><td>2025-01</td><td>1</td><td>1</td><td>149</td></tr><tr><td>4996</td><td>2024-11</td><td>1</td><td>1</td><td>199</td></tr><tr><td>4996</td><td>2024-12</td><td>1</td><td>1</td><td>399</td></tr><tr><td>4996</td><td>2025-01</td><td>1</td><td>1</td><td>299</td></tr><tr><td>5011</td><td>2024-10</td><td>2</td><td>3</td><td>2197</td></tr><tr><td>5028</td><td>2024-11</td><td>1</td><td>1</td><td>149</td></tr><tr><td>5028</td><td>2025-01</td><td>1</td><td>1</td><td>499</td></tr><tr><td>5204</td><td>2024-12</td><td>2</td><td>5</td><td>1595</td></tr><tr><td>5592</td><td>2024-11</td><td>1</td><td>2</td><td>258</td></tr><tr><td>5592</td><td>2024-12</td><td>1</td><td>1</td><td>699</td></tr><tr><td>5816</td><td>2024-10</td><td>2</td><td>4</td><td>1296</td></tr><tr><td>5816</td><td>2024-12</td><td>1</td><td>1</td><td>999</td></tr><tr><td>5953</td><td>2025-01</td><td>1</td><td>1</td><td>129</td></tr><tr><td>6167</td><td>2024-12</td><td>1</td><td>1</td><td>699</td></tr><tr><td>6167</td><td>2025-01</td><td>2</td><td>4</td><td>1086</td></tr><tr><td>6384</td><td>2025-01</td><td>2</td><td>3</td><td>1297</td></tr><tr><td>6406</td><td>2024-12</td><td>2</td><td>2</td><td>648</td></tr><tr><td>6627</td><td>2024-12</td><td>2</td><td>6</td><td>1544</td></tr><tr><td>6627</td><td>2025-01</td><td>1</td><td>5</td><td>895</td></tr><tr><td>6973</td><td>2025-01</td><td>1</td><td>1</td><td>499</td></tr><tr><td>7007</td><td>2025-01</td><td>1</td><td>1</td><td>699</td></tr><tr><td>7123</td><td>2024-11</td><td>1</td><td>4</td><td>646</td></tr><tr><td>7123</td><td>2024-12</td><td>1</td><td>1</td><td>699</td></tr><tr><td>7123</td><td>2025-01</td><td>1</td><td>5</td><td>985</td></tr><tr><td>7207</td><td>2024-10</td><td>1</td><td>1</td><td>1199</td></tr><tr><td>7207</td><td>2025-01</td><td>1</td><td>3</td><td>597</td></tr><tr><td>7295</td><td>2024-11</td><td>2</td><td>2</td><td>998</td></tr><tr><td>7295</td><td>2024-12</td><td>1</td><td>1</td><td>129</td></tr><tr><td>7803</td><td>2024-11</td><td>2</td><td>5</td><td>685</td></tr><tr><td>7803</td><td>2024-12</td><td>1</td><td>3</td><td>747</td></tr><tr><td>7829</td><td>2024-12</td><td>2</td><td>5</td><td>705</td></tr><tr><td>7997</td><td>2024-12</td><td>2</td><td>4</td><td>1096</td></tr><tr><td>8539</td><td>2024-10</td><td>1</td><td>1</td><td>499</td></tr><tr><td>8539</td><td>2024-11</td><td>2</td><td>4</td><td>1096</td></tr><tr><td>8580</td><td>2024-11</td><td>1</td><td>4</td><td>586</td></tr><tr><td>8580</td><td>2024-12</td><td>1</td><td>1</td><td>699</td></tr><tr><td>8580</td><td>2025-01</td><td>1</td><td>2</td><td>698</td></tr><tr><td>8845</td><td>2024-11</td><td>1</td><td>2</td><td>998</td></tr><tr><td>8845</td><td>2025-01</td><td>2</td><td>2</td><td>348</td></tr><tr><td>9018</td><td>2024-10</td><td>1</td><td>1</td><td>699</td></tr><tr><td>9084</td><td>2024-10</td><td>1</td><td>2</td><td>398</td></tr><tr><td>9084</td><td>2025-01</td><td>2</td><td>4</td><td>1796</td></tr><tr><td>9150</td><td>2025-01</td><td>3</td><td>9</td><td>2131</td></tr><tr><td>9179</td><td>2024-11</td><td>1</td><td>1</td><td>999</td></tr><tr><td>9179</td><td>2025-01</td><td>1</td><td>1</td><td>399</td></tr><tr><td>9247</td><td>2024-11</td><td>2</td><td>4</td><td>536</td></tr><tr><td>9247</td><td>2025-01</td><td>1</td><td>2</td><td>258</td></tr><tr><td>9263</td><td>2024-10</td><td>1</td><td>3</td><td>387</td></tr><tr><td>9605</td><td>2025-01</td><td>2</td><td>7</td><td>1823</td></tr><tr><td>9687</td><td>2024-12</td><td>2</td><td>3</td><td>1697</td></tr><tr><td>9706</td><td>2024-11</td><td>1</td><td>1</td><td>999</td></tr></tbody></table></div>"
      ]
     },
     "metadata": {
      "application/vnd.databricks.v1+output": {
       "addedWidgets": {},
       "aggData": [],
       "aggError": "",
       "aggOverflow": false,
       "aggSchema": [],
       "aggSeriesLimitReached": false,
       "aggType": "",
       "arguments": {},
       "columnCustomDisplayInfos": {},
       "data": [
        [
         1211,
         "2024-12",
         1,
         1,
         1199
        ],
        [
         1987,
         "2024-10",
         1,
         1,
         799
        ],
        [
         1987,
         "2024-11",
         1,
         5,
         645
        ],
        [
         2054,
         "2024-12",
         1,
         2,
         398
        ],
        [
         2141,
         "2025-01",
         1,
         1,
         129
        ],
        [
         2344,
         "2024-10",
         1,
         2,
         998
        ],
        [
         2344,
         "2024-12",
         1,
         3,
         387
        ],
        [
         2344,
         "2025-01",
         1,
         5,
         785
        ],
        [
         2639,
         "2024-11",
         1,
         6,
         984
        ],
        [
         2703,
         "2024-12",
         2,
         7,
         1033
        ],
        [
         3084,
         "2024-12",
         2,
         4,
         1296
        ],
        [
         3084,
         "2025-01",
         1,
         2,
         598
        ],
        [
         3295,
         "2025-01",
         1,
         1,
         399
        ],
        [
         3409,
         "2024-10",
         1,
         1,
         499
        ],
        [
         3409,
         "2024-12",
         1,
         1,
         199
        ],
        [
         3532,
         "2025-01",
         3,
         9,
         2581
        ],
        [
         3712,
         "2025-01",
         1,
         4,
         746
        ],
        [
         3889,
         "2024-10",
         1,
         2,
         328
        ],
        [
         3892,
         "2024-11",
         1,
         2,
         998
        ],
        [
         4468,
         "2025-01",
         1,
         1,
         799
        ],
        [
         4761,
         "2024-11",
         1,
         3,
         997
        ],
        [
         4761,
         "2025-01",
         1,
         1,
         199
        ],
        [
         4858,
         "2024-12",
         1,
         1,
         999
        ],
        [
         4914,
         "2024-11",
         2,
         2,
         398
        ],
        [
         4973,
         "2024-12",
         1,
         1,
         699
        ],
        [
         4973,
         "2025-01",
         1,
         1,
         149
        ],
        [
         4996,
         "2024-11",
         1,
         1,
         199
        ],
        [
         4996,
         "2024-12",
         1,
         1,
         399
        ],
        [
         4996,
         "2025-01",
         1,
         1,
         299
        ],
        [
         5011,
         "2024-10",
         2,
         3,
         2197
        ],
        [
         5028,
         "2024-11",
         1,
         1,
         149
        ],
        [
         5028,
         "2025-01",
         1,
         1,
         499
        ],
        [
         5204,
         "2024-12",
         2,
         5,
         1595
        ],
        [
         5592,
         "2024-11",
         1,
         2,
         258
        ],
        [
         5592,
         "2024-12",
         1,
         1,
         699
        ],
        [
         5816,
         "2024-10",
         2,
         4,
         1296
        ],
        [
         5816,
         "2024-12",
         1,
         1,
         999
        ],
        [
         5953,
         "2025-01",
         1,
         1,
         129
        ],
        [
         6167,
         "2024-12",
         1,
         1,
         699
        ],
        [
         6167,
         "2025-01",
         2,
         4,
         1086
        ],
        [
         6384,
         "2025-01",
         2,
         3,
         1297
        ],
        [
         6406,
         "2024-12",
         2,
         2,
         648
        ],
        [
         6627,
         "2024-12",
         2,
         6,
         1544
        ],
        [
         6627,
         "2025-01",
         1,
         5,
         895
        ],
        [
         6973,
         "2025-01",
         1,
         1,
         499
        ],
        [
         7007,
         "2025-01",
         1,
         1,
         699
        ],
        [
         7123,
         "2024-11",
         1,
         4,
         646
        ],
        [
         7123,
         "2024-12",
         1,
         1,
         699
        ],
        [
         7123,
         "2025-01",
         1,
         5,
         985
        ],
        [
         7207,
         "2024-10",
         1,
         1,
         1199
        ],
        [
         7207,
         "2025-01",
         1,
         3,
         597
        ],
        [
         7295,
         "2024-11",
         2,
         2,
         998
        ],
        [
         7295,
         "2024-12",
         1,
         1,
         129
        ],
        [
         7803,
         "2024-11",
         2,
         5,
         685
        ],
        [
         7803,
         "2024-12",
         1,
         3,
         747
        ],
        [
         7829,
         "2024-12",
         2,
         5,
         705
        ],
        [
         7997,
         "2024-12",
         2,
         4,
         1096
        ],
        [
         8539,
         "2024-10",
         1,
         1,
         499
        ],
        [
         8539,
         "2024-11",
         2,
         4,
         1096
        ],
        [
         8580,
         "2024-11",
         1,
         4,
         586
        ],
        [
         8580,
         "2024-12",
         1,
         1,
         699
        ],
        [
         8580,
         "2025-01",
         1,
         2,
         698
        ],
        [
         8845,
         "2024-11",
         1,
         2,
         998
        ],
        [
         8845,
         "2025-01",
         2,
         2,
         348
        ],
        [
         9018,
         "2024-10",
         1,
         1,
         699
        ],
        [
         9084,
         "2024-10",
         1,
         2,
         398
        ],
        [
         9084,
         "2025-01",
         2,
         4,
         1796
        ],
        [
         9150,
         "2025-01",
         3,
         9,
         2131
        ],
        [
         9179,
         "2024-11",
         1,
         1,
         999
        ],
        [
         9179,
         "2025-01",
         1,
         1,
         399
        ],
        [
         9247,
         "2024-11",
         2,
         4,
         536
        ],
        [
         9247,
         "2025-01",
         1,
         2,
         258
        ],
        [
         9263,
         "2024-10",
         1,
         3,
         387
        ],
        [
         9605,
         "2025-01",
         2,
         7,
         1823
        ],
        [
         9687,
         "2024-12",
         2,
         3,
         1697
        ],
        [
         9706,
         "2024-11",
         1,
         1,
         999
        ]
       ],
       "datasetInfos": [
        {
         "name": "_sqldf",
         "schema": {
          "fields": [
           {
            "metadata": {},
            "name": "customer_id",
            "nullable": true,
            "type": "long"
           },
           {
            "metadata": {},
            "name": "transaction_month",
            "nullable": true,
            "type": "string"
           },
           {
            "metadata": {},
            "name": "total_orders",
            "nullable": false,
            "type": "long"
           },
           {
            "metadata": {},
            "name": "total_items_bought",
            "nullable": true,
            "type": "long"
           },
           {
            "metadata": {},
            "name": "total_amount",
            "nullable": true,
            "type": "long"
           }
          ],
          "type": "struct"
         },
         "tableIdentifier": null,
         "typeStr": "pyspark.sql.connect.dataframe.DataFrame"
        }
       ],
       "dbfsResultPath": null,
       "isJsonSchema": true,
       "metadata": {
        "createTempViewForImplicitDf": true,
        "dataframeName": "_sqldf",
        "executionCount": 11
       },
       "overflow": false,
       "plotOptions": {
        "customPlotOptions": {},
        "displayType": "table",
        "pivotAggregation": null,
        "pivotColumns": null,
        "xColumns": null,
        "yColumns": null
       },
       "removedWidgets": [],
       "schema": [
        {
         "metadata": "{}",
         "name": "customer_id",
         "type": "\"long\""
        },
        {
         "metadata": "{}",
         "name": "transaction_month",
         "type": "\"string\""
        },
        {
         "metadata": "{}",
         "name": "total_orders",
         "type": "\"long\""
        },
        {
         "metadata": "{}",
         "name": "total_items_bought",
         "type": "\"long\""
        },
        {
         "metadata": "{}",
         "name": "total_amount",
         "type": "\"long\""
        }
       ],
       "type": "table"
      }
     },
     "output_type": "display_data"
    }
   ],
   "source": [
    "SELECT\n",
    "customer_id,\n",
    "date_format(transaction_timestamp, 'yyyy-MM') AS transaction_month,\n",
    "COUNT(DISTINCT order_id) AS total_orders,\n",
    "SUM(quantity) as total_items_bought,\n",
    "SUM(price * quantity) AS total_amount\n",
    "FROM gizmobox.silver.orders\n",
    "GROUP BY customer_id, transaction_month\n",
    "ORDER BY customer_id, transaction_month;\n"
   ]
  },
  {
   "cell_type": "code",
   "execution_count": 0,
   "metadata": {
    "application/vnd.databricks.v1+cell": {
     "cellMetadata": {
      "byteLimit": 2048000,
      "rowLimit": 10000
     },
     "inputWidgets": {},
     "nuid": "ef6e8e46-13b3-442e-bae7-754a68f03a8a",
     "showTitle": false,
     "tableResultSettingsMap": {},
     "title": ""
    }
   },
   "outputs": [
    {
     "output_type": "display_data",
     "data": {
      "text/html": [
       "<style scoped>\n",
       "  .table-result-container {\n",
       "    max-height: 300px;\n",
       "    overflow: auto;\n",
       "  }\n",
       "  table, th, td {\n",
       "    border: 1px solid black;\n",
       "    border-collapse: collapse;\n",
       "  }\n",
       "  th, td {\n",
       "    padding: 5px;\n",
       "  }\n",
       "  th {\n",
       "    text-align: left;\n",
       "  }\n",
       "</style><div class='table-result-container'><table class='table-result'><thead style='background-color: white'><tr><th>num_affected_rows</th><th>num_inserted_rows</th></tr></thead><tbody></tbody></table></div>"
      ]
     },
     "metadata": {
      "application/vnd.databricks.v1+output": {
       "addedWidgets": {},
       "aggData": [],
       "aggError": "",
       "aggOverflow": false,
       "aggSchema": [],
       "aggSeriesLimitReached": false,
       "aggType": "",
       "arguments": {},
       "columnCustomDisplayInfos": {},
       "data": [],
       "datasetInfos": [
        {
         "name": "_sqldf",
         "schema": {
          "fields": [
           {
            "metadata": {},
            "name": "num_affected_rows",
            "nullable": true,
            "type": "long"
           },
           {
            "metadata": {},
            "name": "num_inserted_rows",
            "nullable": true,
            "type": "long"
           }
          ],
          "type": "struct"
         },
         "tableIdentifier": null,
         "typeStr": "pyspark.sql.connect.dataframe.DataFrame"
        }
       ],
       "dbfsResultPath": null,
       "isJsonSchema": true,
       "metadata": {
        "createTempViewForImplicitDf": true,
        "dataframeName": "_sqldf",
        "executionCount": 13
       },
       "overflow": false,
       "plotOptions": {
        "customPlotOptions": {},
        "displayType": "table",
        "pivotAggregation": null,
        "pivotColumns": null,
        "xColumns": null,
        "yColumns": null
       },
       "removedWidgets": [],
       "schema": [
        {
         "metadata": "{}",
         "name": "num_affected_rows",
         "type": "\"long\""
        },
        {
         "metadata": "{}",
         "name": "num_inserted_rows",
         "type": "\"long\""
        }
       ],
       "type": "table"
      }
     },
     "output_type": "display_data"
    }
   ],
   "source": [
    "CREATE TABLE IF NOT EXISTS gizmobox.gold.customer_order_summary_monthly\n",
    "AS\n",
    "SELECT\n",
    "customer_id,\n",
    "date_format(transaction_timestamp, 'yyyy-MM') AS transaction_month,\n",
    "COUNT(DISTINCT order_id) AS total_orders,\n",
    "SUM(quantity) as total_items_bought,\n",
    "SUM(price * quantity) AS total_amount\n",
    "FROM gizmobox.silver.orders\n",
    "GROUP BY customer_id, transaction_month\n",
    "ORDER BY customer_id, transaction_month;\n"
   ]
  },
  {
   "cell_type": "code",
   "execution_count": 0,
   "metadata": {
    "application/vnd.databricks.v1+cell": {
     "cellMetadata": {
      "byteLimit": 2048000,
      "rowLimit": 10000
     },
     "inputWidgets": {},
     "nuid": "521985b6-6c58-491f-a477-9838e5421274",
     "showTitle": false,
     "tableResultSettingsMap": {},
     "title": ""
    }
   },
   "outputs": [
    {
     "output_type": "display_data",
     "data": {
      "text/html": [
       "<style scoped>\n",
       "  .table-result-container {\n",
       "    max-height: 300px;\n",
       "    overflow: auto;\n",
       "  }\n",
       "  table, th, td {\n",
       "    border: 1px solid black;\n",
       "    border-collapse: collapse;\n",
       "  }\n",
       "  th, td {\n",
       "    padding: 5px;\n",
       "  }\n",
       "  th {\n",
       "    text-align: left;\n",
       "  }\n",
       "</style><div class='table-result-container'><table class='table-result'><thead style='background-color: white'><tr><th>customer_id</th><th>transaction_month</th><th>total_orders</th><th>total_items_bought</th><th>total_amount</th></tr></thead><tbody><tr><td>1211</td><td>2024-12</td><td>1</td><td>1</td><td>1199</td></tr><tr><td>1987</td><td>2024-10</td><td>1</td><td>1</td><td>799</td></tr><tr><td>1987</td><td>2024-11</td><td>1</td><td>5</td><td>645</td></tr><tr><td>2054</td><td>2024-12</td><td>1</td><td>2</td><td>398</td></tr><tr><td>2141</td><td>2025-01</td><td>1</td><td>1</td><td>129</td></tr><tr><td>2344</td><td>2024-10</td><td>1</td><td>2</td><td>998</td></tr><tr><td>2344</td><td>2024-12</td><td>1</td><td>3</td><td>387</td></tr><tr><td>2344</td><td>2025-01</td><td>1</td><td>5</td><td>785</td></tr><tr><td>2639</td><td>2024-11</td><td>1</td><td>6</td><td>984</td></tr><tr><td>2703</td><td>2024-12</td><td>2</td><td>7</td><td>1033</td></tr></tbody></table></div>"
      ]
     },
     "metadata": {
      "application/vnd.databricks.v1+output": {
       "addedWidgets": {},
       "aggData": [],
       "aggError": "",
       "aggOverflow": false,
       "aggSchema": [],
       "aggSeriesLimitReached": false,
       "aggType": "",
       "arguments": {},
       "columnCustomDisplayInfos": {},
       "data": [
        [
         1211,
         "2024-12",
         1,
         1,
         1199
        ],
        [
         1987,
         "2024-10",
         1,
         1,
         799
        ],
        [
         1987,
         "2024-11",
         1,
         5,
         645
        ],
        [
         2054,
         "2024-12",
         1,
         2,
         398
        ],
        [
         2141,
         "2025-01",
         1,
         1,
         129
        ],
        [
         2344,
         "2024-10",
         1,
         2,
         998
        ],
        [
         2344,
         "2024-12",
         1,
         3,
         387
        ],
        [
         2344,
         "2025-01",
         1,
         5,
         785
        ],
        [
         2639,
         "2024-11",
         1,
         6,
         984
        ],
        [
         2703,
         "2024-12",
         2,
         7,
         1033
        ]
       ],
       "datasetInfos": [
        {
         "name": "_sqldf",
         "schema": {
          "fields": [
           {
            "metadata": {},
            "name": "customer_id",
            "nullable": true,
            "type": "long"
           },
           {
            "metadata": {},
            "name": "transaction_month",
            "nullable": true,
            "type": "string"
           },
           {
            "metadata": {},
            "name": "total_orders",
            "nullable": true,
            "type": "long"
           },
           {
            "metadata": {},
            "name": "total_items_bought",
            "nullable": true,
            "type": "long"
           },
           {
            "metadata": {},
            "name": "total_amount",
            "nullable": true,
            "type": "long"
           }
          ],
          "type": "struct"
         },
         "tableIdentifier": null,
         "typeStr": "pyspark.sql.connect.dataframe.DataFrame"
        }
       ],
       "dbfsResultPath": null,
       "isJsonSchema": true,
       "metadata": {
        "createTempViewForImplicitDf": true,
        "dataframeName": "_sqldf",
        "executionCount": 14
       },
       "overflow": false,
       "plotOptions": {
        "customPlotOptions": {},
        "displayType": "table",
        "pivotAggregation": null,
        "pivotColumns": null,
        "xColumns": null,
        "yColumns": null
       },
       "removedWidgets": [],
       "schema": [
        {
         "metadata": "{}",
         "name": "customer_id",
         "type": "\"long\""
        },
        {
         "metadata": "{}",
         "name": "transaction_month",
         "type": "\"string\""
        },
        {
         "metadata": "{}",
         "name": "total_orders",
         "type": "\"long\""
        },
        {
         "metadata": "{}",
         "name": "total_items_bought",
         "type": "\"long\""
        },
        {
         "metadata": "{}",
         "name": "total_amount",
         "type": "\"long\""
        }
       ],
       "type": "table"
      }
     },
     "output_type": "display_data"
    }
   ],
   "source": [
    "SELECT * FROM gizmobox.gold.customer_order_summary_monthly LIMIT 10;"
   ]
  }
 ],
 "metadata": {
  "application/vnd.databricks.v1+notebook": {
   "computePreferences": null,
   "dashboards": [],
   "environmentMetadata": {
    "base_environment": "",
    "environment_version": "3"
   },
   "inputWidgetPreferences": null,
   "language": "sql",
   "notebookMetadata": {
    "pythonIndentUnit": 4
   },
   "notebookName": "19. Monthly Order Summary",
   "widgets": {}
  },
  "language_info": {
   "name": "sql"
  }
 },
 "nbformat": 4,
 "nbformat_minor": 0
}