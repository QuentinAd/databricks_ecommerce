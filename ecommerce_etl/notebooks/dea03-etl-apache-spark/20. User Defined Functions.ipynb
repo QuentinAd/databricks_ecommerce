{
 "cells": [
  {
   "cell_type": "markdown",
   "metadata": {
    "application/vnd.databricks.v1+cell": {
     "cellMetadata": {},
     "inputWidgets": {},
     "nuid": "1090e455-adb2-4a39-9278-12c548d1a6c6",
     "showTitle": false,
     "tableResultSettingsMap": {},
     "title": ""
    }
   },
   "source": [
    "## User Defined Functions (UDF)\n",
    "\n",
    "  > - User Defined Functions (UDF) in Spark are custom functions created by users to extend the capabilities of Spark SQL and PySpark. \n",
    "  > - UDFs allow us to perform calculations or transformations to apply business logic that are not possible with built-in functions\n",
    "  > - You define the function once and use it accross multiple queries.\n",
    "  > - SQL UDFs are recommended over Python UDFs due to better optimization\n"
   ]
  },
  {
   "cell_type": "markdown",
   "metadata": {
    "application/vnd.databricks.v1+cell": {
     "cellMetadata": {},
     "inputWidgets": {},
     "nuid": "194d87aa-775a-4de2-b304-aa949e08602d",
     "showTitle": false,
     "tableResultSettingsMap": {},
     "title": ""
    }
   },
   "source": [
    "#### Syntax\n",
    "-----------------------------------------------------------------------------\n",
    "**CREATE OR REPLACE FUNCTION** catalog_name.schema_name.udf_name(param_name data_type)   \n",
    "**RETURNS** return_type   \n",
    "**RETURN** expression;"
   ]
  },
  {
   "cell_type": "markdown",
   "metadata": {
    "application/vnd.databricks.v1+cell": {
     "cellMetadata": {},
     "inputWidgets": {},
     "nuid": "a174e642-f8ed-4329-b840-0950a8f27ce1",
     "showTitle": false,
     "tableResultSettingsMap": {},
     "title": ""
    }
   },
   "source": [
    "#### Write a function to concatenate firstname and surname to and output the fullname"
   ]
  },
  {
   "cell_type": "code",
   "execution_count": 0,
   "metadata": {
    "application/vnd.databricks.v1+cell": {
     "cellMetadata": {
      "byteLimit": 2048000,
      "rowLimit": 10000
     },
     "inputWidgets": {},
     "nuid": "acc31f53-84ee-4d3e-aab5-c87320d3cbef",
     "showTitle": false,
     "tableResultSettingsMap": {},
     "title": ""
    }
   },
   "outputs": [],
   "source": [
    "CREATE OR REPLACE FUNCTION gizmobox.default.get_fullname(firstname STRING, surname STRING)\n",
    "RETURNS STRING\n",
    "RETURN CONCAT(initcap(firstname), ' ', initcap(surname));"
   ]
  },
  {
   "cell_type": "code",
   "execution_count": 0,
   "metadata": {
    "application/vnd.databricks.v1+cell": {
     "cellMetadata": {
      "byteLimit": 2048000,
      "rowLimit": 10000
     },
     "inputWidgets": {},
     "nuid": "c920de39-ddd2-4939-9f4a-11bc1e0ba4f6",
     "showTitle": false,
     "tableResultSettingsMap": {},
     "title": ""
    }
   },
   "outputs": [
    {
     "output_type": "display_data",
     "data": {
      "text/html": [
       "<style scoped>\n",
       "  .table-result-container {\n",
       "    max-height: 300px;\n",
       "    overflow: auto;\n",
       "  }\n",
       "  table, th, td {\n",
       "    border: 1px solid black;\n",
       "    border-collapse: collapse;\n",
       "  }\n",
       "  th, td {\n",
       "    padding: 5px;\n",
       "  }\n",
       "  th {\n",
       "    text-align: left;\n",
       "  }\n",
       "</style><div class='table-result-container'><table class='table-result'><thead style='background-color: white'><tr><th>gizmobox.default.get_fullname('john','smith')</th></tr></thead><tbody><tr><td>John Smith</td></tr></tbody></table></div>"
      ]
     },
     "metadata": {
      "application/vnd.databricks.v1+output": {
       "addedWidgets": {},
       "aggData": [],
       "aggError": "",
       "aggOverflow": false,
       "aggSchema": [],
       "aggSeriesLimitReached": false,
       "aggType": "",
       "arguments": {},
       "columnCustomDisplayInfos": {},
       "data": [
        [
         "John Smith"
        ]
       ],
       "datasetInfos": [
        {
         "name": "_sqldf",
         "schema": {
          "fields": [
           {
            "metadata": {},
            "name": "gizmobox.default.get_fullname('john','smith')",
            "nullable": false,
            "type": "string"
           }
          ],
          "type": "struct"
         },
         "tableIdentifier": null,
         "typeStr": "pyspark.sql.connect.dataframe.DataFrame"
        }
       ],
       "dbfsResultPath": null,
       "isJsonSchema": true,
       "metadata": {
        "createTempViewForImplicitDf": true,
        "dataframeName": "_sqldf",
        "executionCount": 2
       },
       "overflow": false,
       "plotOptions": {
        "customPlotOptions": {},
        "displayType": "table",
        "pivotAggregation": null,
        "pivotColumns": null,
        "xColumns": null,
        "yColumns": null
       },
       "removedWidgets": [],
       "schema": [
        {
         "metadata": "{}",
         "name": "gizmobox.default.get_fullname('john','smith')",
         "type": "\"string\""
        }
       ],
       "type": "table"
      }
     },
     "output_type": "display_data"
    }
   ],
   "source": [
    "SELECT gizmobox.default.get_fullname('john', 'smith');"
   ]
  },
  {
   "cell_type": "code",
   "execution_count": 0,
   "metadata": {
    "application/vnd.databricks.v1+cell": {
     "cellMetadata": {
      "byteLimit": 2048000,
      "rowLimit": 10000
     },
     "inputWidgets": {},
     "nuid": "714886bd-37b3-4121-b6be-86c97dd9bedd",
     "showTitle": false,
     "tableResultSettingsMap": {},
     "title": ""
    }
   },
   "outputs": [
    {
     "output_type": "display_data",
     "data": {
      "text/html": [
       "<style scoped>\n",
       "  .table-result-container {\n",
       "    max-height: 300px;\n",
       "    overflow: auto;\n",
       "  }\n",
       "  table, th, td {\n",
       "    border: 1px solid black;\n",
       "    border-collapse: collapse;\n",
       "  }\n",
       "  th, td {\n",
       "    padding: 5px;\n",
       "  }\n",
       "  th {\n",
       "    text-align: left;\n",
       "  }\n",
       "</style><div class='table-result-container'><table class='table-result'><thead style='background-color: white'><tr><th>function_desc</th></tr></thead><tbody><tr><td>Function:      gizmobox.default.get_fullname</td></tr><tr><td>Type:          SCALAR</td></tr><tr><td>Input:         firstname STRING</td></tr><tr><td>               surname   STRING</td></tr><tr><td>Returns:       STRING</td></tr><tr><td>Collation:     UTF8_BINARY</td></tr><tr><td>Deterministic: true</td></tr><tr><td>Data Access:   CONTAINS SQL</td></tr><tr><td>Configs:       spark.connect.session.connectML.enabled=false</td></tr><tr><td>               spark.databricks.docingest.client.v2.enabled=true</td></tr><tr><td>               spark.databricks.sql.expression.aiFunctions.repartition=0</td></tr><tr><td>               spark.databricks.sql.functions.aiForecast.enabled=false</td></tr><tr><td>               spark.databricks.sql.functions.aiFunctions.adaptiveThreadPool.clusterSizeBasedGlobalParallelism.scaleFactor=512.0</td></tr><tr><td>               spark.databricks.sql.functions.aiFunctions.adaptiveThreadPool.debugLogEnabled=true</td></tr><tr><td>               spark.databricks.sql.functions.aiFunctions.adaptiveThreadPool.dynamicPoolSizeEnabled=false</td></tr><tr><td>               spark.databricks.sql.functions.aiFunctions.adaptiveThreadPool.enabled=true</td></tr><tr><td>               spark.databricks.sql.functions.aiFunctions.adaptiveThreadPool.maxPoolSize=2048</td></tr><tr><td>               spark.databricks.sql.functions.aiFunctions.adaptiveThreadPool.scaleUpThresholdCurrentQpsIncreaseRatio=0.0</td></tr><tr><td>               spark.databricks.sql.functions.aiFunctions.adaptiveThreadPool.scaleUpThresholdSuccessRatio=0.95</td></tr><tr><td>               spark.databricks.sql.functions.aiFunctions.adaptiveThreadPool.scaleUpThresholdTotalQpsIncreaseRatio=0.0</td></tr><tr><td>               spark.databricks.sql.functions.aiFunctions.adaptiveThreadPool.taskWaitTimeInSeconds=1000</td></tr><tr><td>               spark.databricks.sql.functions.aiFunctions.adaptiveThreadPool.threadKeepAliveTimeInSeconds=600</td></tr><tr><td>               spark.databricks.sql.functions.aiFunctions.adaptiveThreadPool.useDynamicTaskQueueExecutor=false</td></tr><tr><td>               spark.databricks.sql.functions.aiFunctions.batch.aiQuery.embedding.request.size=40</td></tr><tr><td>               spark.databricks.sql.functions.aiFunctions.batch.execution.size=2048</td></tr><tr><td>               spark.databricks.sql.functions.aiFunctions.batchInferenceApi.enabled=true</td></tr><tr><td>               spark.databricks.sql.functions.aiFunctions.batchSession.enabled=true</td></tr><tr><td>               spark.databricks.sql.functions.aiFunctions.batchSession.terminate.enabled=true</td></tr><tr><td>               spark.databricks.sql.functions.aiFunctions.decimal.dataType.enabled=true</td></tr><tr><td>               spark.databricks.sql.functions.aiFunctions.embeddingsEndpointName=databricks-gte-large-en</td></tr><tr><td>               spark.databricks.sql.functions.aiFunctions.extract.tileMetadata.enabled=true</td></tr><tr><td>               spark.databricks.sql.functions.aiFunctions.model.parameters.enabled=true</td></tr><tr><td>               spark.databricks.sql.functions.aiFunctions.modelEndpointTypeParsing.enabled=true</td></tr><tr><td>               spark.databricks.sql.functions.aiFunctions.purposeBuiltFunctions.batch.execution.enabled=true</td></tr><tr><td>               spark.databricks.sql.functions.aiFunctions.purposeBuiltFunctions.translate.instruction=### Instruction\n",
       "\n",
       "Translate the provided text to %s, and output only the translated text\n",
       "in the target language in this format: <DBSQLAI>translated text</DBSQLAI>.\n",
       "\n",
       "If the text is already in the target language, output the provided text.\n",
       "\n",
       "### Text\n",
       "\n",
       "%s</td></tr><tr><td>               spark.databricks.sql.functions.aiFunctions.remoteHttpClient.maxConnections=2048</td></tr><tr><td>               spark.databricks.sql.functions.aiFunctions.remoteHttpClient.timeoutInSeconds=360</td></tr><tr><td>               spark.databricks.sql.functions.aiFunctions.safe.inference.enabled=true</td></tr><tr><td>               spark.databricks.sql.functions.aiFunctions.useDedicatedHttpClient=true</td></tr><tr><td>               spark.databricks.sql.functions.aiFunctions.vectorSearch.initialRetryIntervalMillis=1000</td></tr><tr><td>               spark.databricks.sql.functions.aiFunctions.vectorSearch.maxRetryInterval=120000</td></tr><tr><td>               spark.databricks.sql.functions.aiFunctions.vectorSearch.retryIntervalMultiplierFactor=2.0</td></tr><tr><td>               spark.databricks.sql.functions.aiGen.endpointName=databricks-meta-llama-3-3-70b-instruct</td></tr><tr><td>               spark.databricks.sql.functions.aiQuery.openAI.oSeries.model.list=o1-mini,o1,o3-mini,o3,o4-mini,gpt-5,gpt-5-mini,gpt-5-nano</td></tr><tr><td>               spark.databricks.sql.functions.vectorSearch.enabled=true</td></tr><tr><td>               spark.databricks.sql.functions.vectorSearch.use.indexIdentifierOnly=true</td></tr><tr><td>               spark.sql.ansi.enabled=true</td></tr><tr><td>               spark.sql.artifact.isolation.enabled=true</td></tr><tr><td>               spark.sql.cte.recursion.enabled=true</td></tr><tr><td>               spark.sql.defaultStorage.useDefaultStorageForCreateCatalogWithoutLocation.enabled=true</td></tr><tr><td>               spark.sql.functions.remoteHttpClient.retryOn400TimeoutError=true</td></tr><tr><td>               spark.sql.hive.convertCTAS=true</td></tr><tr><td>               spark.sql.legacy.codingErrorAction=true</td></tr><tr><td>               spark.sql.legacy.createHiveTableByDefault=false</td></tr><tr><td>               spark.sql.orc.compression.codec=snappy</td></tr><tr><td>               spark.sql.parquet.compression.codec=snappy</td></tr><tr><td>               spark.sql.readSideCharPadding=true</td></tr><tr><td>               spark.sql.scripting.enabled=true</td></tr><tr><td>               spark.sql.shuffleDependency.skipMigration.enabled=true</td></tr><tr><td>               spark.sql.sources.commitProtocolClass=com.databricks.sql.transaction.directory.DirectoryAtomicCommitProtocol</td></tr><tr><td>               spark.sql.sources.default=delta</td></tr><tr><td>               spark.sql.stableDerivedColumnAlias.enabled=true</td></tr><tr><td>               spark.sql.streaming.stateStore.providerClass=com.databricks.sql.streaming.state.RocksDBStateStoreProvider</td></tr><tr><td>               spark.sql.streaming.statefulOperator.stateRebalancing.enabled=false</td></tr><tr><td>               spark.sql.streaming.stopTimeout=15s</td></tr><tr><td>               spark.sql.variable.substitute=false</td></tr><tr><td>Owner:         qadam2602@gmail.com</td></tr><tr><td>Create Time:   Thu Sep 04 18:43:33 UTC 2025</td></tr><tr><td>Body:          CONCAT(initcap(firstname), ' ', initcap(surname))</td></tr></tbody></table></div>"
      ]
     },
     "metadata": {
      "application/vnd.databricks.v1+output": {
       "addedWidgets": {},
       "aggData": [],
       "aggError": "",
       "aggOverflow": false,
       "aggSchema": [],
       "aggSeriesLimitReached": false,
       "aggType": "",
       "arguments": {},
       "columnCustomDisplayInfos": {},
       "data": [
        [
         "Function:      gizmobox.default.get_fullname"
        ],
        [
         "Type:          SCALAR"
        ],
        [
         "Input:         firstname STRING"
        ],
        [
         "               surname   STRING"
        ],
        [
         "Returns:       STRING"
        ],
        [
         "Collation:     UTF8_BINARY"
        ],
        [
         "Deterministic: true"
        ],
        [
         "Data Access:   CONTAINS SQL"
        ],
        [
         "Configs:       spark.connect.session.connectML.enabled=false"
        ],
        [
         "               spark.databricks.docingest.client.v2.enabled=true"
        ],
        [
         "               spark.databricks.sql.expression.aiFunctions.repartition=0"
        ],
        [
         "               spark.databricks.sql.functions.aiForecast.enabled=false"
        ],
        [
         "               spark.databricks.sql.functions.aiFunctions.adaptiveThreadPool.clusterSizeBasedGlobalParallelism.scaleFactor=512.0"
        ],
        [
         "               spark.databricks.sql.functions.aiFunctions.adaptiveThreadPool.debugLogEnabled=true"
        ],
        [
         "               spark.databricks.sql.functions.aiFunctions.adaptiveThreadPool.dynamicPoolSizeEnabled=false"
        ],
        [
         "               spark.databricks.sql.functions.aiFunctions.adaptiveThreadPool.enabled=true"
        ],
        [
         "               spark.databricks.sql.functions.aiFunctions.adaptiveThreadPool.maxPoolSize=2048"
        ],
        [
         "               spark.databricks.sql.functions.aiFunctions.adaptiveThreadPool.scaleUpThresholdCurrentQpsIncreaseRatio=0.0"
        ],
        [
         "               spark.databricks.sql.functions.aiFunctions.adaptiveThreadPool.scaleUpThresholdSuccessRatio=0.95"
        ],
        [
         "               spark.databricks.sql.functions.aiFunctions.adaptiveThreadPool.scaleUpThresholdTotalQpsIncreaseRatio=0.0"
        ],
        [
         "               spark.databricks.sql.functions.aiFunctions.adaptiveThreadPool.taskWaitTimeInSeconds=1000"
        ],
        [
         "               spark.databricks.sql.functions.aiFunctions.adaptiveThreadPool.threadKeepAliveTimeInSeconds=600"
        ],
        [
         "               spark.databricks.sql.functions.aiFunctions.adaptiveThreadPool.useDynamicTaskQueueExecutor=false"
        ],
        [
         "               spark.databricks.sql.functions.aiFunctions.batch.aiQuery.embedding.request.size=40"
        ],
        [
         "               spark.databricks.sql.functions.aiFunctions.batch.execution.size=2048"
        ],
        [
         "               spark.databricks.sql.functions.aiFunctions.batchInferenceApi.enabled=true"
        ],
        [
         "               spark.databricks.sql.functions.aiFunctions.batchSession.enabled=true"
        ],
        [
         "               spark.databricks.sql.functions.aiFunctions.batchSession.terminate.enabled=true"
        ],
        [
         "               spark.databricks.sql.functions.aiFunctions.decimal.dataType.enabled=true"
        ],
        [
         "               spark.databricks.sql.functions.aiFunctions.embeddingsEndpointName=databricks-gte-large-en"
        ],
        [
         "               spark.databricks.sql.functions.aiFunctions.extract.tileMetadata.enabled=true"
        ],
        [
         "               spark.databricks.sql.functions.aiFunctions.model.parameters.enabled=true"
        ],
        [
         "               spark.databricks.sql.functions.aiFunctions.modelEndpointTypeParsing.enabled=true"
        ],
        [
         "               spark.databricks.sql.functions.aiFunctions.purposeBuiltFunctions.batch.execution.enabled=true"
        ],
        [
         "               spark.databricks.sql.functions.aiFunctions.purposeBuiltFunctions.translate.instruction=### Instruction\n\nTranslate the provided text to %s, and output only the translated text\nin the target language in this format: <DBSQLAI>translated text</DBSQLAI>.\n\nIf the text is already in the target language, output the provided text.\n\n### Text\n\n%s"
        ],
        [
         "               spark.databricks.sql.functions.aiFunctions.remoteHttpClient.maxConnections=2048"
        ],
        [
         "               spark.databricks.sql.functions.aiFunctions.remoteHttpClient.timeoutInSeconds=360"
        ],
        [
         "               spark.databricks.sql.functions.aiFunctions.safe.inference.enabled=true"
        ],
        [
         "               spark.databricks.sql.functions.aiFunctions.useDedicatedHttpClient=true"
        ],
        [
         "               spark.databricks.sql.functions.aiFunctions.vectorSearch.initialRetryIntervalMillis=1000"
        ],
        [
         "               spark.databricks.sql.functions.aiFunctions.vectorSearch.maxRetryInterval=120000"
        ],
        [
         "               spark.databricks.sql.functions.aiFunctions.vectorSearch.retryIntervalMultiplierFactor=2.0"
        ],
        [
         "               spark.databricks.sql.functions.aiGen.endpointName=databricks-meta-llama-3-3-70b-instruct"
        ],
        [
         "               spark.databricks.sql.functions.aiQuery.openAI.oSeries.model.list=o1-mini,o1,o3-mini,o3,o4-mini,gpt-5,gpt-5-mini,gpt-5-nano"
        ],
        [
         "               spark.databricks.sql.functions.vectorSearch.enabled=true"
        ],
        [
         "               spark.databricks.sql.functions.vectorSearch.use.indexIdentifierOnly=true"
        ],
        [
         "               spark.sql.ansi.enabled=true"
        ],
        [
         "               spark.sql.artifact.isolation.enabled=true"
        ],
        [
         "               spark.sql.cte.recursion.enabled=true"
        ],
        [
         "               spark.sql.defaultStorage.useDefaultStorageForCreateCatalogWithoutLocation.enabled=true"
        ],
        [
         "               spark.sql.functions.remoteHttpClient.retryOn400TimeoutError=true"
        ],
        [
         "               spark.sql.hive.convertCTAS=true"
        ],
        [
         "               spark.sql.legacy.codingErrorAction=true"
        ],
        [
         "               spark.sql.legacy.createHiveTableByDefault=false"
        ],
        [
         "               spark.sql.orc.compression.codec=snappy"
        ],
        [
         "               spark.sql.parquet.compression.codec=snappy"
        ],
        [
         "               spark.sql.readSideCharPadding=true"
        ],
        [
         "               spark.sql.scripting.enabled=true"
        ],
        [
         "               spark.sql.shuffleDependency.skipMigration.enabled=true"
        ],
        [
         "               spark.sql.sources.commitProtocolClass=com.databricks.sql.transaction.directory.DirectoryAtomicCommitProtocol"
        ],
        [
         "               spark.sql.sources.default=delta"
        ],
        [
         "               spark.sql.stableDerivedColumnAlias.enabled=true"
        ],
        [
         "               spark.sql.streaming.stateStore.providerClass=com.databricks.sql.streaming.state.RocksDBStateStoreProvider"
        ],
        [
         "               spark.sql.streaming.statefulOperator.stateRebalancing.enabled=false"
        ],
        [
         "               spark.sql.streaming.stopTimeout=15s"
        ],
        [
         "               spark.sql.variable.substitute=false"
        ],
        [
         "Owner:         qadam2602@gmail.com"
        ],
        [
         "Create Time:   Thu Sep 04 18:43:33 UTC 2025"
        ],
        [
         "Body:          CONCAT(initcap(firstname), ' ', initcap(surname))"
        ]
       ],
       "datasetInfos": [
        {
         "name": "_sqldf",
         "schema": {
          "fields": [
           {
            "metadata": {},
            "name": "function_desc",
            "nullable": false,
            "type": "string"
           }
          ],
          "type": "struct"
         },
         "tableIdentifier": null,
         "typeStr": "pyspark.sql.connect.dataframe.DataFrame"
        }
       ],
       "dbfsResultPath": null,
       "isJsonSchema": true,
       "metadata": {
        "createTempViewForImplicitDf": true,
        "dataframeName": "_sqldf",
        "executionCount": 3
       },
       "overflow": false,
       "plotOptions": {
        "customPlotOptions": {},
        "displayType": "table",
        "pivotAggregation": null,
        "pivotColumns": null,
        "xColumns": null,
        "yColumns": null
       },
       "removedWidgets": [],
       "schema": [
        {
         "metadata": "{}",
         "name": "function_desc",
         "type": "\"string\""
        }
       ],
       "type": "table"
      }
     },
     "output_type": "display_data"
    }
   ],
   "source": [
    "DESC FUNCTION EXTENDED gizmobox.default.get_fullname;"
   ]
  },
  {
   "cell_type": "markdown",
   "metadata": {
    "application/vnd.databricks.v1+cell": {
     "cellMetadata": {},
     "inputWidgets": {},
     "nuid": "f693a3d1-f4a1-4fb5-bfe4-c63fbb1c3e64",
     "showTitle": false,
     "tableResultSettingsMap": {},
     "title": ""
    }
   },
   "source": [
    "#### Write a function to Title caps a string and strip"
   ]
  },
  {
   "cell_type": "code",
   "execution_count": 0,
   "metadata": {
    "application/vnd.databricks.v1+cell": {
     "cellMetadata": {
      "byteLimit": 2048000,
      "rowLimit": 10000
     },
     "inputWidgets": {},
     "nuid": "f432f3ad-82e0-4023-a046-32102f3e07b1",
     "showTitle": false,
     "tableResultSettingsMap": {},
     "title": ""
    }
   },
   "outputs": [],
   "source": [
    "CREATE OR REPLACE FUNCTION gizmobox.default.title_case_single_string(string_to_case STRING)\n",
    "RETURNS STRING\n",
    "RETURN initcap(regexp_replace(string_to_case, '^[^a-zA-Z]+|[^a-zA-Z]+$', ''));"
   ]
  },
  {
   "cell_type": "markdown",
   "metadata": {
    "application/vnd.databricks.v1+cell": {
     "cellMetadata": {},
     "inputWidgets": {},
     "nuid": "091a792c-76d7-4f4c-8382-a49a8afb0d29",
     "showTitle": false,
     "tableResultSettingsMap": {},
     "title": ""
    }
   },
   "source": [
    "#### Write a function to get the description of the payment status"
   ]
  },
  {
   "cell_type": "code",
   "execution_count": 0,
   "metadata": {
    "application/vnd.databricks.v1+cell": {
     "cellMetadata": {
      "byteLimit": 2048000,
      "rowLimit": 10000
     },
     "inputWidgets": {},
     "nuid": "d8235793-83d8-44e0-9eb3-c35b70fb6903",
     "showTitle": false,
     "tableResultSettingsMap": {},
     "title": ""
    }
   },
   "outputs": [],
   "source": [
    "CREATE OR REPLACE FUNCTION gizmobox.default.get_payment_status(payment_status INT)\n",
    "RETURNS STRING\n",
    "RETURN CASE payment_status\n",
    "         WHEN 1 THEN 'success'\n",
    "         WHEN 2 THEN 'pending'\n",
    "         WHEN 3 THEN 'cancelled'\n",
    "         WHEN 4 THEN 'failed'\n",
    "       END;"
   ]
  },
  {
   "cell_type": "code",
   "execution_count": 0,
   "metadata": {
    "application/vnd.databricks.v1+cell": {
     "cellMetadata": {
      "byteLimit": 2048000,
      "rowLimit": 10000
     },
     "inputWidgets": {},
     "nuid": "0f9fe7a3-abc7-4122-8495-db4dbd5a2560",
     "showTitle": false,
     "tableResultSettingsMap": {},
     "title": ""
    }
   },
   "outputs": [
    {
     "output_type": "display_data",
     "data": {
      "text/html": [
       "<style scoped>\n",
       "  .table-result-container {\n",
       "    max-height: 300px;\n",
       "    overflow: auto;\n",
       "  }\n",
       "  table, th, td {\n",
       "    border: 1px solid black;\n",
       "    border-collapse: collapse;\n",
       "  }\n",
       "  th, td {\n",
       "    padding: 5px;\n",
       "  }\n",
       "  th {\n",
       "    text-align: left;\n",
       "  }\n",
       "</style><div class='table-result-container'><table class='table-result'><thead style='background-color: white'><tr><th>payment_id</th><th>payment_status</th><th>payment_status_cases</th></tr></thead><tbody><tr><td>35</td><td>2</td><td>pending</td></tr><tr><td>36</td><td>4</td><td>failed</td></tr><tr><td>37</td><td>1</td><td>success</td></tr><tr><td>38</td><td>1</td><td>success</td></tr><tr><td>39</td><td>2</td><td>pending</td></tr><tr><td>40</td><td>4</td><td>failed</td></tr><tr><td>41</td><td>1</td><td>success</td></tr><tr><td>42</td><td>2</td><td>pending</td></tr><tr><td>43</td><td>1</td><td>success</td></tr><tr><td>44</td><td>1</td><td>success</td></tr><tr><td>45</td><td>4</td><td>failed</td></tr><tr><td>46</td><td>2</td><td>pending</td></tr><tr><td>47</td><td>1</td><td>success</td></tr><tr><td>48</td><td>1</td><td>success</td></tr><tr><td>49</td><td>2</td><td>pending</td></tr><tr><td>50</td><td>4</td><td>failed</td></tr><tr><td>51</td><td>1</td><td>success</td></tr><tr><td>52</td><td>1</td><td>success</td></tr><tr><td>53</td><td>2</td><td>pending</td></tr><tr><td>54</td><td>1</td><td>success</td></tr><tr><td>55</td><td>1</td><td>success</td></tr><tr><td>56</td><td>4</td><td>failed</td></tr><tr><td>57</td><td>1</td><td>success</td></tr><tr><td>58</td><td>2</td><td>pending</td></tr><tr><td>59</td><td>4</td><td>failed</td></tr><tr><td>60</td><td>1</td><td>success</td></tr><tr><td>61</td><td>2</td><td>pending</td></tr><tr><td>62</td><td>1</td><td>success</td></tr><tr><td>63</td><td>4</td><td>failed</td></tr><tr><td>65</td><td>2</td><td>pending</td></tr><tr><td>66</td><td>4</td><td>failed</td></tr><tr><td>67</td><td>1</td><td>success</td></tr><tr><td>68</td><td>2</td><td>pending</td></tr><tr><td>69</td><td>4</td><td>failed</td></tr><tr><td>70</td><td>1</td><td>success</td></tr><tr><td>71</td><td>1</td><td>success</td></tr><tr><td>72</td><td>2</td><td>pending</td></tr><tr><td>73</td><td>4</td><td>failed</td></tr><tr><td>74</td><td>1</td><td>success</td></tr><tr><td>75</td><td>2</td><td>pending</td></tr><tr><td>76</td><td>4</td><td>failed</td></tr><tr><td>77</td><td>1</td><td>success</td></tr><tr><td>78</td><td>1</td><td>success</td></tr><tr><td>79</td><td>2</td><td>pending</td></tr><tr><td>80</td><td>4</td><td>failed</td></tr><tr><td>81</td><td>1</td><td>success</td></tr><tr><td>82</td><td>2</td><td>pending</td></tr><tr><td>83</td><td>4</td><td>failed</td></tr><tr><td>84</td><td>1</td><td>success</td></tr><tr><td>85</td><td>2</td><td>pending</td></tr><tr><td>86</td><td>1</td><td>success</td></tr><tr><td>87</td><td>4</td><td>failed</td></tr><tr><td>88</td><td>1</td><td>success</td></tr><tr><td>89</td><td>2</td><td>pending</td></tr><tr><td>90</td><td>1</td><td>success</td></tr><tr><td>91</td><td>4</td><td>failed</td></tr><tr><td>15</td><td>2</td><td>pending</td></tr><tr><td>16</td><td>4</td><td>failed</td></tr><tr><td>17</td><td>1</td><td>success</td></tr><tr><td>18</td><td>1</td><td>success</td></tr><tr><td>19</td><td>1</td><td>success</td></tr><tr><td>20</td><td>2</td><td>pending</td></tr><tr><td>21</td><td>1</td><td>success</td></tr><tr><td>22</td><td>4</td><td>failed</td></tr><tr><td>23</td><td>1</td><td>success</td></tr><tr><td>24</td><td>1</td><td>success</td></tr><tr><td>25</td><td>2</td><td>pending</td></tr><tr><td>26</td><td>4</td><td>failed</td></tr><tr><td>27</td><td>1</td><td>success</td></tr><tr><td>28</td><td>1</td><td>success</td></tr><tr><td>29</td><td>2</td><td>pending</td></tr><tr><td>30</td><td>1</td><td>success</td></tr><tr><td>31</td><td>4</td><td>failed</td></tr><tr><td>32</td><td>1</td><td>success</td></tr><tr><td>33</td><td>2</td><td>pending</td></tr><tr><td>2</td><td>2</td><td>pending</td></tr><tr><td>3</td><td>4</td><td>failed</td></tr><tr><td>4</td><td>1</td><td>success</td></tr><tr><td>5</td><td>2</td><td>pending</td></tr><tr><td>6</td><td>4</td><td>failed</td></tr><tr><td>7</td><td>1</td><td>success</td></tr><tr><td>8</td><td>2</td><td>pending</td></tr><tr><td>9</td><td>3</td><td>cancelled</td></tr><tr><td>10</td><td>1</td><td>success</td></tr><tr><td>11</td><td>1</td><td>success</td></tr><tr><td>12</td><td>4</td><td>failed</td></tr><tr><td>13</td><td>1</td><td>success</td></tr></tbody></table></div>"
      ]
     },
     "metadata": {
      "application/vnd.databricks.v1+output": {
       "addedWidgets": {},
       "aggData": [],
       "aggError": "",
       "aggOverflow": false,
       "aggSchema": [],
       "aggSeriesLimitReached": false,
       "aggType": "",
       "arguments": {},
       "columnCustomDisplayInfos": {},
       "data": [
        [
         35,
         2,
         "pending"
        ],
        [
         36,
         4,
         "failed"
        ],
        [
         37,
         1,
         "success"
        ],
        [
         38,
         1,
         "success"
        ],
        [
         39,
         2,
         "pending"
        ],
        [
         40,
         4,
         "failed"
        ],
        [
         41,
         1,
         "success"
        ],
        [
         42,
         2,
         "pending"
        ],
        [
         43,
         1,
         "success"
        ],
        [
         44,
         1,
         "success"
        ],
        [
         45,
         4,
         "failed"
        ],
        [
         46,
         2,
         "pending"
        ],
        [
         47,
         1,
         "success"
        ],
        [
         48,
         1,
         "success"
        ],
        [
         49,
         2,
         "pending"
        ],
        [
         50,
         4,
         "failed"
        ],
        [
         51,
         1,
         "success"
        ],
        [
         52,
         1,
         "success"
        ],
        [
         53,
         2,
         "pending"
        ],
        [
         54,
         1,
         "success"
        ],
        [
         55,
         1,
         "success"
        ],
        [
         56,
         4,
         "failed"
        ],
        [
         57,
         1,
         "success"
        ],
        [
         58,
         2,
         "pending"
        ],
        [
         59,
         4,
         "failed"
        ],
        [
         60,
         1,
         "success"
        ],
        [
         61,
         2,
         "pending"
        ],
        [
         62,
         1,
         "success"
        ],
        [
         63,
         4,
         "failed"
        ],
        [
         65,
         2,
         "pending"
        ],
        [
         66,
         4,
         "failed"
        ],
        [
         67,
         1,
         "success"
        ],
        [
         68,
         2,
         "pending"
        ],
        [
         69,
         4,
         "failed"
        ],
        [
         70,
         1,
         "success"
        ],
        [
         71,
         1,
         "success"
        ],
        [
         72,
         2,
         "pending"
        ],
        [
         73,
         4,
         "failed"
        ],
        [
         74,
         1,
         "success"
        ],
        [
         75,
         2,
         "pending"
        ],
        [
         76,
         4,
         "failed"
        ],
        [
         77,
         1,
         "success"
        ],
        [
         78,
         1,
         "success"
        ],
        [
         79,
         2,
         "pending"
        ],
        [
         80,
         4,
         "failed"
        ],
        [
         81,
         1,
         "success"
        ],
        [
         82,
         2,
         "pending"
        ],
        [
         83,
         4,
         "failed"
        ],
        [
         84,
         1,
         "success"
        ],
        [
         85,
         2,
         "pending"
        ],
        [
         86,
         1,
         "success"
        ],
        [
         87,
         4,
         "failed"
        ],
        [
         88,
         1,
         "success"
        ],
        [
         89,
         2,
         "pending"
        ],
        [
         90,
         1,
         "success"
        ],
        [
         91,
         4,
         "failed"
        ],
        [
         15,
         2,
         "pending"
        ],
        [
         16,
         4,
         "failed"
        ],
        [
         17,
         1,
         "success"
        ],
        [
         18,
         1,
         "success"
        ],
        [
         19,
         1,
         "success"
        ],
        [
         20,
         2,
         "pending"
        ],
        [
         21,
         1,
         "success"
        ],
        [
         22,
         4,
         "failed"
        ],
        [
         23,
         1,
         "success"
        ],
        [
         24,
         1,
         "success"
        ],
        [
         25,
         2,
         "pending"
        ],
        [
         26,
         4,
         "failed"
        ],
        [
         27,
         1,
         "success"
        ],
        [
         28,
         1,
         "success"
        ],
        [
         29,
         2,
         "pending"
        ],
        [
         30,
         1,
         "success"
        ],
        [
         31,
         4,
         "failed"
        ],
        [
         32,
         1,
         "success"
        ],
        [
         33,
         2,
         "pending"
        ],
        [
         2,
         2,
         "pending"
        ],
        [
         3,
         4,
         "failed"
        ],
        [
         4,
         1,
         "success"
        ],
        [
         5,
         2,
         "pending"
        ],
        [
         6,
         4,
         "failed"
        ],
        [
         7,
         1,
         "success"
        ],
        [
         8,
         2,
         "pending"
        ],
        [
         9,
         3,
         "cancelled"
        ],
        [
         10,
         1,
         "success"
        ],
        [
         11,
         1,
         "success"
        ],
        [
         12,
         4,
         "failed"
        ],
        [
         13,
         1,
         "success"
        ]
       ],
       "datasetInfos": [
        {
         "name": "_sqldf",
         "schema": {
          "fields": [
           {
            "metadata": {},
            "name": "payment_id",
            "nullable": true,
            "type": "integer"
           },
           {
            "metadata": {},
            "name": "payment_status",
            "nullable": true,
            "type": "integer"
           },
           {
            "metadata": {},
            "name": "payment_status_cases",
            "nullable": true,
            "type": "string"
           }
          ],
          "type": "struct"
         },
         "tableIdentifier": null,
         "typeStr": "pyspark.sql.connect.dataframe.DataFrame"
        }
       ],
       "dbfsResultPath": null,
       "isJsonSchema": true,
       "metadata": {
        "createTempViewForImplicitDf": true,
        "dataframeName": "_sqldf",
        "executionCount": 164
       },
       "overflow": false,
       "plotOptions": {
        "customPlotOptions": {},
        "displayType": "table",
        "pivotAggregation": null,
        "pivotColumns": null,
        "xColumns": null,
        "yColumns": null
       },
       "removedWidgets": [],
       "schema": [
        {
         "metadata": "{}",
         "name": "payment_id",
         "type": "\"integer\""
        },
        {
         "metadata": "{}",
         "name": "payment_status",
         "type": "\"integer\""
        },
        {
         "metadata": "{}",
         "name": "payment_status_cases",
         "type": "\"string\""
        }
       ],
       "type": "table"
      }
     },
     "output_type": "display_data"
    }
   ],
   "source": [
    "SELECT payment_id,\n",
    "       payment_status,\n",
    "       gizmobox.default.get_payment_status(payment_status) AS payment_status_cases\n",
    "  FROM gizmobox.bronze.payments;"
   ]
  },
  {
   "cell_type": "code",
   "execution_count": 0,
   "metadata": {
    "application/vnd.databricks.v1+cell": {
     "cellMetadata": {
      "byteLimit": 2048000,
      "rowLimit": 10000
     },
     "inputWidgets": {},
     "nuid": "0619b446-6353-4e0d-b489-03650d793fee",
     "showTitle": false,
     "tableResultSettingsMap": {},
     "title": ""
    }
   },
   "outputs": [
    {
     "output_type": "display_data",
     "data": {
      "text/html": [
       "<style scoped>\n",
       "  .table-result-container {\n",
       "    max-height: 300px;\n",
       "    overflow: auto;\n",
       "  }\n",
       "  table, th, td {\n",
       "    border: 1px solid black;\n",
       "    border-collapse: collapse;\n",
       "  }\n",
       "  th, td {\n",
       "    padding: 5px;\n",
       "  }\n",
       "  th {\n",
       "    text-align: left;\n",
       "  }\n",
       "</style><div class='table-result-container'><table class='table-result'><thead style='background-color: white'><tr><th>payment_id</th><th>payment_status</th><th>payment_status_cleaned</th></tr></thead><tbody><tr><td>2</td><td>pending</td><td>Pending</td></tr><tr><td>3</td><td>failed</td><td>Failed</td></tr><tr><td>4</td><td>success</td><td>Success</td></tr><tr><td>5</td><td>pending</td><td>Pending</td></tr><tr><td>6</td><td>failed</td><td>Failed</td></tr><tr><td>7</td><td>success</td><td>Success</td></tr><tr><td>8</td><td>pending</td><td>Pending</td></tr><tr><td>9</td><td>cancelled</td><td>Cancelled</td></tr><tr><td>10</td><td>success</td><td>Success</td></tr><tr><td>11</td><td>success</td><td>Success</td></tr><tr><td>12</td><td>failed</td><td>Failed</td></tr><tr><td>13</td><td>success</td><td>Success</td></tr><tr><td>15</td><td>pending</td><td>Pending</td></tr><tr><td>16</td><td>failed</td><td>Failed</td></tr><tr><td>17</td><td>success</td><td>Success</td></tr><tr><td>18</td><td>success</td><td>Success</td></tr><tr><td>19</td><td>success</td><td>Success</td></tr><tr><td>20</td><td>pending</td><td>Pending</td></tr><tr><td>21</td><td>success</td><td>Success</td></tr><tr><td>22</td><td>failed</td><td>Failed</td></tr><tr><td>23</td><td>success</td><td>Success</td></tr><tr><td>24</td><td>success</td><td>Success</td></tr><tr><td>25</td><td>pending</td><td>Pending</td></tr><tr><td>26</td><td>failed</td><td>Failed</td></tr><tr><td>27</td><td>success</td><td>Success</td></tr><tr><td>28</td><td>success</td><td>Success</td></tr><tr><td>29</td><td>pending</td><td>Pending</td></tr><tr><td>30</td><td>success</td><td>Success</td></tr><tr><td>31</td><td>failed</td><td>Failed</td></tr><tr><td>32</td><td>success</td><td>Success</td></tr><tr><td>33</td><td>pending</td><td>Pending</td></tr><tr><td>35</td><td>pending</td><td>Pending</td></tr><tr><td>36</td><td>failed</td><td>Failed</td></tr><tr><td>37</td><td>success</td><td>Success</td></tr><tr><td>38</td><td>success</td><td>Success</td></tr><tr><td>39</td><td>pending</td><td>Pending</td></tr><tr><td>40</td><td>failed</td><td>Failed</td></tr><tr><td>41</td><td>success</td><td>Success</td></tr><tr><td>42</td><td>pending</td><td>Pending</td></tr><tr><td>43</td><td>success</td><td>Success</td></tr><tr><td>44</td><td>success</td><td>Success</td></tr><tr><td>45</td><td>failed</td><td>Failed</td></tr><tr><td>46</td><td>pending</td><td>Pending</td></tr><tr><td>47</td><td>success</td><td>Success</td></tr><tr><td>48</td><td>success</td><td>Success</td></tr><tr><td>49</td><td>pending</td><td>Pending</td></tr><tr><td>50</td><td>failed</td><td>Failed</td></tr><tr><td>51</td><td>success</td><td>Success</td></tr><tr><td>52</td><td>success</td><td>Success</td></tr><tr><td>53</td><td>pending</td><td>Pending</td></tr><tr><td>54</td><td>success</td><td>Success</td></tr><tr><td>55</td><td>success</td><td>Success</td></tr><tr><td>56</td><td>failed</td><td>Failed</td></tr><tr><td>57</td><td>success</td><td>Success</td></tr><tr><td>58</td><td>pending</td><td>Pending</td></tr><tr><td>59</td><td>failed</td><td>Failed</td></tr><tr><td>60</td><td>success</td><td>Success</td></tr><tr><td>61</td><td>pending</td><td>Pending</td></tr><tr><td>62</td><td>success</td><td>Success</td></tr><tr><td>63</td><td>failed</td><td>Failed</td></tr><tr><td>65</td><td>pending</td><td>Pending</td></tr><tr><td>66</td><td>failed</td><td>Failed</td></tr><tr><td>67</td><td>success</td><td>Success</td></tr><tr><td>68</td><td>pending</td><td>Pending</td></tr><tr><td>69</td><td>failed</td><td>Failed</td></tr><tr><td>70</td><td>success</td><td>Success</td></tr><tr><td>71</td><td>success</td><td>Success</td></tr><tr><td>72</td><td>pending</td><td>Pending</td></tr><tr><td>73</td><td>failed</td><td>Failed</td></tr><tr><td>74</td><td>success</td><td>Success</td></tr><tr><td>75</td><td>pending</td><td>Pending</td></tr><tr><td>76</td><td>failed</td><td>Failed</td></tr><tr><td>77</td><td>success</td><td>Success</td></tr><tr><td>78</td><td>success</td><td>Success</td></tr><tr><td>79</td><td>pending</td><td>Pending</td></tr><tr><td>80</td><td>failed</td><td>Failed</td></tr><tr><td>81</td><td>success</td><td>Success</td></tr><tr><td>82</td><td>pending</td><td>Pending</td></tr><tr><td>83</td><td>failed</td><td>Failed</td></tr><tr><td>84</td><td>success</td><td>Success</td></tr><tr><td>85</td><td>pending</td><td>Pending</td></tr><tr><td>86</td><td>success</td><td>Success</td></tr><tr><td>87</td><td>failed</td><td>Failed</td></tr><tr><td>88</td><td>success</td><td>Success</td></tr><tr><td>89</td><td>pending</td><td>Pending</td></tr><tr><td>90</td><td>success</td><td>Success</td></tr><tr><td>91</td><td>failed</td><td>Failed</td></tr></tbody></table></div>"
      ]
     },
     "metadata": {
      "application/vnd.databricks.v1+output": {
       "addedWidgets": {},
       "aggData": [],
       "aggError": "",
       "aggOverflow": false,
       "aggSchema": [],
       "aggSeriesLimitReached": false,
       "aggType": "",
       "arguments": {},
       "columnCustomDisplayInfos": {},
       "data": [
        [
         2,
         "pending",
         "Pending"
        ],
        [
         3,
         "failed",
         "Failed"
        ],
        [
         4,
         "success",
         "Success"
        ],
        [
         5,
         "pending",
         "Pending"
        ],
        [
         6,
         "failed",
         "Failed"
        ],
        [
         7,
         "success",
         "Success"
        ],
        [
         8,
         "pending",
         "Pending"
        ],
        [
         9,
         "cancelled",
         "Cancelled"
        ],
        [
         10,
         "success",
         "Success"
        ],
        [
         11,
         "success",
         "Success"
        ],
        [
         12,
         "failed",
         "Failed"
        ],
        [
         13,
         "success",
         "Success"
        ],
        [
         15,
         "pending",
         "Pending"
        ],
        [
         16,
         "failed",
         "Failed"
        ],
        [
         17,
         "success",
         "Success"
        ],
        [
         18,
         "success",
         "Success"
        ],
        [
         19,
         "success",
         "Success"
        ],
        [
         20,
         "pending",
         "Pending"
        ],
        [
         21,
         "success",
         "Success"
        ],
        [
         22,
         "failed",
         "Failed"
        ],
        [
         23,
         "success",
         "Success"
        ],
        [
         24,
         "success",
         "Success"
        ],
        [
         25,
         "pending",
         "Pending"
        ],
        [
         26,
         "failed",
         "Failed"
        ],
        [
         27,
         "success",
         "Success"
        ],
        [
         28,
         "success",
         "Success"
        ],
        [
         29,
         "pending",
         "Pending"
        ],
        [
         30,
         "success",
         "Success"
        ],
        [
         31,
         "failed",
         "Failed"
        ],
        [
         32,
         "success",
         "Success"
        ],
        [
         33,
         "pending",
         "Pending"
        ],
        [
         35,
         "pending",
         "Pending"
        ],
        [
         36,
         "failed",
         "Failed"
        ],
        [
         37,
         "success",
         "Success"
        ],
        [
         38,
         "success",
         "Success"
        ],
        [
         39,
         "pending",
         "Pending"
        ],
        [
         40,
         "failed",
         "Failed"
        ],
        [
         41,
         "success",
         "Success"
        ],
        [
         42,
         "pending",
         "Pending"
        ],
        [
         43,
         "success",
         "Success"
        ],
        [
         44,
         "success",
         "Success"
        ],
        [
         45,
         "failed",
         "Failed"
        ],
        [
         46,
         "pending",
         "Pending"
        ],
        [
         47,
         "success",
         "Success"
        ],
        [
         48,
         "success",
         "Success"
        ],
        [
         49,
         "pending",
         "Pending"
        ],
        [
         50,
         "failed",
         "Failed"
        ],
        [
         51,
         "success",
         "Success"
        ],
        [
         52,
         "success",
         "Success"
        ],
        [
         53,
         "pending",
         "Pending"
        ],
        [
         54,
         "success",
         "Success"
        ],
        [
         55,
         "success",
         "Success"
        ],
        [
         56,
         "failed",
         "Failed"
        ],
        [
         57,
         "success",
         "Success"
        ],
        [
         58,
         "pending",
         "Pending"
        ],
        [
         59,
         "failed",
         "Failed"
        ],
        [
         60,
         "success",
         "Success"
        ],
        [
         61,
         "pending",
         "Pending"
        ],
        [
         62,
         "success",
         "Success"
        ],
        [
         63,
         "failed",
         "Failed"
        ],
        [
         65,
         "pending",
         "Pending"
        ],
        [
         66,
         "failed",
         "Failed"
        ],
        [
         67,
         "success",
         "Success"
        ],
        [
         68,
         "pending",
         "Pending"
        ],
        [
         69,
         "failed",
         "Failed"
        ],
        [
         70,
         "success",
         "Success"
        ],
        [
         71,
         "success",
         "Success"
        ],
        [
         72,
         "pending",
         "Pending"
        ],
        [
         73,
         "failed",
         "Failed"
        ],
        [
         74,
         "success",
         "Success"
        ],
        [
         75,
         "pending",
         "Pending"
        ],
        [
         76,
         "failed",
         "Failed"
        ],
        [
         77,
         "success",
         "Success"
        ],
        [
         78,
         "success",
         "Success"
        ],
        [
         79,
         "pending",
         "Pending"
        ],
        [
         80,
         "failed",
         "Failed"
        ],
        [
         81,
         "success",
         "Success"
        ],
        [
         82,
         "pending",
         "Pending"
        ],
        [
         83,
         "failed",
         "Failed"
        ],
        [
         84,
         "success",
         "Success"
        ],
        [
         85,
         "pending",
         "Pending"
        ],
        [
         86,
         "success",
         "Success"
        ],
        [
         87,
         "failed",
         "Failed"
        ],
        [
         88,
         "success",
         "Success"
        ],
        [
         89,
         "pending",
         "Pending"
        ],
        [
         90,
         "success",
         "Success"
        ],
        [
         91,
         "failed",
         "Failed"
        ]
       ],
       "datasetInfos": [
        {
         "name": "_sqldf",
         "schema": {
          "fields": [
           {
            "metadata": {},
            "name": "payment_id",
            "nullable": true,
            "type": "integer"
           },
           {
            "metadata": {},
            "name": "payment_status",
            "nullable": true,
            "type": "string"
           },
           {
            "metadata": {},
            "name": "payment_status_cleaned",
            "nullable": true,
            "type": "string"
           }
          ],
          "type": "struct"
         },
         "tableIdentifier": null,
         "typeStr": "pyspark.sql.connect.dataframe.DataFrame"
        }
       ],
       "dbfsResultPath": null,
       "isJsonSchema": true,
       "metadata": {
        "createTempViewForImplicitDf": true,
        "dataframeName": "_sqldf",
        "executionCount": 165
       },
       "overflow": false,
       "plotOptions": {
        "customPlotOptions": {},
        "displayType": "table",
        "pivotAggregation": null,
        "pivotColumns": null,
        "xColumns": null,
        "yColumns": null
       },
       "removedWidgets": [],
       "schema": [
        {
         "metadata": "{}",
         "name": "payment_id",
         "type": "\"integer\""
        },
        {
         "metadata": "{}",
         "name": "payment_status",
         "type": "\"string\""
        },
        {
         "metadata": "{}",
         "name": "payment_status_cleaned",
         "type": "\"string\""
        }
       ],
       "type": "table"
      }
     },
     "output_type": "display_data"
    }
   ],
   "source": [
    "SELECT payment_id,\n",
    "       payment_status,\n",
    "       gizmobox.default.title_case_single_string(payment_status) AS payment_status_cleaned\n",
    "  FROM gizmobox.silver.payments;"
   ]
  },
  {
   "cell_type": "markdown",
   "metadata": {
    "application/vnd.databricks.v1+cell": {
     "cellMetadata": {},
     "inputWidgets": {},
     "nuid": "b20b7dfe-03d3-4f4b-8380-7d7fc87c458b",
     "showTitle": false,
     "tableResultSettingsMap": {},
     "title": ""
    }
   },
   "source": [
    "#### Create a function to flag only one string as 1 and the rest as 0"
   ]
  },
  {
   "cell_type": "code",
   "execution_count": 0,
   "metadata": {
    "application/vnd.databricks.v1+cell": {
     "cellMetadata": {
      "byteLimit": 2048000,
      "rowLimit": 10000
     },
     "inputWidgets": {},
     "nuid": "4e7891a6-f548-4c44-bb84-c9cad3622bd5",
     "showTitle": false,
     "tableResultSettingsMap": {},
     "title": ""
    }
   },
   "outputs": [],
   "source": [
    "CREATE OR REPLACE FUNCTION gizmobox.default.get_one_hot_string(column_name STRING, lookup_value STRING)\n",
    "RETURNS INT\n",
    "RETURN\n",
    "  CASE column_name\n",
    "    WHEN lookup_value THEN 1\n",
    "    ELSE 0\n",
    "  END;"
   ]
  },
  {
   "cell_type": "code",
   "execution_count": 0,
   "metadata": {
    "application/vnd.databricks.v1+cell": {
     "cellMetadata": {
      "byteLimit": 2048000,
      "rowLimit": 10000
     },
     "inputWidgets": {},
     "nuid": "019b8c8d-9bd0-409a-baf4-36bf5e71cb1a",
     "showTitle": false,
     "tableResultSettingsMap": {},
     "title": ""
    }
   },
   "outputs": [
    {
     "output_type": "display_data",
     "data": {
      "text/html": [
       "<style scoped>\n",
       "  .table-result-container {\n",
       "    max-height: 300px;\n",
       "    overflow: auto;\n",
       "  }\n",
       "  table, th, td {\n",
       "    border: 1px solid black;\n",
       "    border-collapse: collapse;\n",
       "  }\n",
       "  th, td {\n",
       "    padding: 5px;\n",
       "  }\n",
       "  th {\n",
       "    text-align: left;\n",
       "  }\n",
       "</style><div class='table-result-container'><table class='table-result'><thead style='background-color: white'><tr><th>order_id</th><th>order_status</th><th>payment_method</th><th>total_amount</th><th>transaction_timestamp</th><th>customer_id</th><th>item_id</th><th>name</th><th>price</th><th>quantity</th><th>category</th><th>brand</th><th>color</th></tr></thead><tbody><tr><td>1</td><td>Completed</td><td>Bank Transfer</td><td>499</td><td>2025-01-05 10:13:59</td><td>6973</td><td>8</td><td>Gaming Console</td><td>499</td><td>1</td><td>Electronics</td><td>Sony</td><td>Blue</td></tr><tr><td>2</td><td>Cancelled</td><td>PayPal</td><td>985</td><td>2025-01-19 00:05:13</td><td>3532</td><td>7</td><td>External Hard Drive</td><td>129</td><td>3</td><td>Electronics</td><td>Dell</td><td>Blue</td></tr><tr><td>2</td><td>Cancelled</td><td>PayPal</td><td>985</td><td>2025-01-19 00:05:13</td><td>3532</td><td>4</td><td>Smartwatch</td><td>299</td><td>2</td><td>Electronics</td><td>Canon</td><td>Gray</td></tr><tr><td>3</td><td>Completed</td><td>Bank Transfer</td><td>597</td><td>2025-01-08 23:11:00</td><td>3532</td><td>3</td><td>Wireless Headphones</td><td>199</td><td>3</td><td>Electronics</td><td>Apple</td><td>White</td></tr><tr><td>4</td><td>Cancelled</td><td>Bank Transfer</td><td>999</td><td>2025-01-05 05:49:26</td><td>3532</td><td>2</td><td>Laptop</td><td>999</td><td>1</td><td>Electronics</td><td>Microsoft</td><td>Black</td></tr><tr><td>5</td><td>Cancelled</td><td>Bank Transfer</td><td>998</td><td>2024-11-16 23:07:31</td><td>3892</td><td>8</td><td>Gaming Console</td><td>499</td><td>2</td><td>Electronics</td><td>Dell</td><td>Blue</td></tr><tr><td>6</td><td>Pending</td><td>Credit Card</td><td>799</td><td>2024-10-28 04:47:27</td><td>1987</td><td>10</td><td>Drone</td><td>799</td><td>1</td><td>Electronics</td><td>GoPro</td><td>Black</td></tr><tr><td>7</td><td>Pending</td><td>Credit Card</td><td>645</td><td>2024-11-19 19:18:48</td><td>1987</td><td>7</td><td>External Hard Drive</td><td>129</td><td>3</td><td>Electronics</td><td>HP</td><td>Gray</td></tr><tr><td>7</td><td>Pending</td><td>Credit Card</td><td>645</td><td>2024-11-19 19:18:48</td><td>1987</td><td>7</td><td>External Hard Drive</td><td>129</td><td>2</td><td>Electronics</td><td>LG</td><td>Blue</td></tr><tr><td>8</td><td>Completed</td><td>PayPal</td><td>399</td><td>2025-01-02 13:11:15</td><td>9179</td><td>5</td><td>Tablet</td><td>399</td><td>1</td><td>Electronics</td><td>LG</td><td>White</td></tr></tbody></table></div>"
      ]
     },
     "metadata": {
      "application/vnd.databricks.v1+output": {
       "addedWidgets": {},
       "aggData": [],
       "aggError": "",
       "aggOverflow": false,
       "aggSchema": [],
       "aggSeriesLimitReached": false,
       "aggType": "",
       "arguments": {},
       "columnCustomDisplayInfos": {},
       "data": [
        [
         1,
         "Completed",
         "Bank Transfer",
         499,
         "2025-01-05 10:13:59",
         6973,
         8,
         "Gaming Console",
         499,
         1,
         "Electronics",
         "Sony",
         "Blue"
        ],
        [
         2,
         "Cancelled",
         "PayPal",
         985,
         "2025-01-19 00:05:13",
         3532,
         7,
         "External Hard Drive",
         129,
         3,
         "Electronics",
         "Dell",
         "Blue"
        ],
        [
         2,
         "Cancelled",
         "PayPal",
         985,
         "2025-01-19 00:05:13",
         3532,
         4,
         "Smartwatch",
         299,
         2,
         "Electronics",
         "Canon",
         "Gray"
        ],
        [
         3,
         "Completed",
         "Bank Transfer",
         597,
         "2025-01-08 23:11:00",
         3532,
         3,
         "Wireless Headphones",
         199,
         3,
         "Electronics",
         "Apple",
         "White"
        ],
        [
         4,
         "Cancelled",
         "Bank Transfer",
         999,
         "2025-01-05 05:49:26",
         3532,
         2,
         "Laptop",
         999,
         1,
         "Electronics",
         "Microsoft",
         "Black"
        ],
        [
         5,
         "Cancelled",
         "Bank Transfer",
         998,
         "2024-11-16 23:07:31",
         3892,
         8,
         "Gaming Console",
         499,
         2,
         "Electronics",
         "Dell",
         "Blue"
        ],
        [
         6,
         "Pending",
         "Credit Card",
         799,
         "2024-10-28 04:47:27",
         1987,
         10,
         "Drone",
         799,
         1,
         "Electronics",
         "GoPro",
         "Black"
        ],
        [
         7,
         "Pending",
         "Credit Card",
         645,
         "2024-11-19 19:18:48",
         1987,
         7,
         "External Hard Drive",
         129,
         3,
         "Electronics",
         "HP",
         "Gray"
        ],
        [
         7,
         "Pending",
         "Credit Card",
         645,
         "2024-11-19 19:18:48",
         1987,
         7,
         "External Hard Drive",
         129,
         2,
         "Electronics",
         "LG",
         "Blue"
        ],
        [
         8,
         "Completed",
         "PayPal",
         399,
         "2025-01-02 13:11:15",
         9179,
         5,
         "Tablet",
         399,
         1,
         "Electronics",
         "LG",
         "White"
        ]
       ],
       "datasetInfos": [
        {
         "name": "_sqldf",
         "schema": {
          "fields": [
           {
            "metadata": {},
            "name": "order_id",
            "nullable": true,
            "type": "long"
           },
           {
            "metadata": {},
            "name": "order_status",
            "nullable": true,
            "type": "string"
           },
           {
            "metadata": {},
            "name": "payment_method",
            "nullable": true,
            "type": "string"
           },
           {
            "metadata": {},
            "name": "total_amount",
            "nullable": true,
            "type": "long"
           },
           {
            "metadata": {},
            "name": "transaction_timestamp",
            "nullable": true,
            "type": "string"
           },
           {
            "metadata": {},
            "name": "customer_id",
            "nullable": true,
            "type": "long"
           },
           {
            "metadata": {},
            "name": "item_id",
            "nullable": true,
            "type": "long"
           },
           {
            "metadata": {},
            "name": "name",
            "nullable": true,
            "type": "string"
           },
           {
            "metadata": {},
            "name": "price",
            "nullable": true,
            "type": "long"
           },
           {
            "metadata": {},
            "name": "quantity",
            "nullable": true,
            "type": "long"
           },
           {
            "metadata": {},
            "name": "category",
            "nullable": true,
            "type": "string"
           },
           {
            "metadata": {},
            "name": "brand",
            "nullable": true,
            "type": "string"
           },
           {
            "metadata": {},
            "name": "color",
            "nullable": true,
            "type": "string"
           }
          ],
          "type": "struct"
         },
         "tableIdentifier": null,
         "typeStr": "pyspark.sql.connect.dataframe.DataFrame"
        }
       ],
       "dbfsResultPath": null,
       "isJsonSchema": true,
       "metadata": {
        "createTempViewForImplicitDf": true,
        "dataframeName": "_sqldf",
        "executionCount": 82
       },
       "overflow": false,
       "plotOptions": {
        "customPlotOptions": {},
        "displayType": "table",
        "pivotAggregation": null,
        "pivotColumns": null,
        "xColumns": null,
        "yColumns": null
       },
       "removedWidgets": [],
       "schema": [
        {
         "metadata": "{}",
         "name": "order_id",
         "type": "\"long\""
        },
        {
         "metadata": "{}",
         "name": "order_status",
         "type": "\"string\""
        },
        {
         "metadata": "{}",
         "name": "payment_method",
         "type": "\"string\""
        },
        {
         "metadata": "{}",
         "name": "total_amount",
         "type": "\"long\""
        },
        {
         "metadata": "{}",
         "name": "transaction_timestamp",
         "type": "\"string\""
        },
        {
         "metadata": "{}",
         "name": "customer_id",
         "type": "\"long\""
        },
        {
         "metadata": "{}",
         "name": "item_id",
         "type": "\"long\""
        },
        {
         "metadata": "{}",
         "name": "name",
         "type": "\"string\""
        },
        {
         "metadata": "{}",
         "name": "price",
         "type": "\"long\""
        },
        {
         "metadata": "{}",
         "name": "quantity",
         "type": "\"long\""
        },
        {
         "metadata": "{}",
         "name": "category",
         "type": "\"string\""
        },
        {
         "metadata": "{}",
         "name": "brand",
         "type": "\"string\""
        },
        {
         "metadata": "{}",
         "name": "color",
         "type": "\"string\""
        }
       ],
       "type": "table"
      }
     },
     "output_type": "display_data"
    }
   ],
   "source": [
    "SELECT\n",
    "*\n",
    "FROM gizmobox.silver.orders\n",
    "ORDER BY order_id\n",
    "LIMIT 10;"
   ]
  },
  {
   "cell_type": "code",
   "execution_count": 0,
   "metadata": {
    "application/vnd.databricks.v1+cell": {
     "cellMetadata": {},
     "inputWidgets": {},
     "nuid": "87c522b2-1858-4bc6-8179-15683644d8bc",
     "showTitle": false,
     "tableResultSettingsMap": {},
     "title": ""
    }
   },
   "outputs": [
    {
     "output_type": "display_data",
     "data": {
      "text/html": [
       "<style scoped>\n",
       "  .table-result-container {\n",
       "    max-height: 300px;\n",
       "    overflow: auto;\n",
       "  }\n",
       "  table, th, td {\n",
       "    border: 1px solid black;\n",
       "    border-collapse: collapse;\n",
       "  }\n",
       "  th, td {\n",
       "    padding: 5px;\n",
       "  }\n",
       "  th {\n",
       "    text-align: left;\n",
       "  }\n",
       "</style><div class='table-result-container'><table class='table-result'><thead style='background-color: white'><tr><th>failed_payment</th><th>payment_id</th><th>order_id</th><th>payment_date</th><th>payment_time</th><th>payment_status</th><th>payment_method</th></tr></thead><tbody><tr><td>0</td><td>2</td><td>10</td><td>2024-10-09</td><td>22:09:27</td><td>pending</td><td>Credit Card</td></tr><tr><td>1</td><td>3</td><td>11</td><td>2024-10-15</td><td>17:34:19</td><td>failed</td><td>Bank Transfer</td></tr><tr><td>0</td><td>4</td><td>15</td><td>2024-10-22</td><td>01:47:25</td><td>success</td><td>Bank Transfer</td></tr><tr><td>0</td><td>5</td><td>19</td><td>2024-10-15</td><td>12:40:26</td><td>pending</td><td>PayPal</td></tr><tr><td>1</td><td>6</td><td>39</td><td>2024-10-31</td><td>21:39:19</td><td>failed</td><td>PayPal</td></tr><tr><td>0</td><td>7</td><td>55</td><td>2024-10-27</td><td>05:49:16</td><td>success</td><td>Bank Transfer</td></tr><tr><td>0</td><td>8</td><td>59</td><td>2024-10-25</td><td>02:51:05</td><td>pending</td><td>PayPal</td></tr><tr><td>0</td><td>9</td><td>72</td><td>2024-10-08</td><td>10:23:28</td><td>cancelled</td><td>PayPal</td></tr><tr><td>0</td><td>10</td><td>77</td><td>2024-10-17</td><td>13:09:33</td><td>success</td><td>Credit Card</td></tr><tr><td>0</td><td>11</td><td>84</td><td>2024-10-27</td><td>03:37:42</td><td>success</td><td>PayPal</td></tr></tbody></table></div>"
      ]
     },
     "metadata": {
      "application/vnd.databricks.v1+output": {
       "addedWidgets": {},
       "aggData": [],
       "aggError": "",
       "aggOverflow": false,
       "aggSchema": [],
       "aggSeriesLimitReached": false,
       "aggType": "",
       "arguments": {},
       "columnCustomDisplayInfos": {},
       "data": [
        [
         0,
         2,
         10,
         "2024-10-09",
         "22:09:27",
         "pending",
         "Credit Card"
        ],
        [
         1,
         3,
         11,
         "2024-10-15",
         "17:34:19",
         "failed",
         "Bank Transfer"
        ],
        [
         0,
         4,
         15,
         "2024-10-22",
         "01:47:25",
         "success",
         "Bank Transfer"
        ],
        [
         0,
         5,
         19,
         "2024-10-15",
         "12:40:26",
         "pending",
         "PayPal"
        ],
        [
         1,
         6,
         39,
         "2024-10-31",
         "21:39:19",
         "failed",
         "PayPal"
        ],
        [
         0,
         7,
         55,
         "2024-10-27",
         "05:49:16",
         "success",
         "Bank Transfer"
        ],
        [
         0,
         8,
         59,
         "2024-10-25",
         "02:51:05",
         "pending",
         "PayPal"
        ],
        [
         0,
         9,
         72,
         "2024-10-08",
         "10:23:28",
         "cancelled",
         "PayPal"
        ],
        [
         0,
         10,
         77,
         "2024-10-17",
         "13:09:33",
         "success",
         "Credit Card"
        ],
        [
         0,
         11,
         84,
         "2024-10-27",
         "03:37:42",
         "success",
         "PayPal"
        ]
       ],
       "datasetInfos": [
        {
         "name": "_sqldf",
         "schema": {
          "fields": [
           {
            "metadata": {},
            "name": "failed_payment",
            "nullable": false,
            "type": "integer"
           },
           {
            "metadata": {},
            "name": "payment_id",
            "nullable": true,
            "type": "integer"
           },
           {
            "metadata": {},
            "name": "order_id",
            "nullable": true,
            "type": "integer"
           },
           {
            "metadata": {},
            "name": "payment_date",
            "nullable": true,
            "type": "string"
           },
           {
            "metadata": {},
            "name": "payment_time",
            "nullable": true,
            "type": "string"
           },
           {
            "metadata": {},
            "name": "payment_status",
            "nullable": true,
            "type": "string"
           },
           {
            "metadata": {},
            "name": "payment_method",
            "nullable": true,
            "type": "string"
           }
          ],
          "type": "struct"
         },
         "tableIdentifier": null,
         "typeStr": "pyspark.sql.connect.dataframe.DataFrame"
        }
       ],
       "dbfsResultPath": null,
       "isJsonSchema": true,
       "metadata": {
        "createTempViewForImplicitDf": true,
        "dataframeName": "_sqldf",
        "executionCount": 84
       },
       "overflow": false,
       "plotOptions": {
        "customPlotOptions": {},
        "displayType": "table",
        "pivotAggregation": null,
        "pivotColumns": null,
        "xColumns": null,
        "yColumns": null
       },
       "removedWidgets": [],
       "schema": [
        {
         "metadata": "{}",
         "name": "failed_payment",
         "type": "\"integer\""
        },
        {
         "metadata": "{}",
         "name": "payment_id",
         "type": "\"integer\""
        },
        {
         "metadata": "{}",
         "name": "order_id",
         "type": "\"integer\""
        },
        {
         "metadata": "{}",
         "name": "payment_date",
         "type": "\"string\""
        },
        {
         "metadata": "{}",
         "name": "payment_time",
         "type": "\"string\""
        },
        {
         "metadata": "{}",
         "name": "payment_status",
         "type": "\"string\""
        },
        {
         "metadata": "{}",
         "name": "payment_method",
         "type": "\"string\""
        }
       ],
       "type": "table"
      }
     },
     "output_type": "display_data"
    }
   ],
   "source": [
    "SELECT\n",
    "gizmobox.default.get_one_hot_string(payment_status, 'failed') as failed_payment,\n",
    "*\n",
    "FROM gizmobox.silver.payments\n",
    "ORDER BY payment_id\n",
    "LIMIT 10;"
   ]
  },
  {
   "cell_type": "code",
   "execution_count": 0,
   "metadata": {
    "application/vnd.databricks.v1+cell": {
     "cellMetadata": {
      "byteLimit": 2048000,
      "rowLimit": 10000
     },
     "inputWidgets": {},
     "nuid": "753e6a58-948b-4f5b-aecb-13fc79ccc874",
     "showTitle": false,
     "tableResultSettingsMap": {},
     "title": ""
    }
   },
   "outputs": [
    {
     "output_type": "display_data",
     "data": {
      "text/html": [
       "<style scoped>\n",
       "  .table-result-container {\n",
       "    max-height: 300px;\n",
       "    overflow: auto;\n",
       "  }\n",
       "  table, th, td {\n",
       "    border: 1px solid black;\n",
       "    border-collapse: collapse;\n",
       "  }\n",
       "  th, td {\n",
       "    padding: 5px;\n",
       "  }\n",
       "  th {\n",
       "    text-align: left;\n",
       "  }\n",
       "</style><div class='table-result-container'><table class='table-result'><thead style='background-color: white'><tr><th>failed_payment</th><th>order_id</th><th>payment_id</th><th>order_status</th><th>payment_method</th><th>payment_date</th></tr></thead><tbody><tr><td>1</td><td>11</td><td>3</td><td>Pending</td><td>Bank Transfer</td><td>2024-10-15</td></tr><tr><td>1</td><td>39</td><td>6</td><td>Shipped</td><td>PayPal</td><td>2024-10-31</td></tr><tr><td>1</td><td>85</td><td>12</td><td>Shipped</td><td>Bank Transfer</td><td>2024-10-25</td></tr><tr><td>1</td><td>9</td><td>16</td><td>Shipped</td><td>Bank Transfer</td><td>2024-11-27</td></tr><tr><td>1</td><td>35</td><td>22</td><td>Shipped</td><td>Bank Transfer</td><td>2024-11-20</td></tr><tr><td>1</td><td>47</td><td>26</td><td>Shipped</td><td>Bank Transfer</td><td>2024-11-28</td></tr><tr><td>1</td><td>92</td><td>91</td><td>Shipped</td><td>PayPal</td><td>2025-01-03</td></tr><tr><td>1</td><td>16</td><td>36</td><td>Pending</td><td>Bank Transfer</td><td>2024-12-09</td></tr><tr><td>1</td><td>28</td><td>40</td><td>Cancelled</td><td>Credit Card</td><td>2024-12-27</td></tr><tr><td>1</td><td>49</td><td>45</td><td>Cancelled</td><td>PayPal</td><td>2024-12-08</td></tr><tr><td>1</td><td>49</td><td>45</td><td>Cancelled</td><td>PayPal</td><td>2024-12-08</td></tr><tr><td>1</td><td>49</td><td>45</td><td>Cancelled</td><td>PayPal</td><td>2024-12-08</td></tr><tr><td>1</td><td>65</td><td>83</td><td>Cancelled</td><td>PayPal</td><td>2025-01-06</td></tr><tr><td>1</td><td>67</td><td>31</td><td>Shipped</td><td>Credit Card</td><td>2024-11-13</td></tr><tr><td>1</td><td>80</td><td>87</td><td>Cancelled</td><td>PayPal</td><td>2025-01-19</td></tr><tr><td>1</td><td>91</td><td>59</td><td>Cancelled</td><td>Bank Transfer</td><td>2024-12-18</td></tr><tr><td>1</td><td>14</td><td>69</td><td>Cancelled</td><td>PayPal</td><td>2025-01-01</td></tr><tr><td>1</td><td>29</td><td>73</td><td>Pending</td><td>Bank Transfer</td><td>2025-01-18</td></tr><tr><td>1</td><td>53</td><td>80</td><td>Pending</td><td>Credit Card</td><td>2025-01-15</td></tr><tr><td>1</td><td>65</td><td>50</td><td>Cancelled</td><td>Bank Transfer</td><td>2024-12-10</td></tr><tr><td>1</td><td>80</td><td>56</td><td>Cancelled</td><td>Bank Transfer</td><td>2024-12-12</td></tr></tbody></table></div>"
      ]
     },
     "metadata": {
      "application/vnd.databricks.v1+output": {
       "addedWidgets": {},
       "aggData": [],
       "aggError": "",
       "aggOverflow": false,
       "aggSchema": [],
       "aggSeriesLimitReached": false,
       "aggType": "",
       "arguments": {},
       "columnCustomDisplayInfos": {},
       "data": [
        [
         1,
         11,
         3,
         "Pending",
         "Bank Transfer",
         "2024-10-15"
        ],
        [
         1,
         39,
         6,
         "Shipped",
         "PayPal",
         "2024-10-31"
        ],
        [
         1,
         85,
         12,
         "Shipped",
         "Bank Transfer",
         "2024-10-25"
        ],
        [
         1,
         9,
         16,
         "Shipped",
         "Bank Transfer",
         "2024-11-27"
        ],
        [
         1,
         35,
         22,
         "Shipped",
         "Bank Transfer",
         "2024-11-20"
        ],
        [
         1,
         47,
         26,
         "Shipped",
         "Bank Transfer",
         "2024-11-28"
        ],
        [
         1,
         92,
         91,
         "Shipped",
         "PayPal",
         "2025-01-03"
        ],
        [
         1,
         16,
         36,
         "Pending",
         "Bank Transfer",
         "2024-12-09"
        ],
        [
         1,
         28,
         40,
         "Cancelled",
         "Credit Card",
         "2024-12-27"
        ],
        [
         1,
         49,
         45,
         "Cancelled",
         "PayPal",
         "2024-12-08"
        ],
        [
         1,
         49,
         45,
         "Cancelled",
         "PayPal",
         "2024-12-08"
        ],
        [
         1,
         49,
         45,
         "Cancelled",
         "PayPal",
         "2024-12-08"
        ],
        [
         1,
         65,
         83,
         "Cancelled",
         "PayPal",
         "2025-01-06"
        ],
        [
         1,
         67,
         31,
         "Shipped",
         "Credit Card",
         "2024-11-13"
        ],
        [
         1,
         80,
         87,
         "Cancelled",
         "PayPal",
         "2025-01-19"
        ],
        [
         1,
         91,
         59,
         "Cancelled",
         "Bank Transfer",
         "2024-12-18"
        ],
        [
         1,
         14,
         69,
         "Cancelled",
         "PayPal",
         "2025-01-01"
        ],
        [
         1,
         29,
         73,
         "Pending",
         "Bank Transfer",
         "2025-01-18"
        ],
        [
         1,
         53,
         80,
         "Pending",
         "Credit Card",
         "2025-01-15"
        ],
        [
         1,
         65,
         50,
         "Cancelled",
         "Bank Transfer",
         "2024-12-10"
        ],
        [
         1,
         80,
         56,
         "Cancelled",
         "Bank Transfer",
         "2024-12-12"
        ]
       ],
       "datasetInfos": [
        {
         "name": "_sqldf",
         "schema": {
          "fields": [
           {
            "metadata": {},
            "name": "failed_payment",
            "nullable": false,
            "type": "integer"
           },
           {
            "metadata": {},
            "name": "order_id",
            "nullable": true,
            "type": "long"
           },
           {
            "metadata": {},
            "name": "payment_id",
            "nullable": true,
            "type": "integer"
           },
           {
            "metadata": {},
            "name": "order_status",
            "nullable": true,
            "type": "string"
           },
           {
            "metadata": {},
            "name": "payment_method",
            "nullable": true,
            "type": "string"
           },
           {
            "metadata": {},
            "name": "payment_date",
            "nullable": true,
            "type": "string"
           }
          ],
          "type": "struct"
         },
         "tableIdentifier": null,
         "typeStr": "pyspark.sql.connect.dataframe.DataFrame"
        }
       ],
       "dbfsResultPath": null,
       "isJsonSchema": true,
       "metadata": {
        "createTempViewForImplicitDf": true,
        "dataframeName": "_sqldf",
        "executionCount": 138
       },
       "overflow": false,
       "plotOptions": {
        "customPlotOptions": {},
        "displayType": "table",
        "pivotAggregation": null,
        "pivotColumns": null,
        "xColumns": null,
        "yColumns": null
       },
       "removedWidgets": [],
       "schema": [
        {
         "metadata": "{}",
         "name": "failed_payment",
         "type": "\"integer\""
        },
        {
         "metadata": "{}",
         "name": "order_id",
         "type": "\"long\""
        },
        {
         "metadata": "{}",
         "name": "payment_id",
         "type": "\"integer\""
        },
        {
         "metadata": "{}",
         "name": "order_status",
         "type": "\"string\""
        },
        {
         "metadata": "{}",
         "name": "payment_method",
         "type": "\"string\""
        },
        {
         "metadata": "{}",
         "name": "payment_date",
         "type": "\"string\""
        }
       ],
       "type": "table"
      }
     },
     "output_type": "display_data"
    }
   ],
   "source": [
    "SELECT\n",
    "gizmobox.default.get_one_hot_string(p.payment_status, 'failed') as failed_payment,\n",
    "  o.order_id,\n",
    "  p.payment_id,\n",
    "  o.order_status,\n",
    "  p.payment_method,\n",
    "  p.payment_date\n",
    "FROM gizmobox.silver.orders o\n",
    "JOIN gizmobox.silver.payments p\n",
    "ON o.order_id = p.order_id\n",
    "WHERE COALESCE(o.order_status, '') <> 'Completed'\n",
    "AND p.payment_status = 'failed';"
   ]
  },
  {
   "cell_type": "code",
   "execution_count": 0,
   "metadata": {
    "application/vnd.databricks.v1+cell": {
     "cellMetadata": {
      "byteLimit": 2048000,
      "rowLimit": 10000
     },
     "inputWidgets": {},
     "nuid": "5828c65c-b01f-426f-be13-bec764440915",
     "showTitle": false,
     "tableResultSettingsMap": {},
     "title": ""
    }
   },
   "outputs": [],
   "source": [
    "CREATE OR REPLACE TEMPORARY VIEW tv_failed_payments\n",
    "AS\n",
    "SELECT\n",
    "gizmobox.default.get_one_hot_string(p.payment_status, 'failed') as failed_payment,\n",
    "  o.order_id,\n",
    "  p.payment_id,\n",
    "  o.order_status,\n",
    "  p.payment_method,\n",
    "  p.payment_date\n",
    "FROM gizmobox.silver.orders o\n",
    "JOIN gizmobox.silver.payments p\n",
    "ON o.order_id = p.order_id\n",
    "WHERE COALESCE(o.order_status, '') <> 'Completed'\n",
    "AND p.payment_status = 'failed';"
   ]
  },
  {
   "cell_type": "code",
   "execution_count": 0,
   "metadata": {
    "application/vnd.databricks.v1+cell": {
     "cellMetadata": {
      "byteLimit": 2048000,
      "rowLimit": 10000
     },
     "inputWidgets": {},
     "nuid": "4a50113d-830a-4a0e-9c9a-43eaadd3bb45",
     "showTitle": false,
     "tableResultSettingsMap": {},
     "title": ""
    }
   },
   "outputs": [
    {
     "output_type": "display_data",
     "data": {
      "text/html": [
       "<style scoped>\n",
       "  .table-result-container {\n",
       "    max-height: 300px;\n",
       "    overflow: auto;\n",
       "  }\n",
       "  table, th, td {\n",
       "    border: 1px solid black;\n",
       "    border-collapse: collapse;\n",
       "  }\n",
       "  th, td {\n",
       "    padding: 5px;\n",
       "  }\n",
       "  th {\n",
       "    text-align: left;\n",
       "  }\n",
       "</style><div class='table-result-container'><table class='table-result'><thead style='background-color: white'><tr><th>order_id</th><th>payment_id</th><th>order_status</th><th>payment_method</th><th>payment_date</th><th>failed_attempts</th><th>first_failure_date</th><th>last_failure_date</th><th>rn_failed_latest</th></tr></thead><tbody><tr><td>9</td><td>16</td><td>Shipped</td><td>Bank Transfer</td><td>2024-11-27</td><td>1</td><td>2024-11-27</td><td>2024-11-27</td><td>1</td></tr><tr><td>11</td><td>3</td><td>Pending</td><td>Bank Transfer</td><td>2024-10-15</td><td>1</td><td>2024-10-15</td><td>2024-10-15</td><td>1</td></tr><tr><td>14</td><td>69</td><td>Cancelled</td><td>PayPal</td><td>2025-01-01</td><td>1</td><td>2025-01-01</td><td>2025-01-01</td><td>1</td></tr><tr><td>16</td><td>36</td><td>Pending</td><td>Bank Transfer</td><td>2024-12-09</td><td>1</td><td>2024-12-09</td><td>2024-12-09</td><td>1</td></tr><tr><td>28</td><td>40</td><td>Cancelled</td><td>Credit Card</td><td>2024-12-27</td><td>1</td><td>2024-12-27</td><td>2024-12-27</td><td>1</td></tr><tr><td>29</td><td>73</td><td>Pending</td><td>Bank Transfer</td><td>2025-01-18</td><td>1</td><td>2025-01-18</td><td>2025-01-18</td><td>1</td></tr><tr><td>35</td><td>22</td><td>Shipped</td><td>Bank Transfer</td><td>2024-11-20</td><td>1</td><td>2024-11-20</td><td>2024-11-20</td><td>1</td></tr><tr><td>39</td><td>6</td><td>Shipped</td><td>PayPal</td><td>2024-10-31</td><td>1</td><td>2024-10-31</td><td>2024-10-31</td><td>1</td></tr><tr><td>47</td><td>26</td><td>Shipped</td><td>Bank Transfer</td><td>2024-11-28</td><td>1</td><td>2024-11-28</td><td>2024-11-28</td><td>1</td></tr><tr><td>49</td><td>45</td><td>Cancelled</td><td>PayPal</td><td>2024-12-08</td><td>3</td><td>2024-12-08</td><td>2024-12-08</td><td>1</td></tr><tr><td>49</td><td>45</td><td>Cancelled</td><td>PayPal</td><td>2024-12-08</td><td>3</td><td>2024-12-08</td><td>2024-12-08</td><td>2</td></tr><tr><td>49</td><td>45</td><td>Cancelled</td><td>PayPal</td><td>2024-12-08</td><td>3</td><td>2024-12-08</td><td>2024-12-08</td><td>3</td></tr><tr><td>53</td><td>80</td><td>Pending</td><td>Credit Card</td><td>2025-01-15</td><td>1</td><td>2025-01-15</td><td>2025-01-15</td><td>1</td></tr><tr><td>65</td><td>83</td><td>Cancelled</td><td>PayPal</td><td>2025-01-06</td><td>2</td><td>2024-12-10</td><td>2025-01-06</td><td>1</td></tr><tr><td>65</td><td>50</td><td>Cancelled</td><td>Bank Transfer</td><td>2024-12-10</td><td>2</td><td>2024-12-10</td><td>2025-01-06</td><td>2</td></tr><tr><td>67</td><td>31</td><td>Shipped</td><td>Credit Card</td><td>2024-11-13</td><td>1</td><td>2024-11-13</td><td>2024-11-13</td><td>1</td></tr><tr><td>80</td><td>87</td><td>Cancelled</td><td>PayPal</td><td>2025-01-19</td><td>2</td><td>2024-12-12</td><td>2025-01-19</td><td>1</td></tr><tr><td>80</td><td>56</td><td>Cancelled</td><td>Bank Transfer</td><td>2024-12-12</td><td>2</td><td>2024-12-12</td><td>2025-01-19</td><td>2</td></tr><tr><td>85</td><td>12</td><td>Shipped</td><td>Bank Transfer</td><td>2024-10-25</td><td>1</td><td>2024-10-25</td><td>2024-10-25</td><td>1</td></tr><tr><td>91</td><td>59</td><td>Cancelled</td><td>Bank Transfer</td><td>2024-12-18</td><td>1</td><td>2024-12-18</td><td>2024-12-18</td><td>1</td></tr><tr><td>92</td><td>91</td><td>Shipped</td><td>PayPal</td><td>2025-01-03</td><td>1</td><td>2025-01-03</td><td>2025-01-03</td><td>1</td></tr></tbody></table></div>"
      ]
     },
     "metadata": {
      "application/vnd.databricks.v1+output": {
       "addedWidgets": {},
       "aggData": [],
       "aggError": "",
       "aggOverflow": false,
       "aggSchema": [],
       "aggSeriesLimitReached": false,
       "aggType": "",
       "arguments": {},
       "columnCustomDisplayInfos": {},
       "data": [
        [
         9,
         16,
         "Shipped",
         "Bank Transfer",
         "2024-11-27",
         1,
         "2024-11-27",
         "2024-11-27",
         1
        ],
        [
         11,
         3,
         "Pending",
         "Bank Transfer",
         "2024-10-15",
         1,
         "2024-10-15",
         "2024-10-15",
         1
        ],
        [
         14,
         69,
         "Cancelled",
         "PayPal",
         "2025-01-01",
         1,
         "2025-01-01",
         "2025-01-01",
         1
        ],
        [
         16,
         36,
         "Pending",
         "Bank Transfer",
         "2024-12-09",
         1,
         "2024-12-09",
         "2024-12-09",
         1
        ],
        [
         28,
         40,
         "Cancelled",
         "Credit Card",
         "2024-12-27",
         1,
         "2024-12-27",
         "2024-12-27",
         1
        ],
        [
         29,
         73,
         "Pending",
         "Bank Transfer",
         "2025-01-18",
         1,
         "2025-01-18",
         "2025-01-18",
         1
        ],
        [
         35,
         22,
         "Shipped",
         "Bank Transfer",
         "2024-11-20",
         1,
         "2024-11-20",
         "2024-11-20",
         1
        ],
        [
         39,
         6,
         "Shipped",
         "PayPal",
         "2024-10-31",
         1,
         "2024-10-31",
         "2024-10-31",
         1
        ],
        [
         47,
         26,
         "Shipped",
         "Bank Transfer",
         "2024-11-28",
         1,
         "2024-11-28",
         "2024-11-28",
         1
        ],
        [
         49,
         45,
         "Cancelled",
         "PayPal",
         "2024-12-08",
         3,
         "2024-12-08",
         "2024-12-08",
         1
        ],
        [
         49,
         45,
         "Cancelled",
         "PayPal",
         "2024-12-08",
         3,
         "2024-12-08",
         "2024-12-08",
         2
        ],
        [
         49,
         45,
         "Cancelled",
         "PayPal",
         "2024-12-08",
         3,
         "2024-12-08",
         "2024-12-08",
         3
        ],
        [
         53,
         80,
         "Pending",
         "Credit Card",
         "2025-01-15",
         1,
         "2025-01-15",
         "2025-01-15",
         1
        ],
        [
         65,
         83,
         "Cancelled",
         "PayPal",
         "2025-01-06",
         2,
         "2024-12-10",
         "2025-01-06",
         1
        ],
        [
         65,
         50,
         "Cancelled",
         "Bank Transfer",
         "2024-12-10",
         2,
         "2024-12-10",
         "2025-01-06",
         2
        ],
        [
         67,
         31,
         "Shipped",
         "Credit Card",
         "2024-11-13",
         1,
         "2024-11-13",
         "2024-11-13",
         1
        ],
        [
         80,
         87,
         "Cancelled",
         "PayPal",
         "2025-01-19",
         2,
         "2024-12-12",
         "2025-01-19",
         1
        ],
        [
         80,
         56,
         "Cancelled",
         "Bank Transfer",
         "2024-12-12",
         2,
         "2024-12-12",
         "2025-01-19",
         2
        ],
        [
         85,
         12,
         "Shipped",
         "Bank Transfer",
         "2024-10-25",
         1,
         "2024-10-25",
         "2024-10-25",
         1
        ],
        [
         91,
         59,
         "Cancelled",
         "Bank Transfer",
         "2024-12-18",
         1,
         "2024-12-18",
         "2024-12-18",
         1
        ],
        [
         92,
         91,
         "Shipped",
         "PayPal",
         "2025-01-03",
         1,
         "2025-01-03",
         "2025-01-03",
         1
        ]
       ],
       "datasetInfos": [
        {
         "name": "_sqldf",
         "schema": {
          "fields": [
           {
            "metadata": {},
            "name": "order_id",
            "nullable": true,
            "type": "long"
           },
           {
            "metadata": {},
            "name": "payment_id",
            "nullable": true,
            "type": "integer"
           },
           {
            "metadata": {},
            "name": "order_status",
            "nullable": true,
            "type": "string"
           },
           {
            "metadata": {},
            "name": "payment_method",
            "nullable": true,
            "type": "string"
           },
           {
            "metadata": {},
            "name": "payment_date",
            "nullable": true,
            "type": "string"
           },
           {
            "metadata": {},
            "name": "failed_attempts",
            "nullable": true,
            "type": "long"
           },
           {
            "metadata": {},
            "name": "first_failure_date",
            "nullable": true,
            "type": "string"
           },
           {
            "metadata": {},
            "name": "last_failure_date",
            "nullable": true,
            "type": "string"
           },
           {
            "metadata": {},
            "name": "rn_failed_latest",
            "nullable": false,
            "type": "integer"
           }
          ],
          "type": "struct"
         },
         "tableIdentifier": null,
         "typeStr": "pyspark.sql.connect.dataframe.DataFrame"
        }
       ],
       "dbfsResultPath": null,
       "isJsonSchema": true,
       "metadata": {
        "createTempViewForImplicitDf": true,
        "dataframeName": "_sqldf",
        "executionCount": 140
       },
       "overflow": false,
       "plotOptions": {
        "customPlotOptions": {},
        "displayType": "table",
        "pivotAggregation": null,
        "pivotColumns": null,
        "xColumns": null,
        "yColumns": null
       },
       "removedWidgets": [],
       "schema": [
        {
         "metadata": "{}",
         "name": "order_id",
         "type": "\"long\""
        },
        {
         "metadata": "{}",
         "name": "payment_id",
         "type": "\"integer\""
        },
        {
         "metadata": "{}",
         "name": "order_status",
         "type": "\"string\""
        },
        {
         "metadata": "{}",
         "name": "payment_method",
         "type": "\"string\""
        },
        {
         "metadata": "{}",
         "name": "payment_date",
         "type": "\"string\""
        },
        {
         "metadata": "{}",
         "name": "failed_attempts",
         "type": "\"long\""
        },
        {
         "metadata": "{}",
         "name": "first_failure_date",
         "type": "\"string\""
        },
        {
         "metadata": "{}",
         "name": "last_failure_date",
         "type": "\"string\""
        },
        {
         "metadata": "{}",
         "name": "rn_failed_latest",
         "type": "\"integer\""
        }
       ],
       "type": "table"
      }
     },
     "output_type": "display_data"
    }
   ],
   "source": [
    "  SELECT\n",
    "    order_id,\n",
    "    payment_id,\n",
    "    order_status,\n",
    "    payment_method,\n",
    "    payment_date,\n",
    "    -- windowed metrics per order over failed attempts only\n",
    "    SUM(failed_payment) OVER (PARTITION BY order_id)               AS failed_attempts,\n",
    "    MIN(payment_date) OVER (PARTITION BY order_id)                 AS first_failure_date,\n",
    "    MAX(payment_date) OVER (PARTITION BY order_id)                 AS last_failure_date,\n",
    "    ROW_NUMBER() OVER (PARTITION BY order_id\n",
    "                       ORDER BY payment_date DESC, payment_id DESC) AS rn_failed_latest\n",
    "  FROM tv_failed_payments"
   ]
  },
  {
   "cell_type": "code",
   "execution_count": 0,
   "metadata": {
    "application/vnd.databricks.v1+cell": {
     "cellMetadata": {
      "byteLimit": 2048000,
      "rowLimit": 10000
     },
     "inputWidgets": {},
     "nuid": "41611bbe-4147-40a2-8ada-a1a170dd0b20",
     "showTitle": false,
     "tableResultSettingsMap": {},
     "title": ""
    }
   },
   "outputs": [
    {
     "output_type": "display_data",
     "data": {
      "text/html": [
       "<style scoped>\n",
       "  .table-result-container {\n",
       "    max-height: 300px;\n",
       "    overflow: auto;\n",
       "  }\n",
       "  table, th, td {\n",
       "    border: 1px solid black;\n",
       "    border-collapse: collapse;\n",
       "  }\n",
       "  th, td {\n",
       "    padding: 5px;\n",
       "  }\n",
       "  th {\n",
       "    text-align: left;\n",
       "  }\n",
       "</style><div class='table-result-container'><table class='table-result'><thead style='background-color: white'><tr><th>order_id</th><th>has_success</th></tr></thead><tbody><tr><td>2</td><td>0</td></tr><tr><td>3</td><td>0</td></tr><tr><td>4</td><td>1</td></tr><tr><td>7</td><td>0</td></tr><tr><td>8</td><td>0</td></tr><tr><td>9</td><td>0</td></tr><tr><td>10</td><td>0</td></tr><tr><td>11</td><td>0</td></tr><tr><td>13</td><td>0</td></tr><tr><td>14</td><td>0</td></tr><tr><td>15</td><td>1</td></tr><tr><td>16</td><td>0</td></tr><tr><td>17</td><td>1</td></tr><tr><td>18</td><td>1</td></tr><tr><td>19</td><td>0</td></tr><tr><td>20</td><td>1</td></tr><tr><td>21</td><td>1</td></tr><tr><td>22</td><td>1</td></tr><tr><td>23</td><td>1</td></tr><tr><td>24</td><td>1</td></tr><tr><td>25</td><td>0</td></tr><tr><td>26</td><td>0</td></tr><tr><td>27</td><td>0</td></tr><tr><td>28</td><td>0</td></tr><tr><td>29</td><td>0</td></tr><tr><td>30</td><td>1</td></tr><tr><td>32</td><td>1</td></tr><tr><td>34</td><td>1</td></tr><tr><td>35</td><td>0</td></tr><tr><td>36</td><td>1</td></tr><tr><td>37</td><td>0</td></tr><tr><td>38</td><td>1</td></tr><tr><td>39</td><td>0</td></tr><tr><td>40</td><td>0</td></tr><tr><td>42</td><td>0</td></tr><tr><td>44</td><td>1</td></tr><tr><td>45</td><td>1</td></tr><tr><td>47</td><td>1</td></tr><tr><td>49</td><td>0</td></tr><tr><td>50</td><td>0</td></tr><tr><td>52</td><td>1</td></tr><tr><td>53</td><td>0</td></tr><tr><td>54</td><td>0</td></tr><tr><td>55</td><td>1</td></tr><tr><td>56</td><td>1</td></tr><tr><td>58</td><td>1</td></tr><tr><td>59</td><td>0</td></tr><tr><td>60</td><td>1</td></tr><tr><td>61</td><td>0</td></tr><tr><td>63</td><td>1</td></tr><tr><td>65</td><td>0</td></tr><tr><td>67</td><td>1</td></tr><tr><td>69</td><td>1</td></tr><tr><td>70</td><td>0</td></tr><tr><td>71</td><td>1</td></tr><tr><td>72</td><td>0</td></tr><tr><td>74</td><td>1</td></tr><tr><td>75</td><td>1</td></tr><tr><td>77</td><td>1</td></tr><tr><td>80</td><td>0</td></tr><tr><td>81</td><td>1</td></tr><tr><td>82</td><td>1</td></tr><tr><td>84</td><td>1</td></tr><tr><td>85</td><td>0</td></tr><tr><td>86</td><td>1</td></tr><tr><td>90</td><td>1</td></tr><tr><td>91</td><td>0</td></tr><tr><td>92</td><td>0</td></tr><tr><td>93</td><td>1</td></tr><tr><td>95</td><td>0</td></tr><tr><td>96</td><td>1</td></tr><tr><td>97</td><td>0</td></tr></tbody></table></div>"
      ]
     },
     "metadata": {
      "application/vnd.databricks.v1+output": {
       "addedWidgets": {},
       "aggData": [],
       "aggError": "",
       "aggOverflow": false,
       "aggSchema": [],
       "aggSeriesLimitReached": false,
       "aggType": "",
       "arguments": {},
       "columnCustomDisplayInfos": {},
       "data": [
        [
         2,
         0
        ],
        [
         3,
         0
        ],
        [
         4,
         1
        ],
        [
         7,
         0
        ],
        [
         8,
         0
        ],
        [
         9,
         0
        ],
        [
         10,
         0
        ],
        [
         11,
         0
        ],
        [
         13,
         0
        ],
        [
         14,
         0
        ],
        [
         15,
         1
        ],
        [
         16,
         0
        ],
        [
         17,
         1
        ],
        [
         18,
         1
        ],
        [
         19,
         0
        ],
        [
         20,
         1
        ],
        [
         21,
         1
        ],
        [
         22,
         1
        ],
        [
         23,
         1
        ],
        [
         24,
         1
        ],
        [
         25,
         0
        ],
        [
         26,
         0
        ],
        [
         27,
         0
        ],
        [
         28,
         0
        ],
        [
         29,
         0
        ],
        [
         30,
         1
        ],
        [
         32,
         1
        ],
        [
         34,
         1
        ],
        [
         35,
         0
        ],
        [
         36,
         1
        ],
        [
         37,
         0
        ],
        [
         38,
         1
        ],
        [
         39,
         0
        ],
        [
         40,
         0
        ],
        [
         42,
         0
        ],
        [
         44,
         1
        ],
        [
         45,
         1
        ],
        [
         47,
         1
        ],
        [
         49,
         0
        ],
        [
         50,
         0
        ],
        [
         52,
         1
        ],
        [
         53,
         0
        ],
        [
         54,
         0
        ],
        [
         55,
         1
        ],
        [
         56,
         1
        ],
        [
         58,
         1
        ],
        [
         59,
         0
        ],
        [
         60,
         1
        ],
        [
         61,
         0
        ],
        [
         63,
         1
        ],
        [
         65,
         0
        ],
        [
         67,
         1
        ],
        [
         69,
         1
        ],
        [
         70,
         0
        ],
        [
         71,
         1
        ],
        [
         72,
         0
        ],
        [
         74,
         1
        ],
        [
         75,
         1
        ],
        [
         77,
         1
        ],
        [
         80,
         0
        ],
        [
         81,
         1
        ],
        [
         82,
         1
        ],
        [
         84,
         1
        ],
        [
         85,
         0
        ],
        [
         86,
         1
        ],
        [
         90,
         1
        ],
        [
         91,
         0
        ],
        [
         92,
         0
        ],
        [
         93,
         1
        ],
        [
         95,
         0
        ],
        [
         96,
         1
        ],
        [
         97,
         0
        ]
       ],
       "datasetInfos": [
        {
         "name": "_sqldf",
         "schema": {
          "fields": [
           {
            "metadata": {},
            "name": "order_id",
            "nullable": true,
            "type": "integer"
           },
           {
            "metadata": {},
            "name": "has_success",
            "nullable": true,
            "type": "integer"
           }
          ],
          "type": "struct"
         },
         "tableIdentifier": null,
         "typeStr": "pyspark.sql.connect.dataframe.DataFrame"
        }
       ],
       "dbfsResultPath": null,
       "isJsonSchema": true,
       "metadata": {
        "createTempViewForImplicitDf": true,
        "dataframeName": "_sqldf",
        "executionCount": 125
       },
       "overflow": false,
       "plotOptions": {
        "customPlotOptions": {},
        "displayType": "table",
        "pivotAggregation": null,
        "pivotColumns": null,
        "xColumns": null,
        "yColumns": null
       },
       "removedWidgets": [],
       "schema": [
        {
         "metadata": "{}",
         "name": "order_id",
         "type": "\"integer\""
        },
        {
         "metadata": "{}",
         "name": "has_success",
         "type": "\"integer\""
        }
       ],
       "type": "table"
      }
     },
     "output_type": "display_data"
    }
   ],
   "source": [
    "  SELECT\n",
    "    order_id,\n",
    "    MAX(CASE WHEN payment_status = 'success' THEN 1 ELSE 0 END) AS has_success\n",
    "  FROM gizmobox.silver.payments\n",
    "  GROUP BY order_id\n",
    "  ORDER BY order_id;"
   ]
  },
  {
   "cell_type": "code",
   "execution_count": 0,
   "metadata": {
    "application/vnd.databricks.v1+cell": {
     "cellMetadata": {
      "byteLimit": 2048000,
      "rowLimit": 10000
     },
     "inputWidgets": {},
     "nuid": "d9bcaa7a-cb4c-4c5b-80ff-1cdb1b2540f3",
     "showTitle": false,
     "tableResultSettingsMap": {},
     "title": ""
    }
   },
   "outputs": [
    {
     "output_type": "display_data",
     "data": {
      "text/html": [
       "<style scoped>\n",
       "  .table-result-container {\n",
       "    max-height: 300px;\n",
       "    overflow: auto;\n",
       "  }\n",
       "  table, th, td {\n",
       "    border: 1px solid black;\n",
       "    border-collapse: collapse;\n",
       "  }\n",
       "  th, td {\n",
       "    padding: 5px;\n",
       "  }\n",
       "  th {\n",
       "    text-align: left;\n",
       "  }\n",
       "</style><div class='table-result-container'><table class='table-result'><thead style='background-color: white'><tr><th>order_id</th><th>payment_id</th><th>order_status</th><th>payment_method</th><th>first_failure_date</th><th>last_failure_date</th><th>failed_attempts</th><th>has_success</th><th>outcome_bucket</th></tr></thead><tbody><tr><td>29</td><td>73</td><td>Pending</td><td>Bank Transfer</td><td>2025-01-18</td><td>2025-01-18</td><td>1</td><td>0</td><td>stalled</td></tr><tr><td>39</td><td>6</td><td>Shipped</td><td>PayPal</td><td>2024-10-31</td><td>2024-10-31</td><td>1</td><td>0</td><td>stalled</td></tr><tr><td>47</td><td>26</td><td>Shipped</td><td>Bank Transfer</td><td>2024-11-28</td><td>2024-11-28</td><td>1</td><td>1</td><td>recovered</td></tr><tr><td>65</td><td>83</td><td>Cancelled</td><td>PayPal</td><td>2024-12-10</td><td>2025-01-06</td><td>2</td><td>0</td><td>lost</td></tr><tr><td>91</td><td>59</td><td>Cancelled</td><td>Bank Transfer</td><td>2024-12-18</td><td>2024-12-18</td><td>1</td><td>0</td><td>lost</td></tr><tr><td>35</td><td>22</td><td>Shipped</td><td>Bank Transfer</td><td>2024-11-20</td><td>2024-11-20</td><td>1</td><td>0</td><td>stalled</td></tr><tr><td>16</td><td>36</td><td>Pending</td><td>Bank Transfer</td><td>2024-12-09</td><td>2024-12-09</td><td>1</td><td>0</td><td>stalled</td></tr><tr><td>11</td><td>3</td><td>Pending</td><td>Bank Transfer</td><td>2024-10-15</td><td>2024-10-15</td><td>1</td><td>0</td><td>stalled</td></tr><tr><td>67</td><td>31</td><td>Shipped</td><td>Credit Card</td><td>2024-11-13</td><td>2024-11-13</td><td>1</td><td>1</td><td>recovered</td></tr><tr><td>85</td><td>12</td><td>Shipped</td><td>Bank Transfer</td><td>2024-10-25</td><td>2024-10-25</td><td>1</td><td>0</td><td>stalled</td></tr><tr><td>9</td><td>16</td><td>Shipped</td><td>Bank Transfer</td><td>2024-11-27</td><td>2024-11-27</td><td>1</td><td>0</td><td>stalled</td></tr><tr><td>49</td><td>45</td><td>Cancelled</td><td>PayPal</td><td>2024-12-08</td><td>2024-12-08</td><td>3</td><td>0</td><td>lost</td></tr><tr><td>14</td><td>69</td><td>Cancelled</td><td>PayPal</td><td>2025-01-01</td><td>2025-01-01</td><td>1</td><td>0</td><td>lost</td></tr><tr><td>28</td><td>40</td><td>Cancelled</td><td>Credit Card</td><td>2024-12-27</td><td>2024-12-27</td><td>1</td><td>0</td><td>lost</td></tr><tr><td>53</td><td>80</td><td>Pending</td><td>Credit Card</td><td>2025-01-15</td><td>2025-01-15</td><td>1</td><td>0</td><td>stalled</td></tr><tr><td>92</td><td>91</td><td>Shipped</td><td>PayPal</td><td>2025-01-03</td><td>2025-01-03</td><td>1</td><td>0</td><td>stalled</td></tr><tr><td>80</td><td>87</td><td>Cancelled</td><td>PayPal</td><td>2024-12-12</td><td>2025-01-19</td><td>2</td><td>0</td><td>lost</td></tr></tbody></table></div>"
      ]
     },
     "metadata": {
      "application/vnd.databricks.v1+output": {
       "addedWidgets": {},
       "aggData": [],
       "aggError": "",
       "aggOverflow": false,
       "aggSchema": [],
       "aggSeriesLimitReached": false,
       "aggType": "",
       "arguments": {},
       "columnCustomDisplayInfos": {},
       "data": [
        [
         29,
         73,
         "Pending",
         "Bank Transfer",
         "2025-01-18",
         "2025-01-18",
         1,
         0,
         "stalled"
        ],
        [
         39,
         6,
         "Shipped",
         "PayPal",
         "2024-10-31",
         "2024-10-31",
         1,
         0,
         "stalled"
        ],
        [
         47,
         26,
         "Shipped",
         "Bank Transfer",
         "2024-11-28",
         "2024-11-28",
         1,
         1,
         "recovered"
        ],
        [
         65,
         83,
         "Cancelled",
         "PayPal",
         "2024-12-10",
         "2025-01-06",
         2,
         0,
         "lost"
        ],
        [
         91,
         59,
         "Cancelled",
         "Bank Transfer",
         "2024-12-18",
         "2024-12-18",
         1,
         0,
         "lost"
        ],
        [
         35,
         22,
         "Shipped",
         "Bank Transfer",
         "2024-11-20",
         "2024-11-20",
         1,
         0,
         "stalled"
        ],
        [
         16,
         36,
         "Pending",
         "Bank Transfer",
         "2024-12-09",
         "2024-12-09",
         1,
         0,
         "stalled"
        ],
        [
         11,
         3,
         "Pending",
         "Bank Transfer",
         "2024-10-15",
         "2024-10-15",
         1,
         0,
         "stalled"
        ],
        [
         67,
         31,
         "Shipped",
         "Credit Card",
         "2024-11-13",
         "2024-11-13",
         1,
         1,
         "recovered"
        ],
        [
         85,
         12,
         "Shipped",
         "Bank Transfer",
         "2024-10-25",
         "2024-10-25",
         1,
         0,
         "stalled"
        ],
        [
         9,
         16,
         "Shipped",
         "Bank Transfer",
         "2024-11-27",
         "2024-11-27",
         1,
         0,
         "stalled"
        ],
        [
         49,
         45,
         "Cancelled",
         "PayPal",
         "2024-12-08",
         "2024-12-08",
         3,
         0,
         "lost"
        ],
        [
         14,
         69,
         "Cancelled",
         "PayPal",
         "2025-01-01",
         "2025-01-01",
         1,
         0,
         "lost"
        ],
        [
         28,
         40,
         "Cancelled",
         "Credit Card",
         "2024-12-27",
         "2024-12-27",
         1,
         0,
         "lost"
        ],
        [
         53,
         80,
         "Pending",
         "Credit Card",
         "2025-01-15",
         "2025-01-15",
         1,
         0,
         "stalled"
        ],
        [
         92,
         91,
         "Shipped",
         "PayPal",
         "2025-01-03",
         "2025-01-03",
         1,
         0,
         "stalled"
        ],
        [
         80,
         87,
         "Cancelled",
         "PayPal",
         "2024-12-12",
         "2025-01-19",
         2,
         0,
         "lost"
        ]
       ],
       "datasetInfos": [
        {
         "name": "_sqldf",
         "schema": {
          "fields": [
           {
            "metadata": {},
            "name": "order_id",
            "nullable": true,
            "type": "long"
           },
           {
            "metadata": {},
            "name": "payment_id",
            "nullable": true,
            "type": "integer"
           },
           {
            "metadata": {},
            "name": "order_status",
            "nullable": true,
            "type": "string"
           },
           {
            "metadata": {},
            "name": "payment_method",
            "nullable": true,
            "type": "string"
           },
           {
            "metadata": {},
            "name": "first_failure_date",
            "nullable": true,
            "type": "string"
           },
           {
            "metadata": {},
            "name": "last_failure_date",
            "nullable": true,
            "type": "string"
           },
           {
            "metadata": {},
            "name": "failed_attempts",
            "nullable": true,
            "type": "long"
           },
           {
            "metadata": {},
            "name": "has_success",
            "nullable": true,
            "type": "integer"
           },
           {
            "metadata": {},
            "name": "outcome_bucket",
            "nullable": false,
            "type": "string"
           }
          ],
          "type": "struct"
         },
         "tableIdentifier": null,
         "typeStr": "pyspark.sql.connect.dataframe.DataFrame"
        }
       ],
       "dbfsResultPath": null,
       "isJsonSchema": true,
       "metadata": {
        "createTempViewForImplicitDf": true,
        "dataframeName": "_sqldf",
        "executionCount": 142
       },
       "overflow": false,
       "plotOptions": {
        "customPlotOptions": {},
        "displayType": "table",
        "pivotAggregation": null,
        "pivotColumns": null,
        "xColumns": null,
        "yColumns": null
       },
       "removedWidgets": [],
       "schema": [
        {
         "metadata": "{}",
         "name": "order_id",
         "type": "\"long\""
        },
        {
         "metadata": "{}",
         "name": "payment_id",
         "type": "\"integer\""
        },
        {
         "metadata": "{}",
         "name": "order_status",
         "type": "\"string\""
        },
        {
         "metadata": "{}",
         "name": "payment_method",
         "type": "\"string\""
        },
        {
         "metadata": "{}",
         "name": "first_failure_date",
         "type": "\"string\""
        },
        {
         "metadata": "{}",
         "name": "last_failure_date",
         "type": "\"string\""
        },
        {
         "metadata": "{}",
         "name": "failed_attempts",
         "type": "\"long\""
        },
        {
         "metadata": "{}",
         "name": "has_success",
         "type": "\"integer\""
        },
        {
         "metadata": "{}",
         "name": "outcome_bucket",
         "type": "\"string\""
        }
       ],
       "type": "table"
      }
     },
     "output_type": "display_data"
    }
   ],
   "source": [
    "WITH \n",
    "failed_attempts AS (\n",
    "  SELECT\n",
    "    order_id,\n",
    "    payment_id,\n",
    "    order_status,\n",
    "    payment_method,\n",
    "    payment_date,\n",
    "    -- windowed metrics per order over failed attempts only\n",
    "    SUM(failed_payment) OVER (PARTITION BY order_id)               AS failed_attempts,\n",
    "    MIN(payment_date) OVER (PARTITION BY order_id)                 AS first_failure_date,\n",
    "    MAX(payment_date) OVER (PARTITION BY order_id)                 AS last_failure_date,\n",
    "    ROW_NUMBER() OVER (PARTITION BY order_id\n",
    "                       ORDER BY payment_date DESC, payment_id DESC) AS rn_failed_latest\n",
    "  FROM tv_failed_payments\n",
    "),\n",
    "success_any AS (\n",
    "  SELECT\n",
    "    order_id,\n",
    "    MAX(CASE WHEN payment_status = 'success' THEN 1 ELSE 0 END) AS has_success\n",
    "  FROM gizmobox.silver.payments\n",
    "  GROUP BY order_id\n",
    ")\n",
    "SELECT\n",
    "  f.order_id,\n",
    "  f.payment_id,\n",
    "  f.order_status,\n",
    "  f.payment_method,\n",
    "  f.first_failure_date,\n",
    "  f.last_failure_date,\n",
    "  f.failed_attempts,\n",
    "  s.has_success,\n",
    "  CASE\n",
    "    WHEN s.has_success = 1 THEN 'recovered'\n",
    "    WHEN LOWER(COALESCE(f.order_status,'')) == 'cancelled' THEN 'lost'\n",
    "    ELSE 'stalled'\n",
    "  END AS outcome_bucket\n",
    "FROM failed_attempts f\n",
    "JOIN success_any s USING (order_id)\n",
    "WHERE f.rn_failed_latest = 1;"
   ]
  },
  {
   "cell_type": "code",
   "execution_count": 0,
   "metadata": {
    "application/vnd.databricks.v1+cell": {
     "cellMetadata": {
      "byteLimit": 2048000,
      "rowLimit": 10000
     },
     "inputWidgets": {},
     "nuid": "cd2a2c2c-94eb-4013-a84c-bcb503967a16",
     "showTitle": false,
     "tableResultSettingsMap": {},
     "title": ""
    }
   },
   "outputs": [
    {
     "output_type": "display_data",
     "data": {
      "text/html": [
       "<style scoped>\n",
       "  .table-result-container {\n",
       "    max-height: 300px;\n",
       "    overflow: auto;\n",
       "  }\n",
       "  table, th, td {\n",
       "    border: 1px solid black;\n",
       "    border-collapse: collapse;\n",
       "  }\n",
       "  th, td {\n",
       "    padding: 5px;\n",
       "  }\n",
       "  th {\n",
       "    text-align: left;\n",
       "  }\n",
       "</style><div class='table-result-container'><table class='table-result'><thead style='background-color: white'><tr><th>num_affected_rows</th><th>num_inserted_rows</th></tr></thead><tbody></tbody></table></div>"
      ]
     },
     "metadata": {
      "application/vnd.databricks.v1+output": {
       "addedWidgets": {},
       "aggData": [],
       "aggError": "",
       "aggOverflow": false,
       "aggSchema": [],
       "aggSeriesLimitReached": false,
       "aggType": "",
       "arguments": {},
       "columnCustomDisplayInfos": {},
       "data": [],
       "datasetInfos": [
        {
         "name": "_sqldf",
         "schema": {
          "fields": [
           {
            "metadata": {},
            "name": "num_affected_rows",
            "nullable": true,
            "type": "long"
           },
           {
            "metadata": {},
            "name": "num_inserted_rows",
            "nullable": true,
            "type": "long"
           }
          ],
          "type": "struct"
         },
         "tableIdentifier": null,
         "typeStr": "pyspark.sql.connect.dataframe.DataFrame"
        }
       ],
       "dbfsResultPath": null,
       "isJsonSchema": true,
       "metadata": {
        "createTempViewForImplicitDf": true,
        "dataframeName": "_sqldf",
        "executionCount": 144
       },
       "overflow": false,
       "plotOptions": {
        "customPlotOptions": {},
        "displayType": "table",
        "pivotAggregation": null,
        "pivotColumns": null,
        "xColumns": null,
        "yColumns": null
       },
       "removedWidgets": [],
       "schema": [
        {
         "metadata": "{}",
         "name": "num_affected_rows",
         "type": "\"long\""
        },
        {
         "metadata": "{}",
         "name": "num_inserted_rows",
         "type": "\"long\""
        }
       ],
       "type": "table"
      }
     },
     "output_type": "display_data"
    }
   ],
   "source": [
    "CREATE TABLE IF NOT EXISTS gizmobox.gold.order_payment_failed_outcomes\n",
    "AS\n",
    "WITH \n",
    "failed_attempts AS (\n",
    "  SELECT\n",
    "    order_id,\n",
    "    payment_id,\n",
    "    order_status,\n",
    "    payment_method,\n",
    "    payment_date,\n",
    "    -- windowed metrics per order over failed attempts only\n",
    "    SUM(failed_payment) OVER (PARTITION BY order_id)               AS failed_attempts,\n",
    "    MIN(payment_date) OVER (PARTITION BY order_id)                 AS first_failure_date,\n",
    "    MAX(payment_date) OVER (PARTITION BY order_id)                 AS last_failure_date,\n",
    "    ROW_NUMBER() OVER (PARTITION BY order_id\n",
    "                       ORDER BY payment_date DESC, payment_id DESC) AS rn_failed_latest\n",
    "  FROM tv_failed_payments\n",
    "),\n",
    "success_any AS (\n",
    "  SELECT\n",
    "    order_id,\n",
    "    MAX(CASE WHEN payment_status = 'success' THEN 1 ELSE 0 END) AS has_success\n",
    "  FROM gizmobox.silver.payments\n",
    "  GROUP BY order_id\n",
    ")\n",
    "SELECT\n",
    "  f.order_id,\n",
    "  f.payment_id,\n",
    "  f.order_status,\n",
    "  f.payment_method,\n",
    "  f.first_failure_date,\n",
    "  f.last_failure_date,\n",
    "  f.failed_attempts,\n",
    "  s.has_success,\n",
    "  CASE\n",
    "    WHEN s.has_success = 1 THEN 'recovered'\n",
    "    WHEN LOWER(COALESCE(f.order_status,'')) == 'cancelled' THEN 'lost'\n",
    "    ELSE 'stalled'\n",
    "  END AS outcome_bucket\n",
    "FROM failed_attempts f\n",
    "JOIN success_any s USING (order_id)\n",
    "WHERE f.rn_failed_latest = 1;"
   ]
  },
  {
   "cell_type": "code",
   "execution_count": 0,
   "metadata": {
    "application/vnd.databricks.v1+cell": {
     "cellMetadata": {
      "byteLimit": 2048000,
      "rowLimit": 10000
     },
     "inputWidgets": {},
     "nuid": "16317df9-4ea2-49ef-9692-bc81eeed1ee0",
     "showTitle": false,
     "tableResultSettingsMap": {},
     "title": ""
    }
   },
   "outputs": [
    {
     "output_type": "display_data",
     "data": {
      "text/html": [
       "<style scoped>\n",
       "  .table-result-container {\n",
       "    max-height: 300px;\n",
       "    overflow: auto;\n",
       "  }\n",
       "  table, th, td {\n",
       "    border: 1px solid black;\n",
       "    border-collapse: collapse;\n",
       "  }\n",
       "  th, td {\n",
       "    padding: 5px;\n",
       "  }\n",
       "  th {\n",
       "    text-align: left;\n",
       "  }\n",
       "</style><div class='table-result-container'><table class='table-result'><thead style='background-color: white'><tr><th>order_id</th><th>payment_id</th><th>order_status</th><th>payment_method</th><th>first_failure_date</th><th>last_failure_date</th><th>failed_attempts</th><th>has_success</th><th>outcome_bucket</th></tr></thead><tbody><tr><td>29</td><td>73</td><td>Pending</td><td>Bank Transfer</td><td>2025-01-18</td><td>2025-01-18</td><td>1</td><td>0</td><td>stalled</td></tr><tr><td>39</td><td>6</td><td>Shipped</td><td>PayPal</td><td>2024-10-31</td><td>2024-10-31</td><td>1</td><td>0</td><td>stalled</td></tr><tr><td>47</td><td>26</td><td>Shipped</td><td>Bank Transfer</td><td>2024-11-28</td><td>2024-11-28</td><td>1</td><td>1</td><td>recovered</td></tr><tr><td>65</td><td>83</td><td>Cancelled</td><td>PayPal</td><td>2024-12-10</td><td>2025-01-06</td><td>2</td><td>0</td><td>lost</td></tr><tr><td>91</td><td>59</td><td>Cancelled</td><td>Bank Transfer</td><td>2024-12-18</td><td>2024-12-18</td><td>1</td><td>0</td><td>lost</td></tr><tr><td>35</td><td>22</td><td>Shipped</td><td>Bank Transfer</td><td>2024-11-20</td><td>2024-11-20</td><td>1</td><td>0</td><td>stalled</td></tr><tr><td>16</td><td>36</td><td>Pending</td><td>Bank Transfer</td><td>2024-12-09</td><td>2024-12-09</td><td>1</td><td>0</td><td>stalled</td></tr><tr><td>11</td><td>3</td><td>Pending</td><td>Bank Transfer</td><td>2024-10-15</td><td>2024-10-15</td><td>1</td><td>0</td><td>stalled</td></tr><tr><td>67</td><td>31</td><td>Shipped</td><td>Credit Card</td><td>2024-11-13</td><td>2024-11-13</td><td>1</td><td>1</td><td>recovered</td></tr><tr><td>85</td><td>12</td><td>Shipped</td><td>Bank Transfer</td><td>2024-10-25</td><td>2024-10-25</td><td>1</td><td>0</td><td>stalled</td></tr><tr><td>9</td><td>16</td><td>Shipped</td><td>Bank Transfer</td><td>2024-11-27</td><td>2024-11-27</td><td>1</td><td>0</td><td>stalled</td></tr><tr><td>49</td><td>45</td><td>Cancelled</td><td>PayPal</td><td>2024-12-08</td><td>2024-12-08</td><td>3</td><td>0</td><td>lost</td></tr><tr><td>14</td><td>69</td><td>Cancelled</td><td>PayPal</td><td>2025-01-01</td><td>2025-01-01</td><td>1</td><td>0</td><td>lost</td></tr><tr><td>28</td><td>40</td><td>Cancelled</td><td>Credit Card</td><td>2024-12-27</td><td>2024-12-27</td><td>1</td><td>0</td><td>lost</td></tr><tr><td>53</td><td>80</td><td>Pending</td><td>Credit Card</td><td>2025-01-15</td><td>2025-01-15</td><td>1</td><td>0</td><td>stalled</td></tr><tr><td>92</td><td>91</td><td>Shipped</td><td>PayPal</td><td>2025-01-03</td><td>2025-01-03</td><td>1</td><td>0</td><td>stalled</td></tr><tr><td>80</td><td>87</td><td>Cancelled</td><td>PayPal</td><td>2024-12-12</td><td>2025-01-19</td><td>2</td><td>0</td><td>lost</td></tr></tbody></table></div>"
      ]
     },
     "metadata": {
      "application/vnd.databricks.v1+output": {
       "addedWidgets": {},
       "aggData": [],
       "aggError": "",
       "aggOverflow": false,
       "aggSchema": [],
       "aggSeriesLimitReached": false,
       "aggType": "",
       "arguments": {},
       "columnCustomDisplayInfos": {},
       "data": [
        [
         29,
         73,
         "Pending",
         "Bank Transfer",
         "2025-01-18",
         "2025-01-18",
         1,
         0,
         "stalled"
        ],
        [
         39,
         6,
         "Shipped",
         "PayPal",
         "2024-10-31",
         "2024-10-31",
         1,
         0,
         "stalled"
        ],
        [
         47,
         26,
         "Shipped",
         "Bank Transfer",
         "2024-11-28",
         "2024-11-28",
         1,
         1,
         "recovered"
        ],
        [
         65,
         83,
         "Cancelled",
         "PayPal",
         "2024-12-10",
         "2025-01-06",
         2,
         0,
         "lost"
        ],
        [
         91,
         59,
         "Cancelled",
         "Bank Transfer",
         "2024-12-18",
         "2024-12-18",
         1,
         0,
         "lost"
        ],
        [
         35,
         22,
         "Shipped",
         "Bank Transfer",
         "2024-11-20",
         "2024-11-20",
         1,
         0,
         "stalled"
        ],
        [
         16,
         36,
         "Pending",
         "Bank Transfer",
         "2024-12-09",
         "2024-12-09",
         1,
         0,
         "stalled"
        ],
        [
         11,
         3,
         "Pending",
         "Bank Transfer",
         "2024-10-15",
         "2024-10-15",
         1,
         0,
         "stalled"
        ],
        [
         67,
         31,
         "Shipped",
         "Credit Card",
         "2024-11-13",
         "2024-11-13",
         1,
         1,
         "recovered"
        ],
        [
         85,
         12,
         "Shipped",
         "Bank Transfer",
         "2024-10-25",
         "2024-10-25",
         1,
         0,
         "stalled"
        ],
        [
         9,
         16,
         "Shipped",
         "Bank Transfer",
         "2024-11-27",
         "2024-11-27",
         1,
         0,
         "stalled"
        ],
        [
         49,
         45,
         "Cancelled",
         "PayPal",
         "2024-12-08",
         "2024-12-08",
         3,
         0,
         "lost"
        ],
        [
         14,
         69,
         "Cancelled",
         "PayPal",
         "2025-01-01",
         "2025-01-01",
         1,
         0,
         "lost"
        ],
        [
         28,
         40,
         "Cancelled",
         "Credit Card",
         "2024-12-27",
         "2024-12-27",
         1,
         0,
         "lost"
        ],
        [
         53,
         80,
         "Pending",
         "Credit Card",
         "2025-01-15",
         "2025-01-15",
         1,
         0,
         "stalled"
        ],
        [
         92,
         91,
         "Shipped",
         "PayPal",
         "2025-01-03",
         "2025-01-03",
         1,
         0,
         "stalled"
        ],
        [
         80,
         87,
         "Cancelled",
         "PayPal",
         "2024-12-12",
         "2025-01-19",
         2,
         0,
         "lost"
        ]
       ],
       "datasetInfos": [
        {
         "name": "_sqldf",
         "schema": {
          "fields": [
           {
            "metadata": {},
            "name": "order_id",
            "nullable": true,
            "type": "long"
           },
           {
            "metadata": {},
            "name": "payment_id",
            "nullable": true,
            "type": "integer"
           },
           {
            "metadata": {},
            "name": "order_status",
            "nullable": true,
            "type": "string"
           },
           {
            "metadata": {},
            "name": "payment_method",
            "nullable": true,
            "type": "string"
           },
           {
            "metadata": {},
            "name": "first_failure_date",
            "nullable": true,
            "type": "string"
           },
           {
            "metadata": {},
            "name": "last_failure_date",
            "nullable": true,
            "type": "string"
           },
           {
            "metadata": {},
            "name": "failed_attempts",
            "nullable": true,
            "type": "long"
           },
           {
            "metadata": {},
            "name": "has_success",
            "nullable": true,
            "type": "integer"
           },
           {
            "metadata": {},
            "name": "outcome_bucket",
            "nullable": true,
            "type": "string"
           }
          ],
          "type": "struct"
         },
         "tableIdentifier": null,
         "typeStr": "pyspark.sql.connect.dataframe.DataFrame"
        }
       ],
       "dbfsResultPath": null,
       "isJsonSchema": true,
       "metadata": {
        "createTempViewForImplicitDf": true,
        "dataframeName": "_sqldf",
        "executionCount": 145
       },
       "overflow": false,
       "plotOptions": {
        "customPlotOptions": {},
        "displayType": "table",
        "pivotAggregation": null,
        "pivotColumns": null,
        "xColumns": null,
        "yColumns": null
       },
       "removedWidgets": [],
       "schema": [
        {
         "metadata": "{}",
         "name": "order_id",
         "type": "\"long\""
        },
        {
         "metadata": "{}",
         "name": "payment_id",
         "type": "\"integer\""
        },
        {
         "metadata": "{}",
         "name": "order_status",
         "type": "\"string\""
        },
        {
         "metadata": "{}",
         "name": "payment_method",
         "type": "\"string\""
        },
        {
         "metadata": "{}",
         "name": "first_failure_date",
         "type": "\"string\""
        },
        {
         "metadata": "{}",
         "name": "last_failure_date",
         "type": "\"string\""
        },
        {
         "metadata": "{}",
         "name": "failed_attempts",
         "type": "\"long\""
        },
        {
         "metadata": "{}",
         "name": "has_success",
         "type": "\"integer\""
        },
        {
         "metadata": "{}",
         "name": "outcome_bucket",
         "type": "\"string\""
        }
       ],
       "type": "table"
      }
     },
     "output_type": "display_data"
    }
   ],
   "source": [
    "SELECT * FROM gizmobox.gold.order_payment_failed_outcomes LIMIT 20;"
   ]
  },
  {
   "cell_type": "code",
   "execution_count": 0,
   "metadata": {
    "application/vnd.databricks.v1+cell": {
     "cellMetadata": {
      "byteLimit": 2048000,
      "rowLimit": 10000
     },
     "inputWidgets": {},
     "nuid": "61a317ee-4530-4d76-8607-47c1b78d7c5e",
     "showTitle": false,
     "tableResultSettingsMap": {},
     "title": ""
    }
   },
   "outputs": [
    {
     "output_type": "display_data",
     "data": {
      "text/html": [
       "<style scoped>\n",
       "  .table-result-container {\n",
       "    max-height: 300px;\n",
       "    overflow: auto;\n",
       "  }\n",
       "  table, th, td {\n",
       "    border: 1px solid black;\n",
       "    border-collapse: collapse;\n",
       "  }\n",
       "  th, td {\n",
       "    padding: 5px;\n",
       "  }\n",
       "  th {\n",
       "    text-align: left;\n",
       "  }\n",
       "</style><div class='table-result-container'><table class='table-result'><thead style='background-color: white'><tr><th>payment_method</th><th>orders_impacted</th><th>failed_payment_attemps</th><th>lost_orders</th></tr></thead><tbody><tr><td>Bank Transfer</td><td>8</td><td>8</td><td>1</td></tr><tr><td>PayPal</td><td>6</td><td>6</td><td>4</td></tr><tr><td>Credit Card</td><td>3</td><td>3</td><td>1</td></tr></tbody></table></div>"
      ]
     },
     "metadata": {
      "application/vnd.databricks.v1+output": {
       "addedWidgets": {},
       "aggData": [],
       "aggError": "",
       "aggOverflow": false,
       "aggSchema": [],
       "aggSeriesLimitReached": false,
       "aggType": "",
       "arguments": {},
       "columnCustomDisplayInfos": {},
       "data": [
        [
         "Bank Transfer",
         8,
         8,
         1
        ],
        [
         "PayPal",
         6,
         6,
         4
        ],
        [
         "Credit Card",
         3,
         3,
         1
        ]
       ],
       "datasetInfos": [
        {
         "name": "_sqldf",
         "schema": {
          "fields": [
           {
            "metadata": {},
            "name": "payment_method",
            "nullable": true,
            "type": "string"
           },
           {
            "metadata": {},
            "name": "orders_impacted",
            "nullable": false,
            "type": "long"
           },
           {
            "metadata": {},
            "name": "failed_payment_attemps",
            "nullable": false,
            "type": "long"
           },
           {
            "metadata": {},
            "name": "lost_orders",
            "nullable": true,
            "type": "long"
           }
          ],
          "type": "struct"
         },
         "tableIdentifier": null,
         "typeStr": "pyspark.sql.connect.dataframe.DataFrame"
        }
       ],
       "dbfsResultPath": null,
       "isJsonSchema": true,
       "metadata": {
        "createTempViewForImplicitDf": true,
        "dataframeName": "_sqldf",
        "executionCount": 146
       },
       "overflow": false,
       "plotOptions": {
        "customPlotOptions": {},
        "displayType": "table",
        "pivotAggregation": null,
        "pivotColumns": null,
        "xColumns": null,
        "yColumns": null
       },
       "removedWidgets": [],
       "schema": [
        {
         "metadata": "{}",
         "name": "payment_method",
         "type": "\"string\""
        },
        {
         "metadata": "{}",
         "name": "orders_impacted",
         "type": "\"long\""
        },
        {
         "metadata": "{}",
         "name": "failed_payment_attemps",
         "type": "\"long\""
        },
        {
         "metadata": "{}",
         "name": "lost_orders",
         "type": "\"long\""
        }
       ],
       "type": "table"
      }
     },
     "output_type": "display_data"
    }
   ],
   "source": [
    "-- By payment method (overall)\n",
    "SELECT payment_method,\n",
    "       COUNT(DISTINCT order_id) AS orders_impacted,\n",
    "       COUNT(*)                 AS failed_payment_attemps,\n",
    "       SUM(CASE WHEN outcome_bucket='lost' THEN 1 ELSE 0 END) AS lost_orders\n",
    "FROM gizmobox.gold.order_payment_failed_outcomes\n",
    "GROUP BY payment_method\n",
    "ORDER BY orders_impacted DESC;"
   ]
  }
 ],
 "metadata": {
  "application/vnd.databricks.v1+notebook": {
   "computePreferences": null,
   "dashboards": [],
   "environmentMetadata": {
    "base_environment": "",
    "environment_version": "3"
   },
   "inputWidgetPreferences": null,
   "language": "sql",
   "notebookMetadata": {
    "pythonIndentUnit": 4
   },
   "notebookName": "20. User Defined Functions",
   "widgets": {}
  },
  "language_info": {
   "name": "sql"
  }
 },
 "nbformat": 4,
 "nbformat_minor": 0
}