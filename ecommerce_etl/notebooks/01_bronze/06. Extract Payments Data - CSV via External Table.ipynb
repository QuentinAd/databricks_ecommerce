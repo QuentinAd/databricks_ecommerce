{
 "cells": [
  {
   "cell_type": "markdown",
   "metadata": {
    "application/vnd.databricks.v1+cell": {
     "cellMetadata": {},
     "inputWidgets": {},
     "nuid": "1789487a-f53b-4da4-b148-1a56a49b8849",
     "showTitle": false,
     "tableResultSettingsMap": {},
     "title": ""
    }
   },
   "source": [
    "## Extract Data From the Payments Files\n",
    "1. List the files from Payment folder\n",
    "1. Create External Table\n",
    "1. Demonstrate the effect of Adding/ Updating / Deleting files. \n",
    "1. Demonstrate the effect of Dropping the Table"
   ]
  },
  {
   "cell_type": "code",
   "execution_count": 0,
   "metadata": {
    "application/vnd.databricks.v1+cell": {
     "cellMetadata": {
      "byteLimit": 2048000,
      "rowLimit": 10000
     },
     "inputWidgets": {},
     "nuid": "7017b1dc-0160-4ce1-b914-92fe570b5eee",
     "showTitle": false,
     "tableResultSettingsMap": {},
     "title": ""
    }
   },
   "outputs": [
    {
     "data": {
      "text/html": [
       "<style scoped>\n",
       "  .table-result-container {\n",
       "    max-height: 300px;\n",
       "    overflow: auto;\n",
       "  }\n",
       "  table, th, td {\n",
       "    border: 1px solid black;\n",
       "    border-collapse: collapse;\n",
       "  }\n",
       "  th, td {\n",
       "    padding: 5px;\n",
       "  }\n",
       "  th {\n",
       "    text-align: left;\n",
       "  }\n",
       "</style><div class='table-result-container'><table class='table-result'><thead style='background-color: white'><tr><th>path</th><th>name</th><th>size</th><th>modificationTime</th></tr></thead><tbody><tr><td>s3://databricks-dea-demo/gizmobox/landing/external_data/payments/payments_2024_10.csv</td><td>payments_2024_10.csv</td><td>487</td><td>1756756635000</td></tr><tr><td>s3://databricks-dea-demo/gizmobox/landing/external_data/payments/payments_2024_11.csv</td><td>payments_2024_11.csv</td><td>773</td><td>1756756635000</td></tr><tr><td>s3://databricks-dea-demo/gizmobox/landing/external_data/payments/payments_2024_12.csv</td><td>payments_2024_12.csv</td><td>1157</td><td>1756756635000</td></tr><tr><td>s3://databricks-dea-demo/gizmobox/landing/external_data/payments/payments_2025_01.csv</td><td>payments_2025_01.csv</td><td>1084</td><td>1756756635000</td></tr></tbody></table></div>"
      ]
     },
     "metadata": {
      "application/vnd.databricks.v1+output": {
       "addedWidgets": {},
       "aggData": [],
       "aggError": "",
       "aggOverflow": false,
       "aggSchema": [],
       "aggSeriesLimitReached": false,
       "aggType": "",
       "arguments": {},
       "columnCustomDisplayInfos": {},
       "data": [
        [
         "s3://databricks-dea-demo/gizmobox/landing/external_data/payments/payments_2024_10.csv",
         "payments_2024_10.csv",
         487,
         1756756635000
        ],
        [
         "s3://databricks-dea-demo/gizmobox/landing/external_data/payments/payments_2024_11.csv",
         "payments_2024_11.csv",
         773,
         1756756635000
        ],
        [
         "s3://databricks-dea-demo/gizmobox/landing/external_data/payments/payments_2024_12.csv",
         "payments_2024_12.csv",
         1157,
         1756756635000
        ],
        [
         "s3://databricks-dea-demo/gizmobox/landing/external_data/payments/payments_2025_01.csv",
         "payments_2025_01.csv",
         1084,
         1756756635000
        ]
       ],
       "datasetInfos": [],
       "dbfsResultPath": null,
       "isJsonSchema": true,
       "metadata": {},
       "overflow": false,
       "plotOptions": {
        "customPlotOptions": {},
        "displayType": "table",
        "pivotAggregation": null,
        "pivotColumns": null,
        "xColumns": null,
        "yColumns": null
       },
       "removedWidgets": [],
       "schema": [
        {
         "metadata": "{}",
         "name": "path",
         "type": "\"string\""
        },
        {
         "metadata": "{}",
         "name": "name",
         "type": "\"string\""
        },
        {
         "metadata": "{}",
         "name": "size",
         "type": "\"long\""
        },
        {
         "metadata": "{}",
         "name": "modificationTime",
         "type": "\"long\""
        }
       ],
       "type": "table"
      }
     },
     "output_type": "display_data"
    }
   ],
   "source": [
    "%fs ls 's3://databricks-dea-demo/gizmobox/landing/external_data/payments/'"
   ]
  },
  {
   "cell_type": "code",
   "execution_count": null,
   "metadata": {},
   "outputs": [],
   "source": [
    "DROP TABLE IF EXISTS gizmobox.bronze.payments;"
   ]
  },
  {
   "cell_type": "code",
   "execution_count": 0,
   "metadata": {
    "application/vnd.databricks.v1+cell": {
     "cellMetadata": {
      "byteLimit": 2048000,
      "rowLimit": 10000
     },
     "inputWidgets": {},
     "nuid": "77e8212c-23a0-482c-9ca0-d1408255a170",
     "showTitle": false,
     "tableResultSettingsMap": {},
     "title": ""
    }
   },
   "outputs": [],
   "source": [
    "CREATE TABLE IF NOT EXISTS gizmobox.bronze.payments\n",
    "  (payment_id INTEGER,\n",
    "  order_id INTEGER,\n",
    "  payment_timestamp TIMESTAMP,\n",
    "  payment_status INTEGER,\n",
    "  payment_method STRING)\n",
    "USING CSV \n",
    "OPTIONS (\n",
    "  header = \"true\",\n",
    "  delimiter = \",\"\n",
    ")  \n",
    "LOCATION 's3://databricks-dea-demo/gizmobox/landing/external_data/payments';"
   ]
  },
  {
   "cell_type": "code",
   "execution_count": 0,
   "metadata": {
    "application/vnd.databricks.v1+cell": {
     "cellMetadata": {
      "byteLimit": 2048000,
      "rowLimit": 10000
     },
     "inputWidgets": {},
     "nuid": "33e6880a-976e-4dc4-ad90-07dbefda2383",
     "showTitle": false,
     "tableResultSettingsMap": {},
     "title": ""
    }
   },
   "outputs": [
    {
     "data": {
      "text/html": [
       "<style scoped>\n",
       "  .table-result-container {\n",
       "    max-height: 300px;\n",
       "    overflow: auto;\n",
       "  }\n",
       "  table, th, td {\n",
       "    border: 1px solid black;\n",
       "    border-collapse: collapse;\n",
       "  }\n",
       "  th, td {\n",
       "    padding: 5px;\n",
       "  }\n",
       "  th {\n",
       "    text-align: left;\n",
       "  }\n",
       "</style><div class='table-result-container'><table class='table-result'><thead style='background-color: white'><tr><th>payment_id</th><th>order_id</th><th>payment_timestamp</th><th>payment_status</th><th>payment_method</th></tr></thead><tbody><tr><td>35</td><td>13</td><td>2024-12-17T05:25:34.000Z</td><td>2</td><td>PayPal</td></tr><tr><td>36</td><td>16</td><td>2024-12-09T10:45:56.000Z</td><td>4</td><td>Bank Transfer</td></tr><tr><td>37</td><td>17</td><td>2024-12-02T13:50:20.000Z</td><td>1</td><td>Bank Transfer</td></tr><tr><td>38</td><td>24</td><td>2024-12-22T08:30:55.000Z</td><td>1</td><td>PayPal</td></tr><tr><td>39</td><td>27</td><td>2024-12-03T11:45:30.000Z</td><td>2</td><td>Credit Card</td></tr><tr><td>40</td><td>28</td><td>2024-12-27T05:40:10.000Z</td><td>4</td><td>Credit Card</td></tr><tr><td>41</td><td>32</td><td>2024-12-29T09:20:40.000Z</td><td>1</td><td>PayPal</td></tr><tr><td>42</td><td>37</td><td>2024-12-23T12:10:05.000Z</td><td>2</td><td>Credit Card</td></tr><tr><td>43</td><td>38</td><td>2024-12-26T20:15:15.000Z</td><td>1</td><td>Credit Card</td></tr><tr><td>44</td><td>44</td><td>2024-12-21T14:25:45.000Z</td><td>1</td><td>Credit Card</td></tr><tr><td>45</td><td>49</td><td>2024-12-08T16:40:35.000Z</td><td>4</td><td>PayPal</td></tr><tr><td>46</td><td>54</td><td>2024-12-21T13:10:25.000Z</td><td>2</td><td>Credit Card</td></tr><tr><td>47</td><td>58</td><td>2024-12-10T11:50:20.000Z</td><td>1</td><td>PayPal</td></tr><tr><td>48</td><td>60</td><td>2024-12-14T18:30:15.000Z</td><td>1</td><td>Bank Transfer</td></tr><tr><td>49</td><td>61</td><td>2024-12-08T14:45:50.000Z</td><td>2</td><td>Bank Transfer</td></tr><tr><td>50</td><td>65</td><td>2024-12-10T12:35:05.000Z</td><td>4</td><td>Bank Transfer</td></tr><tr><td>51</td><td>67</td><td>2024-12-20T09:40:25.000Z</td><td>1</td><td>PayPal</td></tr><tr><td>52</td><td>69</td><td>2024-12-31T10:15:50.000Z</td><td>1</td><td>Bank Transfer</td></tr><tr><td>53</td><td>70</td><td>2024-12-05T13:50:35.000Z</td><td>2</td><td>PayPal</td></tr><tr><td>54</td><td>71</td><td>2024-12-28T11:05:40.000Z</td><td>1</td><td>Bank Transfer</td></tr><tr><td>55</td><td>74</td><td>2024-12-23T14:25:25.000Z</td><td>1</td><td>PayPal</td></tr><tr><td>56</td><td>80</td><td>2024-12-12T08:30:55.000Z</td><td>4</td><td>Bank Transfer</td></tr><tr><td>57</td><td>81</td><td>2024-12-28T16:45:30.000Z</td><td>1</td><td>PayPal</td></tr><tr><td>58</td><td>82</td><td>2024-12-29T18:50:10.000Z</td><td>2</td><td>PayPal</td></tr><tr><td>59</td><td>91</td><td>2024-12-18T19:20:40.000Z</td><td>4</td><td>Bank Transfer</td></tr><tr><td>60</td><td>93</td><td>2024-12-23T11:10:05.000Z</td><td>1</td><td>PayPal</td></tr><tr><td>61</td><td>95</td><td>2024-12-29T13:15:15.000Z</td><td>2</td><td>Bank Transfer</td></tr><tr><td>62</td><td>96</td><td>2024-12-03T15:25:45.000Z</td><td>1</td><td>PayPal</td></tr><tr><td>63</td><td>97</td><td>2024-12-08T12:10:35.000Z</td><td>4</td><td>Bank Transfer</td></tr><tr><td>65</td><td>2</td><td>2025-01-19T05:05:13.000Z</td><td>2</td><td>PayPal</td></tr><tr><td>66</td><td>3</td><td>2025-01-08T23:45:00.000Z</td><td>4</td><td>Bank Transfer</td></tr><tr><td>67</td><td>4</td><td>2025-01-05T10:49:26.000Z</td><td>1</td><td>Bank Transfer</td></tr><tr><td>68</td><td>8</td><td>2025-01-02T16:11:15.000Z</td><td>2</td><td>PayPal</td></tr><tr><td>69</td><td>14</td><td>2025-01-01T22:22:26.000Z</td><td>4</td><td>PayPal</td></tr><tr><td>70</td><td>18</td><td>2025-01-22T23:12:08.000Z</td><td>1</td><td>Credit Card</td></tr><tr><td>71</td><td>22</td><td>2025-01-01T18:49:19.000Z</td><td>1</td><td>PayPal</td></tr><tr><td>72</td><td>26</td><td>2025-01-05T22:01:25.000Z</td><td>2</td><td>Bank Transfer</td></tr><tr><td>73</td><td>29</td><td>2025-01-18T05:05:04.000Z</td><td>4</td><td>Bank Transfer</td></tr><tr><td>74</td><td>34</td><td>2025-01-12T11:30:15.000Z</td><td>1</td><td>Credit Card</td></tr><tr><td>75</td><td>36</td><td>2025-01-16T23:15:43.000Z</td><td>2</td><td>PayPal</td></tr><tr><td>76</td><td>40</td><td>2025-01-08T13:22:51.000Z</td><td>4</td><td>Bank Transfer</td></tr><tr><td>77</td><td>45</td><td>2025-01-03T15:10:25.000Z</td><td>1</td><td>PayPal</td></tr><tr><td>78</td><td>47</td><td>2025-01-11T20:20:20.000Z</td><td>1</td><td>Bank Transfer</td></tr><tr><td>79</td><td>50</td><td>2025-01-17T12:30:00.000Z</td><td>2</td><td>Bank Transfer</td></tr><tr><td>80</td><td>53</td><td>2025-01-15T07:40:19.000Z</td><td>4</td><td>Credit Card</td></tr><tr><td>81</td><td>58</td><td>2025-01-04T18:49:33.000Z</td><td>1</td><td>PayPal</td></tr><tr><td>82</td><td>60</td><td>2025-01-20T14:10:25.000Z</td><td>2</td><td>Bank Transfer</td></tr><tr><td>83</td><td>65</td><td>2025-01-06T20:30:10.000Z</td><td>4</td><td>PayPal</td></tr><tr><td>84</td><td>67</td><td>2025-01-14T16:00:00.000Z</td><td>1</td><td>Bank Transfer</td></tr><tr><td>85</td><td>71</td><td>2025-01-07T19:15:15.000Z</td><td>2</td><td>Credit Card</td></tr><tr><td>86</td><td>75</td><td>2025-01-21T12:50:30.000Z</td><td>1</td><td>PayPal</td></tr><tr><td>87</td><td>80</td><td>2025-01-19T09:40:40.000Z</td><td>4</td><td>PayPal</td></tr><tr><td>88</td><td>82</td><td>2025-01-10T08:20:00.000Z</td><td>1</td><td>Credit Card</td></tr><tr><td>89</td><td>85</td><td>2025-01-16T15:50:45.000Z</td><td>2</td><td>Bank Transfer</td></tr><tr><td>90</td><td>90</td><td>2025-01-22T21:00:15.000Z</td><td>1</td><td>Bank Transfer</td></tr><tr><td>91</td><td>92</td><td>2025-01-03T16:20:25.000Z</td><td>4</td><td>PayPal</td></tr><tr><td>15</td><td>7</td><td>2024-11-19T19:18:48.000Z</td><td>2</td><td>Credit Card</td></tr><tr><td>16</td><td>9</td><td>2024-11-27T13:15:29.000Z</td><td>4</td><td>Bank Transfer</td></tr><tr><td>17</td><td>20</td><td>2024-11-18T02:38:21.000Z</td><td>1</td><td>PayPal</td></tr><tr><td>18</td><td>21</td><td>2024-11-21T11:25:35.000Z</td><td>1</td><td>Bank Transfer</td></tr><tr><td>19</td><td>23</td><td>2024-11-22T16:04:05.000Z</td><td>1</td><td>PayPal</td></tr><tr><td>20</td><td>25</td><td>2024-11-05T11:45:31.000Z</td><td>2</td><td>PayPal</td></tr><tr><td>21</td><td>30</td><td>2024-11-12T03:20:29.000Z</td><td>1</td><td>Bank Transfer</td></tr><tr><td>22</td><td>35</td><td>2024-11-20T19:09:04.000Z</td><td>4</td><td>Bank Transfer</td></tr><tr><td>23</td><td>36</td><td>2024-11-02T10:39:46.000Z</td><td>1</td><td>PayPal</td></tr><tr><td>24</td><td>38</td><td>2024-11-15T15:12:23.000Z</td><td>1</td><td>Credit Card</td></tr><tr><td>25</td><td>42</td><td>2024-11-26T09:40:55.000Z</td><td>2</td><td>PayPal</td></tr><tr><td>26</td><td>47</td><td>2024-11-28T12:18:39.000Z</td><td>4</td><td>Bank Transfer</td></tr><tr><td>27</td><td>52</td><td>2024-11-17T07:45:14.000Z</td><td>1</td><td>PayPal</td></tr><tr><td>28</td><td>56</td><td>2024-11-23T14:03:20.000Z</td><td>1</td><td>Credit Card</td></tr><tr><td>29</td><td>59</td><td>2024-11-19T18:22:33.000Z</td><td>2</td><td>PayPal</td></tr><tr><td>30</td><td>63</td><td>2024-11-20T20:40:09.000Z</td><td>1</td><td>Bank Transfer</td></tr><tr><td>31</td><td>67</td><td>2024-11-13T16:50:26.000Z</td><td>4</td><td>Credit Card</td></tr><tr><td>32</td><td>71</td><td>2024-11-18T11:09:18.000Z</td><td>1</td><td>PayPal</td></tr><tr><td>33</td><td>74</td><td>2024-11-12T08:05:46.000Z</td><td>2</td><td>Bank Transfer</td></tr><tr><td>2</td><td>10</td><td>2024-10-09T22:09:27.000Z</td><td>2</td><td>Credit Card</td></tr><tr><td>3</td><td>11</td><td>2024-10-15T17:34:19.000Z</td><td>4</td><td>Bank Transfer</td></tr><tr><td>4</td><td>15</td><td>2024-10-22T01:47:25.000Z</td><td>1</td><td>Bank Transfer</td></tr><tr><td>5</td><td>19</td><td>2024-10-15T12:40:26.000Z</td><td>2</td><td>PayPal</td></tr><tr><td>6</td><td>39</td><td>2024-10-31T21:39:19.000Z</td><td>4</td><td>PayPal</td></tr><tr><td>7</td><td>55</td><td>2024-10-27T05:49:16.000Z</td><td>1</td><td>Bank Transfer</td></tr><tr><td>8</td><td>59</td><td>2024-10-25T02:51:05.000Z</td><td>2</td><td>PayPal</td></tr><tr><td>9</td><td>72</td><td>2024-10-08T10:23:28.000Z</td><td>3</td><td>PayPal</td></tr><tr><td>10</td><td>77</td><td>2024-10-17T13:09:33.000Z</td><td>1</td><td>Credit Card</td></tr><tr><td>11</td><td>84</td><td>2024-10-27T03:37:42.000Z</td><td>1</td><td>PayPal</td></tr><tr><td>12</td><td>85</td><td>2024-10-25T20:06:42.000Z</td><td>4</td><td>Bank Transfer</td></tr><tr><td>13</td><td>86</td><td>2024-10-21T13:30:47.000Z</td><td>1</td><td>PayPal</td></tr></tbody></table></div>"
      ]
     },
     "metadata": {
      "application/vnd.databricks.v1+output": {
       "addedWidgets": {},
       "aggData": [],
       "aggError": "",
       "aggOverflow": false,
       "aggSchema": [],
       "aggSeriesLimitReached": false,
       "aggType": "",
       "arguments": {},
       "columnCustomDisplayInfos": {},
       "data": [
        [
         35,
         13,
         "2024-12-17T05:25:34.000Z",
         2,
         "PayPal"
        ],
        [
         36,
         16,
         "2024-12-09T10:45:56.000Z",
         4,
         "Bank Transfer"
        ],
        [
         37,
         17,
         "2024-12-02T13:50:20.000Z",
         1,
         "Bank Transfer"
        ],
        [
         38,
         24,
         "2024-12-22T08:30:55.000Z",
         1,
         "PayPal"
        ],
        [
         39,
         27,
         "2024-12-03T11:45:30.000Z",
         2,
         "Credit Card"
        ],
        [
         40,
         28,
         "2024-12-27T05:40:10.000Z",
         4,
         "Credit Card"
        ],
        [
         41,
         32,
         "2024-12-29T09:20:40.000Z",
         1,
         "PayPal"
        ],
        [
         42,
         37,
         "2024-12-23T12:10:05.000Z",
         2,
         "Credit Card"
        ],
        [
         43,
         38,
         "2024-12-26T20:15:15.000Z",
         1,
         "Credit Card"
        ],
        [
         44,
         44,
         "2024-12-21T14:25:45.000Z",
         1,
         "Credit Card"
        ],
        [
         45,
         49,
         "2024-12-08T16:40:35.000Z",
         4,
         "PayPal"
        ],
        [
         46,
         54,
         "2024-12-21T13:10:25.000Z",
         2,
         "Credit Card"
        ],
        [
         47,
         58,
         "2024-12-10T11:50:20.000Z",
         1,
         "PayPal"
        ],
        [
         48,
         60,
         "2024-12-14T18:30:15.000Z",
         1,
         "Bank Transfer"
        ],
        [
         49,
         61,
         "2024-12-08T14:45:50.000Z",
         2,
         "Bank Transfer"
        ],
        [
         50,
         65,
         "2024-12-10T12:35:05.000Z",
         4,
         "Bank Transfer"
        ],
        [
         51,
         67,
         "2024-12-20T09:40:25.000Z",
         1,
         "PayPal"
        ],
        [
         52,
         69,
         "2024-12-31T10:15:50.000Z",
         1,
         "Bank Transfer"
        ],
        [
         53,
         70,
         "2024-12-05T13:50:35.000Z",
         2,
         "PayPal"
        ],
        [
         54,
         71,
         "2024-12-28T11:05:40.000Z",
         1,
         "Bank Transfer"
        ],
        [
         55,
         74,
         "2024-12-23T14:25:25.000Z",
         1,
         "PayPal"
        ],
        [
         56,
         80,
         "2024-12-12T08:30:55.000Z",
         4,
         "Bank Transfer"
        ],
        [
         57,
         81,
         "2024-12-28T16:45:30.000Z",
         1,
         "PayPal"
        ],
        [
         58,
         82,
         "2024-12-29T18:50:10.000Z",
         2,
         "PayPal"
        ],
        [
         59,
         91,
         "2024-12-18T19:20:40.000Z",
         4,
         "Bank Transfer"
        ],
        [
         60,
         93,
         "2024-12-23T11:10:05.000Z",
         1,
         "PayPal"
        ],
        [
         61,
         95,
         "2024-12-29T13:15:15.000Z",
         2,
         "Bank Transfer"
        ],
        [
         62,
         96,
         "2024-12-03T15:25:45.000Z",
         1,
         "PayPal"
        ],
        [
         63,
         97,
         "2024-12-08T12:10:35.000Z",
         4,
         "Bank Transfer"
        ],
        [
         65,
         2,
         "2025-01-19T05:05:13.000Z",
         2,
         "PayPal"
        ],
        [
         66,
         3,
         "2025-01-08T23:45:00.000Z",
         4,
         "Bank Transfer"
        ],
        [
         67,
         4,
         "2025-01-05T10:49:26.000Z",
         1,
         "Bank Transfer"
        ],
        [
         68,
         8,
         "2025-01-02T16:11:15.000Z",
         2,
         "PayPal"
        ],
        [
         69,
         14,
         "2025-01-01T22:22:26.000Z",
         4,
         "PayPal"
        ],
        [
         70,
         18,
         "2025-01-22T23:12:08.000Z",
         1,
         "Credit Card"
        ],
        [
         71,
         22,
         "2025-01-01T18:49:19.000Z",
         1,
         "PayPal"
        ],
        [
         72,
         26,
         "2025-01-05T22:01:25.000Z",
         2,
         "Bank Transfer"
        ],
        [
         73,
         29,
         "2025-01-18T05:05:04.000Z",
         4,
         "Bank Transfer"
        ],
        [
         74,
         34,
         "2025-01-12T11:30:15.000Z",
         1,
         "Credit Card"
        ],
        [
         75,
         36,
         "2025-01-16T23:15:43.000Z",
         2,
         "PayPal"
        ],
        [
         76,
         40,
         "2025-01-08T13:22:51.000Z",
         4,
         "Bank Transfer"
        ],
        [
         77,
         45,
         "2025-01-03T15:10:25.000Z",
         1,
         "PayPal"
        ],
        [
         78,
         47,
         "2025-01-11T20:20:20.000Z",
         1,
         "Bank Transfer"
        ],
        [
         79,
         50,
         "2025-01-17T12:30:00.000Z",
         2,
         "Bank Transfer"
        ],
        [
         80,
         53,
         "2025-01-15T07:40:19.000Z",
         4,
         "Credit Card"
        ],
        [
         81,
         58,
         "2025-01-04T18:49:33.000Z",
         1,
         "PayPal"
        ],
        [
         82,
         60,
         "2025-01-20T14:10:25.000Z",
         2,
         "Bank Transfer"
        ],
        [
         83,
         65,
         "2025-01-06T20:30:10.000Z",
         4,
         "PayPal"
        ],
        [
         84,
         67,
         "2025-01-14T16:00:00.000Z",
         1,
         "Bank Transfer"
        ],
        [
         85,
         71,
         "2025-01-07T19:15:15.000Z",
         2,
         "Credit Card"
        ],
        [
         86,
         75,
         "2025-01-21T12:50:30.000Z",
         1,
         "PayPal"
        ],
        [
         87,
         80,
         "2025-01-19T09:40:40.000Z",
         4,
         "PayPal"
        ],
        [
         88,
         82,
         "2025-01-10T08:20:00.000Z",
         1,
         "Credit Card"
        ],
        [
         89,
         85,
         "2025-01-16T15:50:45.000Z",
         2,
         "Bank Transfer"
        ],
        [
         90,
         90,
         "2025-01-22T21:00:15.000Z",
         1,
         "Bank Transfer"
        ],
        [
         91,
         92,
         "2025-01-03T16:20:25.000Z",
         4,
         "PayPal"
        ],
        [
         15,
         7,
         "2024-11-19T19:18:48.000Z",
         2,
         "Credit Card"
        ],
        [
         16,
         9,
         "2024-11-27T13:15:29.000Z",
         4,
         "Bank Transfer"
        ],
        [
         17,
         20,
         "2024-11-18T02:38:21.000Z",
         1,
         "PayPal"
        ],
        [
         18,
         21,
         "2024-11-21T11:25:35.000Z",
         1,
         "Bank Transfer"
        ],
        [
         19,
         23,
         "2024-11-22T16:04:05.000Z",
         1,
         "PayPal"
        ],
        [
         20,
         25,
         "2024-11-05T11:45:31.000Z",
         2,
         "PayPal"
        ],
        [
         21,
         30,
         "2024-11-12T03:20:29.000Z",
         1,
         "Bank Transfer"
        ],
        [
         22,
         35,
         "2024-11-20T19:09:04.000Z",
         4,
         "Bank Transfer"
        ],
        [
         23,
         36,
         "2024-11-02T10:39:46.000Z",
         1,
         "PayPal"
        ],
        [
         24,
         38,
         "2024-11-15T15:12:23.000Z",
         1,
         "Credit Card"
        ],
        [
         25,
         42,
         "2024-11-26T09:40:55.000Z",
         2,
         "PayPal"
        ],
        [
         26,
         47,
         "2024-11-28T12:18:39.000Z",
         4,
         "Bank Transfer"
        ],
        [
         27,
         52,
         "2024-11-17T07:45:14.000Z",
         1,
         "PayPal"
        ],
        [
         28,
         56,
         "2024-11-23T14:03:20.000Z",
         1,
         "Credit Card"
        ],
        [
         29,
         59,
         "2024-11-19T18:22:33.000Z",
         2,
         "PayPal"
        ],
        [
         30,
         63,
         "2024-11-20T20:40:09.000Z",
         1,
         "Bank Transfer"
        ],
        [
         31,
         67,
         "2024-11-13T16:50:26.000Z",
         4,
         "Credit Card"
        ],
        [
         32,
         71,
         "2024-11-18T11:09:18.000Z",
         1,
         "PayPal"
        ],
        [
         33,
         74,
         "2024-11-12T08:05:46.000Z",
         2,
         "Bank Transfer"
        ],
        [
         2,
         10,
         "2024-10-09T22:09:27.000Z",
         2,
         "Credit Card"
        ],
        [
         3,
         11,
         "2024-10-15T17:34:19.000Z",
         4,
         "Bank Transfer"
        ],
        [
         4,
         15,
         "2024-10-22T01:47:25.000Z",
         1,
         "Bank Transfer"
        ],
        [
         5,
         19,
         "2024-10-15T12:40:26.000Z",
         2,
         "PayPal"
        ],
        [
         6,
         39,
         "2024-10-31T21:39:19.000Z",
         4,
         "PayPal"
        ],
        [
         7,
         55,
         "2024-10-27T05:49:16.000Z",
         1,
         "Bank Transfer"
        ],
        [
         8,
         59,
         "2024-10-25T02:51:05.000Z",
         2,
         "PayPal"
        ],
        [
         9,
         72,
         "2024-10-08T10:23:28.000Z",
         3,
         "PayPal"
        ],
        [
         10,
         77,
         "2024-10-17T13:09:33.000Z",
         1,
         "Credit Card"
        ],
        [
         11,
         84,
         "2024-10-27T03:37:42.000Z",
         1,
         "PayPal"
        ],
        [
         12,
         85,
         "2024-10-25T20:06:42.000Z",
         4,
         "Bank Transfer"
        ],
        [
         13,
         86,
         "2024-10-21T13:30:47.000Z",
         1,
         "PayPal"
        ]
       ],
       "datasetInfos": [
        {
         "name": "_sqldf",
         "schema": {
          "fields": [
           {
            "metadata": {},
            "name": "payment_id",
            "nullable": true,
            "type": "integer"
           },
           {
            "metadata": {},
            "name": "order_id",
            "nullable": true,
            "type": "integer"
           },
           {
            "metadata": {},
            "name": "payment_timestamp",
            "nullable": true,
            "type": "timestamp"
           },
           {
            "metadata": {},
            "name": "payment_status",
            "nullable": true,
            "type": "integer"
           },
           {
            "metadata": {},
            "name": "payment_method",
            "nullable": true,
            "type": "string"
           }
          ],
          "type": "struct"
         },
         "tableIdentifier": null,
         "typeStr": "pyspark.sql.connect.dataframe.DataFrame"
        }
       ],
       "dbfsResultPath": null,
       "isJsonSchema": true,
       "metadata": {
        "createTempViewForImplicitDf": true,
        "dataframeName": "_sqldf",
        "executionCount": 10
       },
       "overflow": false,
       "plotOptions": {
        "customPlotOptions": {},
        "displayType": "table",
        "pivotAggregation": null,
        "pivotColumns": null,
        "xColumns": null,
        "yColumns": null
       },
       "removedWidgets": [],
       "schema": [
        {
         "metadata": "{}",
         "name": "payment_id",
         "type": "\"integer\""
        },
        {
         "metadata": "{}",
         "name": "order_id",
         "type": "\"integer\""
        },
        {
         "metadata": "{}",
         "name": "payment_timestamp",
         "type": "\"timestamp\""
        },
        {
         "metadata": "{}",
         "name": "payment_status",
         "type": "\"integer\""
        },
        {
         "metadata": "{}",
         "name": "payment_method",
         "type": "\"string\""
        }
       ],
       "type": "table"
      }
     },
     "output_type": "display_data"
    }
   ],
   "source": [
    "SELECT * FROM gizmobox.bronze.payments;"
   ]
  },
  {
   "cell_type": "code",
   "execution_count": 0,
   "metadata": {
    "application/vnd.databricks.v1+cell": {
     "cellMetadata": {
      "byteLimit": 2048000,
      "rowLimit": 10000
     },
     "inputWidgets": {},
     "nuid": "68764187-5354-4e1f-9a0e-a397537ffd10",
     "showTitle": false,
     "tableResultSettingsMap": {},
     "title": ""
    }
   },
   "outputs": [
    {
     "data": {
      "text/html": [
       "<style scoped>\n",
       "  .table-result-container {\n",
       "    max-height: 300px;\n",
       "    overflow: auto;\n",
       "  }\n",
       "  table, th, td {\n",
       "    border: 1px solid black;\n",
       "    border-collapse: collapse;\n",
       "  }\n",
       "  th, td {\n",
       "    padding: 5px;\n",
       "  }\n",
       "  th {\n",
       "    text-align: left;\n",
       "  }\n",
       "</style><div class='table-result-container'><table class='table-result'><thead style='background-color: white'><tr><th>col_name</th><th>data_type</th><th>comment</th></tr></thead><tbody><tr><td>payment_id</td><td>int</td><td>null</td></tr><tr><td>order_id</td><td>int</td><td>null</td></tr><tr><td>payment_timestamp</td><td>timestamp</td><td>null</td></tr><tr><td>payment_status</td><td>int</td><td>null</td></tr><tr><td>payment_method</td><td>string</td><td>null</td></tr></tbody></table></div>"
      ]
     },
     "metadata": {
      "application/vnd.databricks.v1+output": {
       "addedWidgets": {},
       "aggData": [],
       "aggError": "",
       "aggOverflow": false,
       "aggSchema": [],
       "aggSeriesLimitReached": false,
       "aggType": "",
       "arguments": {},
       "columnCustomDisplayInfos": {},
       "data": [
        [
         "payment_id",
         "int",
         null
        ],
        [
         "order_id",
         "int",
         null
        ],
        [
         "payment_timestamp",
         "timestamp",
         null
        ],
        [
         "payment_status",
         "int",
         null
        ],
        [
         "payment_method",
         "string",
         null
        ]
       ],
       "datasetInfos": [
        {
         "name": "_sqldf",
         "schema": {
          "fields": [
           {
            "metadata": {},
            "name": "col_name",
            "nullable": false,
            "type": "string"
           },
           {
            "metadata": {},
            "name": "data_type",
            "nullable": false,
            "type": "string"
           },
           {
            "metadata": {},
            "name": "comment",
            "nullable": true,
            "type": "string"
           }
          ],
          "type": "struct"
         },
         "tableIdentifier": null,
         "typeStr": "pyspark.sql.connect.dataframe.DataFrame"
        }
       ],
       "dbfsResultPath": null,
       "isJsonSchema": true,
       "metadata": {
        "createTempViewForImplicitDf": true,
        "dataframeName": "_sqldf",
        "executionCount": 12
       },
       "overflow": false,
       "plotOptions": {
        "customPlotOptions": {},
        "displayType": "table",
        "pivotAggregation": null,
        "pivotColumns": null,
        "xColumns": null,
        "yColumns": null
       },
       "removedWidgets": [],
       "schema": [
        {
         "metadata": "{}",
         "name": "col_name",
         "type": "\"string\""
        },
        {
         "metadata": "{}",
         "name": "data_type",
         "type": "\"string\""
        },
        {
         "metadata": "{}",
         "name": "comment",
         "type": "\"string\""
        }
       ],
       "type": "table"
      }
     },
     "output_type": "display_data"
    }
   ],
   "source": [
    "DESCRIBE gizmobox.bronze.payments;"
   ]
  },
  {
   "cell_type": "code",
   "execution_count": 0,
   "metadata": {
    "application/vnd.databricks.v1+cell": {
     "cellMetadata": {
      "byteLimit": 2048000,
      "rowLimit": 10000
     },
     "inputWidgets": {},
     "nuid": "537ed6ea-b080-4ce8-b60b-ad72a49f489f",
     "showTitle": false,
     "tableResultSettingsMap": {},
     "title": ""
    }
   },
   "outputs": [
    {
     "data": {
      "text/html": [
       "<style scoped>\n",
       "  .table-result-container {\n",
       "    max-height: 300px;\n",
       "    overflow: auto;\n",
       "  }\n",
       "  table, th, td {\n",
       "    border: 1px solid black;\n",
       "    border-collapse: collapse;\n",
       "  }\n",
       "  th, td {\n",
       "    padding: 5px;\n",
       "  }\n",
       "  th {\n",
       "    text-align: left;\n",
       "  }\n",
       "</style><div class='table-result-container'><table class='table-result'><thead style='background-color: white'><tr><th>col_name</th><th>data_type</th><th>comment</th></tr></thead><tbody><tr><td>payment_id</td><td>int</td><td>null</td></tr><tr><td>order_id</td><td>int</td><td>null</td></tr><tr><td>payment_timestamp</td><td>timestamp</td><td>null</td></tr><tr><td>payment_status</td><td>int</td><td>null</td></tr><tr><td>payment_method</td><td>string</td><td>null</td></tr><tr><td></td><td></td><td></td></tr><tr><td># Detailed Table Information</td><td></td><td></td></tr><tr><td>Catalog</td><td>gizmobox</td><td></td></tr><tr><td>Database</td><td>bronze</td><td></td></tr><tr><td>Table</td><td>payments</td><td></td></tr><tr><td>Owner</td><td>qadam2602@gmail.com</td><td></td></tr><tr><td>Created Time</td><td>Mon Sep 01 20:06:35 UTC 2025</td><td></td></tr><tr><td>Last Access</td><td>UNKNOWN</td><td></td></tr><tr><td>Created By</td><td>Spark </td><td></td></tr><tr><td>Type</td><td>EXTERNAL</td><td></td></tr><tr><td>Provider</td><td>csv</td><td></td></tr><tr><td>Location</td><td>s3://databricks-dea-demo/gizmobox/landing/external_data/payments</td><td></td></tr><tr><td>Storage Properties</td><td>[delimiter=,, header=true]</td><td></td></tr><tr><td>Legacy UC Partitioned CSV Table</td><td>true</td><td></td></tr></tbody></table></div>"
      ]
     },
     "metadata": {
      "application/vnd.databricks.v1+output": {
       "addedWidgets": {},
       "aggData": [],
       "aggError": "",
       "aggOverflow": false,
       "aggSchema": [],
       "aggSeriesLimitReached": false,
       "aggType": "",
       "arguments": {},
       "columnCustomDisplayInfos": {},
       "data": [
        [
         "payment_id",
         "int",
         null
        ],
        [
         "order_id",
         "int",
         null
        ],
        [
         "payment_timestamp",
         "timestamp",
         null
        ],
        [
         "payment_status",
         "int",
         null
        ],
        [
         "payment_method",
         "string",
         null
        ],
        [
         "",
         "",
         ""
        ],
        [
         "# Detailed Table Information",
         "",
         ""
        ],
        [
         "Catalog",
         "gizmobox",
         ""
        ],
        [
         "Database",
         "bronze",
         ""
        ],
        [
         "Table",
         "payments",
         ""
        ],
        [
         "Owner",
         "qadam2602@gmail.com",
         ""
        ],
        [
         "Created Time",
         "Mon Sep 01 20:06:35 UTC 2025",
         ""
        ],
        [
         "Last Access",
         "UNKNOWN",
         ""
        ],
        [
         "Created By",
         "Spark ",
         ""
        ],
        [
         "Type",
         "EXTERNAL",
         ""
        ],
        [
         "Provider",
         "csv",
         ""
        ],
        [
         "Location",
         "s3://databricks-dea-demo/gizmobox/landing/external_data/payments",
         ""
        ],
        [
         "Storage Properties",
         "[delimiter=,, header=true]",
         ""
        ],
        [
         "Legacy UC Partitioned CSV Table",
         "true",
         ""
        ]
       ],
       "datasetInfos": [
        {
         "name": "_sqldf",
         "schema": {
          "fields": [
           {
            "metadata": {},
            "name": "col_name",
            "nullable": false,
            "type": "string"
           },
           {
            "metadata": {},
            "name": "data_type",
            "nullable": false,
            "type": "string"
           },
           {
            "metadata": {},
            "name": "comment",
            "nullable": true,
            "type": "string"
           }
          ],
          "type": "struct"
         },
         "tableIdentifier": null,
         "typeStr": "pyspark.sql.connect.dataframe.DataFrame"
        }
       ],
       "dbfsResultPath": null,
       "isJsonSchema": true,
       "metadata": {
        "createTempViewForImplicitDf": true,
        "dataframeName": "_sqldf",
        "executionCount": 13
       },
       "overflow": false,
       "plotOptions": {
        "customPlotOptions": {},
        "displayType": "table",
        "pivotAggregation": null,
        "pivotColumns": null,
        "xColumns": null,
        "yColumns": null
       },
       "removedWidgets": [],
       "schema": [
        {
         "metadata": "{}",
         "name": "col_name",
         "type": "\"string\""
        },
        {
         "metadata": "{}",
         "name": "data_type",
         "type": "\"string\""
        },
        {
         "metadata": "{}",
         "name": "comment",
         "type": "\"string\""
        }
       ],
       "type": "table"
      }
     },
     "output_type": "display_data"
    }
   ],
   "source": [
    "DESCRIBE EXTENDED gizmobox.bronze.payments;"
   ]
  },
  {
   "cell_type": "markdown",
   "metadata": {
    "application/vnd.databricks.v1+cell": {
     "cellMetadata": {},
     "inputWidgets": {},
     "nuid": "3fbd9630-a7c5-433b-ace4-6b05161a849f",
     "showTitle": false,
     "tableResultSettingsMap": {},
     "title": ""
    }
   },
   "source": [
    "### Demonstrate a table refresh after file addition or deletion at source storage"
   ]
  },
  {
   "cell_type": "code",
   "execution_count": 0,
   "metadata": {
    "application/vnd.databricks.v1+cell": {
     "cellMetadata": {
      "byteLimit": 2048000,
      "rowLimit": 10000
     },
     "inputWidgets": {},
     "nuid": "6f4498b6-3e03-42d7-9556-9bfca08c4196",
     "showTitle": false,
     "tableResultSettingsMap": {},
     "title": ""
    }
   },
   "outputs": [],
   "source": [
    "--[NOT_SUPPORTED_WITH_SERVERLESS] REFRESH TABLE is not supported on serverless compute. SQLSTATE: 0A000\n",
    "-- REFRESH TABLE gizmobox.bronze.payments;\n",
    "-- SELECT * FROM gizmobox.bronze.payments;"
   ]
  },
  {
   "cell_type": "code",
   "execution_count": 0,
   "metadata": {
    "application/vnd.databricks.v1+cell": {
     "cellMetadata": {
      "byteLimit": 2048000,
      "rowLimit": 10000
     },
     "inputWidgets": {},
     "nuid": "0e69a169-5ea2-4492-a045-81216b903e69",
     "showTitle": false,
     "tableResultSettingsMap": {},
     "title": ""
    }
   },
   "outputs": [],
   "source": [
    "DROP TABLE IF EXISTS gizmobox.bronze.payments;"
   ]
  }
 ],
 "metadata": {
  "application/vnd.databricks.v1+notebook": {
   "computePreferences": {
    "hardware": {
     "accelerator": null,
     "gpuPoolId": null,
     "memory": null
    }
   },
   "dashboards": [],
   "environmentMetadata": {
    "base_environment": "",
    "environment_version": "3"
   },
   "inputWidgetPreferences": null,
   "language": "sql",
   "notebookMetadata": {
    "mostRecentlyExecutedCommandWithImplicitDF": {
     "commandId": 8779708145379859,
     "dataframes": [
      "_sqldf"
     ]
    },
    "pythonIndentUnit": 4
   },
   "notebookName": "06. Extract Payments Data - CSV via External Table",
   "widgets": {}
  },
  "language_info": {
   "name": "sql"
  }
 },
 "nbformat": 4,
 "nbformat_minor": 0
}
