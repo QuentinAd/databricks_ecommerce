{
 "cells": [
  {
   "cell_type": "code",
   "execution_count": 0,
   "metadata": {
    "application/vnd.databricks.v1+cell": {
     "cellMetadata": {
      "byteLimit": 2048000,
      "rowLimit": 10000
     },
     "inputWidgets": {},
     "nuid": "941d2912-23c6-4bd0-bfb4-07e2102d546b",
     "showTitle": false,
     "tableResultSettingsMap": {},
     "title": ""
    }
   },
   "outputs": [
    {
     "output_type": "display_data",
     "data": {
      "text/html": [
       "<style scoped>\n",
       "  .table-result-container {\n",
       "    max-height: 300px;\n",
       "    overflow: auto;\n",
       "  }\n",
       "  table, th, td {\n",
       "    border: 1px solid black;\n",
       "    border-collapse: collapse;\n",
       "  }\n",
       "  th, td {\n",
       "    padding: 5px;\n",
       "  }\n",
       "  th {\n",
       "    text-align: left;\n",
       "  }\n",
       "</style><div class='table-result-container'><table class='table-result'><thead style='background-color: white'><tr><th>refund_id</th><th>payment_id</th><th>refund_timestamp</th><th>refund_amount</th><th>refund_reason</th><th>refund_source</th></tr></thead><tbody><tr><td>1</td><td>66</td><td>2025-01-10T11:30:00.000Z</td><td>85.75</td><td>Payment Error</td><td>Retailer</td></tr><tr><td>2</td><td>69</td><td>2025-01-03T12:40:15.000Z</td><td>120.50</td><td>Order Cancelled</td><td>Customer</td></tr><tr><td>3</td><td>72</td><td>2025-01-06T14:45:30.000Z</td><td>65.00</td><td>Product Returned</td><td>Customer</td></tr><tr><td>4</td><td>73</td><td>2025-01-07T16:10:45.000Z</td><td>210.99</td><td>Order Cancelled</td><td>Customer</td></tr><tr><td>5</td><td>75</td><td>2025-01-09T18:25:00.000Z</td><td>45.20</td><td>Payment Error</td><td>Retailer</td></tr><tr><td>6</td><td>80</td><td>2025-01-10T09:35:20.000Z</td><td>130.15</td><td>Order Cancelled</td><td>Customer</td></tr><tr><td>7</td><td>83</td><td>2025-01-12T11:20:40.000Z</td><td>150.00</td><td>Product Returned</td><td>Customer</td></tr><tr><td>8</td><td>85</td><td>2025-01-14T13:15:30.000Z</td><td>89.99</td><td>Order Cancelled</td><td>Customer</td></tr><tr><td>9</td><td>89</td><td>2025-01-15T15:00:00.000Z</td><td>78.50</td><td>Payment Error</td><td>Retailer</td></tr><tr><td>10</td><td>91</td><td>2025-01-17T16:45:15.000Z</td><td>250.75</td><td>Product Returned</td><td>Customer</td></tr></tbody></table></div>"
      ]
     },
     "metadata": {
      "application/vnd.databricks.v1+output": {
       "addedWidgets": {},
       "aggData": [],
       "aggError": "",
       "aggOverflow": false,
       "aggSchema": [],
       "aggSeriesLimitReached": false,
       "aggType": "",
       "arguments": {},
       "columnCustomDisplayInfos": {},
       "data": [
        [
         1,
         66,
         "2025-01-10T11:30:00.000Z",
         "85.75",
         "Payment Error",
         "Retailer"
        ],
        [
         2,
         69,
         "2025-01-03T12:40:15.000Z",
         "120.50",
         "Order Cancelled",
         "Customer"
        ],
        [
         3,
         72,
         "2025-01-06T14:45:30.000Z",
         "65.00",
         "Product Returned",
         "Customer"
        ],
        [
         4,
         73,
         "2025-01-07T16:10:45.000Z",
         "210.99",
         "Order Cancelled",
         "Customer"
        ],
        [
         5,
         75,
         "2025-01-09T18:25:00.000Z",
         "45.20",
         "Payment Error",
         "Retailer"
        ],
        [
         6,
         80,
         "2025-01-10T09:35:20.000Z",
         "130.15",
         "Order Cancelled",
         "Customer"
        ],
        [
         7,
         83,
         "2025-01-12T11:20:40.000Z",
         "150.00",
         "Product Returned",
         "Customer"
        ],
        [
         8,
         85,
         "2025-01-14T13:15:30.000Z",
         "89.99",
         "Order Cancelled",
         "Customer"
        ],
        [
         9,
         89,
         "2025-01-15T15:00:00.000Z",
         "78.50",
         "Payment Error",
         "Retailer"
        ],
        [
         10,
         91,
         "2025-01-17T16:45:15.000Z",
         "250.75",
         "Product Returned",
         "Customer"
        ]
       ],
       "datasetInfos": [
        {
         "name": "_sqldf",
         "schema": {
          "fields": [
           {
            "metadata": {
             "isTimestampNTZ": false,
             "jdbcClientType": "int4",
             "scale": 0,
             "signed": true
            },
            "name": "refund_id",
            "nullable": true,
            "type": "integer"
           },
           {
            "metadata": {
             "isTimestampNTZ": false,
             "jdbcClientType": "int4",
             "scale": 0,
             "signed": true
            },
            "name": "payment_id",
            "nullable": true,
            "type": "integer"
           },
           {
            "metadata": {
             "isTimestampNTZ": false,
             "jdbcClientType": "timestamp",
             "scale": 6,
             "signed": false
            },
            "name": "refund_timestamp",
            "nullable": true,
            "type": "timestamp"
           },
           {
            "metadata": {
             "isTimestampNTZ": false,
             "jdbcClientType": "numeric",
             "scale": 2,
             "signed": true
            },
            "name": "refund_amount",
            "nullable": true,
            "type": "decimal(10,2)"
           },
           {
            "metadata": {},
            "name": "refund_reason",
            "nullable": true,
            "type": "string"
           },
           {
            "metadata": {},
            "name": "refund_source",
            "nullable": true,
            "type": "string"
           }
          ],
          "type": "struct"
         },
         "tableIdentifier": null,
         "typeStr": "pyspark.sql.connect.dataframe.DataFrame"
        }
       ],
       "dbfsResultPath": null,
       "isJsonSchema": true,
       "metadata": {
        "createTempViewForImplicitDf": true,
        "dataframeName": "_sqldf",
        "executionCount": 9
       },
       "overflow": false,
       "plotOptions": {
        "customPlotOptions": {},
        "displayType": "table",
        "pivotAggregation": null,
        "pivotColumns": null,
        "xColumns": null,
        "yColumns": null
       },
       "removedWidgets": [],
       "schema": [
        {
         "metadata": "{\"signed\": true, \"scale\": 0, \"isTimestampNTZ\": false, \"jdbcClientType\": \"int4\"}",
         "name": "refund_id",
         "type": "\"integer\""
        },
        {
         "metadata": "{\"signed\": true, \"scale\": 0, \"isTimestampNTZ\": false, \"jdbcClientType\": \"int4\"}",
         "name": "payment_id",
         "type": "\"integer\""
        },
        {
         "metadata": "{\"signed\": false, \"scale\": 6, \"isTimestampNTZ\": false, \"jdbcClientType\": \"timestamp\"}",
         "name": "refund_timestamp",
         "type": "\"timestamp\""
        },
        {
         "metadata": "{\"signed\": true, \"scale\": 2, \"isTimestampNTZ\": false, \"jdbcClientType\": \"numeric\"}",
         "name": "refund_amount",
         "type": "\"decimal(10,2)\""
        },
        {
         "metadata": "{}",
         "name": "refund_reason",
         "type": "\"string\""
        },
        {
         "metadata": "{}",
         "name": "refund_source",
         "type": "\"string\""
        }
       ],
       "type": "table"
      }
     },
     "output_type": "display_data"
    }
   ],
   "source": [
    "SELECT refund_id,\n",
    "       payment_id,\n",
    "       refund_timestamp, \n",
    "       refund_amount,\n",
    "       SPLIT(refund_reason, '[:]')[0] AS refund_reason,\n",
    "       SPLIT(refund_reason, '[:]')[1] AS refund_source\n",
    "  FROM gizmobox.bronze.refunds;"
   ]
  },
  {
   "cell_type": "code",
   "execution_count": 0,
   "metadata": {
    "application/vnd.databricks.v1+cell": {
     "cellMetadata": {
      "byteLimit": 2048000,
      "rowLimit": 10000
     },
     "inputWidgets": {},
     "nuid": "d7fc537a-cc26-40a1-81a3-952cc7774152",
     "showTitle": false,
     "tableResultSettingsMap": {},
     "title": ""
    }
   },
   "outputs": [
    {
     "output_type": "display_data",
     "data": {
      "text/html": [
       "<style scoped>\n",
       "  .table-result-container {\n",
       "    max-height: 300px;\n",
       "    overflow: auto;\n",
       "  }\n",
       "  table, th, td {\n",
       "    border: 1px solid black;\n",
       "    border-collapse: collapse;\n",
       "  }\n",
       "  th, td {\n",
       "    padding: 5px;\n",
       "  }\n",
       "  th {\n",
       "    text-align: left;\n",
       "  }\n",
       "</style><div class='table-result-container'><table class='table-result'><thead style='background-color: white'><tr><th>refund_id</th><th>payment_id</th><th>refund_timestamp</th><th>refund_amount</th><th>refund_reason</th><th>refund_source</th></tr></thead><tbody><tr><td>1</td><td>66</td><td>2025-01-10T11:30:00.000Z</td><td>85.75</td><td>Payment Error</td><td>Retailer</td></tr><tr><td>2</td><td>69</td><td>2025-01-03T12:40:15.000Z</td><td>120.50</td><td>Order Cancelled</td><td>Customer</td></tr><tr><td>3</td><td>72</td><td>2025-01-06T14:45:30.000Z</td><td>65.00</td><td>Product Returned</td><td>Customer</td></tr><tr><td>4</td><td>73</td><td>2025-01-07T16:10:45.000Z</td><td>210.99</td><td>Order Cancelled</td><td>Customer</td></tr><tr><td>5</td><td>75</td><td>2025-01-09T18:25:00.000Z</td><td>45.20</td><td>Payment Error</td><td>Retailer</td></tr><tr><td>6</td><td>80</td><td>2025-01-10T09:35:20.000Z</td><td>130.15</td><td>Order Cancelled</td><td>Customer</td></tr><tr><td>7</td><td>83</td><td>2025-01-12T11:20:40.000Z</td><td>150.00</td><td>Product Returned</td><td>Customer</td></tr><tr><td>8</td><td>85</td><td>2025-01-14T13:15:30.000Z</td><td>89.99</td><td>Order Cancelled</td><td>Customer</td></tr><tr><td>9</td><td>89</td><td>2025-01-15T15:00:00.000Z</td><td>78.50</td><td>Payment Error</td><td>Retailer</td></tr><tr><td>10</td><td>91</td><td>2025-01-17T16:45:15.000Z</td><td>250.75</td><td>Product Returned</td><td>Customer</td></tr></tbody></table></div>"
      ]
     },
     "metadata": {
      "application/vnd.databricks.v1+output": {
       "addedWidgets": {},
       "aggData": [],
       "aggError": "",
       "aggOverflow": false,
       "aggSchema": [],
       "aggSeriesLimitReached": false,
       "aggType": "",
       "arguments": {},
       "columnCustomDisplayInfos": {},
       "data": [
        [
         1,
         66,
         "2025-01-10T11:30:00.000Z",
         "85.75",
         "Payment Error",
         "Retailer"
        ],
        [
         2,
         69,
         "2025-01-03T12:40:15.000Z",
         "120.50",
         "Order Cancelled",
         "Customer"
        ],
        [
         3,
         72,
         "2025-01-06T14:45:30.000Z",
         "65.00",
         "Product Returned",
         "Customer"
        ],
        [
         4,
         73,
         "2025-01-07T16:10:45.000Z",
         "210.99",
         "Order Cancelled",
         "Customer"
        ],
        [
         5,
         75,
         "2025-01-09T18:25:00.000Z",
         "45.20",
         "Payment Error",
         "Retailer"
        ],
        [
         6,
         80,
         "2025-01-10T09:35:20.000Z",
         "130.15",
         "Order Cancelled",
         "Customer"
        ],
        [
         7,
         83,
         "2025-01-12T11:20:40.000Z",
         "150.00",
         "Product Returned",
         "Customer"
        ],
        [
         8,
         85,
         "2025-01-14T13:15:30.000Z",
         "89.99",
         "Order Cancelled",
         "Customer"
        ],
        [
         9,
         89,
         "2025-01-15T15:00:00.000Z",
         "78.50",
         "Payment Error",
         "Retailer"
        ],
        [
         10,
         91,
         "2025-01-17T16:45:15.000Z",
         "250.75",
         "Product Returned",
         "Customer"
        ]
       ],
       "datasetInfos": [
        {
         "name": "_sqldf",
         "schema": {
          "fields": [
           {
            "metadata": {
             "isTimestampNTZ": false,
             "jdbcClientType": "int4",
             "scale": 0,
             "signed": true
            },
            "name": "refund_id",
            "nullable": true,
            "type": "integer"
           },
           {
            "metadata": {
             "isTimestampNTZ": false,
             "jdbcClientType": "int4",
             "scale": 0,
             "signed": true
            },
            "name": "payment_id",
            "nullable": true,
            "type": "integer"
           },
           {
            "metadata": {
             "isTimestampNTZ": false,
             "jdbcClientType": "timestamp",
             "scale": 6,
             "signed": false
            },
            "name": "refund_timestamp",
            "nullable": true,
            "type": "timestamp"
           },
           {
            "metadata": {
             "isTimestampNTZ": false,
             "jdbcClientType": "numeric",
             "scale": 2,
             "signed": true
            },
            "name": "refund_amount",
            "nullable": true,
            "type": "decimal(10,2)"
           },
           {
            "metadata": {},
            "name": "refund_reason",
            "nullable": true,
            "type": "string"
           },
           {
            "metadata": {},
            "name": "refund_source",
            "nullable": true,
            "type": "string"
           }
          ],
          "type": "struct"
         },
         "tableIdentifier": null,
         "typeStr": "pyspark.sql.connect.dataframe.DataFrame"
        }
       ],
       "dbfsResultPath": null,
       "isJsonSchema": true,
       "metadata": {
        "createTempViewForImplicitDf": true,
        "dataframeName": "_sqldf",
        "executionCount": 15
       },
       "overflow": false,
       "plotOptions": {
        "customPlotOptions": {},
        "displayType": "table",
        "pivotAggregation": null,
        "pivotColumns": null,
        "xColumns": null,
        "yColumns": null
       },
       "removedWidgets": [],
       "schema": [
        {
         "metadata": "{\"signed\": true, \"scale\": 0, \"isTimestampNTZ\": false, \"jdbcClientType\": \"int4\"}",
         "name": "refund_id",
         "type": "\"integer\""
        },
        {
         "metadata": "{\"signed\": true, \"scale\": 0, \"isTimestampNTZ\": false, \"jdbcClientType\": \"int4\"}",
         "name": "payment_id",
         "type": "\"integer\""
        },
        {
         "metadata": "{\"signed\": false, \"scale\": 6, \"isTimestampNTZ\": false, \"jdbcClientType\": \"timestamp\"}",
         "name": "refund_timestamp",
         "type": "\"timestamp\""
        },
        {
         "metadata": "{\"signed\": true, \"scale\": 2, \"isTimestampNTZ\": false, \"jdbcClientType\": \"numeric\"}",
         "name": "refund_amount",
         "type": "\"decimal(10,2)\""
        },
        {
         "metadata": "{}",
         "name": "refund_reason",
         "type": "\"string\""
        },
        {
         "metadata": "{}",
         "name": "refund_source",
         "type": "\"string\""
        }
       ],
       "type": "table"
      }
     },
     "output_type": "display_data"
    }
   ],
   "source": [
    "SELECT refund_id,\n",
    "       payment_id,\n",
    "       refund_timestamp, \n",
    "       refund_amount,\n",
    "       regexp_extract(refund_reason, '^([^:]+):', 1) AS refund_reason,\n",
    "       regexp_extract(refund_reason, '^[^:]+:(.*)$', 1) AS refund_source\n",
    "  FROM gizmobox.bronze.refunds;"
   ]
  },
  {
   "cell_type": "code",
   "execution_count": 0,
   "metadata": {
    "application/vnd.databricks.v1+cell": {
     "cellMetadata": {
      "byteLimit": 2048000,
      "rowLimit": 10000
     },
     "inputWidgets": {},
     "nuid": "a06ecf3a-114c-4e66-9b30-f17a484fa149",
     "showTitle": false,
     "tableResultSettingsMap": {},
     "title": ""
    }
   },
   "outputs": [
    {
     "output_type": "display_data",
     "data": {
      "text/html": [
       "<style scoped>\n",
       "  .table-result-container {\n",
       "    max-height: 300px;\n",
       "    overflow: auto;\n",
       "  }\n",
       "  table, th, td {\n",
       "    border: 1px solid black;\n",
       "    border-collapse: collapse;\n",
       "  }\n",
       "  th, td {\n",
       "    padding: 5px;\n",
       "  }\n",
       "  th {\n",
       "    text-align: left;\n",
       "  }\n",
       "</style><div class='table-result-container'><table class='table-result'><thead style='background-color: white'><tr><th>refund_id</th><th>payment_id</th><th>refund_date</th><th>refund_time</th><th>refund_amount</th><th>refund_reason</th><th>refund_source</th></tr></thead><tbody><tr><td>1</td><td>66</td><td>2025-01-10</td><td>11:30:00</td><td>85.75</td><td>Payment Error</td><td>Retailer</td></tr><tr><td>2</td><td>69</td><td>2025-01-03</td><td>12:40:15</td><td>120.50</td><td>Order Cancelled</td><td>Customer</td></tr><tr><td>3</td><td>72</td><td>2025-01-06</td><td>14:45:30</td><td>65.00</td><td>Product Returned</td><td>Customer</td></tr><tr><td>4</td><td>73</td><td>2025-01-07</td><td>16:10:45</td><td>210.99</td><td>Order Cancelled</td><td>Customer</td></tr><tr><td>5</td><td>75</td><td>2025-01-09</td><td>18:25:00</td><td>45.20</td><td>Payment Error</td><td>Retailer</td></tr><tr><td>6</td><td>80</td><td>2025-01-10</td><td>09:35:20</td><td>130.15</td><td>Order Cancelled</td><td>Customer</td></tr><tr><td>7</td><td>83</td><td>2025-01-12</td><td>11:20:40</td><td>150.00</td><td>Product Returned</td><td>Customer</td></tr><tr><td>8</td><td>85</td><td>2025-01-14</td><td>13:15:30</td><td>89.99</td><td>Order Cancelled</td><td>Customer</td></tr><tr><td>9</td><td>89</td><td>2025-01-15</td><td>15:00:00</td><td>78.50</td><td>Payment Error</td><td>Retailer</td></tr><tr><td>10</td><td>91</td><td>2025-01-17</td><td>16:45:15</td><td>250.75</td><td>Product Returned</td><td>Customer</td></tr></tbody></table></div>"
      ]
     },
     "metadata": {
      "application/vnd.databricks.v1+output": {
       "addedWidgets": {},
       "aggData": [],
       "aggError": "",
       "aggOverflow": false,
       "aggSchema": [],
       "aggSeriesLimitReached": false,
       "aggType": "",
       "arguments": {},
       "columnCustomDisplayInfos": {},
       "data": [
        [
         1,
         66,
         "2025-01-10",
         "11:30:00",
         "85.75",
         "Payment Error",
         "Retailer"
        ],
        [
         2,
         69,
         "2025-01-03",
         "12:40:15",
         "120.50",
         "Order Cancelled",
         "Customer"
        ],
        [
         3,
         72,
         "2025-01-06",
         "14:45:30",
         "65.00",
         "Product Returned",
         "Customer"
        ],
        [
         4,
         73,
         "2025-01-07",
         "16:10:45",
         "210.99",
         "Order Cancelled",
         "Customer"
        ],
        [
         5,
         75,
         "2025-01-09",
         "18:25:00",
         "45.20",
         "Payment Error",
         "Retailer"
        ],
        [
         6,
         80,
         "2025-01-10",
         "09:35:20",
         "130.15",
         "Order Cancelled",
         "Customer"
        ],
        [
         7,
         83,
         "2025-01-12",
         "11:20:40",
         "150.00",
         "Product Returned",
         "Customer"
        ],
        [
         8,
         85,
         "2025-01-14",
         "13:15:30",
         "89.99",
         "Order Cancelled",
         "Customer"
        ],
        [
         9,
         89,
         "2025-01-15",
         "15:00:00",
         "78.50",
         "Payment Error",
         "Retailer"
        ],
        [
         10,
         91,
         "2025-01-17",
         "16:45:15",
         "250.75",
         "Product Returned",
         "Customer"
        ]
       ],
       "datasetInfos": [
        {
         "name": "_sqldf",
         "schema": {
          "fields": [
           {
            "metadata": {
             "isTimestampNTZ": false,
             "jdbcClientType": "int4",
             "scale": 0,
             "signed": true
            },
            "name": "refund_id",
            "nullable": true,
            "type": "integer"
           },
           {
            "metadata": {
             "isTimestampNTZ": false,
             "jdbcClientType": "int4",
             "scale": 0,
             "signed": true
            },
            "name": "payment_id",
            "nullable": true,
            "type": "integer"
           },
           {
            "metadata": {},
            "name": "refund_date",
            "nullable": true,
            "type": "date"
           },
           {
            "metadata": {},
            "name": "refund_time",
            "nullable": true,
            "type": "string"
           },
           {
            "metadata": {
             "isTimestampNTZ": false,
             "jdbcClientType": "numeric",
             "scale": 2,
             "signed": true
            },
            "name": "refund_amount",
            "nullable": true,
            "type": "decimal(10,2)"
           },
           {
            "metadata": {},
            "name": "refund_reason",
            "nullable": true,
            "type": "string"
           },
           {
            "metadata": {},
            "name": "refund_source",
            "nullable": true,
            "type": "string"
           }
          ],
          "type": "struct"
         },
         "tableIdentifier": null,
         "typeStr": "pyspark.sql.connect.dataframe.DataFrame"
        }
       ],
       "dbfsResultPath": null,
       "isJsonSchema": true,
       "metadata": {
        "createTempViewForImplicitDf": true,
        "dataframeName": "_sqldf",
        "executionCount": 1
       },
       "overflow": false,
       "plotOptions": {
        "customPlotOptions": {},
        "displayType": "table",
        "pivotAggregation": null,
        "pivotColumns": null,
        "xColumns": null,
        "yColumns": null
       },
       "removedWidgets": [],
       "schema": [
        {
         "metadata": "{\"signed\": true, \"scale\": 0, \"isTimestampNTZ\": false, \"jdbcClientType\": \"int4\"}",
         "name": "refund_id",
         "type": "\"integer\""
        },
        {
         "metadata": "{\"signed\": true, \"scale\": 0, \"isTimestampNTZ\": false, \"jdbcClientType\": \"int4\"}",
         "name": "payment_id",
         "type": "\"integer\""
        },
        {
         "metadata": "{}",
         "name": "refund_date",
         "type": "\"date\""
        },
        {
         "metadata": "{}",
         "name": "refund_time",
         "type": "\"string\""
        },
        {
         "metadata": "{\"signed\": true, \"scale\": 2, \"isTimestampNTZ\": false, \"jdbcClientType\": \"numeric\"}",
         "name": "refund_amount",
         "type": "\"decimal(10,2)\""
        },
        {
         "metadata": "{}",
         "name": "refund_reason",
         "type": "\"string\""
        },
        {
         "metadata": "{}",
         "name": "refund_source",
         "type": "\"string\""
        }
       ],
       "type": "table"
      }
     },
     "output_type": "display_data"
    }
   ],
   "source": [
    "SELECT refund_id,\n",
    "       payment_id,\n",
    "       CAST(date_format(refund_timestamp, 'yyyy-MM-dd') AS DATE) AS refund_date,\n",
    "       date_format(refund_timestamp, 'HH:mm:ss') AS refund_time, \n",
    "       refund_amount,\n",
    "       regexp_extract(refund_reason, '^([^:]+):', 1) AS refund_reason,\n",
    "       regexp_extract(refund_reason, '^[^:]+:(.*)$', 1) AS refund_source\n",
    "  FROM gizmobox.bronze.refunds;"
   ]
  },
  {
   "cell_type": "code",
   "execution_count": 0,
   "metadata": {
    "application/vnd.databricks.v1+cell": {
     "cellMetadata": {
      "byteLimit": 2048000,
      "rowLimit": 10000
     },
     "inputWidgets": {},
     "nuid": "d81e0973-a9f6-410a-852c-ef72795111d3",
     "showTitle": false,
     "tableResultSettingsMap": {},
     "title": ""
    }
   },
   "outputs": [
    {
     "output_type": "display_data",
     "data": {
      "text/html": [
       "<style scoped>\n",
       "  .table-result-container {\n",
       "    max-height: 300px;\n",
       "    overflow: auto;\n",
       "  }\n",
       "  table, th, td {\n",
       "    border: 1px solid black;\n",
       "    border-collapse: collapse;\n",
       "  }\n",
       "  th, td {\n",
       "    padding: 5px;\n",
       "  }\n",
       "  th {\n",
       "    text-align: left;\n",
       "  }\n",
       "</style><div class='table-result-container'><table class='table-result'><thead style='background-color: white'><tr><th>num_affected_rows</th><th>num_inserted_rows</th></tr></thead><tbody></tbody></table></div>"
      ]
     },
     "metadata": {
      "application/vnd.databricks.v1+output": {
       "addedWidgets": {},
       "aggData": [],
       "aggError": "",
       "aggOverflow": false,
       "aggSchema": [],
       "aggSeriesLimitReached": false,
       "aggType": "",
       "arguments": {},
       "columnCustomDisplayInfos": {},
       "data": [],
       "datasetInfos": [
        {
         "name": "_sqldf",
         "schema": {
          "fields": [
           {
            "metadata": {},
            "name": "num_affected_rows",
            "nullable": true,
            "type": "long"
           },
           {
            "metadata": {},
            "name": "num_inserted_rows",
            "nullable": true,
            "type": "long"
           }
          ],
          "type": "struct"
         },
         "tableIdentifier": null,
         "typeStr": "pyspark.sql.connect.dataframe.DataFrame"
        }
       ],
       "dbfsResultPath": null,
       "isJsonSchema": true,
       "metadata": {
        "createTempViewForImplicitDf": true,
        "dataframeName": "_sqldf",
        "executionCount": 4
       },
       "overflow": false,
       "plotOptions": {
        "customPlotOptions": {},
        "displayType": "table",
        "pivotAggregation": null,
        "pivotColumns": null,
        "xColumns": null,
        "yColumns": null
       },
       "removedWidgets": [],
       "schema": [
        {
         "metadata": "{}",
         "name": "num_affected_rows",
         "type": "\"long\""
        },
        {
         "metadata": "{}",
         "name": "num_inserted_rows",
         "type": "\"long\""
        }
       ],
       "type": "table"
      }
     },
     "output_type": "display_data"
    }
   ],
   "source": [
    "CREATE TABLE gizmobox.silver.refunds\n",
    "AS\n",
    "SELECT refund_id,\n",
    "       payment_id,\n",
    "       CAST(date_format(refund_timestamp, 'yyyy-MM-dd') AS DATE) AS refund_date,\n",
    "       date_format(refund_timestamp, 'HH:mm:ss') AS refund_time, \n",
    "       refund_amount,\n",
    "       regexp_extract(refund_reason, '^([^:]+):', 1) AS refund_reason,\n",
    "       regexp_extract(refund_reason, '^[^:]+:(.*)$', 1) AS refund_source\n",
    "  FROM gizmobox.bronze.refunds;"
   ]
  },
  {
   "cell_type": "code",
   "execution_count": 0,
   "metadata": {
    "application/vnd.databricks.v1+cell": {
     "cellMetadata": {
      "byteLimit": 2048000,
      "rowLimit": 10000
     },
     "inputWidgets": {},
     "nuid": "b82f65f2-74b2-4e36-ac95-333f76badb1a",
     "showTitle": false,
     "tableResultSettingsMap": {},
     "title": ""
    }
   },
   "outputs": [
    {
     "output_type": "display_data",
     "data": {
      "text/html": [
       "<style scoped>\n",
       "  .table-result-container {\n",
       "    max-height: 300px;\n",
       "    overflow: auto;\n",
       "  }\n",
       "  table, th, td {\n",
       "    border: 1px solid black;\n",
       "    border-collapse: collapse;\n",
       "  }\n",
       "  th, td {\n",
       "    padding: 5px;\n",
       "  }\n",
       "  th {\n",
       "    text-align: left;\n",
       "  }\n",
       "</style><div class='table-result-container'><table class='table-result'><thead style='background-color: white'><tr><th>col_name</th><th>data_type</th><th>comment</th></tr></thead><tbody><tr><td>refund_id</td><td>int</td><td>null</td></tr><tr><td>payment_id</td><td>int</td><td>null</td></tr><tr><td>refund_date</td><td>date</td><td>null</td></tr><tr><td>refund_time</td><td>string</td><td>null</td></tr><tr><td>refund_amount</td><td>decimal(10,2)</td><td>null</td></tr><tr><td>refund_reason</td><td>string</td><td>null</td></tr><tr><td>refund_source</td><td>string</td><td>null</td></tr><tr><td></td><td></td><td></td></tr><tr><td># Delta Statistics Columns</td><td></td><td></td></tr><tr><td>Column Names</td><td>refund_id, refund_source, refund_amount, refund_reason, payment_id, refund_time, refund_date</td><td></td></tr><tr><td>Column Selection Method</td><td>first-32</td><td></td></tr><tr><td></td><td></td><td></td></tr><tr><td># Detailed Table Information</td><td></td><td></td></tr><tr><td>Catalog</td><td>gizmobox</td><td></td></tr><tr><td>Database</td><td>silver</td><td></td></tr><tr><td>Table</td><td>refunds</td><td></td></tr><tr><td>Created Time</td><td>Thu Sep 04 02:20:06 UTC 2025</td><td></td></tr><tr><td>Last Access</td><td>UNKNOWN</td><td></td></tr><tr><td>Created By</td><td>Spark </td><td></td></tr><tr><td>Statistics</td><td>2554 bytes, 10 rows</td><td></td></tr><tr><td>Type</td><td>MANAGED</td><td></td></tr><tr><td>Collation</td><td>UTF8_BINARY</td><td></td></tr><tr><td>Location</td><td>s3://databricks-dea-demo/gizmobox/silver/__unitystorage/schemas/1c203144-a399-44c3-a782-b1fec3d0fcb9/tables/06c12c9b-84c7-47ad-953e-4fbad3f7357d</td><td></td></tr><tr><td>Provider</td><td>delta</td><td></td></tr><tr><td>Owner</td><td>qadam2602@gmail.com</td><td></td></tr><tr><td>Is_managed_location</td><td>true</td><td></td></tr><tr><td>Predictive Optimization</td><td>ENABLE (inherited from METASTORE metastore_aws_us_east_2)</td><td></td></tr><tr><td>Table Properties</td><td>[delta.enableDeletionVectors=true,delta.feature.appendOnly=supported,delta.feature.deletionVectors=supported,delta.feature.invariants=supported,delta.minReaderVersion=3,delta.minWriterVersion=7]</td><td></td></tr></tbody></table></div>"
      ]
     },
     "metadata": {
      "application/vnd.databricks.v1+output": {
       "addedWidgets": {},
       "aggData": [],
       "aggError": "",
       "aggOverflow": false,
       "aggSchema": [],
       "aggSeriesLimitReached": false,
       "aggType": "",
       "arguments": {},
       "columnCustomDisplayInfos": {},
       "data": [
        [
         "refund_id",
         "int",
         null
        ],
        [
         "payment_id",
         "int",
         null
        ],
        [
         "refund_date",
         "date",
         null
        ],
        [
         "refund_time",
         "string",
         null
        ],
        [
         "refund_amount",
         "decimal(10,2)",
         null
        ],
        [
         "refund_reason",
         "string",
         null
        ],
        [
         "refund_source",
         "string",
         null
        ],
        [
         "",
         "",
         ""
        ],
        [
         "# Delta Statistics Columns",
         "",
         ""
        ],
        [
         "Column Names",
         "refund_id, refund_source, refund_amount, refund_reason, payment_id, refund_time, refund_date",
         ""
        ],
        [
         "Column Selection Method",
         "first-32",
         ""
        ],
        [
         "",
         "",
         ""
        ],
        [
         "# Detailed Table Information",
         "",
         ""
        ],
        [
         "Catalog",
         "gizmobox",
         ""
        ],
        [
         "Database",
         "silver",
         ""
        ],
        [
         "Table",
         "refunds",
         ""
        ],
        [
         "Created Time",
         "Thu Sep 04 02:20:06 UTC 2025",
         ""
        ],
        [
         "Last Access",
         "UNKNOWN",
         ""
        ],
        [
         "Created By",
         "Spark ",
         ""
        ],
        [
         "Statistics",
         "2554 bytes, 10 rows",
         ""
        ],
        [
         "Type",
         "MANAGED",
         ""
        ],
        [
         "Collation",
         "UTF8_BINARY",
         ""
        ],
        [
         "Location",
         "s3://databricks-dea-demo/gizmobox/silver/__unitystorage/schemas/1c203144-a399-44c3-a782-b1fec3d0fcb9/tables/06c12c9b-84c7-47ad-953e-4fbad3f7357d",
         ""
        ],
        [
         "Provider",
         "delta",
         ""
        ],
        [
         "Owner",
         "qadam2602@gmail.com",
         ""
        ],
        [
         "Is_managed_location",
         "true",
         ""
        ],
        [
         "Predictive Optimization",
         "ENABLE (inherited from METASTORE metastore_aws_us_east_2)",
         ""
        ],
        [
         "Table Properties",
         "[delta.enableDeletionVectors=true,delta.feature.appendOnly=supported,delta.feature.deletionVectors=supported,delta.feature.invariants=supported,delta.minReaderVersion=3,delta.minWriterVersion=7]",
         ""
        ]
       ],
       "datasetInfos": [
        {
         "name": "_sqldf",
         "schema": {
          "fields": [
           {
            "metadata": {},
            "name": "col_name",
            "nullable": false,
            "type": "string"
           },
           {
            "metadata": {},
            "name": "data_type",
            "nullable": false,
            "type": "string"
           },
           {
            "metadata": {},
            "name": "comment",
            "nullable": true,
            "type": "string"
           }
          ],
          "type": "struct"
         },
         "tableIdentifier": null,
         "typeStr": "pyspark.sql.connect.dataframe.DataFrame"
        }
       ],
       "dbfsResultPath": null,
       "isJsonSchema": true,
       "metadata": {
        "createTempViewForImplicitDf": true,
        "dataframeName": "_sqldf",
        "executionCount": 6
       },
       "overflow": false,
       "plotOptions": {
        "customPlotOptions": {},
        "displayType": "table",
        "pivotAggregation": null,
        "pivotColumns": null,
        "xColumns": null,
        "yColumns": null
       },
       "removedWidgets": [],
       "schema": [
        {
         "metadata": "{}",
         "name": "col_name",
         "type": "\"string\""
        },
        {
         "metadata": "{}",
         "name": "data_type",
         "type": "\"string\""
        },
        {
         "metadata": "{}",
         "name": "comment",
         "type": "\"string\""
        }
       ],
       "type": "table"
      }
     },
     "output_type": "display_data"
    }
   ],
   "source": [
    "DESC EXTENDED gizmobox.silver.refunds;"
   ]
  },
  {
   "cell_type": "code",
   "execution_count": 0,
   "metadata": {
    "application/vnd.databricks.v1+cell": {
     "cellMetadata": {
      "byteLimit": 2048000,
      "rowLimit": 10000
     },
     "inputWidgets": {},
     "nuid": "52708c21-7caa-4daf-a11e-5f404b775f24",
     "showTitle": false,
     "tableResultSettingsMap": {},
     "title": ""
    }
   },
   "outputs": [
    {
     "output_type": "display_data",
     "data": {
      "text/html": [
       "<style scoped>\n",
       "  .table-result-container {\n",
       "    max-height: 300px;\n",
       "    overflow: auto;\n",
       "  }\n",
       "  table, th, td {\n",
       "    border: 1px solid black;\n",
       "    border-collapse: collapse;\n",
       "  }\n",
       "  th, td {\n",
       "    padding: 5px;\n",
       "  }\n",
       "  th {\n",
       "    text-align: left;\n",
       "  }\n",
       "</style><div class='table-result-container'><table class='table-result'><thead style='background-color: white'><tr><th>refund_id</th><th>payment_id</th><th>refund_date</th><th>refund_time</th><th>refund_amount</th><th>refund_reason</th><th>refund_source</th></tr></thead><tbody><tr><td>1</td><td>66</td><td>2025-01-10</td><td>11:30:00</td><td>85.75</td><td>Payment Error</td><td>Retailer</td></tr><tr><td>2</td><td>69</td><td>2025-01-03</td><td>12:40:15</td><td>120.50</td><td>Order Cancelled</td><td>Customer</td></tr><tr><td>3</td><td>72</td><td>2025-01-06</td><td>14:45:30</td><td>65.00</td><td>Product Returned</td><td>Customer</td></tr><tr><td>4</td><td>73</td><td>2025-01-07</td><td>16:10:45</td><td>210.99</td><td>Order Cancelled</td><td>Customer</td></tr><tr><td>5</td><td>75</td><td>2025-01-09</td><td>18:25:00</td><td>45.20</td><td>Payment Error</td><td>Retailer</td></tr><tr><td>6</td><td>80</td><td>2025-01-10</td><td>09:35:20</td><td>130.15</td><td>Order Cancelled</td><td>Customer</td></tr><tr><td>7</td><td>83</td><td>2025-01-12</td><td>11:20:40</td><td>150.00</td><td>Product Returned</td><td>Customer</td></tr><tr><td>8</td><td>85</td><td>2025-01-14</td><td>13:15:30</td><td>89.99</td><td>Order Cancelled</td><td>Customer</td></tr><tr><td>9</td><td>89</td><td>2025-01-15</td><td>15:00:00</td><td>78.50</td><td>Payment Error</td><td>Retailer</td></tr><tr><td>10</td><td>91</td><td>2025-01-17</td><td>16:45:15</td><td>250.75</td><td>Product Returned</td><td>Customer</td></tr></tbody></table></div>"
      ]
     },
     "metadata": {
      "application/vnd.databricks.v1+output": {
       "addedWidgets": {},
       "aggData": [],
       "aggError": "",
       "aggOverflow": false,
       "aggSchema": [],
       "aggSeriesLimitReached": false,
       "aggType": "",
       "arguments": {},
       "columnCustomDisplayInfos": {},
       "data": [
        [
         1,
         66,
         "2025-01-10",
         "11:30:00",
         "85.75",
         "Payment Error",
         "Retailer"
        ],
        [
         2,
         69,
         "2025-01-03",
         "12:40:15",
         "120.50",
         "Order Cancelled",
         "Customer"
        ],
        [
         3,
         72,
         "2025-01-06",
         "14:45:30",
         "65.00",
         "Product Returned",
         "Customer"
        ],
        [
         4,
         73,
         "2025-01-07",
         "16:10:45",
         "210.99",
         "Order Cancelled",
         "Customer"
        ],
        [
         5,
         75,
         "2025-01-09",
         "18:25:00",
         "45.20",
         "Payment Error",
         "Retailer"
        ],
        [
         6,
         80,
         "2025-01-10",
         "09:35:20",
         "130.15",
         "Order Cancelled",
         "Customer"
        ],
        [
         7,
         83,
         "2025-01-12",
         "11:20:40",
         "150.00",
         "Product Returned",
         "Customer"
        ],
        [
         8,
         85,
         "2025-01-14",
         "13:15:30",
         "89.99",
         "Order Cancelled",
         "Customer"
        ],
        [
         9,
         89,
         "2025-01-15",
         "15:00:00",
         "78.50",
         "Payment Error",
         "Retailer"
        ],
        [
         10,
         91,
         "2025-01-17",
         "16:45:15",
         "250.75",
         "Product Returned",
         "Customer"
        ]
       ],
       "datasetInfos": [
        {
         "name": "_sqldf",
         "schema": {
          "fields": [
           {
            "metadata": {
             "isTimestampNTZ": false,
             "jdbcClientType": "int4",
             "scale": 0,
             "signed": true
            },
            "name": "refund_id",
            "nullable": true,
            "type": "integer"
           },
           {
            "metadata": {
             "isTimestampNTZ": false,
             "jdbcClientType": "int4",
             "scale": 0,
             "signed": true
            },
            "name": "payment_id",
            "nullable": true,
            "type": "integer"
           },
           {
            "metadata": {},
            "name": "refund_date",
            "nullable": true,
            "type": "date"
           },
           {
            "metadata": {},
            "name": "refund_time",
            "nullable": true,
            "type": "string"
           },
           {
            "metadata": {
             "isTimestampNTZ": false,
             "jdbcClientType": "numeric",
             "scale": 2,
             "signed": true
            },
            "name": "refund_amount",
            "nullable": true,
            "type": "decimal(10,2)"
           },
           {
            "metadata": {},
            "name": "refund_reason",
            "nullable": true,
            "type": "string"
           },
           {
            "metadata": {},
            "name": "refund_source",
            "nullable": true,
            "type": "string"
           }
          ],
          "type": "struct"
         },
         "tableIdentifier": null,
         "typeStr": "pyspark.sql.connect.dataframe.DataFrame"
        }
       ],
       "dbfsResultPath": null,
       "isJsonSchema": true,
       "metadata": {
        "createTempViewForImplicitDf": true,
        "dataframeName": "_sqldf",
        "executionCount": 5
       },
       "overflow": false,
       "plotOptions": {
        "customPlotOptions": {},
        "displayType": "table",
        "pivotAggregation": null,
        "pivotColumns": null,
        "xColumns": null,
        "yColumns": null
       },
       "removedWidgets": [],
       "schema": [
        {
         "metadata": "{\"signed\": true, \"scale\": 0, \"isTimestampNTZ\": false, \"jdbcClientType\": \"int4\"}",
         "name": "refund_id",
         "type": "\"integer\""
        },
        {
         "metadata": "{\"signed\": true, \"scale\": 0, \"isTimestampNTZ\": false, \"jdbcClientType\": \"int4\"}",
         "name": "payment_id",
         "type": "\"integer\""
        },
        {
         "metadata": "{}",
         "name": "refund_date",
         "type": "\"date\""
        },
        {
         "metadata": "{}",
         "name": "refund_time",
         "type": "\"string\""
        },
        {
         "metadata": "{\"signed\": true, \"scale\": 2, \"isTimestampNTZ\": false, \"jdbcClientType\": \"numeric\"}",
         "name": "refund_amount",
         "type": "\"decimal(10,2)\""
        },
        {
         "metadata": "{}",
         "name": "refund_reason",
         "type": "\"string\""
        },
        {
         "metadata": "{}",
         "name": "refund_source",
         "type": "\"string\""
        }
       ],
       "type": "table"
      }
     },
     "output_type": "display_data"
    }
   ],
   "source": [
    "SELECT * FROM gizmobox.silver.refunds;"
   ]
  }
 ],
 "metadata": {
  "application/vnd.databricks.v1+notebook": {
   "computePreferences": null,
   "dashboards": [],
   "environmentMetadata": {
    "base_environment": "",
    "environment_version": "3"
   },
   "inputWidgetPreferences": null,
   "language": "sql",
   "notebookMetadata": {
    "pythonIndentUnit": 4
   },
   "notebookName": "12. Transform Refunds Data",
   "widgets": {}
  },
  "language_info": {
   "name": "sql"
  }
 },
 "nbformat": 4,
 "nbformat_minor": 0
}
